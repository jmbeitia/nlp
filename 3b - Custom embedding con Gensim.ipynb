{
 "cells": [
  {
   "cell_type": "markdown",
   "metadata": {
    "id": "sZd5yLnnHOK0"
   },
   "source": [
    "<img src=\"https://github.com/hernancontigiani/ceia_memorias_especializacion/raw/master/Figures/logoFIUBA.jpg\" width=\"500\" align=\"center\">\n",
    "\n",
    "\n",
    "# Procesamiento de lenguaje natural\n",
    "## Custom embedddings con Gensim\n",
    "\n"
   ]
  },
  {
   "cell_type": "markdown",
   "metadata": {
    "id": "vA7nqkumo9z9"
   },
   "source": [
    "### Objetivo\n",
    "El objetivo es utilizar documentos / corpus para crear embeddings de palabras basado en ese contexto. Se utilizará productos de supermercado para generar los embeddings, es decir, que los vectores tendrán la forma en función de como esos productos hayan utilizado las palabras en sus descripciones."
   ]
  },
  {
   "cell_type": "code",
   "execution_count": 1,
   "metadata": {
    "id": "lFToQs5FK5uZ"
   },
   "outputs": [],
   "source": [
    "import pandas as pd\n",
    "import matplotlib.pyplot as plt\n",
    "import seaborn as sns\n",
    "\n",
    "import multiprocessing\n",
    "from gensim.models import Word2Vec"
   ]
  },
  {
   "cell_type": "markdown",
   "metadata": {},
   "source": [
    "### Datos\n",
    "Se consumirán los datos de todos los productos del supermercado La Gallega."
   ]
  },
  {
   "cell_type": "code",
   "execution_count": 2,
   "metadata": {},
   "outputs": [
    {
     "data": {
      "text/html": [
       "<div>\n",
       "<style scoped>\n",
       "    .dataframe tbody tr th:only-of-type {\n",
       "        vertical-align: middle;\n",
       "    }\n",
       "\n",
       "    .dataframe tbody tr th {\n",
       "        vertical-align: top;\n",
       "    }\n",
       "\n",
       "    .dataframe thead th {\n",
       "        text-align: right;\n",
       "    }\n",
       "</style>\n",
       "<table border=\"1\" class=\"dataframe\">\n",
       "  <thead>\n",
       "    <tr style=\"text-align: right;\">\n",
       "      <th></th>\n",
       "      <th>descripcion</th>\n",
       "      <th>precio</th>\n",
       "      <th>linkFoto</th>\n",
       "    </tr>\n",
       "  </thead>\n",
       "  <tbody>\n",
       "    <tr>\n",
       "      <th>0</th>\n",
       "      <td>rocio vegetal mazola x 120 ml. manteca</td>\n",
       "      <td>363.35</td>\n",
       "      <td>https://www.lagallega.com.ar/Archivos/Articulo...</td>\n",
       "    </tr>\n",
       "    <tr>\n",
       "      <th>1</th>\n",
       "      <td>rocio vegetal natura x 120 ml.</td>\n",
       "      <td>363.64</td>\n",
       "      <td>https://www.lagallega.com.ar/Archivos/Articulo...</td>\n",
       "    </tr>\n",
       "    <tr>\n",
       "      <th>2</th>\n",
       "      <td>rocio vegetal mazola x 120 ml. original</td>\n",
       "      <td>376.65</td>\n",
       "      <td>https://www.lagallega.com.ar/Archivos/Articulo...</td>\n",
       "    </tr>\n",
       "    <tr>\n",
       "      <th>3</th>\n",
       "      <td>rocio vegetal de girasol lira x 120 gr.</td>\n",
       "      <td>382.70</td>\n",
       "      <td>https://www.lagallega.com.ar/Archivos/Articulo...</td>\n",
       "    </tr>\n",
       "    <tr>\n",
       "      <th>4</th>\n",
       "      <td>rocio vegetal fritolim x 120 ml. clasico</td>\n",
       "      <td>394.34</td>\n",
       "      <td>https://www.lagallega.com.ar/Archivos/Articulo...</td>\n",
       "    </tr>\n",
       "  </tbody>\n",
       "</table>\n",
       "</div>"
      ],
      "text/plain": [
       "                                descripcion  precio  \\\n",
       "0    rocio vegetal mazola x 120 ml. manteca  363.35   \n",
       "1            rocio vegetal natura x 120 ml.  363.64   \n",
       "2   rocio vegetal mazola x 120 ml. original  376.65   \n",
       "3   rocio vegetal de girasol lira x 120 gr.  382.70   \n",
       "4  rocio vegetal fritolim x 120 ml. clasico  394.34   \n",
       "\n",
       "                                            linkFoto  \n",
       "0  https://www.lagallega.com.ar/Archivos/Articulo...  \n",
       "1  https://www.lagallega.com.ar/Archivos/Articulo...  \n",
       "2  https://www.lagallega.com.ar/Archivos/Articulo...  \n",
       "3  https://www.lagallega.com.ar/Archivos/Articulo...  \n",
       "4  https://www.lagallega.com.ar/Archivos/Articulo...  "
      ]
     },
     "execution_count": 2,
     "metadata": {},
     "output_type": "execute_result"
    }
   ],
   "source": [
    "dfProductos = pd.read_json('datosLaGallega.json', orient='records')\n",
    "dfProductos.head()"
   ]
  },
  {
   "cell_type": "code",
   "execution_count": 3,
   "metadata": {
    "id": "LEpKubK9XzXN"
   },
   "outputs": [
    {
     "name": "stdout",
     "output_type": "stream",
     "text": [
      "Cantidad de documentos: 4983\n"
     ]
    }
   ],
   "source": [
    "print(\"Cantidad de documentos:\", dfProductos.shape[0])"
   ]
  },
  {
   "cell_type": "markdown",
   "metadata": {
    "id": "ab94qaFlrA1G"
   },
   "source": [
    "### 1 - Preprocesamiento"
   ]
  },
  {
   "cell_type": "code",
   "execution_count": 4,
   "metadata": {
    "id": "rIsmMWmjrDHd"
   },
   "outputs": [
    {
     "name": "stderr",
     "output_type": "stream",
     "text": [
      "/var/folders/62/k956tb7121v1t52bjhsj036m0000gn/T/ipykernel_19633/3977940082.py:7: FutureWarning: Series.__getitem__ treating keys as positions is deprecated. In a future version, integer keys will always be treated as labels (consistent with DataFrame behavior). To access a value by position, use `ser.iloc[pos]`\n",
      "  sentence_tokens.append(text_to_word_sequence(row[0]))\n"
     ]
    }
   ],
   "source": [
    "from keras.preprocessing.text import text_to_word_sequence\n",
    "\n",
    "sentence_tokens = []\n",
    "# Recorrer todas las filas y transformar las oraciones\n",
    "# en una secuencia de palabras (esto podría realizarse con NLTK o spaCy también)\n",
    "for _, row in dfProductos[:None].iterrows():\n",
    "    sentence_tokens.append(text_to_word_sequence(row[0]))"
   ]
  },
  {
   "cell_type": "code",
   "execution_count": 5,
   "metadata": {
    "id": "CHepi_DGrbhq"
   },
   "outputs": [
    {
     "data": {
      "text/plain": [
       "[['rocio', 'vegetal', 'mazola', 'x', '120', 'ml', 'manteca'],\n",
       " ['rocio', 'vegetal', 'natura', 'x', '120', 'ml']]"
      ]
     },
     "execution_count": 5,
     "metadata": {},
     "output_type": "execute_result"
    }
   ],
   "source": [
    "# Demos un vistazo\n",
    "sentence_tokens[:2]"
   ]
  },
  {
   "cell_type": "markdown",
   "metadata": {
    "id": "BaXV6nlHr5Aa"
   },
   "source": [
    "### 2 - Crear los vectores (word2vec)"
   ]
  },
  {
   "cell_type": "code",
   "execution_count": 6,
   "metadata": {
    "id": "OSb0v7h8r7hK"
   },
   "outputs": [],
   "source": [
    "from gensim.models.callbacks import CallbackAny2Vec\n",
    "# Durante el entrenamiento gensim por defecto no informa el \"loss\" en cada época\n",
    "# Sobrecargamos el callback para poder tener esta información\n",
    "class callback(CallbackAny2Vec):\n",
    "    \"\"\"\n",
    "    Callback to print loss after each epoch\n",
    "    \"\"\"\n",
    "    def __init__(self):\n",
    "        self.epoch = 0\n",
    "\n",
    "    def on_epoch_end(self, model):\n",
    "        loss = model.get_latest_training_loss()\n",
    "        if self.epoch == 0:\n",
    "            print('Loss after epoch {}: {}'.format(self.epoch, loss))\n",
    "        else:\n",
    "            print('Loss after epoch {}: {}'.format(self.epoch, loss- self.loss_previous_step))\n",
    "        self.epoch += 1\n",
    "        self.loss_previous_step = loss"
   ]
  },
  {
   "cell_type": "code",
   "execution_count": 7,
   "metadata": {
    "id": "i0wnDdv9sJ47"
   },
   "outputs": [],
   "source": [
    "# Crearmos el modelo generador de vectores\n",
    "# En este caso utilizaremos la estructura modelo Skipgram\n",
    "w2v_model = Word2Vec(min_count=5,    # frecuencia mínima de palabra para incluirla en el vocabulario\n",
    "                     window=2,       # cant de palabras antes y desp de la predicha\n",
    "                     vector_size=300,       # dimensionalidad de los vectores \n",
    "                     negative=20,    # cantidad de negative samples... 0 es no se usa\n",
    "                     workers=1,      # si tienen más cores pueden cambiar este valor\n",
    "                     sg=1)           # modelo 0:CBOW  1:skipgram"
   ]
  },
  {
   "cell_type": "code",
   "execution_count": 8,
   "metadata": {
    "id": "5lTt8wErsf17"
   },
   "outputs": [],
   "source": [
    "# Obtener el vocabulario con los tokens\n",
    "w2v_model.build_vocab(sentence_tokens)"
   ]
  },
  {
   "cell_type": "code",
   "execution_count": 9,
   "metadata": {
    "id": "TNc9qt4os5AT"
   },
   "outputs": [
    {
     "name": "stdout",
     "output_type": "stream",
     "text": [
      "Cantidad de docs en el corpus: 4983\n"
     ]
    }
   ],
   "source": [
    "# Cantidad de filas/docs encontradas en el corpus\n",
    "print(\"Cantidad de docs en el corpus:\", w2v_model.corpus_count)"
   ]
  },
  {
   "cell_type": "code",
   "execution_count": 10,
   "metadata": {
    "id": "idw9cHF3tSMl"
   },
   "outputs": [
    {
     "name": "stdout",
     "output_type": "stream",
     "text": [
      "Cantidad de words distintas en el corpus: 1125\n"
     ]
    }
   ],
   "source": [
    "# Cantidad de words encontradas en el corpus\n",
    "print(\"Cantidad de words distintas en el corpus:\", len(w2v_model.wv.index_to_key))"
   ]
  },
  {
   "cell_type": "markdown",
   "metadata": {
    "id": "fC9mZ8DPk-UC"
   },
   "source": [
    "### 3 - Entrenar embeddings"
   ]
  },
  {
   "cell_type": "code",
   "execution_count": 11,
   "metadata": {
    "id": "QSp-x0PAsq56"
   },
   "outputs": [
    {
     "name": "stdout",
     "output_type": "stream",
     "text": [
      "Loss after epoch 0: 253677.65625\n",
      "Loss after epoch 1: 176535.46875\n",
      "Loss after epoch 2: 177144.875\n",
      "Loss after epoch 3: 176819.125\n",
      "Loss after epoch 4: 174855.8125\n",
      "Loss after epoch 5: 159336.0625\n",
      "Loss after epoch 6: 142742.125\n",
      "Loss after epoch 7: 135442.75\n",
      "Loss after epoch 8: 129364.625\n",
      "Loss after epoch 9: 124245.5\n",
      "Loss after epoch 10: 118633.875\n",
      "Loss after epoch 11: 115493.75\n",
      "Loss after epoch 12: 112345.75\n",
      "Loss after epoch 13: 109497.375\n",
      "Loss after epoch 14: 100404.5\n",
      "Loss after epoch 15: 98001.0\n",
      "Loss after epoch 16: 96630.25\n",
      "Loss after epoch 17: 97436.5\n",
      "Loss after epoch 18: 96133.25\n",
      "Loss after epoch 19: 96220.5\n"
     ]
    },
    {
     "data": {
      "text/plain": [
       "(450470, 745760)"
      ]
     },
     "execution_count": 11,
     "metadata": {},
     "output_type": "execute_result"
    }
   ],
   "source": [
    "# Entrenamos el modelo generador de vectores\n",
    "# Utilizamos nuestro callback\n",
    "w2v_model.train(sentence_tokens,\n",
    "                 total_examples=w2v_model.corpus_count,\n",
    "                 epochs=20,\n",
    "                 compute_loss = True,\n",
    "                 callbacks=[callback()]\n",
    "                 )"
   ]
  },
  {
   "cell_type": "markdown",
   "metadata": {
    "id": "ddT9NVuNlCAe"
   },
   "source": [
    "### 4 - Ensayar"
   ]
  },
  {
   "cell_type": "code",
   "execution_count": 12,
   "metadata": {
    "id": "6cHN9xGLuPEm"
   },
   "outputs": [
    {
     "data": {
      "text/plain": [
       "[('aireado', 0.8248280882835388),\n",
       " ('block', 0.8090999722480774),\n",
       " ('55', 0.8061637282371521),\n",
       " ('milka', 0.7970662713050842),\n",
       " ('almendras', 0.7966142296791077),\n",
       " ('cofler', 0.7935138940811157),\n",
       " ('mousse', 0.7844582200050354),\n",
       " ('95', 0.7564383149147034),\n",
       " ('chocolinas', 0.7528076767921448),\n",
       " ('king', 0.7399789690971375)]"
      ]
     },
     "execution_count": 12,
     "metadata": {},
     "output_type": "execute_result"
    }
   ],
   "source": [
    "# Palabras que MÁS se relacionan con...:\n",
    "w2v_model.wv.most_similar(positive=[\"chocolate\"], topn=10)"
   ]
  },
  {
   "cell_type": "code",
   "execution_count": 13,
   "metadata": {
    "id": "47HiU5gdkdMq"
   },
   "outputs": [
    {
     "data": {
      "text/plain": [
       "[('500', -0.0650559663772583),\n",
       " ('300', -0.1423555463552475),\n",
       " ('150', -0.18001262843608856),\n",
       " ('y', -0.18614210188388824),\n",
       " ('sed', -0.18663932383060455),\n",
       " ('gatillo', -0.18729367852210999),\n",
       " ('cif', -0.19191670417785645),\n",
       " ('bano', -0.1921139508485794),\n",
       " ('s', -0.19681377708911896),\n",
       " ('extra', -0.19989842176437378)]"
      ]
     },
     "execution_count": 13,
     "metadata": {},
     "output_type": "execute_result"
    }
   ],
   "source": [
    "# Palabras que MENOS se relacionan con...:\n",
    "w2v_model.wv.most_similar(negative=[\"leche\"], topn=10)"
   ]
  },
  {
   "cell_type": "code",
   "execution_count": 14,
   "metadata": {
    "id": "DT4Rvno2mD65"
   },
   "outputs": [
    {
     "data": {
      "text/plain": [
       "[('maiz', 0.9302715063095093),\n",
       " ('pisingallo', 0.9117167592048645),\n",
       " ('pronta', 0.8983747363090515),\n",
       " ('trigo', 0.8978471159934998),\n",
       " ('porotos', 0.8954564332962036),\n",
       " ('lentejas', 0.8874412775039673),\n",
       " ('pallares', 0.8870183825492859),\n",
       " ('alubia', 0.8794804811477661),\n",
       " ('garbanzos', 0.8732545971870422),\n",
       " ('negros', 0.8682364225387573)]"
      ]
     },
     "execution_count": 14,
     "metadata": {},
     "output_type": "execute_result"
    }
   ],
   "source": [
    "# Palabras que MÁS se relacionan con...:\n",
    "w2v_model.wv.most_similar(positive=[\"harina\"], topn=10)"
   ]
  },
  {
   "cell_type": "code",
   "execution_count": 15,
   "metadata": {
    "id": "XPLDPgzBmQXt"
   },
   "outputs": [
    {
     "data": {
      "text/plain": [
       "[('mousse', 0.9049503207206726),\n",
       " ('terrabusi', 0.8885467052459717),\n",
       " ('mini', 0.8671366572380066),\n",
       " ('milka', 0.8499336838722229),\n",
       " ('almendras', 0.8470690846443176)]"
      ]
     },
     "execution_count": 15,
     "metadata": {},
     "output_type": "execute_result"
    }
   ],
   "source": [
    "# Palabras que MÁS se relacionan con...:\n",
    "w2v_model.wv.most_similar(positive=[\"alfajor\"], topn=5)"
   ]
  },
  {
   "cell_type": "code",
   "execution_count": 19,
   "metadata": {},
   "outputs": [
    {
     "data": {
      "text/plain": [
       "[('firme', 0.8876400589942932),\n",
       " ('batido', 0.8815719485282898),\n",
       " ('descremado', 0.8813347816467285),\n",
       " ('bebible', 0.8707025647163391),\n",
       " ('entero', 0.8696739673614502)]"
      ]
     },
     "execution_count": 19,
     "metadata": {},
     "output_type": "execute_result"
    }
   ],
   "source": [
    "# Palabras que MÁS se relacionan con...:\n",
    "w2v_model.wv.most_similar(positive=[\"yogur\"], topn=5)"
   ]
  },
  {
   "cell_type": "code",
   "execution_count": 18,
   "metadata": {
    "id": "L_UvHPMMklOr"
   },
   "outputs": [
    {
     "data": {
      "text/plain": [
       "[('para', -0.135587677359581),\n",
       " ('asurin', -0.14505426585674286),\n",
       " ('dea', -0.183661088347435),\n",
       " ('sed', -0.18676745891571045),\n",
       " ('cm', -0.19196347892284393),\n",
       " ('y', -0.19253818690776825),\n",
       " ('p', -0.2023717612028122),\n",
       " ('original', -0.2088073492050171),\n",
       " ('glade', -0.20925141870975494),\n",
       " ('paladini', -0.20931023359298706)]"
      ]
     },
     "execution_count": 18,
     "metadata": {},
     "output_type": "execute_result"
    }
   ],
   "source": [
    "# Ensayar con una palabra que no está en el vocabulario:\n",
    "w2v_model.wv.most_similar(negative=[\"yogur\"])"
   ]
  },
  {
   "cell_type": "code",
   "execution_count": 20,
   "metadata": {},
   "outputs": [
    {
     "name": "stdout",
     "output_type": "stream",
     "text": [
      "[ 0.18141448  0.03481099 -0.20967692  0.13575491 -0.40767136 -0.3105617\n",
      " -0.17472002  0.37860593 -0.14935356  0.01362702 -0.10638512  0.05919974\n",
      " -0.24458964 -0.02992211 -0.24574077  0.17964515 -0.22886842 -0.2537028\n",
      "  0.30055156 -0.4811053   0.06293266 -0.13841753  0.14720058  0.33398667\n",
      " -0.3063417   0.23242737 -0.55310744 -0.21574664  0.3909131  -0.17514239\n",
      " -0.18098107  0.26541153 -0.23786853  0.13885847 -0.37808666  0.06891818\n",
      "  0.04198392  0.08803821  0.0608006  -0.43512517  0.0059677  -0.43467504\n",
      " -0.46412292 -0.36093786  0.21336523  0.593584   -0.15563585  0.00097944\n",
      "  0.23452303  0.07357759 -0.09213521  0.10834215  0.16870369  0.11546773\n",
      " -0.05881082  0.08069296 -0.6689662   0.17417893  0.15701976 -0.43581316\n",
      "  0.41992712 -0.24421665  0.02909892  0.3304809  -0.36458725 -0.02123063\n",
      "  0.03806241 -0.5598865  -0.29343647  0.09701548  0.22731157 -0.01835622\n",
      " -0.3089166  -0.5040655   0.38086754  0.17329977 -0.14408606  0.16661452\n",
      " -0.10724964  0.13841943 -0.13816491 -0.3911341   0.1166053  -0.13553055\n",
      " -0.29013526 -0.18270852 -0.3117242   0.14268222  0.2426434  -0.44812557\n",
      " -0.04777843 -0.38915986  0.01420327 -0.12874106  0.01881426  0.14225662\n",
      " -0.20894392  0.22868606  0.37575492  0.16262445 -0.03338467 -0.53105783\n",
      "  0.22938788 -0.13315202 -0.4424861  -0.32226038 -0.51045066 -0.24896203\n",
      "  0.15842873  0.1384263  -0.7893586   0.14451823  0.19982205 -0.15779622\n",
      " -0.61834514  0.34046945 -0.03423226 -0.04603632  0.48802334 -0.5394076\n",
      " -0.09991605 -0.3939365  -0.04006716  0.08605357 -0.3451295  -0.10075526\n",
      "  0.04530452  0.21877763  0.04819492 -0.10874388 -0.10737383  0.14857283\n",
      "  0.17646398  0.13751826 -0.18034269 -0.27139482  0.43340537 -0.16842301\n",
      "  0.05800553 -0.32861733 -0.0789078   0.06271972 -0.04883106  0.43951917\n",
      "  0.05297891 -0.2630447   0.01058359 -0.29748115 -0.56563497  0.07533855\n",
      " -0.39669013  0.19984168 -0.13121319 -0.06551526  0.42066702  0.04108912\n",
      " -0.08369069 -0.2472099  -0.02568605  0.37042686 -0.23337679 -0.0231433\n",
      " -0.03863861 -0.2447054  -0.17778733  0.08330297 -0.2062755  -0.15920976\n",
      "  0.08966526  0.46676096 -0.00254028  0.0209674  -0.15080686  0.3762211\n",
      " -0.03190037 -0.23331884  0.07140971  0.05100347 -0.16710816  0.06193978\n",
      " -0.6867945   0.08550595  0.28701183  0.149243   -0.29445246 -0.00462495\n",
      "  0.59412557  0.7122497   0.07161117  0.26563844 -0.04588905 -0.19382112\n",
      "  0.03780929 -0.38313955  0.05724284 -0.23505667 -0.32172596 -0.11445633\n",
      " -0.11422    -0.04287013  0.08057708 -0.16182053  0.18974072 -0.02457414\n",
      " -0.25350145  0.27554753 -0.34578776  0.32368582  0.5196037   0.01076051\n",
      " -0.45199078 -0.00294048  0.28564012 -0.09009415 -0.16545677 -0.21855652\n",
      " -0.09013461 -0.31289428  0.11189337  0.12059508  0.28045547 -0.05179035\n",
      " -0.2670166   0.01275628  0.27442396  0.03536743  0.00303878  0.0170679\n",
      " -0.28718325  0.23688321  0.01475062  0.28218624 -0.14935027  0.2141361\n",
      " -0.4592574   0.21952851 -0.6215846  -0.52386606 -0.12515898 -0.29232424\n",
      "  0.3745532  -0.3166304  -0.42741233  0.151732    0.2274656  -0.14764127\n",
      "  0.1327478   0.19443373 -0.24859697  0.11639759 -0.0442665   0.16199014\n",
      "  0.15277697 -0.41715804 -0.1682361  -0.33803976  0.13475028  0.08011755\n",
      " -0.1708257  -0.27243012 -0.12022251 -0.22746964 -0.01886478 -0.3805442\n",
      " -0.18349442 -0.23232046  0.06430092 -0.06338567  0.37180358  0.20718776\n",
      "  0.18050493 -0.20411293  0.24812423  0.30228114  0.10943887  0.2152859\n",
      "  0.3045987  -0.4039718   0.02622206  0.29134718 -0.26628858  0.3980283\n",
      "  0.06395938  0.11388236 -0.21464255  0.07369244  0.10005201 -0.26452175\n",
      " -0.3009007   0.06950716  0.07978476 -0.36843163  0.02651481 -0.02908607\n",
      " -0.3292655   0.42622188 -0.23957345  0.4311687  -0.1886861  -0.24981236]\n"
     ]
    }
   ],
   "source": [
    "# el método `get_vector` permite obtener los vectores:\n",
    "vector_love = w2v_model.wv.get_vector(\"yogur\")\n",
    "print(vector_love)"
   ]
  },
  {
   "cell_type": "code",
   "execution_count": 21,
   "metadata": {},
   "outputs": [
    {
     "data": {
      "text/plain": [
       "[('yogur', 1.0),\n",
       " ('firme', 0.8876399993896484),\n",
       " ('batido', 0.8815719485282898),\n",
       " ('descremado', 0.881334662437439),\n",
       " ('bebible', 0.8707025647163391),\n",
       " ('entero', 0.8696738481521606),\n",
       " ('yogs', 0.8569919466972351),\n",
       " ('gran', 0.850754976272583),\n",
       " ('colchon', 0.8389526009559631),\n",
       " ('sancor', 0.8190739154815674)]"
      ]
     },
     "execution_count": 21,
     "metadata": {},
     "output_type": "execute_result"
    }
   ],
   "source": [
    "# el método `most_similar` también permite comparar a partir de vectores\n",
    "w2v_model.wv.most_similar(vector_love)"
   ]
  },
  {
   "cell_type": "markdown",
   "metadata": {
    "id": "_g8UVWe6lFmh"
   },
   "source": [
    "### 5 - Visualizar agrupación de vectores"
   ]
  },
  {
   "cell_type": "code",
   "execution_count": 23,
   "metadata": {
    "id": "pDxEVXAivjr9"
   },
   "outputs": [],
   "source": [
    "from sklearn.decomposition import IncrementalPCA    \n",
    "from sklearn.manifold import TSNE                   \n",
    "import numpy as np                                  \n",
    "\n",
    "def reduce_dimensions(model, num_dimensions = 2 ):\n",
    "     \n",
    "    vectors = np.asarray(model.wv.vectors)\n",
    "    labels = np.asarray(model.wv.index_to_key)  \n",
    "\n",
    "    tsne = TSNE(n_components=num_dimensions, random_state=0)\n",
    "    vectors = tsne.fit_transform(vectors)\n",
    "\n",
    "    return vectors, labels"
   ]
  },
  {
   "cell_type": "code",
   "execution_count": 26,
   "metadata": {
    "id": "NCCXtDpcugmd"
   },
   "outputs": [
    {
     "data": {
      "application/vnd.plotly.v1+json": {
       "config": {
        "plotlyServerURL": "https://plot.ly"
       },
       "data": [
        {
         "hovertemplate": "x=%{x}<br>y=%{y}<br>text=%{text}<extra></extra>",
         "legendgroup": "",
         "marker": {
          "color": "#636efa",
          "symbol": "circle"
         },
         "mode": "markers+text",
         "name": "",
         "orientation": "v",
         "showlegend": false,
         "text": [
          "x",
          "gr",
          "ml",
          "de",
          "unid",
          "la",
          "1",
          "750",
          "500",
          "100",
          "vino",
          "lt",
          "en",
          "leche",
          "queso",
          "con",
          "200",
          "y",
          "400",
          "para",
          "crema",
          "polvo",
          "2",
          "250",
          "tinto",
          "jabon",
          "3",
          "chocolate",
          "kg",
          "300",
          "dulce",
          "light",
          "p",
          "yogur",
          "sin",
          "5",
          "blanco",
          "25",
          "galletitas",
          "cerveza",
          "vainilla",
          "50",
          "shampoo",
          "6",
          "cafe",
          "x100gr",
          "acondicionador",
          "paladini",
          "limpiador",
          "4",
          "mate",
          "frutilla",
          "150",
          "serenisima",
          "jugo",
          "liquido",
          "sabor",
          "saquitos",
          "dental",
          "toallas",
          "naranja",
          "malbec",
          "cabernet",
          "sal",
          "120",
          "yerba",
          "del",
          "desodorante",
          "180",
          "clasico",
          "c",
          "te",
          "suave",
          "8",
          "sauvignon",
          "pan",
          "femeninas",
          "20",
          "350",
          "limon",
          "473",
          "aceite",
          "190",
          "arcor",
          "800",
          "pack",
          "900",
          "untable",
          "u",
          "s",
          "fino",
          "original",
          "12",
          "arroz",
          "egipciana",
          "salsa",
          "milkaut",
          "aceitunas",
          "extra",
          "agua",
          "alimento",
          "gaseosa",
          "360",
          "10",
          "mermelada",
          "ilolay",
          "paulina",
          "marvavic",
          "dos",
          "anclas",
          "tregar",
          "60",
          "protectores",
          "knorr",
          "colgate",
          "diarios",
          "90",
          "manzana",
          "campagnola",
          "virginia",
          "cereal",
          "dove",
          "jamon",
          "rexona",
          "cremoso",
          "450",
          "soja",
          "doble",
          "oliva",
          "panales",
          "gallega",
          "fideos",
          "don",
          "papas",
          "alicante",
          "talle",
          "elvive",
          "chardonnay",
          "340",
          "pomelo",
          "mani",
          "swift",
          "125",
          "zorro",
          "mix",
          "170",
          "pollo",
          "durazno",
          "espumante",
          "milanesas",
          "hamburguesas",
          "16",
          "tipo",
          "algabo",
          "plus",
          "postre",
          "fina",
          "pisos",
          "80",
          "sedal",
          "natural",
          "sobres",
          "bebible",
          "140",
          "entero",
          "maiz",
          "7",
          "sol",
          "40",
          "vinagre",
          "esponja",
          "lata",
          "hierbas",
          "papel",
          "capsulas",
          "veritas",
          "helado",
          "cm",
          "30",
          "antibacterial",
          "el",
          "johnson",
          "70",
          "cif",
          "verdes",
          "porotos",
          "choclo",
          "mayonesa",
          "bucal",
          "dea",
          "latas",
          "nucete",
          "antitranspirante",
          "carne",
          "azucar",
          "glade",
          "azul",
          "granja",
          "normal",
          "espinaca"
         ],
         "type": "scatter",
         "x": [
          1.4330309629440308,
          9.836080551147461,
          2.4112324714660645,
          3.6329002380371094,
          -9.382563591003418,
          11.535506248474121,
          10.269970893859863,
          14.946202278137207,
          -8.35326099395752,
          13.597009658813477,
          17.45430564880371,
          11.539517402648926,
          -18.303028106689453,
          24.99004554748535,
          12.017518997192383,
          17.620269775390625,
          -27.000873565673828,
          -0.29445263743400574,
          -15.215433120727539,
          -6.575089931488037,
          -18.131732940673828,
          -23.1375732421875,
          13.177359580993652,
          21.28569984436035,
          16.444536209106445,
          -25.818876266479492,
          5.487721920013428,
          13.645916938781738,
          12.309741020202637,
          -14.506576538085938,
          23.357873916625977,
          19.384611129760742,
          -7.892214298248291,
          29.437891006469727,
          -1.8337212800979614,
          9.615092277526855,
          18.34040641784668,
          14.538321495056152,
          13.327324867248535,
          13.048919677734375,
          21.291133880615234,
          -4.6512627601623535,
          -35.81385803222656,
          7.800220489501953,
          27.53738784790039,
          10.11328125,
          -35.80562973022461,
          0.7136748433113098,
          -22.48883819580078,
          2.987424612045288,
          -12.116241455078125,
          21.250492095947266,
          -17.77893829345703,
          28.05775260925293,
          18.390663146972656,
          -25.34321403503418,
          18.847829818725586,
          26.806716918945312,
          -22.6395263671875,
          -8.519737243652344,
          16.435562133789062,
          12.955153465270996,
          11.616890907287598,
          -9.380988121032715,
          16.02638053894043,
          -10.64714527130127,
          -12.223814010620117,
          -32.7021369934082,
          -17.130210876464844,
          -25.329349517822266,
          17.60747528076172,
          26.214937210083008,
          -26.3898868560791,
          -7.611670017242432,
          13.272650718688965,
          -2.5746591091156006,
          -9.711297988891602,
          21.98834991455078,
          5.428027153015137,
          12.630483627319336,
          13.890642166137695,
          6.487058162689209,
          -32.79935836791992,
          16.880142211914062,
          -22.450380325317383,
          14.163724899291992,
          -18.36151123046875,
          13.451009750366211,
          -10.602405548095703,
          -30.220979690551758,
          18.891700744628906,
          -26.120935440063477,
          6.181241989135742,
          -6.996348857879639,
          3.453984022140503,
          -9.732865333557129,
          28.4522647857666,
          35.12520217895508,
          7.085197925567627,
          7.589526653289795,
          -4.137943744659424,
          11.004521369934082,
          -21.9644718170166,
          22.08243179321289,
          21.741899490356445,
          28.439682006835938,
          14.097495079040527,
          34.17938995361328,
          -11.929802894592285,
          -11.090582847595215,
          28.52911949157715,
          -30.3092098236084,
          -12.392711639404297,
          -3.579684257507324,
          -23.11602783203125,
          -13.209311485290527,
          -8.787251472473145,
          14.526604652404785,
          16.87764549255371,
          25.594308853149414,
          -1.044743537902832,
          -31.4097957611084,
          4.1143317222595215,
          -31.44760513305664,
          7.500397682189941,
          -18.580476760864258,
          -9.49432373046875,
          2.8479366302490234,
          7.58275032043457,
          -13.597039222717285,
          8.874610900878906,
          -0.6771793961524963,
          4.173421382904053,
          -0.775100827217102,
          -2.5981836318969727,
          -12.532426834106445,
          -34.06193923950195,
          12.997061729431152,
          -33.57416915893555,
          13.355977058410645,
          12.954607009887695,
          -6.56111478805542,
          8.425515174865723,
          -24.293533325195312,
          15.42620849609375,
          21.228965759277344,
          -7.584908485412598,
          21.051227569580078,
          7.912153244018555,
          -9.354626655578613,
          -4.958167552947998,
          -7.645991325378418,
          7.678260803222656,
          -24.149812698364258,
          -15.678943634033203,
          21.0031795501709,
          -10.64373779296875,
          -22.21260643005371,
          18.863004684448242,
          -34.007659912109375,
          14.71986198425293,
          -17.15265464782715,
          28.884822845458984,
          16.3767032623291,
          29.27223014831543,
          1.4024198055267334,
          15.264481544494629,
          -11.887730598449707,
          20.306428909301758,
          32.0259895324707,
          -5.534447193145752,
          13.930013656616211,
          -11.189750671386719,
          0.36077380180358887,
          26.900875091552734,
          -27.455692291259766,
          9.514264106750488,
          1.1848386526107788,
          -0.4785333573818207,
          -23.733366012573242,
          11.092727661132812,
          -32.83013153076172,
          9.115560531616211,
          -21.452476501464844,
          34.69654846191406,
          2.9940285682678223,
          6.739426136016846,
          -30.485342025756836,
          -25.021774291992188,
          -6.05885648727417,
          11.403487205505371,
          33.98724365234375,
          -32.304569244384766,
          -7.126013278961182,
          12.349838256835938,
          -23.927471160888672,
          7.837505340576172,
          -11.190661430358887,
          -10.177950859069824,
          -8.344911575317383
         ],
         "xaxis": "x",
         "y": [
          -5.761129856109619,
          13.175237655639648,
          46.873741149902344,
          19.56768226623535,
          -14.642448425292969,
          22.880210876464844,
          -10.501880645751953,
          58.06611251831055,
          32.07602310180664,
          23.373754501342773,
          55.89070510864258,
          -10.04289722442627,
          -34.86231231689453,
          4.795989036560059,
          30.134384155273438,
          0.7007282972335815,
          -2.605577230453491,
          22.819242477416992,
          9.287388801574707,
          -31.4158878326416,
          3.1598639488220215,
          -33.93708419799805,
          -10.94825553894043,
          -1.7131282091140747,
          57.49586486816406,
          -28.192962646484375,
          -14.333183288574219,
          8.531630516052246,
          -16.261842727661133,
          10.310994148254395,
          8.219639778137207,
          19.83582878112793,
          -31.16538429260254,
          10.86244010925293,
          0.8483790755271912,
          -8.880929946899414,
          51.625850677490234,
          -4.468465328216553,
          0.3523126542568207,
          -29.379648208618164,
          13.418329238891602,
          -5.526401042938232,
          -3.3449742794036865,
          -26.99030876159668,
          -17.207056045532227,
          30.33502960205078,
          -3.3466286659240723,
          29.34506607055664,
          -16.819942474365234,
          -26.577167510986328,
          38.18256759643555,
          14.235824584960938,
          12.825471878051758,
          16.638933181762695,
          -7.053971767425537,
          -30.115507125854492,
          9.964264869689941,
          -10.912668228149414,
          6.750425815582275,
          -45.02500915527344,
          -5.434505462646484,
          57.85129928588867,
          57.58192825317383,
          4.485909461975098,
          10.246061325073242,
          38.47824478149414,
          22.24724769592285,
          -19.41375732421875,
          13.284530639648438,
          -33.108787536621094,
          0.7006521821022034,
          -11.262475967407227,
          -9.498631477355957,
          -38.270992279052734,
          58.81553268432617,
          9.849040031433105,
          -44.57704162597656,
          -12.885069847106934,
          33.91020202636719,
          -5.973515510559082,
          -28.69208526611328,
          16.984413146972656,
          -0.04529334977269173,
          18.221240997314453,
          -32.74845886230469,
          -27.677804946899414,
          -15.27748966217041,
          28.199565887451172,
          -15.112900733947754,
          1.8121219873428345,
          53.3095817565918,
          -21.809226989746094,
          -26.56376075744629,
          16.700227737426758,
          37.82477569580078,
          11.238547325134277,
          15.306781768798828,
          -0.2697264552116394,
          50.78919982910156,
          -3.9786858558654785,
          -32.89841079711914,
          -4.565163612365723,
          -23.3483943939209,
          -14.359234809875488,
          17.59943389892578,
          15.209623336791992,
          29.747447967529297,
          -1.7625526189804077,
          4.4347991943359375,
          2.8610827922821045,
          15.637238502502441,
          -15.069003105163574,
          -43.51836395263672,
          23.116106033325195,
          4.911355495452881,
          -43.21818542480469,
          -7.468293190002441,
          -6.64204216003418,
          18.278345108032227,
          -12.923857688903809,
          13.982423782348633,
          -8.822331428527832,
          27.986127853393555,
          -21.564577102661133,
          36.37751007080078,
          -15.715194702148438,
          26.672582626342773,
          -24.362459182739258,
          17.80917739868164,
          -13.236995697021484,
          22.762069702148438,
          33.83436584472656,
          38.9653205871582,
          27.19829750061035,
          -4.1539387702941895,
          -14.389147758483887,
          -6.112959861755371,
          57.789398193359375,
          0.01185807678848505,
          -8.564901351928711,
          10.144179344177246,
          26.59006690979004,
          5.020115852355957,
          -30.749910354614258,
          -15.771300315856934,
          -1.8119882345199585,
          25.03022575378418,
          15.00326919555664,
          52.211605072021484,
          26.113189697265625,
          29.422739028930664,
          -38.353458404541016,
          24.760868072509766,
          -28.341569900512695,
          -12.85721206665039,
          10.494333267211914,
          5.299222469329834,
          -18.673681259155273,
          -12.65876579284668,
          -1.965376615524292,
          14.668679237365723,
          -32.804264068603516,
          11.714237213134766,
          6.546865940093994,
          12.106847763061523,
          36.36080551147461,
          -9.44776439666748,
          21.234783172607422,
          -12.615076065063477,
          -2.840566396713257,
          -22.897056579589844,
          -26.276382446289062,
          35.68083572387695,
          -25.133567810058594,
          -17.813030242919922,
          -24.95501708984375,
          -15.726188659667969,
          -18.6439151763916,
          -20.708332061767578,
          -26.187458038330078,
          42.960121154785156,
          -7.812570095062256,
          6.559917449951172,
          -17.47490882873535,
          -0.6491490006446838,
          36.838539123535156,
          36.2912712097168,
          2.887627363204956,
          3.8086416721343994,
          -22.912736892700195,
          -29.55586051940918,
          -1.1300339698791504,
          -20.461271286010742,
          25.56366729736328,
          -3.4197170734405518,
          -19.846216201782227,
          28.73560333251953,
          22.880643844604492,
          -41.836063385009766,
          23.727766036987305
         ],
         "yaxis": "y"
        }
       ],
       "layout": {
        "legend": {
         "tracegroupgap": 0
        },
        "margin": {
         "t": 60
        },
        "template": {
         "data": {
          "bar": [
           {
            "error_x": {
             "color": "#2a3f5f"
            },
            "error_y": {
             "color": "#2a3f5f"
            },
            "marker": {
             "line": {
              "color": "#E5ECF6",
              "width": 0.5
             },
             "pattern": {
              "fillmode": "overlay",
              "size": 10,
              "solidity": 0.2
             }
            },
            "type": "bar"
           }
          ],
          "barpolar": [
           {
            "marker": {
             "line": {
              "color": "#E5ECF6",
              "width": 0.5
             },
             "pattern": {
              "fillmode": "overlay",
              "size": 10,
              "solidity": 0.2
             }
            },
            "type": "barpolar"
           }
          ],
          "carpet": [
           {
            "aaxis": {
             "endlinecolor": "#2a3f5f",
             "gridcolor": "white",
             "linecolor": "white",
             "minorgridcolor": "white",
             "startlinecolor": "#2a3f5f"
            },
            "baxis": {
             "endlinecolor": "#2a3f5f",
             "gridcolor": "white",
             "linecolor": "white",
             "minorgridcolor": "white",
             "startlinecolor": "#2a3f5f"
            },
            "type": "carpet"
           }
          ],
          "choropleth": [
           {
            "colorbar": {
             "outlinewidth": 0,
             "ticks": ""
            },
            "type": "choropleth"
           }
          ],
          "contour": [
           {
            "colorbar": {
             "outlinewidth": 0,
             "ticks": ""
            },
            "colorscale": [
             [
              0,
              "#0d0887"
             ],
             [
              0.1111111111111111,
              "#46039f"
             ],
             [
              0.2222222222222222,
              "#7201a8"
             ],
             [
              0.3333333333333333,
              "#9c179e"
             ],
             [
              0.4444444444444444,
              "#bd3786"
             ],
             [
              0.5555555555555556,
              "#d8576b"
             ],
             [
              0.6666666666666666,
              "#ed7953"
             ],
             [
              0.7777777777777778,
              "#fb9f3a"
             ],
             [
              0.8888888888888888,
              "#fdca26"
             ],
             [
              1,
              "#f0f921"
             ]
            ],
            "type": "contour"
           }
          ],
          "contourcarpet": [
           {
            "colorbar": {
             "outlinewidth": 0,
             "ticks": ""
            },
            "type": "contourcarpet"
           }
          ],
          "heatmap": [
           {
            "colorbar": {
             "outlinewidth": 0,
             "ticks": ""
            },
            "colorscale": [
             [
              0,
              "#0d0887"
             ],
             [
              0.1111111111111111,
              "#46039f"
             ],
             [
              0.2222222222222222,
              "#7201a8"
             ],
             [
              0.3333333333333333,
              "#9c179e"
             ],
             [
              0.4444444444444444,
              "#bd3786"
             ],
             [
              0.5555555555555556,
              "#d8576b"
             ],
             [
              0.6666666666666666,
              "#ed7953"
             ],
             [
              0.7777777777777778,
              "#fb9f3a"
             ],
             [
              0.8888888888888888,
              "#fdca26"
             ],
             [
              1,
              "#f0f921"
             ]
            ],
            "type": "heatmap"
           }
          ],
          "heatmapgl": [
           {
            "colorbar": {
             "outlinewidth": 0,
             "ticks": ""
            },
            "colorscale": [
             [
              0,
              "#0d0887"
             ],
             [
              0.1111111111111111,
              "#46039f"
             ],
             [
              0.2222222222222222,
              "#7201a8"
             ],
             [
              0.3333333333333333,
              "#9c179e"
             ],
             [
              0.4444444444444444,
              "#bd3786"
             ],
             [
              0.5555555555555556,
              "#d8576b"
             ],
             [
              0.6666666666666666,
              "#ed7953"
             ],
             [
              0.7777777777777778,
              "#fb9f3a"
             ],
             [
              0.8888888888888888,
              "#fdca26"
             ],
             [
              1,
              "#f0f921"
             ]
            ],
            "type": "heatmapgl"
           }
          ],
          "histogram": [
           {
            "marker": {
             "pattern": {
              "fillmode": "overlay",
              "size": 10,
              "solidity": 0.2
             }
            },
            "type": "histogram"
           }
          ],
          "histogram2d": [
           {
            "colorbar": {
             "outlinewidth": 0,
             "ticks": ""
            },
            "colorscale": [
             [
              0,
              "#0d0887"
             ],
             [
              0.1111111111111111,
              "#46039f"
             ],
             [
              0.2222222222222222,
              "#7201a8"
             ],
             [
              0.3333333333333333,
              "#9c179e"
             ],
             [
              0.4444444444444444,
              "#bd3786"
             ],
             [
              0.5555555555555556,
              "#d8576b"
             ],
             [
              0.6666666666666666,
              "#ed7953"
             ],
             [
              0.7777777777777778,
              "#fb9f3a"
             ],
             [
              0.8888888888888888,
              "#fdca26"
             ],
             [
              1,
              "#f0f921"
             ]
            ],
            "type": "histogram2d"
           }
          ],
          "histogram2dcontour": [
           {
            "colorbar": {
             "outlinewidth": 0,
             "ticks": ""
            },
            "colorscale": [
             [
              0,
              "#0d0887"
             ],
             [
              0.1111111111111111,
              "#46039f"
             ],
             [
              0.2222222222222222,
              "#7201a8"
             ],
             [
              0.3333333333333333,
              "#9c179e"
             ],
             [
              0.4444444444444444,
              "#bd3786"
             ],
             [
              0.5555555555555556,
              "#d8576b"
             ],
             [
              0.6666666666666666,
              "#ed7953"
             ],
             [
              0.7777777777777778,
              "#fb9f3a"
             ],
             [
              0.8888888888888888,
              "#fdca26"
             ],
             [
              1,
              "#f0f921"
             ]
            ],
            "type": "histogram2dcontour"
           }
          ],
          "mesh3d": [
           {
            "colorbar": {
             "outlinewidth": 0,
             "ticks": ""
            },
            "type": "mesh3d"
           }
          ],
          "parcoords": [
           {
            "line": {
             "colorbar": {
              "outlinewidth": 0,
              "ticks": ""
             }
            },
            "type": "parcoords"
           }
          ],
          "pie": [
           {
            "automargin": true,
            "type": "pie"
           }
          ],
          "scatter": [
           {
            "fillpattern": {
             "fillmode": "overlay",
             "size": 10,
             "solidity": 0.2
            },
            "type": "scatter"
           }
          ],
          "scatter3d": [
           {
            "line": {
             "colorbar": {
              "outlinewidth": 0,
              "ticks": ""
             }
            },
            "marker": {
             "colorbar": {
              "outlinewidth": 0,
              "ticks": ""
             }
            },
            "type": "scatter3d"
           }
          ],
          "scattercarpet": [
           {
            "marker": {
             "colorbar": {
              "outlinewidth": 0,
              "ticks": ""
             }
            },
            "type": "scattercarpet"
           }
          ],
          "scattergeo": [
           {
            "marker": {
             "colorbar": {
              "outlinewidth": 0,
              "ticks": ""
             }
            },
            "type": "scattergeo"
           }
          ],
          "scattergl": [
           {
            "marker": {
             "colorbar": {
              "outlinewidth": 0,
              "ticks": ""
             }
            },
            "type": "scattergl"
           }
          ],
          "scattermapbox": [
           {
            "marker": {
             "colorbar": {
              "outlinewidth": 0,
              "ticks": ""
             }
            },
            "type": "scattermapbox"
           }
          ],
          "scatterpolar": [
           {
            "marker": {
             "colorbar": {
              "outlinewidth": 0,
              "ticks": ""
             }
            },
            "type": "scatterpolar"
           }
          ],
          "scatterpolargl": [
           {
            "marker": {
             "colorbar": {
              "outlinewidth": 0,
              "ticks": ""
             }
            },
            "type": "scatterpolargl"
           }
          ],
          "scatterternary": [
           {
            "marker": {
             "colorbar": {
              "outlinewidth": 0,
              "ticks": ""
             }
            },
            "type": "scatterternary"
           }
          ],
          "surface": [
           {
            "colorbar": {
             "outlinewidth": 0,
             "ticks": ""
            },
            "colorscale": [
             [
              0,
              "#0d0887"
             ],
             [
              0.1111111111111111,
              "#46039f"
             ],
             [
              0.2222222222222222,
              "#7201a8"
             ],
             [
              0.3333333333333333,
              "#9c179e"
             ],
             [
              0.4444444444444444,
              "#bd3786"
             ],
             [
              0.5555555555555556,
              "#d8576b"
             ],
             [
              0.6666666666666666,
              "#ed7953"
             ],
             [
              0.7777777777777778,
              "#fb9f3a"
             ],
             [
              0.8888888888888888,
              "#fdca26"
             ],
             [
              1,
              "#f0f921"
             ]
            ],
            "type": "surface"
           }
          ],
          "table": [
           {
            "cells": {
             "fill": {
              "color": "#EBF0F8"
             },
             "line": {
              "color": "white"
             }
            },
            "header": {
             "fill": {
              "color": "#C8D4E3"
             },
             "line": {
              "color": "white"
             }
            },
            "type": "table"
           }
          ]
         },
         "layout": {
          "annotationdefaults": {
           "arrowcolor": "#2a3f5f",
           "arrowhead": 0,
           "arrowwidth": 1
          },
          "autotypenumbers": "strict",
          "coloraxis": {
           "colorbar": {
            "outlinewidth": 0,
            "ticks": ""
           }
          },
          "colorscale": {
           "diverging": [
            [
             0,
             "#8e0152"
            ],
            [
             0.1,
             "#c51b7d"
            ],
            [
             0.2,
             "#de77ae"
            ],
            [
             0.3,
             "#f1b6da"
            ],
            [
             0.4,
             "#fde0ef"
            ],
            [
             0.5,
             "#f7f7f7"
            ],
            [
             0.6,
             "#e6f5d0"
            ],
            [
             0.7,
             "#b8e186"
            ],
            [
             0.8,
             "#7fbc41"
            ],
            [
             0.9,
             "#4d9221"
            ],
            [
             1,
             "#276419"
            ]
           ],
           "sequential": [
            [
             0,
             "#0d0887"
            ],
            [
             0.1111111111111111,
             "#46039f"
            ],
            [
             0.2222222222222222,
             "#7201a8"
            ],
            [
             0.3333333333333333,
             "#9c179e"
            ],
            [
             0.4444444444444444,
             "#bd3786"
            ],
            [
             0.5555555555555556,
             "#d8576b"
            ],
            [
             0.6666666666666666,
             "#ed7953"
            ],
            [
             0.7777777777777778,
             "#fb9f3a"
            ],
            [
             0.8888888888888888,
             "#fdca26"
            ],
            [
             1,
             "#f0f921"
            ]
           ],
           "sequentialminus": [
            [
             0,
             "#0d0887"
            ],
            [
             0.1111111111111111,
             "#46039f"
            ],
            [
             0.2222222222222222,
             "#7201a8"
            ],
            [
             0.3333333333333333,
             "#9c179e"
            ],
            [
             0.4444444444444444,
             "#bd3786"
            ],
            [
             0.5555555555555556,
             "#d8576b"
            ],
            [
             0.6666666666666666,
             "#ed7953"
            ],
            [
             0.7777777777777778,
             "#fb9f3a"
            ],
            [
             0.8888888888888888,
             "#fdca26"
            ],
            [
             1,
             "#f0f921"
            ]
           ]
          },
          "colorway": [
           "#636efa",
           "#EF553B",
           "#00cc96",
           "#ab63fa",
           "#FFA15A",
           "#19d3f3",
           "#FF6692",
           "#B6E880",
           "#FF97FF",
           "#FECB52"
          ],
          "font": {
           "color": "#2a3f5f"
          },
          "geo": {
           "bgcolor": "white",
           "lakecolor": "white",
           "landcolor": "#E5ECF6",
           "showlakes": true,
           "showland": true,
           "subunitcolor": "white"
          },
          "hoverlabel": {
           "align": "left"
          },
          "hovermode": "closest",
          "mapbox": {
           "style": "light"
          },
          "paper_bgcolor": "white",
          "plot_bgcolor": "#E5ECF6",
          "polar": {
           "angularaxis": {
            "gridcolor": "white",
            "linecolor": "white",
            "ticks": ""
           },
           "bgcolor": "#E5ECF6",
           "radialaxis": {
            "gridcolor": "white",
            "linecolor": "white",
            "ticks": ""
           }
          },
          "scene": {
           "xaxis": {
            "backgroundcolor": "#E5ECF6",
            "gridcolor": "white",
            "gridwidth": 2,
            "linecolor": "white",
            "showbackground": true,
            "ticks": "",
            "zerolinecolor": "white"
           },
           "yaxis": {
            "backgroundcolor": "#E5ECF6",
            "gridcolor": "white",
            "gridwidth": 2,
            "linecolor": "white",
            "showbackground": true,
            "ticks": "",
            "zerolinecolor": "white"
           },
           "zaxis": {
            "backgroundcolor": "#E5ECF6",
            "gridcolor": "white",
            "gridwidth": 2,
            "linecolor": "white",
            "showbackground": true,
            "ticks": "",
            "zerolinecolor": "white"
           }
          },
          "shapedefaults": {
           "line": {
            "color": "#2a3f5f"
           }
          },
          "ternary": {
           "aaxis": {
            "gridcolor": "white",
            "linecolor": "white",
            "ticks": ""
           },
           "baxis": {
            "gridcolor": "white",
            "linecolor": "white",
            "ticks": ""
           },
           "bgcolor": "#E5ECF6",
           "caxis": {
            "gridcolor": "white",
            "linecolor": "white",
            "ticks": ""
           }
          },
          "title": {
           "x": 0.05
          },
          "xaxis": {
           "automargin": true,
           "gridcolor": "white",
           "linecolor": "white",
           "ticks": "",
           "title": {
            "standoff": 15
           },
           "zerolinecolor": "white",
           "zerolinewidth": 2
          },
          "yaxis": {
           "automargin": true,
           "gridcolor": "white",
           "linecolor": "white",
           "ticks": "",
           "title": {
            "standoff": 15
           },
           "zerolinecolor": "white",
           "zerolinewidth": 2
          }
         }
        },
        "xaxis": {
         "anchor": "y",
         "domain": [
          0,
          1
         ],
         "title": {
          "text": "x"
         }
        },
        "yaxis": {
         "anchor": "x",
         "domain": [
          0,
          1
         ],
         "title": {
          "text": "y"
         }
        }
       }
      }
     },
     "metadata": {},
     "output_type": "display_data"
    }
   ],
   "source": [
    "# Graficar los embedddings en 2D\n",
    "import plotly.graph_objects as go\n",
    "import plotly.express as px\n",
    "\n",
    "vecs, labels = reduce_dimensions(w2v_model)\n",
    "\n",
    "MAX_WORDS=200\n",
    "fig = px.scatter(x=vecs[:MAX_WORDS,0], y=vecs[:MAX_WORDS,1], text=labels[:MAX_WORDS])\n",
    "# fig.show(renderer=\"colab\") # esto para plotly en colab\n",
    "fig.show() # esto para plotly en colab"
   ]
  },
  {
   "cell_type": "code",
   "execution_count": 27,
   "metadata": {},
   "outputs": [
    {
     "data": {
      "application/vnd.plotly.v1+json": {
       "config": {
        "plotlyServerURL": "https://plot.ly"
       },
       "data": [
        {
         "hovertemplate": "x=%{x}<br>y=%{y}<br>z=%{z}<br>text=%{text}<extra></extra>",
         "legendgroup": "",
         "marker": {
          "color": "#636efa",
          "size": 2,
          "symbol": "circle"
         },
         "mode": "markers+text",
         "name": "",
         "scene": "scene",
         "showlegend": false,
         "text": [
          "x",
          "gr",
          "ml",
          "de",
          "unid",
          "la",
          "1",
          "750",
          "500",
          "100",
          "vino",
          "lt",
          "en",
          "leche",
          "queso",
          "con",
          "200",
          "y",
          "400",
          "para",
          "crema",
          "polvo",
          "2",
          "250",
          "tinto",
          "jabon",
          "3",
          "chocolate",
          "kg",
          "300",
          "dulce",
          "light",
          "p",
          "yogur",
          "sin",
          "5",
          "blanco",
          "25",
          "galletitas",
          "cerveza",
          "vainilla",
          "50",
          "shampoo",
          "6",
          "cafe",
          "x100gr",
          "acondicionador",
          "paladini",
          "limpiador",
          "4",
          "mate",
          "frutilla",
          "150",
          "serenisima",
          "jugo",
          "liquido",
          "sabor",
          "saquitos",
          "dental",
          "toallas",
          "naranja",
          "malbec",
          "cabernet",
          "sal",
          "120",
          "yerba",
          "del",
          "desodorante",
          "180",
          "clasico",
          "c",
          "te",
          "suave",
          "8",
          "sauvignon",
          "pan",
          "femeninas",
          "20",
          "350",
          "limon",
          "473",
          "aceite",
          "190",
          "arcor",
          "800",
          "pack",
          "900",
          "untable",
          "u",
          "s",
          "fino",
          "original",
          "12",
          "arroz",
          "egipciana",
          "salsa",
          "milkaut",
          "aceitunas",
          "extra",
          "agua",
          "alimento",
          "gaseosa",
          "360",
          "10",
          "mermelada",
          "ilolay",
          "paulina",
          "marvavic",
          "dos",
          "anclas",
          "tregar",
          "60",
          "protectores",
          "knorr",
          "colgate",
          "diarios",
          "90",
          "manzana",
          "campagnola",
          "virginia",
          "cereal",
          "dove",
          "jamon",
          "rexona",
          "cremoso",
          "450",
          "soja",
          "doble",
          "oliva",
          "panales",
          "gallega",
          "fideos",
          "don",
          "papas",
          "alicante",
          "talle",
          "elvive",
          "chardonnay",
          "340",
          "pomelo",
          "mani",
          "swift",
          "125",
          "zorro",
          "mix",
          "170",
          "pollo",
          "durazno",
          "espumante",
          "milanesas",
          "hamburguesas",
          "16",
          "tipo",
          "algabo",
          "plus",
          "postre",
          "fina",
          "pisos",
          "80",
          "sedal",
          "natural",
          "sobres",
          "bebible",
          "140",
          "entero",
          "maiz",
          "7",
          "sol",
          "40",
          "vinagre",
          "esponja",
          "lata",
          "hierbas",
          "papel",
          "capsulas",
          "veritas",
          "helado",
          "cm",
          "30",
          "antibacterial",
          "el",
          "johnson",
          "70",
          "cif",
          "verdes",
          "porotos",
          "choclo",
          "mayonesa",
          "bucal",
          "dea",
          "latas",
          "nucete",
          "antitranspirante",
          "carne",
          "azucar",
          "glade",
          "azul",
          "granja",
          "normal",
          "espinaca"
         ],
         "type": "scatter3d",
         "x": [
          -3.810779571533203,
          -0.952450156211853,
          4.742595672607422,
          5.423727989196777,
          2.099155902862549,
          13.755626678466797,
          -9.652679443359375,
          8.518342018127441,
          -2.561307430267334,
          11.560020446777344,
          9.805646896362305,
          -10.278918266296387,
          -10.65761947631836,
          14.10109806060791,
          17.931825637817383,
          -0.9811750650405884,
          -14.371896743774414,
          0.8415172100067139,
          -6.687509059906006,
          3.0998053550720215,
          -8.849479675292969,
          -12.236717224121094,
          -5.795859336853027,
          11.881811141967773,
          11.17258071899414,
          -9.580694198608398,
          -5.90183687210083,
          6.181504249572754,
          -4.745349407196045,
          -5.659236431121826,
          12.819931983947754,
          -4.801772117614746,
          2.2244131565093994,
          16.745464324951172,
          9.193764686584473,
          -12.701501846313477,
          8.883484840393066,
          -1.4003856182098389,
          -4.209161758422852,
          -5.62216329574585,
          8.470260620117188,
          0.3184750974178314,
          -19.274099349975586,
          -4.508461952209473,
          6.143548488616943,
          14.169663429260254,
          -18.80031394958496,
          11.972003936767578,
          -2.4734437465667725,
          4.576666355133057,
          -6.287191867828369,
          -5.35357666015625,
          -7.898657321929932,
          16.417203903198242,
          -12.539525032043457,
          -10.534162521362305,
          8.9961519241333,
          5.507053852081299,
          -11.249855041503906,
          -8.725990295410156,
          -12.177129745483398,
          10.47685718536377,
          11.375191688537598,
          -9.539337158203125,
          6.623954772949219,
          -5.232980251312256,
          2.514103651046753,
          -8.863716125488281,
          -6.226223945617676,
          -7.484976291656494,
          -1.0226099491119385,
          5.98307466506958,
          -16.49151611328125,
          -2.9744386672973633,
          8.946798324584961,
          10.601502418518066,
          -6.904884338378906,
          1.888066291809082,
          6.737100124359131,
          -8.014208793640137,
          -8.454805374145508,
          3.27654767036438,
          -16.555265426635742,
          -8.417074203491211,
          -10.49881649017334,
          -7.975775241851807,
          -6.764080047607422,
          17.852825164794922,
          2.4552838802337646,
          -16.172542572021484,
          8.727554321289062,
          -11.177057266235352,
          -2.9128806591033936,
          3.5264995098114014,
          9.969971656799316,
          -1.691757321357727,
          15.951911926269531,
          -8.211502075195312,
          1.855448842048645,
          -10.092720985412598,
          6.8725199699401855,
          -7.878686904907227,
          -4.604380130767822,
          2.3686182498931885,
          -6.826185703277588,
          16.0823917388916,
          16.509761810302734,
          -10.204926490783691,
          -5.853267669677734,
          -8.259626388549805,
          16.546892166137695,
          -12.787946701049805,
          -5.091946125030518,
          1.232726812362671,
          -9.628349304199219,
          -6.571130275726318,
          -4.335357666015625,
          -9.480558395385742,
          -8.79606819152832,
          6.287045955657959,
          -1.6288553476333618,
          -17.040939331054688,
          10.825214385986328,
          -12.00835132598877,
          11.162476539611816,
          -6.588812828063965,
          6.891145706176758,
          6.422783374786377,
          4.239071846008301,
          0.4724040925502777,
          11.992301940917969,
          4.0156402587890625,
          10.254486083984375,
          2.2496697902679443,
          5.3701372146606445,
          2.4652576446533203,
          -20.36866569519043,
          10.743073463439941,
          -17.681720733642578,
          -11.280062675476074,
          6.000904560089111,
          6.85373067855835,
          5.599926948547363,
          -11.679826736450195,
          -1.9678195714950562,
          10.921814918518066,
          4.792786598205566,
          -5.6833953857421875,
          4.33861780166626,
          6.043903827667236,
          10.051554679870605,
          -3.1041343212127686,
          9.819036483764648,
          -11.805815696716309,
          -1.0223629474639893,
          9.465648651123047,
          -7.701723098754883,
          -1.2691022157669067,
          3.4070873260498047,
          -19.527786254882812,
          11.364885330200195,
          -8.58901309967041,
          15.937840461730957,
          -4.782619476318359,
          16.98490333557129,
          5.739713191986084,
          -9.894667625427246,
          2.1857216358184814,
          1.3489384651184082,
          -11.316511154174805,
          7.317442417144775,
          -8.858135223388672,
          -6.891711711883545,
          7.839171409606934,
          7.7291765213012695,
          -11.19436264038086,
          -9.721908569335938,
          1.8597887754440308,
          3.14725661277771,
          -12.487930297851562,
          2.2114832401275635,
          -18.392793655395508,
          3.6436960697174072,
          -2.840822219848633,
          -8.744552612304688,
          8.060081481933594,
          9.590763092041016,
          -16.753856658935547,
          -10.397367477416992,
          7.437147617340088,
          -7.752589702606201,
          -8.796459197998047,
          -10.508613586425781,
          5.628493309020996,
          -10.9388427734375,
          -4.246115207672119,
          13.975844383239746,
          3.6313021183013916,
          -4.7607102394104,
          3.3826825618743896
         ],
         "y": [
          -4.162498474121094,
          7.885148048400879,
          25.852861404418945,
          15.215620994567871,
          -9.123327255249023,
          5.16083288192749,
          -1.316206932067871,
          33.14647674560547,
          14.864533424377441,
          6.154606342315674,
          31.5076904296875,
          -4.04678201675415,
          -12.88297176361084,
          -0.7811546921730042,
          10.323994636535645,
          5.743504047393799,
          0.3808425962924957,
          11.30576229095459,
          1.3343511819839478,
          -20.983850479125977,
          -4.065230369567871,
          -14.007004737854004,
          -6.218732833862305,
          -4.389949321746826,
          32.135196685791016,
          -14.62862777709961,
          -7.076637268066406,
          5.958529949188232,
          -1.0345488786697388,
          2.1298036575317383,
          3.447127103805542,
          10.312190055847168,
          -21.097396850585938,
          2.405346632003784,
          -7.097110748291016,
          -3.182523488998413,
          24.544347763061523,
          -3.3696229457855225,
          7.058258056640625,
          -3.7369399070739746,
          3.9376211166381836,
          -4.635889053344727,
          -0.5220537185668945,
          -5.241364002227783,
          -6.893243312835693,
          11.93996810913086,
          -0.470739483833313,
          16.118549346923828,
          -19.789491653442383,
          -5.936886310577393,
          18.533771514892578,
          12.288493156433105,
          4.476572513580322,
          4.975666522979736,
          -8.699565887451172,
          -17.186744689941406,
          -0.7345133423805237,
          -1.0229614973068237,
          -0.7021209597587585,
          -19.300199508666992,
          -7.273837566375732,
          30.88890266418457,
          29.343366622924805,
          8.801271438598633,
          0.5836682319641113,
          21.108165740966797,
          18.918109893798828,
          -14.390813827514648,
          4.70527458190918,
          -11.155939102172852,
          5.722747802734375,
          -0.4593028724193573,
          -9.250065803527832,
          -15.458700180053711,
          31.537395477294922,
          0.3586207628250122,
          -19.859272003173828,
          -3.8658266067504883,
          11.334003448486328,
          -4.632704734802246,
          -4.643143177032471,
          1.0259616374969482,
          2.495364189147949,
          9.248842239379883,
          -12.192258834838867,
          -2.676814556121826,
          -19.430505752563477,
          7.939564228057861,
          -10.50362777709961,
          -3.5556464195251465,
          28.92487144470215,
          -8.222029685974121,
          -6.344719409942627,
          14.082816123962402,
          8.117036819458008,
          9.231464385986328,
          6.109031677246094,
          12.677066802978516,
          31.435029983520508,
          2.779146909713745,
          -19.990751266479492,
          -1.4876617193222046,
          -10.371578216552734,
          -5.630551338195801,
          12.955558776855469,
          5.750705242156982,
          8.203447341918945,
          10.979812622070312,
          7.524627685546875,
          6.472647666931152,
          6.520516395568848,
          -16.393836975097656,
          -22.272504806518555,
          13.437479972839355,
          0.20159947872161865,
          -22.2016658782959,
          -2.2436277866363525,
          -7.094890594482422,
          9.029083251953125,
          -2.3911843299865723,
          8.947786331176758,
          -6.782688140869141,
          15.91705322265625,
          -12.815890312194824,
          12.685519218444824,
          -18.44797134399414,
          18.711284637451172,
          -7.969090461730957,
          1.618805170059204,
          -14.605579376220703,
          7.15256929397583,
          10.596327781677246,
          9.60357666015625,
          17.920961380004883,
          -8.20746898651123,
          -13.553796768188477,
          -2.999345302581787,
          31.58075523376465,
          2.630267858505249,
          -4.738160610198975,
          8.224979400634766,
          17.66792106628418,
          1.4254578351974487,
          -16.417688369750977,
          1.2694337368011475,
          -4.6500444412231445,
          18.053056716918945,
          11.961139678955078,
          31.777830123901367,
          17.895050048828125,
          14.900647163391113,
          -15.854265213012695,
          8.17498779296875,
          -12.544902801513672,
          -16.454483032226562,
          2.5965731143951416,
          9.939390182495117,
          -16.704376220703125,
          -1.4267305135726929,
          0.4336806833744049,
          2.740567684173584,
          -13.850617408752441,
          3.8361005783081055,
          5.617536544799805,
          4.5926289558410645,
          8.312302589416504,
          -6.753851413726807,
          17.66079330444336,
          -3.9891533851623535,
          11.3413724899292,
          -13.08556842803955,
          -0.4883636236190796,
          18.44443130493164,
          -10.496767044067383,
          -7.435904502868652,
          -11.275686264038086,
          -0.8317747712135315,
          -8.52659797668457,
          -11.232522964477539,
          -14.247101783752441,
          23.844072341918945,
          -4.249521732330322,
          1.5904297828674316,
          -19.014320373535156,
          11.52062702178955,
          8.427562713623047,
          12.539770126342773,
          -2.0001306533813477,
          2.6937828063964844,
          -13.228702545166016,
          -5.823473930358887,
          10.019371032714844,
          -12.86314582824707,
          17.928468704223633,
          -1.8834037780761719,
          -14.65653133392334,
          10.751272201538086,
          18.196998596191406,
          -19.922395706176758,
          17.727739334106445
         ],
         "z": [
          0.10633013397455215,
          1.8650628328323364,
          9.003009796142578,
          12.681714057922363,
          -10.839210510253906,
          4.206554412841797,
          -4.124246597290039,
          2.6817359924316406,
          5.926572799682617,
          -1.0348857641220093,
          -1.3200498819351196,
          -3.654141664505005,
          -4.096016883850098,
          -3.0853629112243652,
          0.1330747902393341,
          -11.406576156616211,
          2.873300313949585,
          3.4116482734680176,
          7.318950176239014,
          -1.5317134857177734,
          15.623194694519043,
          -2.1112771034240723,
          -7.807024002075195,
          -9.08991527557373,
          1.4351376295089722,
          4.762880325317383,
          -3.6356494426727295,
          -6.114351272583008,
          -6.618198394775391,
          6.364217281341553,
          -3.6902692317962646,
          4.208985805511475,
          -0.29729998111724854,
          -9.329954147338867,
          7.162607192993164,
          -5.2859787940979,
          -1.4634501934051514,
          -12.103034973144531,
          -6.440105438232422,
          -20.272321701049805,
          -8.17978286743164,
          -12.228041648864746,
          10.554259300231934,
          -17.20619010925293,
          -16.91008186340332,
          -2.448418617248535,
          10.649272918701172,
          -0.583686351776123,
          6.646527290344238,
          -6.110803604125977,
          6.9940876960754395,
          -1.6547540426254272,
          0.13254931569099426,
          -4.351158142089844,
          -5.526950359344482,
          3.414705514907837,
          -7.065638542175293,
          -17.14055061340332,
          18.253053665161133,
          -12.356130599975586,
          -8.662341117858887,
          4.483550071716309,
          3.698928117752075,
          10.243779182434082,
          -2.6853063106536865,
          6.197238445281982,
          6.105113983154297,
          13.033662796020508,
          0.33434173464775085,
          -0.8008505702018738,
          -11.371804237365723,
          -15.92890739440918,
          2.826864004135132,
          -15.700190544128418,
          5.201131820678711,
          5.109133243560791,
          -14.276987075805664,
          -14.65925121307373,
          10.964102745056152,
          -9.58243465423584,
          -20.41465187072754,
          10.517110824584961,
          8.439847946166992,
          -0.6598700881004333,
          -0.6073070764541626,
          -21.18229103088379,
          8.298219680786133,
          0.45115652680397034,
          -12.557340621948242,
          1.4990650415420532,
          -3.273522138595581,
          10.322805404663086,
          -16.342987060546875,
          -8.97595500946045,
          11.0731782913208,
          9.62888240814209,
          -6.220027446746826,
          -12.306989669799805,
          3.9051387310028076,
          -8.216414451599121,
          -2.218231201171875,
          -10.625768661499023,
          7.318592071533203,
          -13.77869987487793,
          1.7708271741867065,
          -6.510980606079102,
          -2.982104539871216,
          -11.481934547424316,
          9.875688552856445,
          10.71766185760498,
          -5.558836936950684,
          9.67728328704834,
          -10.782958984375,
          -0.022926615551114082,
          16.21470832824707,
          -9.450583457946777,
          14.664346694946289,
          -8.914435386657715,
          0.06849472969770432,
          -14.694978713989258,
          -1.4732694625854492,
          5.207551002502441,
          2.7456700801849365,
          12.129318237304688,
          9.297088623046875,
          7.687136173248291,
          3.8194141387939453,
          -4.357744216918945,
          12.208722114562988,
          -12.115579605102539,
          4.932200908660889,
          8.742188453674316,
          12.743453979492188,
          -2.9505221843719482,
          11.73539924621582,
          -11.133044242858887,
          6.609150409698486,
          4.339881896972656,
          7.299770832061768,
          -7.855987548828125,
          -3.528658628463745,
          -0.3973914682865143,
          -1.0979818105697632,
          1.5738227367401123,
          -7.285824298858643,
          -9.350481986999512,
          1.7029931545257568,
          -0.8296302556991577,
          2.8533737659454346,
          3.742263078689575,
          -2.2290573120117188,
          -15.237727165222168,
          0.9371859431266785,
          2.1311376094818115,
          -10.626123428344727,
          -7.060676574707031,
          11.136100769042969,
          10.439220428466797,
          -4.448418140411377,
          6.713391304016113,
          9.175015449523926,
          -6.144275665283203,
          -10.22136116027832,
          -0.798332154750824,
          -9.626270294189453,
          11.452678680419922,
          -4.823124885559082,
          6.94273567199707,
          -12.623346328735352,
          -9.227370262145996,
          2.4787142276763916,
          -19.431255340576172,
          3.90590238571167,
          -5.104135513305664,
          -16.51384925842285,
          5.952217102050781,
          -0.3359127938747406,
          -7.81410026550293,
          -9.046494483947754,
          4.545172691345215,
          -0.22765600681304932,
          3.8211214542388916,
          -4.6956586837768555,
          9.502098083496094,
          -12.39384937286377,
          11.77574348449707,
          9.129307746887207,
          0.35583367943763733,
          14.647517204284668,
          1.0334516763687134,
          -18.65644645690918,
          -11.683588981628418,
          13.671656608581543,
          0.7319257855415344,
          -9.497846603393555,
          11.592623710632324,
          3.318289279937744,
          4.979565620422363,
          -12.721360206604004,
          2.944577693939209
         ]
        }
       ],
       "layout": {
        "legend": {
         "tracegroupgap": 0
        },
        "margin": {
         "t": 60
        },
        "scene": {
         "domain": {
          "x": [
           0,
           1
          ],
          "y": [
           0,
           1
          ]
         },
         "xaxis": {
          "title": {
           "text": "x"
          }
         },
         "yaxis": {
          "title": {
           "text": "y"
          }
         },
         "zaxis": {
          "title": {
           "text": "z"
          }
         }
        },
        "template": {
         "data": {
          "bar": [
           {
            "error_x": {
             "color": "#2a3f5f"
            },
            "error_y": {
             "color": "#2a3f5f"
            },
            "marker": {
             "line": {
              "color": "#E5ECF6",
              "width": 0.5
             },
             "pattern": {
              "fillmode": "overlay",
              "size": 10,
              "solidity": 0.2
             }
            },
            "type": "bar"
           }
          ],
          "barpolar": [
           {
            "marker": {
             "line": {
              "color": "#E5ECF6",
              "width": 0.5
             },
             "pattern": {
              "fillmode": "overlay",
              "size": 10,
              "solidity": 0.2
             }
            },
            "type": "barpolar"
           }
          ],
          "carpet": [
           {
            "aaxis": {
             "endlinecolor": "#2a3f5f",
             "gridcolor": "white",
             "linecolor": "white",
             "minorgridcolor": "white",
             "startlinecolor": "#2a3f5f"
            },
            "baxis": {
             "endlinecolor": "#2a3f5f",
             "gridcolor": "white",
             "linecolor": "white",
             "minorgridcolor": "white",
             "startlinecolor": "#2a3f5f"
            },
            "type": "carpet"
           }
          ],
          "choropleth": [
           {
            "colorbar": {
             "outlinewidth": 0,
             "ticks": ""
            },
            "type": "choropleth"
           }
          ],
          "contour": [
           {
            "colorbar": {
             "outlinewidth": 0,
             "ticks": ""
            },
            "colorscale": [
             [
              0,
              "#0d0887"
             ],
             [
              0.1111111111111111,
              "#46039f"
             ],
             [
              0.2222222222222222,
              "#7201a8"
             ],
             [
              0.3333333333333333,
              "#9c179e"
             ],
             [
              0.4444444444444444,
              "#bd3786"
             ],
             [
              0.5555555555555556,
              "#d8576b"
             ],
             [
              0.6666666666666666,
              "#ed7953"
             ],
             [
              0.7777777777777778,
              "#fb9f3a"
             ],
             [
              0.8888888888888888,
              "#fdca26"
             ],
             [
              1,
              "#f0f921"
             ]
            ],
            "type": "contour"
           }
          ],
          "contourcarpet": [
           {
            "colorbar": {
             "outlinewidth": 0,
             "ticks": ""
            },
            "type": "contourcarpet"
           }
          ],
          "heatmap": [
           {
            "colorbar": {
             "outlinewidth": 0,
             "ticks": ""
            },
            "colorscale": [
             [
              0,
              "#0d0887"
             ],
             [
              0.1111111111111111,
              "#46039f"
             ],
             [
              0.2222222222222222,
              "#7201a8"
             ],
             [
              0.3333333333333333,
              "#9c179e"
             ],
             [
              0.4444444444444444,
              "#bd3786"
             ],
             [
              0.5555555555555556,
              "#d8576b"
             ],
             [
              0.6666666666666666,
              "#ed7953"
             ],
             [
              0.7777777777777778,
              "#fb9f3a"
             ],
             [
              0.8888888888888888,
              "#fdca26"
             ],
             [
              1,
              "#f0f921"
             ]
            ],
            "type": "heatmap"
           }
          ],
          "heatmapgl": [
           {
            "colorbar": {
             "outlinewidth": 0,
             "ticks": ""
            },
            "colorscale": [
             [
              0,
              "#0d0887"
             ],
             [
              0.1111111111111111,
              "#46039f"
             ],
             [
              0.2222222222222222,
              "#7201a8"
             ],
             [
              0.3333333333333333,
              "#9c179e"
             ],
             [
              0.4444444444444444,
              "#bd3786"
             ],
             [
              0.5555555555555556,
              "#d8576b"
             ],
             [
              0.6666666666666666,
              "#ed7953"
             ],
             [
              0.7777777777777778,
              "#fb9f3a"
             ],
             [
              0.8888888888888888,
              "#fdca26"
             ],
             [
              1,
              "#f0f921"
             ]
            ],
            "type": "heatmapgl"
           }
          ],
          "histogram": [
           {
            "marker": {
             "pattern": {
              "fillmode": "overlay",
              "size": 10,
              "solidity": 0.2
             }
            },
            "type": "histogram"
           }
          ],
          "histogram2d": [
           {
            "colorbar": {
             "outlinewidth": 0,
             "ticks": ""
            },
            "colorscale": [
             [
              0,
              "#0d0887"
             ],
             [
              0.1111111111111111,
              "#46039f"
             ],
             [
              0.2222222222222222,
              "#7201a8"
             ],
             [
              0.3333333333333333,
              "#9c179e"
             ],
             [
              0.4444444444444444,
              "#bd3786"
             ],
             [
              0.5555555555555556,
              "#d8576b"
             ],
             [
              0.6666666666666666,
              "#ed7953"
             ],
             [
              0.7777777777777778,
              "#fb9f3a"
             ],
             [
              0.8888888888888888,
              "#fdca26"
             ],
             [
              1,
              "#f0f921"
             ]
            ],
            "type": "histogram2d"
           }
          ],
          "histogram2dcontour": [
           {
            "colorbar": {
             "outlinewidth": 0,
             "ticks": ""
            },
            "colorscale": [
             [
              0,
              "#0d0887"
             ],
             [
              0.1111111111111111,
              "#46039f"
             ],
             [
              0.2222222222222222,
              "#7201a8"
             ],
             [
              0.3333333333333333,
              "#9c179e"
             ],
             [
              0.4444444444444444,
              "#bd3786"
             ],
             [
              0.5555555555555556,
              "#d8576b"
             ],
             [
              0.6666666666666666,
              "#ed7953"
             ],
             [
              0.7777777777777778,
              "#fb9f3a"
             ],
             [
              0.8888888888888888,
              "#fdca26"
             ],
             [
              1,
              "#f0f921"
             ]
            ],
            "type": "histogram2dcontour"
           }
          ],
          "mesh3d": [
           {
            "colorbar": {
             "outlinewidth": 0,
             "ticks": ""
            },
            "type": "mesh3d"
           }
          ],
          "parcoords": [
           {
            "line": {
             "colorbar": {
              "outlinewidth": 0,
              "ticks": ""
             }
            },
            "type": "parcoords"
           }
          ],
          "pie": [
           {
            "automargin": true,
            "type": "pie"
           }
          ],
          "scatter": [
           {
            "fillpattern": {
             "fillmode": "overlay",
             "size": 10,
             "solidity": 0.2
            },
            "type": "scatter"
           }
          ],
          "scatter3d": [
           {
            "line": {
             "colorbar": {
              "outlinewidth": 0,
              "ticks": ""
             }
            },
            "marker": {
             "colorbar": {
              "outlinewidth": 0,
              "ticks": ""
             }
            },
            "type": "scatter3d"
           }
          ],
          "scattercarpet": [
           {
            "marker": {
             "colorbar": {
              "outlinewidth": 0,
              "ticks": ""
             }
            },
            "type": "scattercarpet"
           }
          ],
          "scattergeo": [
           {
            "marker": {
             "colorbar": {
              "outlinewidth": 0,
              "ticks": ""
             }
            },
            "type": "scattergeo"
           }
          ],
          "scattergl": [
           {
            "marker": {
             "colorbar": {
              "outlinewidth": 0,
              "ticks": ""
             }
            },
            "type": "scattergl"
           }
          ],
          "scattermapbox": [
           {
            "marker": {
             "colorbar": {
              "outlinewidth": 0,
              "ticks": ""
             }
            },
            "type": "scattermapbox"
           }
          ],
          "scatterpolar": [
           {
            "marker": {
             "colorbar": {
              "outlinewidth": 0,
              "ticks": ""
             }
            },
            "type": "scatterpolar"
           }
          ],
          "scatterpolargl": [
           {
            "marker": {
             "colorbar": {
              "outlinewidth": 0,
              "ticks": ""
             }
            },
            "type": "scatterpolargl"
           }
          ],
          "scatterternary": [
           {
            "marker": {
             "colorbar": {
              "outlinewidth": 0,
              "ticks": ""
             }
            },
            "type": "scatterternary"
           }
          ],
          "surface": [
           {
            "colorbar": {
             "outlinewidth": 0,
             "ticks": ""
            },
            "colorscale": [
             [
              0,
              "#0d0887"
             ],
             [
              0.1111111111111111,
              "#46039f"
             ],
             [
              0.2222222222222222,
              "#7201a8"
             ],
             [
              0.3333333333333333,
              "#9c179e"
             ],
             [
              0.4444444444444444,
              "#bd3786"
             ],
             [
              0.5555555555555556,
              "#d8576b"
             ],
             [
              0.6666666666666666,
              "#ed7953"
             ],
             [
              0.7777777777777778,
              "#fb9f3a"
             ],
             [
              0.8888888888888888,
              "#fdca26"
             ],
             [
              1,
              "#f0f921"
             ]
            ],
            "type": "surface"
           }
          ],
          "table": [
           {
            "cells": {
             "fill": {
              "color": "#EBF0F8"
             },
             "line": {
              "color": "white"
             }
            },
            "header": {
             "fill": {
              "color": "#C8D4E3"
             },
             "line": {
              "color": "white"
             }
            },
            "type": "table"
           }
          ]
         },
         "layout": {
          "annotationdefaults": {
           "arrowcolor": "#2a3f5f",
           "arrowhead": 0,
           "arrowwidth": 1
          },
          "autotypenumbers": "strict",
          "coloraxis": {
           "colorbar": {
            "outlinewidth": 0,
            "ticks": ""
           }
          },
          "colorscale": {
           "diverging": [
            [
             0,
             "#8e0152"
            ],
            [
             0.1,
             "#c51b7d"
            ],
            [
             0.2,
             "#de77ae"
            ],
            [
             0.3,
             "#f1b6da"
            ],
            [
             0.4,
             "#fde0ef"
            ],
            [
             0.5,
             "#f7f7f7"
            ],
            [
             0.6,
             "#e6f5d0"
            ],
            [
             0.7,
             "#b8e186"
            ],
            [
             0.8,
             "#7fbc41"
            ],
            [
             0.9,
             "#4d9221"
            ],
            [
             1,
             "#276419"
            ]
           ],
           "sequential": [
            [
             0,
             "#0d0887"
            ],
            [
             0.1111111111111111,
             "#46039f"
            ],
            [
             0.2222222222222222,
             "#7201a8"
            ],
            [
             0.3333333333333333,
             "#9c179e"
            ],
            [
             0.4444444444444444,
             "#bd3786"
            ],
            [
             0.5555555555555556,
             "#d8576b"
            ],
            [
             0.6666666666666666,
             "#ed7953"
            ],
            [
             0.7777777777777778,
             "#fb9f3a"
            ],
            [
             0.8888888888888888,
             "#fdca26"
            ],
            [
             1,
             "#f0f921"
            ]
           ],
           "sequentialminus": [
            [
             0,
             "#0d0887"
            ],
            [
             0.1111111111111111,
             "#46039f"
            ],
            [
             0.2222222222222222,
             "#7201a8"
            ],
            [
             0.3333333333333333,
             "#9c179e"
            ],
            [
             0.4444444444444444,
             "#bd3786"
            ],
            [
             0.5555555555555556,
             "#d8576b"
            ],
            [
             0.6666666666666666,
             "#ed7953"
            ],
            [
             0.7777777777777778,
             "#fb9f3a"
            ],
            [
             0.8888888888888888,
             "#fdca26"
            ],
            [
             1,
             "#f0f921"
            ]
           ]
          },
          "colorway": [
           "#636efa",
           "#EF553B",
           "#00cc96",
           "#ab63fa",
           "#FFA15A",
           "#19d3f3",
           "#FF6692",
           "#B6E880",
           "#FF97FF",
           "#FECB52"
          ],
          "font": {
           "color": "#2a3f5f"
          },
          "geo": {
           "bgcolor": "white",
           "lakecolor": "white",
           "landcolor": "#E5ECF6",
           "showlakes": true,
           "showland": true,
           "subunitcolor": "white"
          },
          "hoverlabel": {
           "align": "left"
          },
          "hovermode": "closest",
          "mapbox": {
           "style": "light"
          },
          "paper_bgcolor": "white",
          "plot_bgcolor": "#E5ECF6",
          "polar": {
           "angularaxis": {
            "gridcolor": "white",
            "linecolor": "white",
            "ticks": ""
           },
           "bgcolor": "#E5ECF6",
           "radialaxis": {
            "gridcolor": "white",
            "linecolor": "white",
            "ticks": ""
           }
          },
          "scene": {
           "xaxis": {
            "backgroundcolor": "#E5ECF6",
            "gridcolor": "white",
            "gridwidth": 2,
            "linecolor": "white",
            "showbackground": true,
            "ticks": "",
            "zerolinecolor": "white"
           },
           "yaxis": {
            "backgroundcolor": "#E5ECF6",
            "gridcolor": "white",
            "gridwidth": 2,
            "linecolor": "white",
            "showbackground": true,
            "ticks": "",
            "zerolinecolor": "white"
           },
           "zaxis": {
            "backgroundcolor": "#E5ECF6",
            "gridcolor": "white",
            "gridwidth": 2,
            "linecolor": "white",
            "showbackground": true,
            "ticks": "",
            "zerolinecolor": "white"
           }
          },
          "shapedefaults": {
           "line": {
            "color": "#2a3f5f"
           }
          },
          "ternary": {
           "aaxis": {
            "gridcolor": "white",
            "linecolor": "white",
            "ticks": ""
           },
           "baxis": {
            "gridcolor": "white",
            "linecolor": "white",
            "ticks": ""
           },
           "bgcolor": "#E5ECF6",
           "caxis": {
            "gridcolor": "white",
            "linecolor": "white",
            "ticks": ""
           }
          },
          "title": {
           "x": 0.05
          },
          "xaxis": {
           "automargin": true,
           "gridcolor": "white",
           "linecolor": "white",
           "ticks": "",
           "title": {
            "standoff": 15
           },
           "zerolinecolor": "white",
           "zerolinewidth": 2
          },
          "yaxis": {
           "automargin": true,
           "gridcolor": "white",
           "linecolor": "white",
           "ticks": "",
           "title": {
            "standoff": 15
           },
           "zerolinecolor": "white",
           "zerolinewidth": 2
          }
         }
        }
       }
      }
     },
     "metadata": {},
     "output_type": "display_data"
    }
   ],
   "source": [
    "# Graficar los embeddings en 3D\n",
    "\n",
    "vecs, labels = reduce_dimensions(w2v_model,3)\n",
    "\n",
    "fig = px.scatter_3d(x=vecs[:MAX_WORDS,0], y=vecs[:MAX_WORDS,1], z=vecs[:MAX_WORDS,2],text=labels[:MAX_WORDS])\n",
    "fig.update_traces(marker_size = 2)\n",
    "# fig.show(renderer=\"colab\") # esto para plotly en colab\n",
    "fig.show() # esto para plotly en colab"
   ]
  },
  {
   "cell_type": "code",
   "execution_count": 28,
   "metadata": {},
   "outputs": [],
   "source": [
    "# También se pueden guardar los vectores y labels como tsv para graficar en\n",
    "# http://projector.tensorflow.org/\n",
    "\n",
    "\n",
    "vectors = np.asarray(w2v_model.wv.vectors)\n",
    "labels = list(w2v_model.wv.index_to_key)\n",
    "\n",
    "np.savetxt(\"vectors.tsv\", vectors, delimiter=\"\\t\")\n",
    "\n",
    "with open(\"labels.tsv\", \"w\") as fp:\n",
    "    for item in labels:\n",
    "        fp.write(\"%s\\n\" % item)"
   ]
  },
  {
   "cell_type": "markdown",
   "metadata": {
    "id": "yMM_SHSaZ9N-"
   },
   "source": [
    "### Conclusiones"
   ]
  },
  {
   "cell_type": "markdown",
   "metadata": {
    "id": "WivQZ3ZCZ9N_"
   },
   "source": [
    "- En cuanto a los `chocolates` se agrupan en base a marcas o tamaños.\n",
    "- En cuanto a la similitud negativa de `leche` y de `yogur` se puede observar que arroja resultados totalmente discordantes con la palabra buscada.\n",
    "- En cuanto a la búsqueda de similitud positiva la `harina` arroja resultados diferentes tipos de granos o legumbres\n",
    "- En cuanto a `yogur` sucede de manera similar que con `chocolates`\n",
    "\n",
    "\n",
    "Para concluir, se puede observar en los gráficos tridimensionales de embeddings que para este dataset de descripciones de productos de supermercados se nota claramente la agrupación de productos similares como el vino y sus variedades, granos o legumbres, los lácteos, entre otros. El espacio vectorial de embeddings logra interceptar similitudes entre documentos de la misma clasificación del lenguaje cotidiano o categorizando como un supermercado lo haría.\n"
   ]
  }
 ],
 "metadata": {
  "colab": {
   "collapsed_sections": [],
   "provenance": []
  },
  "kernelspec": {
   "display_name": "Python 3 (ipykernel)",
   "language": "python",
   "name": "python3"
  },
  "language_info": {
   "codemirror_mode": {
    "name": "ipython",
    "version": 3
   },
   "file_extension": ".py",
   "mimetype": "text/x-python",
   "name": "python",
   "nbconvert_exporter": "python",
   "pygments_lexer": "ipython3",
   "version": "3.10.12"
  }
 },
 "nbformat": 4,
 "nbformat_minor": 4
}

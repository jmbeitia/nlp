{
  "cells": [
    {
      "cell_type": "markdown",
      "metadata": {
        "id": "g3yeJGnCYxuF"
      },
      "source": [
        "<img src=\"https://github.com/hernancontigiani/ceia_memorias_especializacion/raw/master/Figures/logoFIUBA.jpg\" width=\"500\" align=\"center\">\n",
        "\n",
        "\n",
        "# Procesamiento de lenguaje natural\n",
        "## Predicción de próxima palabra"
      ]
    },
    {
      "cell_type": "markdown",
      "metadata": {
        "id": "Iv5PEwGzZA9-"
      },
      "source": [
        "### Objetivo\n",
        "El objetivo es utilizar documentos / corpus para crear embeddings de palabras basado en ese contexto utilizando la layer Embedding de Keras. Se utilizará esos embeddings junto con layers LSTM para predeccir la próxima posible palabra."
      ]
    },
    {
      "cell_type": "code",
      "execution_count": null,
      "metadata": {
        "id": "Y-QdFbHZYj7C"
      },
      "outputs": [],
      "source": [
        "import random\n",
        "import io\n",
        "import pickle\n",
        "\n",
        "import numpy as np\n",
        "import pandas as pd\n",
        "\n",
        "from tensorflow import keras\n",
        "from tensorflow.keras import layers\n",
        "from keras.utils import to_categorical\n",
        "from keras.models import Sequential\n",
        "from keras.layers import Dense, LSTM, Embedding, Dropout"
      ]
    },
    {
      "cell_type": "markdown",
      "metadata": {
        "id": "4l_WEbUOaNAS"
      },
      "source": [
        "### Datos\n",
        "Se consumirán los datos de todos los productos del supermercado La Gallega."
      ]
    },
    {
      "cell_type": "code",
      "execution_count": null,
      "metadata": {
        "colab": {
          "base_uri": "https://localhost:8080/",
          "height": 206
        },
        "id": "Gm9-nGWraNAS",
        "outputId": "07202c31-3570-41f7-d04c-4cb703b525c2"
      },
      "outputs": [
        {
          "output_type": "execute_result",
          "data": {
            "text/plain": [
              "                                descripcion  precio  \\\n",
              "0    rocio vegetal mazola x 120 ml. manteca  363.35   \n",
              "1            rocio vegetal natura x 120 ml.  363.64   \n",
              "2   rocio vegetal mazola x 120 ml. original  376.65   \n",
              "3   rocio vegetal de girasol lira x 120 gr.  382.70   \n",
              "4  rocio vegetal fritolim x 120 ml. clasico  394.34   \n",
              "\n",
              "                                            linkFoto  \n",
              "0  https://www.lagallega.com.ar/Archivos/Articulo...  \n",
              "1  https://www.lagallega.com.ar/Archivos/Articulo...  \n",
              "2  https://www.lagallega.com.ar/Archivos/Articulo...  \n",
              "3  https://www.lagallega.com.ar/Archivos/Articulo...  \n",
              "4  https://www.lagallega.com.ar/Archivos/Articulo...  "
            ],
            "text/html": [
              "\n",
              "  <div id=\"df-d251afc6-2afc-4f41-8eaa-bb3591afe9e5\" class=\"colab-df-container\">\n",
              "    <div>\n",
              "<style scoped>\n",
              "    .dataframe tbody tr th:only-of-type {\n",
              "        vertical-align: middle;\n",
              "    }\n",
              "\n",
              "    .dataframe tbody tr th {\n",
              "        vertical-align: top;\n",
              "    }\n",
              "\n",
              "    .dataframe thead th {\n",
              "        text-align: right;\n",
              "    }\n",
              "</style>\n",
              "<table border=\"1\" class=\"dataframe\">\n",
              "  <thead>\n",
              "    <tr style=\"text-align: right;\">\n",
              "      <th></th>\n",
              "      <th>descripcion</th>\n",
              "      <th>precio</th>\n",
              "      <th>linkFoto</th>\n",
              "    </tr>\n",
              "  </thead>\n",
              "  <tbody>\n",
              "    <tr>\n",
              "      <th>0</th>\n",
              "      <td>rocio vegetal mazola x 120 ml. manteca</td>\n",
              "      <td>363.35</td>\n",
              "      <td>https://www.lagallega.com.ar/Archivos/Articulo...</td>\n",
              "    </tr>\n",
              "    <tr>\n",
              "      <th>1</th>\n",
              "      <td>rocio vegetal natura x 120 ml.</td>\n",
              "      <td>363.64</td>\n",
              "      <td>https://www.lagallega.com.ar/Archivos/Articulo...</td>\n",
              "    </tr>\n",
              "    <tr>\n",
              "      <th>2</th>\n",
              "      <td>rocio vegetal mazola x 120 ml. original</td>\n",
              "      <td>376.65</td>\n",
              "      <td>https://www.lagallega.com.ar/Archivos/Articulo...</td>\n",
              "    </tr>\n",
              "    <tr>\n",
              "      <th>3</th>\n",
              "      <td>rocio vegetal de girasol lira x 120 gr.</td>\n",
              "      <td>382.70</td>\n",
              "      <td>https://www.lagallega.com.ar/Archivos/Articulo...</td>\n",
              "    </tr>\n",
              "    <tr>\n",
              "      <th>4</th>\n",
              "      <td>rocio vegetal fritolim x 120 ml. clasico</td>\n",
              "      <td>394.34</td>\n",
              "      <td>https://www.lagallega.com.ar/Archivos/Articulo...</td>\n",
              "    </tr>\n",
              "  </tbody>\n",
              "</table>\n",
              "</div>\n",
              "    <div class=\"colab-df-buttons\">\n",
              "\n",
              "  <div class=\"colab-df-container\">\n",
              "    <button class=\"colab-df-convert\" onclick=\"convertToInteractive('df-d251afc6-2afc-4f41-8eaa-bb3591afe9e5')\"\n",
              "            title=\"Convert this dataframe to an interactive table.\"\n",
              "            style=\"display:none;\">\n",
              "\n",
              "  <svg xmlns=\"http://www.w3.org/2000/svg\" height=\"24px\" viewBox=\"0 -960 960 960\">\n",
              "    <path d=\"M120-120v-720h720v720H120Zm60-500h600v-160H180v160Zm220 220h160v-160H400v160Zm0 220h160v-160H400v160ZM180-400h160v-160H180v160Zm440 0h160v-160H620v160ZM180-180h160v-160H180v160Zm440 0h160v-160H620v160Z\"/>\n",
              "  </svg>\n",
              "    </button>\n",
              "\n",
              "  <style>\n",
              "    .colab-df-container {\n",
              "      display:flex;\n",
              "      gap: 12px;\n",
              "    }\n",
              "\n",
              "    .colab-df-convert {\n",
              "      background-color: #E8F0FE;\n",
              "      border: none;\n",
              "      border-radius: 50%;\n",
              "      cursor: pointer;\n",
              "      display: none;\n",
              "      fill: #1967D2;\n",
              "      height: 32px;\n",
              "      padding: 0 0 0 0;\n",
              "      width: 32px;\n",
              "    }\n",
              "\n",
              "    .colab-df-convert:hover {\n",
              "      background-color: #E2EBFA;\n",
              "      box-shadow: 0px 1px 2px rgba(60, 64, 67, 0.3), 0px 1px 3px 1px rgba(60, 64, 67, 0.15);\n",
              "      fill: #174EA6;\n",
              "    }\n",
              "\n",
              "    .colab-df-buttons div {\n",
              "      margin-bottom: 4px;\n",
              "    }\n",
              "\n",
              "    [theme=dark] .colab-df-convert {\n",
              "      background-color: #3B4455;\n",
              "      fill: #D2E3FC;\n",
              "    }\n",
              "\n",
              "    [theme=dark] .colab-df-convert:hover {\n",
              "      background-color: #434B5C;\n",
              "      box-shadow: 0px 1px 3px 1px rgba(0, 0, 0, 0.15);\n",
              "      filter: drop-shadow(0px 1px 2px rgba(0, 0, 0, 0.3));\n",
              "      fill: #FFFFFF;\n",
              "    }\n",
              "  </style>\n",
              "\n",
              "    <script>\n",
              "      const buttonEl =\n",
              "        document.querySelector('#df-d251afc6-2afc-4f41-8eaa-bb3591afe9e5 button.colab-df-convert');\n",
              "      buttonEl.style.display =\n",
              "        google.colab.kernel.accessAllowed ? 'block' : 'none';\n",
              "\n",
              "      async function convertToInteractive(key) {\n",
              "        const element = document.querySelector('#df-d251afc6-2afc-4f41-8eaa-bb3591afe9e5');\n",
              "        const dataTable =\n",
              "          await google.colab.kernel.invokeFunction('convertToInteractive',\n",
              "                                                    [key], {});\n",
              "        if (!dataTable) return;\n",
              "\n",
              "        const docLinkHtml = 'Like what you see? Visit the ' +\n",
              "          '<a target=\"_blank\" href=https://colab.research.google.com/notebooks/data_table.ipynb>data table notebook</a>'\n",
              "          + ' to learn more about interactive tables.';\n",
              "        element.innerHTML = '';\n",
              "        dataTable['output_type'] = 'display_data';\n",
              "        await google.colab.output.renderOutput(dataTable, element);\n",
              "        const docLink = document.createElement('div');\n",
              "        docLink.innerHTML = docLinkHtml;\n",
              "        element.appendChild(docLink);\n",
              "      }\n",
              "    </script>\n",
              "  </div>\n",
              "\n",
              "\n",
              "<div id=\"df-01b6c666-8782-47df-9eb2-af9df8a037a9\">\n",
              "  <button class=\"colab-df-quickchart\" onclick=\"quickchart('df-01b6c666-8782-47df-9eb2-af9df8a037a9')\"\n",
              "            title=\"Suggest charts\"\n",
              "            style=\"display:none;\">\n",
              "\n",
              "<svg xmlns=\"http://www.w3.org/2000/svg\" height=\"24px\"viewBox=\"0 0 24 24\"\n",
              "     width=\"24px\">\n",
              "    <g>\n",
              "        <path d=\"M19 3H5c-1.1 0-2 .9-2 2v14c0 1.1.9 2 2 2h14c1.1 0 2-.9 2-2V5c0-1.1-.9-2-2-2zM9 17H7v-7h2v7zm4 0h-2V7h2v10zm4 0h-2v-4h2v4z\"/>\n",
              "    </g>\n",
              "</svg>\n",
              "  </button>\n",
              "\n",
              "<style>\n",
              "  .colab-df-quickchart {\n",
              "      --bg-color: #E8F0FE;\n",
              "      --fill-color: #1967D2;\n",
              "      --hover-bg-color: #E2EBFA;\n",
              "      --hover-fill-color: #174EA6;\n",
              "      --disabled-fill-color: #AAA;\n",
              "      --disabled-bg-color: #DDD;\n",
              "  }\n",
              "\n",
              "  [theme=dark] .colab-df-quickchart {\n",
              "      --bg-color: #3B4455;\n",
              "      --fill-color: #D2E3FC;\n",
              "      --hover-bg-color: #434B5C;\n",
              "      --hover-fill-color: #FFFFFF;\n",
              "      --disabled-bg-color: #3B4455;\n",
              "      --disabled-fill-color: #666;\n",
              "  }\n",
              "\n",
              "  .colab-df-quickchart {\n",
              "    background-color: var(--bg-color);\n",
              "    border: none;\n",
              "    border-radius: 50%;\n",
              "    cursor: pointer;\n",
              "    display: none;\n",
              "    fill: var(--fill-color);\n",
              "    height: 32px;\n",
              "    padding: 0;\n",
              "    width: 32px;\n",
              "  }\n",
              "\n",
              "  .colab-df-quickchart:hover {\n",
              "    background-color: var(--hover-bg-color);\n",
              "    box-shadow: 0 1px 2px rgba(60, 64, 67, 0.3), 0 1px 3px 1px rgba(60, 64, 67, 0.15);\n",
              "    fill: var(--button-hover-fill-color);\n",
              "  }\n",
              "\n",
              "  .colab-df-quickchart-complete:disabled,\n",
              "  .colab-df-quickchart-complete:disabled:hover {\n",
              "    background-color: var(--disabled-bg-color);\n",
              "    fill: var(--disabled-fill-color);\n",
              "    box-shadow: none;\n",
              "  }\n",
              "\n",
              "  .colab-df-spinner {\n",
              "    border: 2px solid var(--fill-color);\n",
              "    border-color: transparent;\n",
              "    border-bottom-color: var(--fill-color);\n",
              "    animation:\n",
              "      spin 1s steps(1) infinite;\n",
              "  }\n",
              "\n",
              "  @keyframes spin {\n",
              "    0% {\n",
              "      border-color: transparent;\n",
              "      border-bottom-color: var(--fill-color);\n",
              "      border-left-color: var(--fill-color);\n",
              "    }\n",
              "    20% {\n",
              "      border-color: transparent;\n",
              "      border-left-color: var(--fill-color);\n",
              "      border-top-color: var(--fill-color);\n",
              "    }\n",
              "    30% {\n",
              "      border-color: transparent;\n",
              "      border-left-color: var(--fill-color);\n",
              "      border-top-color: var(--fill-color);\n",
              "      border-right-color: var(--fill-color);\n",
              "    }\n",
              "    40% {\n",
              "      border-color: transparent;\n",
              "      border-right-color: var(--fill-color);\n",
              "      border-top-color: var(--fill-color);\n",
              "    }\n",
              "    60% {\n",
              "      border-color: transparent;\n",
              "      border-right-color: var(--fill-color);\n",
              "    }\n",
              "    80% {\n",
              "      border-color: transparent;\n",
              "      border-right-color: var(--fill-color);\n",
              "      border-bottom-color: var(--fill-color);\n",
              "    }\n",
              "    90% {\n",
              "      border-color: transparent;\n",
              "      border-bottom-color: var(--fill-color);\n",
              "    }\n",
              "  }\n",
              "</style>\n",
              "\n",
              "  <script>\n",
              "    async function quickchart(key) {\n",
              "      const quickchartButtonEl =\n",
              "        document.querySelector('#' + key + ' button');\n",
              "      quickchartButtonEl.disabled = true;  // To prevent multiple clicks.\n",
              "      quickchartButtonEl.classList.add('colab-df-spinner');\n",
              "      try {\n",
              "        const charts = await google.colab.kernel.invokeFunction(\n",
              "            'suggestCharts', [key], {});\n",
              "      } catch (error) {\n",
              "        console.error('Error during call to suggestCharts:', error);\n",
              "      }\n",
              "      quickchartButtonEl.classList.remove('colab-df-spinner');\n",
              "      quickchartButtonEl.classList.add('colab-df-quickchart-complete');\n",
              "    }\n",
              "    (() => {\n",
              "      let quickchartButtonEl =\n",
              "        document.querySelector('#df-01b6c666-8782-47df-9eb2-af9df8a037a9 button');\n",
              "      quickchartButtonEl.style.display =\n",
              "        google.colab.kernel.accessAllowed ? 'block' : 'none';\n",
              "    })();\n",
              "  </script>\n",
              "</div>\n",
              "\n",
              "    </div>\n",
              "  </div>\n"
            ]
          },
          "metadata": {},
          "execution_count": 50
        }
      ],
      "source": [
        "dfProductos = pd.read_json('datosLaGallega.json', orient='records')\n",
        "dfProductos.head()"
      ]
    },
    {
      "cell_type": "code",
      "execution_count": null,
      "metadata": {
        "id": "oYwV2zB-aNAT",
        "outputId": "d2ed4835-3f0a-4166-9c56-0fc02e304a00",
        "colab": {
          "base_uri": "https://localhost:8080/"
        }
      },
      "outputs": [
        {
          "output_type": "stream",
          "name": "stdout",
          "text": [
            "Cantidad de documentos: 4983\n"
          ]
        }
      ],
      "source": [
        "print(\"Cantidad de documentos:\", dfProductos.shape[0])"
      ]
    },
    {
      "cell_type": "markdown",
      "metadata": {
        "id": "RDoouHp7Zp6D"
      },
      "source": [
        "### 1 - Ejemplo de Preprocesamiento\n",
        "- Hay que transformar las oraciones en tokens.\n",
        "- Dichas oraciones hay que ajustarlas al tamaño fijo de nuestra sentencia de entrada al modelo.\n",
        "- Hay que separar las palabras objetivos (target) que el modelo debe predecir en cada sentencia armada."
      ]
    },
    {
      "cell_type": "code",
      "execution_count": null,
      "metadata": {
        "id": "m5FeTaGvbDbw"
      },
      "outputs": [],
      "source": [
        "from keras.preprocessing.text import Tokenizer # equivalente a ltokenizer de nltk\n",
        "from keras.preprocessing.text import text_to_word_sequence # equivalente a word_tokenize de nltk\n",
        "from keras.utils import pad_sequences # se utilizará para padding\n",
        "\n",
        "# largo de la secuencia, incluye seq input + word output\n",
        "train_len = 4"
      ]
    },
    {
      "cell_type": "code",
      "execution_count": null,
      "metadata": {
        "id": "dNaMS4cMaNAU"
      },
      "outputs": [],
      "source": [
        "import random"
      ]
    },
    {
      "cell_type": "code",
      "execution_count": null,
      "metadata": {
        "id": "Zf3O7eK6ZpP8",
        "outputId": "b886bfa9-98f2-455f-829d-9a2282f721cb",
        "colab": {
          "base_uri": "https://localhost:8080/",
          "height": 35
        }
      },
      "outputs": [
        {
          "output_type": "execute_result",
          "data": {
            "text/plain": [
              "'vino tinto esperado cabernet sauvignon x 750 ml.'"
            ],
            "application/vnd.google.colaboratory.intrinsic+json": {
              "type": "string"
            }
          },
          "metadata": {},
          "execution_count": 10
        }
      ],
      "source": [
        "# Ejemplo de como transformar una oración a tokens usando keras\n",
        "random_num = random.randint(1, dfProductos.shape[0])\n",
        "text = dfProductos.iloc[random_num, 0]\n",
        "text"
      ]
    },
    {
      "cell_type": "code",
      "execution_count": null,
      "metadata": {
        "id": "AOv67Sj7aeFH",
        "outputId": "6bf1fd0a-723f-4d22-90c4-b589748d6cd2",
        "colab": {
          "base_uri": "https://localhost:8080/"
        }
      },
      "outputs": [
        {
          "output_type": "execute_result",
          "data": {
            "text/plain": [
              "['vino', 'tinto', 'esperado', 'cabernet', 'sauvignon', 'x', '750', 'ml']"
            ]
          },
          "metadata": {},
          "execution_count": 11
        }
      ],
      "source": [
        "tokens = text_to_word_sequence(text) # entran oraciones -> salen vectores de N posiciones (tokens)\n",
        "tokens"
      ]
    },
    {
      "cell_type": "markdown",
      "metadata": {
        "id": "ZrlyqkoiaymK"
      },
      "source": [
        "1.1 - Transformar las oraciones en secuencias (tokens) de palabras"
      ]
    },
    {
      "cell_type": "code",
      "execution_count": null,
      "metadata": {
        "id": "XH_L14Wjaowe"
      },
      "outputs": [],
      "source": [
        "# Recorrer todas las filas y transformar las oraciones\n",
        "# en secuencias de palabras\n",
        "sentence_tokens = []\n",
        "for _, row in dfProductos[:None].iterrows():\n",
        "    sentence_tokens.append(text_to_word_sequence(row[0]))"
      ]
    },
    {
      "cell_type": "code",
      "execution_count": null,
      "metadata": {
        "id": "KASzU4CdaxbZ",
        "outputId": "41642036-73c3-42ac-8ab1-db553da2a959",
        "colab": {
          "base_uri": "https://localhost:8080/"
        }
      },
      "outputs": [
        {
          "output_type": "execute_result",
          "data": {
            "text/plain": [
              "[['rocio', 'vegetal', 'mazola', 'x', '120', 'ml', 'manteca'],\n",
              " ['rocio', 'vegetal', 'natura', 'x', '120', 'ml']]"
            ]
          },
          "metadata": {},
          "execution_count": 14
        }
      ],
      "source": [
        "# Demos un vistazo\n",
        "sentence_tokens[:2]"
      ]
    },
    {
      "cell_type": "code",
      "execution_count": null,
      "metadata": {
        "id": "A659lswTbIIB"
      },
      "outputs": [],
      "source": [
        "# Código para hacer el desfasaje de las palabras\n",
        "# según el train_len\n",
        "text_sequences = []\n",
        "\n",
        "for i in range(train_len, len(tokens)):\n",
        "  seq = tokens[i-train_len:i]\n",
        "  text_sequences.append(seq)"
      ]
    },
    {
      "cell_type": "code",
      "execution_count": null,
      "metadata": {
        "id": "01JEoPPnbgRF",
        "outputId": "ad42e10a-f151-4428-e4f9-d48afa3bf400",
        "colab": {
          "base_uri": "https://localhost:8080/"
        }
      },
      "outputs": [
        {
          "output_type": "execute_result",
          "data": {
            "text/plain": [
              "[['vino', 'tinto', 'esperado', 'cabernet'],\n",
              " ['tinto', 'esperado', 'cabernet', 'sauvignon'],\n",
              " ['esperado', 'cabernet', 'sauvignon', 'x'],\n",
              " ['cabernet', 'sauvignon', 'x', '750']]"
            ]
          },
          "metadata": {},
          "execution_count": 24
        }
      ],
      "source": [
        "# Demos un vistazo a nuestros vectores para entrenar el modelo\n",
        "text_sequences"
      ]
    },
    {
      "cell_type": "markdown",
      "metadata": {
        "id": "4B0gHnKVa4W_"
      },
      "source": [
        "1.2 - Crear los vectores de palabras (word2vec)\n",
        "\n",
        "Ahora necesitamos pasarlos a números para que lo entienda la red y separar input de output.\n",
        "- El Input seran integers (word2vec)\n",
        "- Mientras que el output será one hot encodeado (labels) del tamaño del vocabulario"
      ]
    },
    {
      "cell_type": "code",
      "execution_count": null,
      "metadata": {
        "id": "fkPNvXeQcS0U"
      },
      "outputs": [],
      "source": [
        "tok = Tokenizer()\n",
        "\n",
        "# El tokenizer \"aprende\" las palabras que se usaran\n",
        "# Se construye (fit) una vez por proyecto, se aplica N veces (tal cual un encoder)\n",
        "# El token 0 es reservado y no es asignado, esta sutileza nos dará un pequeño\n",
        "# problema al momento de hacer la codificación OHE, pero es sencillo de resolver\n",
        "tok.fit_on_texts(text_sequences)\n",
        "\n",
        "# Convertimos las palabras a números\n",
        "# entran palabras -> salen números\n",
        "sequences = tok.texts_to_sequences(text_sequences)"
      ]
    },
    {
      "cell_type": "code",
      "execution_count": null,
      "metadata": {
        "id": "4SIc44IocyQb",
        "outputId": "c6441815-1d8d-4870-dcce-33c6b5104089",
        "colab": {
          "base_uri": "https://localhost:8080/"
        }
      },
      "outputs": [
        {
          "output_type": "execute_result",
          "data": {
            "text/plain": [
              "[[6, 4, 2, 1], [4, 2, 1, 3], [2, 1, 3, 5], [1, 3, 5, 7]]"
            ]
          },
          "metadata": {},
          "execution_count": 26
        }
      ],
      "source": [
        "# Ahora sequences tiene los números \"ID\", largo 4\n",
        "sequences"
      ]
    },
    {
      "cell_type": "code",
      "execution_count": null,
      "metadata": {
        "id": "3ro81yCQc1oX",
        "outputId": "0d462e63-5fa3-4ad4-b906-e037f73052fa",
        "colab": {
          "base_uri": "https://localhost:8080/"
        }
      },
      "outputs": [
        {
          "output_type": "stream",
          "name": "stdout",
          "text": [
            "4\n"
          ]
        }
      ],
      "source": [
        "# Cantidad de casos (doc) de entrada\n",
        "print(tok.document_count)"
      ]
    },
    {
      "cell_type": "code",
      "execution_count": null,
      "metadata": {
        "id": "nzAWNfroc4u1",
        "outputId": "63650fb9-d136-469d-9497-3887c6d7d157",
        "colab": {
          "base_uri": "https://localhost:8080/"
        }
      },
      "outputs": [
        {
          "output_type": "stream",
          "name": "stdout",
          "text": [
            "7\n"
          ]
        }
      ],
      "source": [
        "# Cantidad de veces que aparece cada palabra\n",
        "print(len(tok.word_counts))"
      ]
    },
    {
      "cell_type": "code",
      "execution_count": null,
      "metadata": {
        "id": "spTBxmFQc6h8",
        "outputId": "c09593da-4d88-4ec8-e2bf-66eec2edc921",
        "colab": {
          "base_uri": "https://localhost:8080/"
        }
      },
      "outputs": [
        {
          "output_type": "stream",
          "name": "stdout",
          "text": [
            "{'cabernet': 1, 'esperado': 2, 'sauvignon': 3, 'tinto': 4, 'x': 5, 'vino': 6, '750': 7}\n"
          ]
        }
      ],
      "source": [
        "# El índice para cada palabra\n",
        "# El sistema las ordena de las más populares a las menos populares\n",
        "print(tok.word_index)"
      ]
    },
    {
      "cell_type": "code",
      "execution_count": null,
      "metadata": {
        "id": "nUDkjy80c77h",
        "outputId": "a80cf6b2-1c5b-490f-d8c2-a8336e2b1a1f",
        "colab": {
          "base_uri": "https://localhost:8080/"
        }
      },
      "outputs": [
        {
          "output_type": "stream",
          "name": "stdout",
          "text": [
            "defaultdict(<class 'int'>, {'cabernet': 4, 'esperado': 3, 'tinto': 2, 'vino': 1, 'sauvignon': 3, 'x': 2, '750': 1})\n"
          ]
        }
      ],
      "source": [
        "# Cantidad de veces quea aparece cada palabra en cada \"documento\"\n",
        "# (1 documento = 1 caso de entrada)\n",
        "print(tok.word_docs)"
      ]
    },
    {
      "cell_type": "markdown",
      "metadata": {
        "id": "ohS5Tao1d2KB"
      },
      "source": [
        "### 2 - Preprocesamiento completo\n",
        "Debemos realizar los mismos pasos que en el ejemplo anterior, pero antes de eso debemos transformar ese dataset de filas de oraciones en un texto completo continuo para poder extraer el vocabulario."
      ]
    },
    {
      "cell_type": "code",
      "execution_count": null,
      "metadata": {
        "id": "63Z2-Se2t27r",
        "outputId": "e13a9bd9-ae5f-4b96-9e8a-0132ad2374cb",
        "colab": {
          "base_uri": "https://localhost:8080/"
        }
      },
      "outputs": [
        {
          "output_type": "execute_result",
          "data": {
            "text/plain": [
              "0       rocio vegetal mazola x 120 ml. manteca\n",
              "1               rocio vegetal natura x 120 ml.\n",
              "2      rocio vegetal mazola x 120 ml. original\n",
              "3      rocio vegetal de girasol lira x 120 gr.\n",
              "4     rocio vegetal fritolim x 120 ml. clasico\n",
              "5         rocio vegetal natura x 120 ml. oliva\n",
              "6              aceite de soja sojola x 900 ml.\n",
              "7                aceite de soja sojola x1.5lt.\n",
              "8         aceite de girasol legitimo x 1,5 lt.\n",
              "9             aceite de girasol lira x 900 ml.\n",
              "10     aceite copisi x 900 ml. girasol y oliva\n",
              "11     aceite natura x 900 ml. girasol y oliva\n",
              "12        aceite de girasol familiar x 1,5 lt.\n",
              "13            aceite de girasol lira x 1,5 lt.\n",
              "14              aceite de maiz arcor x 890 ml.\n",
              "Name: descripcion, dtype: object"
            ]
          },
          "metadata": {},
          "execution_count": 31
        }
      ],
      "source": [
        "# Vistazo a las primeras filas\n",
        "dfProductos.iloc[:15,0]"
      ]
    },
    {
      "cell_type": "code",
      "execution_count": null,
      "metadata": {
        "id": "kILsSoxTuHEr",
        "outputId": "681637f6-4eb1-4bd3-beec-a8f4c6fa0098",
        "colab": {
          "base_uri": "https://localhost:8080/",
          "height": 89
        }
      },
      "outputs": [
        {
          "output_type": "execute_result",
          "data": {
            "text/plain": [
              "'rocio vegetal mazola x 120 ml. manteca rocio vegetal natura x 120 ml. rocio vegetal mazola x 120 ml. original rocio vegetal de girasol lira x 120 gr. rocio vegetal fritolim x 120 ml. clasico rocio vegetal natura x 120 ml. oliva aceite de soja sojola x 900 ml. aceite de soja sojola x1.5lt. aceite de girasol legitimo x 1,5 lt. aceite de girasol lira x 900 ml. aceite copisi x 900 ml. girasol y oliva aceite natura x 900 ml. girasol y oliva aceite de girasol familiar x 1,5 lt. aceite de girasol lira x 1,5 lt. aceite de maiz arcor x 890 ml. aceite de oliva morixe x 500 ml. aceite de oliva mazola x 500 ml. aceite de oliva extra virgen cocinero x 500 ml. suave aceite de oliva natura x 500 ml. intenso aceite de oliva cocinero puro x 500 ml. aceite de oliva extra virgen lira x 500 ml. aceite de oliva terranova extra virgen x 500 ml. aceite de oliva extra virgen cocinero x 500 ml. aceite de oliva suave casalta x 250 ml. aceite de oliva medio casalta x 250 ml. aceite de oliva natura x 500 cc. intenso aceite de oliva extra virgen altavia x 250 ml. aceite de oliva extra virgen la posta del olivo x 250 ml. aceite de oliva extra virgen nucete x 500 ml. aceite de oliva la toscana con ajo x 250 ml. aceite de oliva con limon la toscana x 250 ml. aceite oliva la riojana extra virgen x 500 ml. aceite de oliva viridian extra virgen x 500 ml. aceite de olviva altavia extra virgen lata x 500 ml. aceite de oliva extra virgen la toscana x 500 ml. aceite de oliva la posta del olivo x 500 ml. aceite de oliva familia zuccardi x 250 ml. variedad arauco aceite de oliva familia zuccardi x 250 ml. variedad changlot aceite de oliva familia zuccardi variedad picual x 250 ml. aceite de oliva extra virgen casalta x 400 ml. aceite de oliva casalta medio x 400 ml. aceite de olvia extra virgen altavia x 500 ml. tradicional aceite de olviva terranova extra virgen x 1 lt. aceite de oliva natura x 1 lt. intenso aceite de oliva natura extra virgen x 1 lt. aceite de oliva zuelo intenso x 500 ml. aceite de oliva zuelo suave x 500 ml. aceite de oliva marvavic extra virgen x 500 ml. aceite de oliva zuelo intenso lata x 500 ml. aceite de oliva viridian clasico x 2 lts. aceto balsamico dos anclas x 250 ml. aceto balsamico morixe x 250 ml. aceto balsamico favinco x 250 ml. aceto espeso favinco x 250 ml. ahumado aceto balsamico favinco x 500 ml. aceto balsamico casalta glaze reduccion x 250 ml. curry aceto espeso favinco x 500 ml. ahumado aceto balsamico casalta clasico x 400 ml. aceto balsamico tipo reduccion cocinero x 500 ml. aceto balsamico casalta manzana x 400 ml. aceto balsamico reduccion la toscana x 250 ml. aceto balsamico viridian x 250 ml. aceto balsamico casalta tipo reduccion x 400 ml. aceto balsamico marvavic x 250 ml. vinagre de alcohol dos anclas x 500 ml. vinagre de alcohol casalta x 500 ml. vinagre de vino favinco x 500 ml. vinagre de alcohol marvavic x 500 ml. vinagre de vino dos anclas x 500 ml. vinagre de alcohol favinco x 1 lt. vinagre de vino marvavic x 500 ml. vinagre de manzana marvavic x 500 ml. vinagre de vino casalta x 500 ml. vinagre de alcohol dos anclas x 1 lt. vinagre de alcohol marvavic x 1 lt. vinagre de manzana favinco x 500 ml. vinagre de vino marvavic x 1 lt. vinagre de manzana marvavic x 1 lt. vinagre de vino favinco x 1 lt. vinagre de vino dos anclas x 1 lt. vinagre de vino casalta x 1 lt. aceto balsamico cocinero x 250 ml. modena vinagre de manzana dos anclas x 1 lt. vinagre de manzana favinco x 1 lt. vinagre de manzana casalta x 1 lt. aceto balsamico casalta x 250 ml. clasico aceto balsamico la toscana x 250 ml. aceto balsamico tipo reduccion casalta x 250 ml. aceto balsamico la toscana x 250 ml aceto balsamico casalta ahumado x 400 ml. aceitunas marvavic verdes con carozo x 100 gr. aceitunas marvavic negras con carozo x 100 gr. aceitunas negras en salmuera nucete sachet x 190 gr. aceitunas marvavic verdes descarozadas x 100 gr. aceitunas marvavic verdes en rodajas x 100 gr. aceitunas marvavic negras sin carozo x 100 gr. aceitunas verdes rellenas con morron nucete x 190 gr. aceitunas marvavic verdes en salmuera x 100 gr. aceitunas marvavic verdes fileteadas x 200 gr. aceitunas marvavic verdes descarozadas en salmuera x 80 gr. pasta de aceitunas verdes marvavic x 280 gr. aceitunas marvavic negras en salmuera x 100 gr. aceitunas marvavic negras griegas x 100 gr. aceitunas verdes en rodajas marvavic x 140 gr. doy pack aceitunas marvavic rellenas con morrones en salmuera x 100 g aceitunas verdes marvavic x 160 gr. doy pack aceitunas verdes con carozo nucete sachet x 300 gr. aceitunas verdes nucete doy pack x 330 gr. aceitunas rellenas c/morron marvavic x 150 gr. doy pack aceitunas verdes descarozadas nucete sachet x 300 gr. aceitunas negras enteras marvavic x 180 gr. aceitunas marvavic verdes descarozadas x 300 gr. aceitunas negras nucete doy pack x 180 gr. aceitunas nucete verdes en rodajas en salmuera x 300 gr. aceitunas negras en rodajas nucete x 300 gr. aceitunas marvavic en trozos con pimiento p/pizza x 300 gr. aceitunas marvavic verdes rellenas x 100 gr. aceitunas marvavic negras x 180 gr. aceitunas rellenas marvavic c/morron x 370 gr. pasta de aceitunas negras marvavic x 300 gr. pasta de aceitunas verdes marvavic x 300 gr. aceitunas marvavic verdes en salmuera x 330 gr. aceitunas verdes con carozo nucete frasco x 330 gr. aceitunas verdes en rodajas marvavic x 180 gr. aceitunas nucete negras con carozo x 200 gr. aceitunas nucete verdes descarozadas x 160 gr. aceitunas verdes nucete descarozadas light x 180 gr. pasta de aceitunas verdes con ajo nucete x 190 gr. pasta de aceitunas negras nucete x 190 gr. pasta de aceitunas verdes nucete x 190 gr. pasta de aceitunas negras con ajo nucete x 190 gr. aceitunas verdes nucete premium x 220 gr. aceitunas rellenas c/morron marvavic x 200 gr. aceitunas negras s/carozo nucete light x 360 gr. aceitunas verdes descarozadas nucete premium x 360 gr. aceitunas negras en salmuera marvavic x 200 gr. aceitunas verdes rellenas nucete premium x 360 gr. aceitunas rellenas con pasta de ajo nucete x 330 gr. aceitunas rellenas con pasta de cebolla nucete x 330 gr. pasta de aceitunas verdes con jalapenos nucete x 330 gr. aceitunas marvavic verdes en salmuera x 420 gr. aceitunas marvavic descarozadas con pickles x 330 gr. pickles marvavic x 100 gr. lupinos marvavic x 100 gr. pickles marvavic mixtos en vinagre de alcohol x 100 gr. lupinos en salmuera marvavic x 100 gr. pickles en vinagre marvavic x 150 gr. pickles mixtos en vinagre nucete x 300 gr. cebollitas blancas en vinagre de alcohol marvavic x 100 gr. cebollitas en vinagre nucete x 300 gr. pimientos en vinagre marvavic x 150 gr. pickles marvavic en vinagre de alcohol x 200 gr. pickles nucete en vinagre frasco x 220 gr. ajies en vinagre nucete x 330 gr. cebollitas blancas en vinagre de alcohol marvavic x 200 gr. pickles marvavic en vinagre de alcohol x 420 gr. porotos pallares en escabeche condimentados marvavic x 220gr aderezo para ensaladas dos anclas clasico light x 500 ml aderezo para ensaladas vanoli x 500 ml. sabor oliva aderezo para ensaladas vanoli x 500 ml. clasico chimichurri vanoli x 190 ml. salsa de soja vanoli x 190 ml. chimichurri vanoli x 350 ml. clasico chimichurri vanoli x 350 ml. ahumado salsa de soja vanoli x 500 ml. salsa de aji suave vanoli x 190 ml. salsa de hongos vanoli x 190 ml. salsa de ajo vanoli x 190 ml. salsa inglesa vanoli x 180 ml. chimichurri dos anclas x 310 gr. salsa de soja vanoli x 1 lt. salsa caesar tau x 300 gr. salsa caesar tau light x 310 gr. salsa aderezo para carnes big tau x 300 gr. salsa tipo inglesa dos anclas x 410 gr. salsa caesar dos anclas light x 360 gr. salsa spicy dos anclas x 360 gr. salsa dos anclas alioli x 340 gr. salsa chimichurri casalta x 300 gr. salsa caesar casalta x 285 gr. salsa de soja cocinero x 500 ml. salsa sabor queso parmesano dos anclas x 360 gr. salsa de soja tradicional dos anclas x 500 gr. jugo de limon minerva x 500 ml. jugo de limon dos anclas x 500 ml. jugo de limon marvavic x 500 ml. jugo de limon dos anclas x 1 lt. ketchup la campagnola hot x 250 gr. ketchup vanoli x 390 gr. ketchup aleluya x 205 gr. mayonesa cada dia light x 250 gr. mayonesa danica d`fiesta x 250 gr. mayonesa danica x 250 gr. mayonesa cada dia light x 500 gr. mayonesa hellmann`s vegana x 250 gr. mayonesa hellmann`s x 237 gr. mayonesa hellmann`s receta casera x 232 gr. mayonesa hellmanns light doypack x 237 gr. mayonesa la campagnola bc x 250 grs. mayonesa natura x 250 gr. mayonesa heinz light x 200 gr. mayonesa con aceite de oliva mayoliva x 250 gr. mayonesa danica d`fiesta x 500 gr. mayonesa hellmann`s light x 475 gr. mayonesa hellmann`s receta casera x 320 gr. mayonesa hellmann`s x 475 gr. mayonesa bc la campagnola x 500 gr. mayonesa hellmann`s receta casera x 445 gr. mayonesa hellmann`s vegana x 500 gr. mayonesa hellmann`s light x 320 gr. mayonesa natura x 500 gr. mayonesa heinz light x 350 gr. mayonesa tau con ajo x 300 ml. mayonesa con aceite de oliva mayoliva x 500 gr. mayonesa danica d`fiesta x 1 kg. mayonesa danica x 1 kg. mayonesa hellmann`s x 950 gr. mayonesa natura x 950 gr. mostaza natura x 250 gr. mostaza savora x 250 gr. mostaza natura x 500 gr. mostaza savora x 500 gr. aderezo a base de mostaza aleluya x 180 gr. original mostaza aleluya fuerte x 200 gr. salsa barbacoa hellmann`s x 250 gr. salsa barbacoa la campagnola x 250 gr. salsa barbacoa vanoli x 390 gr. salsa barbacoa aleluya x 205 gr. salsa dos anclas x 425 gr. barbacoa salsa barbacoa tau x 340 gr. salsa barbacoa casalta x 350 gr. salsa golf danica x 220 gr. salsa golf natura x 250 gr. salsa golf hellmanns doypack x 250 gr. arroz largo fino tio quico x 500 gr. arroz largo fino maria x 500 gr. arroz maximo largo fino x 500 gr. arroz largo fino primor x 1 kg. arroz maximo parboil x 500 gr. arroz largo fino 00000 la egipciana x 500 gr. arroz doble carolina trimacer x 500 gr. arroz doble largo ancho tipo 00000 la egipciana x 500 gr. arroz mocovi x 500 gr. doble carolina arroz largo fino maria x 1 kg. arroz gallo largo fino x 1 kg. arroz integral trimacer x 1 kg. arroz preparado gallo x 240 gr. verdeo arroz preparado luchetti tomatado x 240 gr. arroz gallo doble carolina x 500 gr. arroz maximo largo fino x 1 kg. arroz maximo parboil x 1 kg. arroz gallo integral x 1 kg. arroz lucchetti jamas se pasa x 1 kg. arroz doble carolina trimacer x 1 kg. arroz doble carolina lucchetti x 1 kg. arroz gallo oro x 1 kg. parboil risotto primavera gallo x 240 gr. rocio vegetal lira oliva x 120 gr. maiz pisingallo las achiras x 400 gr. arvejas enteras la egipciana x 500 gr. maiz pisingallo la egipciana x 400 gr. porotos de soja la egipciana x 500 gr. maiz pisingallo la egipciana seleccion superior x 400 gr. maiz pisingallo don elio x 400 gr. arvejas partidas la egipciana x 400 gr. maiz amarillo pisado la egipciana x 400 gr. porotos alubia olinto x 400 gr. porotos de soja don elio x 500 gr. porotos alubias las achiras x 500 gr. trigo candeal pelado la egipciana x 400 gr. maiz pisingallo don elio x 400 gr. blanco semola don elio x 400 gr. porotos alubia don elio x 500 gr. arvejas partidas don elio x 400 gr. porotos negros la egipciana x 500 gr. porotos alubias la egipciana x 500 gr. maiz blanco pisado la egipciana x 400 gr. trigo burgol pelado triturado la egipciana x 400 gr. lentejas las achiras x 400 gr. porotos colorados la egipciana x 500 gr. garbanzos la egipciana x 400 gr. lentejas olinto x 400 gr. lentejas la egipciana x 400 gr. garbanzos la egipciana x 400 gr. lentejas don elio x 400 gr. lentejon michelon x 400 gr. lentejon olinto x 400 gr. lentejon la egipciana x 500 gr. lentejon don elio x 400 gr. lentejon la egipciana origen canada x 500 gr. porotos manteca la egipciana x 500 gr. porotos pallares las achiras x 500 gr. lentejas rojas peladas don elio x 400 gr. porotos pallares don elio x 500 gr. porotos pallares la egipciana x 500 gr. porotos pallares la egipciana seleccion superior x 500 gr. azucar la muneca x 1 kg. azucar bella vista x 1 kg. azucar comun chango x 1 kg. azucar chango organico x 1 kg. azucar chango en sobres x 100 unid. azucar impalpable jeraco x 200 gr. azucar impalpable jeraco x 400 gr. edulcorante cabrales x 50 sobres edulcorante en polvo tuy clasico x 50 sobres edulcorante en polvo tuy sweet x 50 sobres edulcorante en polvo tuy sucra x 50 sobres endulzante en polvo equalsweet de mesa x 50 sobres edulcorante en polvo tuy stevia x 50 sobres endulzante sucaryl stevia x 50 sobres edulcorante en polvo genser sweet x 50 unid. endulzante equalsweet stevia x 50 sobres edulcorante en polvo tuy clasico x 100 sobres edulcorante en polvo tuy sweet x 100 sobres endulzante sucaryl x 100 sobres edulcorante en polvo tuy sucra x 100 sobres endulzante en polvo equalsweet de mesa x 100 sobres edulcorante en polvo tuy stevia x 100 sobres edulcorante en polvo genser sweet x 100 unid. endulzante sucaryl stevia x 100 sobres edulcorante equalsweet stevia x 100 sobres edulcorante en polvo tuy clasico x 200 sobres edulcorante en polvo tuy sweet x 200 sobres edulcorante en polvo tuy sucra x 200 sobres edulcorante en polvo tuy stevia x 200 sobres edulcorante si diet x 250 ml. edulcorante liquido semble x 200 ml. edulcorante liquido equalsweet x 180 ml. endulzante sucaryl sucralosa x 180ml. edulcorante si diet x 600ml. edulcorante liquido chuker stevia x 200 ml. edulcorante liquido semble x 400 ml. edulcorante liquido chuker x 400 ml. edulcorante liquido equalsweet x 360 ml. edulcorante liquido chuker stevia x 400 ml. cacao toddy x 180 gr. cacao arcoa x 180 gr. cacao en polvo chocolino x 180 gr. cacao nesquik x 180 gr. cacao toddy extremo x 360 gr. cacao arcoa x 360 gr. cacao en polvo chocolino x 360 gr. cacao nesquik menos azucar x 300 gr. cacao nesquik original x 360 gr. cacao nesquik lata x 300 gr. cacao chocolino x 800 gr. cacao en polvo nesquik x 800 gr. cafe descafeinado nescafe decaf x 100 gr. cafe en capsulas la virginia equilibrado x 10 unid. cafe en capsulas la virginia sutil x 10 unid. cafe en capsulas la morenita colombia x 10 unid. cafe en capsulas la virginia espresso x 10 unid. cafe en capsulas cabrales colombia x 10 unid. cafe en capsulas la morenita tipo italiano x 10 unid. cafe en capsulas la morenita honduras x 10 unid. cafe en capsulas cabrales cappuccino x 6 unid. cafe en capsulas cabrales x 12 u. espresso cafe en capsulas cabrales cafe con leche x 12 unid. cafe en capsulas cabrales lungo x 12 unid. cafe en capsulas cabrales cortado x 12 unid. cafe en capsulas starbucks cappuccino x 12 u. cafe en capsulas starbucks americano x 12 unid cafe en capsulas starbucks macchiato vainilla x 12 unid. cafe en capsulas la virginia cappuccino x 8 unid. cafe en capsulas espressarte dimattina x 10 unid. cafe en capsulas espressarte passionato x 10 unid. cafe en capsulas nescafe dolce gusto x 16 u. cafe con leche cafe en capsulas nescafe dolce gusto x 16 u. cappuccino cafe en capsulas nescafe dolce gusto x 16 u. lungo cafe en capsulas nescafe dolce gusto x 16 u. espresso cafe en capsulas nescafe docle gusto x 16 u. cortado cafe en capsulas nescafe dolce gusto x 8 u. chai tea cafe en capsulas nescafe dolce gusto x 12 unid. colombia cafe en capsulas nescafe dolce gusto x 16 u. espresso int. cafe en capsulas nescafe dolce gusto chococino x 16 unid. cafe en capsulas starbucks espresso roast x 12 unid. cafe en capsulas starbucks pike place roast x 12 u. cafe en capsulas starbucks blonde espresso x 10 u. cafe en granos la virginia puro aroma x 500 gr. cafe en granos la morenita colombia x 500 gr. cafe en saquitos cabrales la planta de cafe x 18 unid. cafe en saquitos la morenita intenso x 20 unid. cafe en saquitos la virginia x 20 unidades cafe cabrales la planta x 18 saquitos capuccino instantaneo la virginia tradicional x 125 gr. capuccino instantaneo la morenita doy pack x 125 gr. capuccino bessone x 150 gr. cafe latte nescafe dolca x 125 gr. cappuccino la virginia mousse chocolate y avellanas x 155 gr cappuccino la virginia espuma de vainilla x 155 gr. cappuccino sabor dulce de leche la virginia x 155 gr. cafe instantaneo nestle cofee mate x 170 gr. liviano cafe instantaneo nestle cofee mate x 170 gr. original capuccino cabrales x 125 gr. cafe instantaneo la planta de cafe x 110 gr. suave cafe instantaneo nescafe dolca x 50 gr. cafe instantaneo nescafe dolca suave x 50 gr. cappuccino light nescafe dolca x 125 gr. cafe tipo cortado la virginia x 10 sobres cappuccino la virginia light x 10 sobres cappuccino nescafe dolca x 225 gr. cafe instantaneo la virginia seleccion x 100 gr. cafe instantaneo la planta frasco x 100 gr. cafe instantaneo la virginia x 36 sobres cafe instantaneo la morenita x 170 gr. cappuccino la virginia tradicional x 275 gr. cafe instantaneo la virginia suave x 170 gr. cafe instantaneo cabrales la planta x 170 gr. cafe instantaneo nescafe dolca x 100 gr. cafe instantaneo nescafe dolca suave x 100 gr. cafe instantaneo arlistan x 170 gr. cafe instantaneo nescafe tradicion x 100 gr. cafe instantaneo nescafe dolca suave doy pack x 170 gr. cafe instantaneo nescafe dolca doy pack x 170 gr. cafe la virginia instantaneo seleccion x 170 gr. cafe instantaneo nescafe dolca suave x 170 gr. nescafe dolca x 170 gr. nescafe espresso x 100 gr. cafe instantaneo nescafe espresso gold x 100 gr. cafe instantaneo nescafe gold alta rica x 100 gr. malta maltife x 125 gr. malta el pocillo x 125 gr. malta con leche el pocillo x 125 gr. malta maltife x 170 gr. malta maltife x 200 gr. malta el pocillo x 170 gr. malta el pocillo x 200 gr. malta instantanea el pocillo con leche x 170 gr. cafe molido cabrales la planta x 125 gr. cafe molido la virginia torrado clasico x 250 gr. cafe molido la morenita intenso x 250 gr. cafe molido super cabrales x 125 gr. cafe molido la morenita tipo italiano x 250 gr. cafe molido la morenita intenso x 500 gr. cafe molido torrado la virginia x 500 gr. cafe molido cabrales happy day brasil x 250 gr. cafe molido cabrales happy day x 260 gr. cafe molido cabrales peru x 250 gr. cafe tostado molido cabrales x 250 gr. colombia cafe molido starbucks colombia x 250 gr. cafe molido starbucks pike place medium roast x 250 gr. cafe molido starbucks house blend x 250 gr. cafe molido starbucks verona x 250 gr. cafe molido la virginia tostado x 500 gr. cafe molido la morenita intenso x 1 kg. cafe molido la morenita colombia x 500 gr. cafe molido cabrales vita x 250 gr. cafe molido cabrales prestige x 500 gr. cafe molido cabrales la planta x 1 kg. cafe molido super cabrales x 500 gr. barras cereal mix pasion de chocolate x 4 unid. barras de cereal georgalos flow x 6 unid. chips & almendras barras de cereal georgalos flow x 6 unid. frutos del bosque barras de cereal georgalos flow light x 6 unid. manzana barra quaker frutillas con crema x 6 unid. barra de cereal flow georgalos almendras y choco x 6 unid. barra de cereal flow georgalos almendras x 6 unid. cereal de arroz confitado con miel la egipciana x 100 gr. cereal de maiz confitado con miel la egipciana x 100 gr. cereal de trigo confitado con miel la egipciana x 100 gr. cereal mix granix x 160 gr. aritos de miel granix x 130 gr. aritos frutales granix x 130 gr. cereal guardianes del planeta x 150 gr. cocodrilo popcorn cereal guardianes del planeta x 150 gr. delfines vainilla copos de maiz azucarados skarchitos granix x 240 gr. cereal zoo cartoon x 180 gr. sabor chocolate bolitas de cereal de chocolate pura vida x 200 gr. cereal guardianes del planeta x 250 gr. tortugas chocolate bocaditos de cereales granix x 180 gr. bocaditos de cereales granix avena y trigo x 180 gr. anillos de cereal frutales pura vida x 200 gr. cereal cheerios x 210 gr. miel bocaditos de cereales y chocolate granix x 180 gr. c/limon bocaditos de cereales granix rellenos con frutilla x 180 gr. cereal kelloggs corn flakes x 200 gr. cereal zoo cartoon x 300 gr. sabor frutas cereal zucaritas sabor chocolate x 270 gr. cereal choco krispis pops x 165 gr. cereal cookie crisp x 220 gr. cereal zoo cartoon x 350 gr. sabor chocolate cereal granix fibra total con pasas x 400 gr. cereal nesfit x 220 gr. cereal froot loops x 175 gr. cereal quaker honey nut oats x 190 gr. cereal zucaritas x 300 gr. granola maizena x 180 gr. coco y semillas cereal musli kellogs x 270 gr. cereales con coco cereal frutal trix x 230 gr. cereal nesquik x 230 gr. cereal foot loops x 300 gr. granola granix x 350 gr. almendras y pasas cereal zucaritas x 510 gr. cereal nesquik x 350 gr. bicarbonato de sodio dos anclas x 25 gr. aji triturado alicante x 25 gr. condimento para arroz alicante x 25 gr. condimento alicante para pizza x 50 gr. condimento alicante para carnes x 25 gr. comino alicante x 25 gr. mezcla de especias knorr oriental x 35 gr. mezcla de especias knorr x 20 gr. finas hierbas mix de condimentos knorr caprese x 20 gr. condimento para pizza la campagnola x 25 gr. condimento para preparar chimichurri alicante x 25 gr. oregano alicante x25gr. condimento alicante para milanesas x 25 gr. condimento lucchetti rindetutti x 140 gr. bolsa para horno knorr tipo criollo x 21 gr. bolsa para horno knorr x 21 gr. limon y oregano condimento alicante x 25 gr. mix a las brasas condimento alicante x 25 gr. mix italiano condimento alicante x 25 gr. mix picante condimento alicante x 25 gr. mix criollo laurel triturado dos anclas x 25 gr. cebolla deshidratada knorr x 100 gr. espinaca deshidratada knorr x 50 gr. nuez moscada la campagnola x 25 gr. nuez moscada molida alicante x 25 gr. aji molido dos anclas x 50 gr. mix de condimentos knorr ahumado x 35 gr. comino molido dos anclas x 50 gr. comino molido alicante x 50 gr. oregano alicante x 50 gr. oregano alicante x50gr. morron deshidratado knorr x 75 gr. nuez moscada molida x 25gr. azafran alicante x 2 unid. pimenton alicante x 25 gr. provenzal alicante x25gr. tomillo la campagnola x 15 gr. saborizador knorr x 30 gr. tomate, cebolla y morron saborizador en polvo alicante x 4 u. verdura bajo en sodio saborizador en polvo alicante x 4 u. verdura pimienta blanca alicante x 25 gr. saborizador en polvo alicante x 4 unid. puerro saborizador alicante albahaca y ajo x 4 sobres saborizador en polvo alicante x 4 unid. finas hierbas saborizador en polvo alicante x 4 u. 4 quesos pimienta blanca en grano la campagnola x 25 gr. pimienta blanca molida dos anclas x 25 gr. zanahoria deshidratada knorr x 100 gr. saborizador y bolsa p/horno alicante albahaca y ajo saborizador y bolsa p/horno alicante x 27 gr. barbacoa saborizador p/horno alicante pollo c/finas hierbas saborizador p/horno alicante mostaza y miel x 30 gr. pimenton alicante x 50 gr. provenzal la campagnola x 50 gr. tomillo deshidratado dos anclas x 25 gr. provenzal alicante x 50 gr. provenzal alicante x 50 gr. provenzal dos anclas x 50 gr. pimienta blanca alicante molida x 50 gr. pimienta blanca en granos dos anclas x 50 gr. arvejas sin sal inalpa vida x 300 gr. choclo amarillo cremoso dona pupa x 340 gr. choclo blanco cremoso dona pupa x 340 gr. choclo blanco cremoso inalpa x 350 gr. arvejas don elio x 350 gr. arvejas noel x 300 gr. arvejas arcor x 300 gr. choclo amarillo cremoso inalpa x 300 gr. arvejas secas remojadas la egipciana x 350 gr. choclo amarillo cremoso inalpa vida x 300 gr. choclo amarillo cremoso inalpa x 350 gr. jardinera de hortalizas y legumbres arcor x 300 gr. choclo amarillo cremoso don elio x 300 gr. choclo cremoso amarillo don elio x 350 gr. jardinera inalpa vida x 350 gr. choclo cremoso blanco don elio x 350 gr. choclo amarillo entero noel x 300 gr. jardinera con choclo arcor x 300 gr. jardinera inalpa x 350 gr. jardinera con choclo la campagnola x 300 gr. choclo amarillo cremoso arcor x 300 gr. choclo amarillo cremoso noel x 300 gr. choclo amarillo inalpa x 380 gr. jardinera don elio x 350 gr. choclo amarillo inalpa vida x 350 gr. jardinera de hortalizas y legumbres la egipciana x 350 gr. choclo amarillo la egipciana x 300 gr. choclo cremoso amarillo gentleman x 410 gr. choclo amarillo entero don elio x 350 gr. choclo amarillo en granos gentleman x 340 gr. cerezas marvavic x 100 gr. peras en mitades alco x 820 gr. duraznos trozados alco x 820 gr. duraznos en almibar alco light x 820 gr. duraznos en mitades alco x 820 gr. coctel 4 frutas alco x 820 gr. coctel de 5 frutas alco x 820 gr. peras en mitades gentleman x 820 gr. pulpa de frutilla gentleman x 420 gr. cerezas al marraschino gentleman x 125 gr. ananas en rodajas comunes gentleman x 567 gr. ananas en trozos comunes gentleman x 825 gr. anana en rodajas caracas x 800 gr. jardinera la banda x 350 gr. porotos colorados inalpa x 350 gr. remolacha en cubos inalpa x 350 gr. porotos alubia arcor x 300 gr. soja remojada al natural la egipciana x 350 gr. lentejas arcor x 300 gr. garbanzos la campagnola x 300 gr. porotos inalpa x 300 gr. porotos alubia la campagnola x 300 gr. garbanzos secos remojados la egipciana x 350 gr. porotos secos remojados inalpa x 350 gr. garbanzos don elio x 300 gr. garbanzos arcor x 300 gr. lentejas secas remojadas la egipciana x 350 gr. porotos negros inalpa x 300 gr. jardinera inalpa x 300 gr. porotos colorados don elio x 350 gr. conserva de porotos alubia secos remojados la egipciana x350 porotos alubia don elio x 350 gr. dueto de arvejas y choclo inalpa x 300 gr. pimientos enteros caracas x 220 gr. porotos negros don elio x 300 gr. porotos negros la egipciana x 350 gr. porotos colorados la egipciana x 350 gr. conserva de porotos de manteca la egipciana x 350 gr. remolacha la egipciana x 350 gr. zanahoria en cubos la egipciana x 350 gr. porotos pallares secos remojados la egipciana x 350 gr. palmitos acapulco en trozos x 400 gr. palmitos enteros en agua y sal gentleman lata x 400 gr. palmitos enteros acapulco x 400 gr. champignones enteros caracas x 400 gr. corazones de alcauciles gentleman x 380 gr. palmitos enteros acapulco x 800 gr. corazones de alcauciles gentleman x 350 gr. palmitos trozados chicos acapulco x 800 gr. pate de foie paladini untable x 90 gr. picadillo de carne swift sabor picante x 90 gr. pate de foie swift x 90 gr. picadillo de carne swift x 90 gr. pate a la crema swift x 85 gr. jamon del diablo swift x 88 gr. pate de pollo swift x 85 gr. pate de salmon swift x 85 gr. pate de foie swift con pimienta verde x 85 gr. pate de foie swift con hongos x 85 gr. pate de jamon ahumado swift x 85 gr. pate de foie tipo provenzal swift x 85 gr. atun desmenuzado en aceite la campagnola x 170 gr. atun desmenuzado en aceite caracas x 170 gr. atun desmenuzado al natural caracas x 170 gr. sardinas en aceite nereida x 120 gr. sardinas en aceita y agua caracas x 125 gr. merluza en aceite puglisi x 380 gr. merluza al natural puglisi x 380 gr. calamares en aceite puglisi x 180 gr. cazuela de calamares puglisi x 380 gr. atun entero entero en aceite puglisi x 170 gr. atun entero en aceite puglisi x 170 gr. sin sal ensalada de atun en aceite y agua la campagnola x 180 gr. ensalada de atun en aceite de oliva la campagnola x 180 gr. caballa en salsa de tomate puglisi x 380 gr. caballa en aceite puglisi x 380 gr. atun en aceite la campagnola lata x 170 gr. caballa al natural caracas x 380 gr. filet de anchoas caracas x 90 gr. caballa en aceite caracas x 380 gr. caballa al natural la campagnola x 300 gr. atun en aceite la campagnola lata x 330 gr. filet de anchoas en aceite puglisi x 170 gr. palitos de maiz queth x 45 gr. copos de maiz con queso pedrin x 80 gr. palitos de maiz queth x 250 gr. copos de maiz con queso pedrin x 180 gr. cheetos sabor queso x 151 gr. palitos de maiz queth x 400 gr. manies fritos queth x 100 gr. manies tostados queth x 100 gr. mani pelado pehuamar x 110 gr. mani salado con piel mani king x 120 gr. mani tostado sin piel y sin sal mani king x 120 gr. mani salado la egipciana x 120 gr. pelado mani salado pedrin x 140 gr. mani tostado pedrin x 140 gr. mani pelado salado pedrin x 150 gr. mani repelado zyma x 150 gr. mani saborizado zyma x 150 gr. queso mani saborizado zyma x 150 gr. jamon mani saborizado zyma x 150 gr. pizza mani crocante sabor jamon mani king x 80 gr. mani crocante sabor queso mani king x 80 gr. mani japones sin sal maniax x 110 gr. mani japones sabor jamon pehuamar x 110 gr. mani con cascara la egipciana x 250 gr. manies queth fritos x 300 gr. manies queth tostados x 300 gr. manies queth repelados x 300 gr. mani tostado con piel la egipciana x 500 gr. mani con cascara mani king x 500 gr. mani pelado salado pedrin x 900 gr. palitos salados pedrin x 80 gr. palitos salados pedrin x 180 gr. papas fritas queth x 90 gr. papas fritas pehuamar x 145 gr. papas fritas pedrin x 70 gr. papas fritas pedrin a la provenzal x 90 gr. papas fritas pedrin a la crema x 70 gr. papas fritas pedrin jamon serrano x 70 gr. papas acanaladas pehuamar x 140 gr. papas fritas lays queso y cebolla x 85 gr. papas fritas lays clasicas x 94 gr. papas fritas lays queso y pimienta x 85 gr. papas fritas lays jamon serrano x 85 gr. papas fritas queth x 180 gr. papas fritas pedrin x 150 gr. papas fritas lays clasicas x 145 gr. papas pringles x 71 gr. queso papas pringles x 71 gr. cebolla y crema papas pringles x 67 gr. original papas fritas lays clasicas x 379 gr. papas fritas queth x 500 gr. papas fritas queth x 700 gr. bizcochos de arroz gallo x 100 gr. salados snacks de arroz gallo chips x 100 gr. queso snacks gallo chips x 100 gr. pizza pizzines pedrin x 70 gr. chalitas pedrin x 50 gr. conitos de queso pedrin x 70 gr. galletitas kesitas x 125 gr. galletitas rex estuche x 125 gr. snacks de arroz gallo sabor queso x 150 gr. snacks de arroz gallo chips x 150 gr. pizza surtido de snacks pedrin x 120 gr. doritos sabor queso x 140 gr. doritos sabor queso x 220 gr. nachos tostitos x 220 gr. dulce de batata caroyense x 100 gr. dulce de batata con chocolate en caja arcor x 100 gr. dulce de batata arcor x 100 gr. dulce de batata con chocolate en lata arcor x 100 gr. dulce de batata arcor en lata x 100 gr. dulce de batata en lata la campagnola x 100 gr. dulce de batata arcor x 180 gr. dulce de batata arcor x 500 gr. dulce de batata con chocolate arcor x 500 gr. dulce de batata la campagnola x 500 gr. dulce de batata la campagnola x 700 gr. dulce de leche ilolay x 205 gr. dulce de leche lechelita x 250 gr. dulce de leche tonadita x 250 gr. dulce de leche la paulina x 250 gr. dulce de leche tremblay x400gr dulce de leche lechelita x 360 gr. dulce de leche milkaut x 245 gr. dulce de leche rosquiniense x 400 gr. dulce de leche ilolay x 405 gr. dulce de leche tonadita x 400 gr. dulce de leche la serenisima colonial x 250 gr. dulce de leche tregar x 400 gr. dulce de leche la paulina x 400 gr. dulce de leche milkaut x 405 gr. dulce de leche la cremeria x 320 gr. dulce de leche la serenisima clasico x 400 gr. dulce de leche la serenisima colonial x 400gr. dulce de leche la serenisima tradicion argentina x 400 gr. dulce de leche rosquinense x 1 kg. dulce de leche milkaut x 1kg dulce de leche la paulina x 1 kg. dulce de leche la serenisima colonial x 1 kg. dulce de leche ser x 300 gr. dulce de leche repostero ilolay x 405 gr. dulce de leche rosquinense repostero x 500 gr. dulce de leche la paulina repostero x 400 gr. dulce de leche repostero milkaut x 405 gr. dulce de leche la serenisima repostero x 400 gr. dulce de leche ilolay repostero x 1 kg. dulce de leche milkaut repostero x 1kg. dulce de leche la paulina repostero x 1 kg. dulce de membrillo en caja dulcor x 100 gr. dulce de membrillo en caja arcor x 100 gr. dulce de membrillo en lata la campagnola x 100 gr. dulce de membrillo arcor x 180 gr. dulce de membrillo arcor x 500 gr. dulce de membrillo la campagnola x 500 gr. dulce de membrillo la campagnola x 700 gr. mermelada de ciruela dulcor x 500 gr. mermelada de ciruela dulcor frasco x 454 gr. mermelada de damasco dulcor x 500 gr. mermelada de durazno dulcor x 500 gr. mermelada de durazno dulcor x 454 gr. mermelada de damasco caroyense x 454 gr. mermelada caroyense x 454 gr. durazno mermelada de damasco noel x 454 gr. mermelada de durazno arcor x 454 gr. mermelada de frutilla dulcor x 500 grs. mermelada de frutilla dulcor x 454 gr. mermelada de frutilla noel x 454 gr. mermelada de frutilla arcor x 454 gr. mermelada patagonia x 350 gr. frutilla mermelada de naranja dulcor x 454 gr. mermelada de naranja arcor x 454 gr. mermelada de naranja noel x 454 gr. mermelada caroyense x 454 gr. frutos del bosque mermelada de tomate la campagnola x 454 gr. mermelada de membrillo la campagnola x 454 gr. mermelada de arandano la campagnola x 454 gr. mermelada patagonia x 350 gr. zarzamora mermelada patagonia x 350 gr. frambuesa mermelada caroyense light x 390 gr. ciruela mermelada de ciruela cormillot light x 390 gr. mermelada de ciruela noel light x 390 gr. mermelada de ciruela bc la campagnola x 390 gr. mermelada de durazno dulcor light x 420 gr. mermelada de damasco cormillot light x 390 gr. mermelada cormillot light x390gr. durazno mermelada de durazno bc x 390 gr. mermelada noel light x 390 gr. damasco mermelada de durazno arcor light x 390 gr. mermelada de frutilla dulcor light x 420 gr. mermelada de frutilla cormillot light x 390 gr. mermelada de frutilla light caroyense x 390 gr. mermelada de frutilla light arcor x 390 gr. mermelada de frutilla patagonia light x 265 gr. mermelada de naranja caroyense light x 390 gr. mermelada de naranja cormillot light x 390 gr. mermelada de naranja noel light x 390 gr. mermelada cormillot light x390gr. arandanos mermelada cormillot light x390gr. higo mermelada caroyense light x 390 gr. kiwi mermelada bc la campagnola x 390 gr. frutos rojos mermelada de arandanos bc light x 390 gr. mermelada patagonia light x 265 gr. arandanos mermelada cormillot light s/azucar durazno x 390 gr. mermelada arcor sin azucar x 390 gr. durazno mermelada cormillot light s/azucar frutilla relleno untable cofler block x 290 gr. pasta de avellanas y chocolate aguila nut x 290 gr. miel con jugo de limon aleluya x 250 gr. miel con jugo de naranja aleluya x 250 gr. pasta de mani natural mani king x 485 gr. pasta de mani la egipciana x 410 gr. pasta de avellanas y chocolate nutella x 350 gr. miel untable aleluya sin tacc x 500 gr. pasas de uva morocha sultanina s/semillas x 100 gr. pasas de uva rubia sultanina s/semillas x 100 gr. pelones elegidos medianos x 100 gr. nueces grandes c/cascara x 100 gr. frutas glaseadas x 100 gr. ciruelas d`agen c/carozo x 100 gr. pasas de uva sin semillas zyma x 150 gr. higos secos negros medianos x 100 gr. ciruelas nueva estrella presidente sin carozo x 100 gr. peras en mitades medianas x 100 gr. mix tropical nueva estrella x 100 gr. mix tropical nueva estrella x 80 gr. mix de frutos secos la nueva estrella x 80 gr. medallones durazno medianos x 100 gr. pasas de uva rubias zyma x 150 gr. nueces blancas sin cascara x 100 gr. almendras sin cascara la nueva estrella x 80 gr. tomate desecado x 100 gr. mix de frutas tropicales zyma x 150 gr. almendras sin cascara x 100 gr. nueces peladas mariposa zyma x 90 gr. semillas de chia zyma x 180 gr. mix de frutas secas natural break desayuno x 120 gr. ciruelas sin carozo zyma x 250 gr. mix de frutos secos zyma x 150 gr. nueces la egipciana medianas elegidas con cascara x 250 gr. almendras peladas zyma x 150 gr. almendras peladas zyma x 300 gr. castanas de caju zyma x 300 gr. almidon de maiz chango x 220 gr. harina de maiz tradicional la egipciana x 500 gr. harina de maiz don elio x 500 gr. coccion rapida harina de maiz la egipciana 1 minuto x 500 gr. harina de maiz la egipciana x 750 gr. harina de maiz pesto pronta x 250 gr. espinaca a la crema harina de maiz pesto pronta x 250 gr. panceta y queso harina de maiz la egipciana 1 minuto x 750 gr. almidon de maiz maizena x 250 gr. harina de maix don elio x 1 kg. tradicional polenta instantanea presto pronta x 500 gr. harina de maiz presto pronta con leche x 250 gr. almidon de maiz chango x500gr. harina de maiz presto pronta x 750 gr. almidon de maiz maizena x 550 gr. premezcla para pan casero blancaflor x 300 gr. premezcla para pizza blancaflor x 400 gr. premezcla para pan y pizza maizena sin tacc x 500 gr. premezcla para noquis de papa blancaflor x 350 gr. premezcla para noquis maizena sin tacc x 400 gr. premezcla para tapas de alfajor maizena sin tacc x 400 gr. premezcla sin tacc para noquis de papa arcor x 400 gr. premezcla para chipa blancaflor x 250 gr. premezcla para noquis lucchetti x 500 gr. fecula de mandioca morixe x 1 kg. avena tradicional morixe x 300 gr. semola vitina clasica x 250 gr. avena arrollada tradicional don elio x 400 gr. avena arrollada la egipciana x 300 gr. semola la egipciana seleccion superior x 400 gr. avena instantanea la egipciana x 300 gr. avena instantanea don elio x 400 gr. avena tradicional morixe x 600 gr. avena instantanea quaker x 380 gr. avena tradicional quaker x 470 gr. harina 0000 morixe x 1 kg. harina para pizzas caseras morixe x 1 kg. harina de trigo 0000 morixe fortivac x 1 kg. harina 0000 blancaflor x 1 kg. harina favorita 0000 x 1 kg. harina de trigo 0000 ultra refinada x 1 kg. harina leudante morixe maru botana x 1 kg. harina integral leudante pureza x 1 kg. huevos doble a x 6 unid. blancos huevos blancos avicola carcarana x 6 unid. huevos castanos avicola carcarana x 1/2 docena huevos doble a x 6 unid. color huevos blancos avicola norte premium x 6 unid. huevos castanos avicola norte premium x 6 unid. huevos seleccionados blancos av. carcarana x 12 u. huevos de color avicola carcarana x 12 unid. huevos blancos avicola norte premium x 12 unid. premezcla p/bizcochuelo exquisita 1 min. x 60 gr. chocolate polvo p/bizcochuelo favorita x 450 gr. chocolate polvo p/preparar cookies exquisita sabor vainilla x 300 gr. polvo p/preparar cookies exquisita sabor chocolate x 300 gr. polvo p/bizcochuelo morixe vainilla x 540 gr. polvo p/bizcochuelo morixe chocolate x 540 gr. polvo p/preparar bizcochuelo exquisita vainilla x540gr. polvo p/bizcochuelo maizena x 500 gr. vainilla polvo p/ bizcochuelo godet x 480 gr. vainilla polvo p/preparar bizcochuelo maizena x 500 gr. chocolate polvo p/bizcochuelo royal x 500 gr. chocolate polvo p/preparar bizcochuelo exquisita chocolate x 540 gr. bizc.maizena x500gr.brownie polvo p/preparar bizcochuelo exquisita brownie x 425 gr. premezcla para bizcochuelo sin tacc arcor x 500 gr. vainilla polvo p/bizcochuelo arcor sin tacc x 500 gr. chocolate polvo p/ bizcochuelo godet x 480 gr. marmolado polvo p/ bizcochuelo godet x 480 gr. chocolate premezcla p/bizcochuelo aguila x 450 gr. torta chips polvo p/bizcochuelo aguila torta humeda x 450 gr. polvo p/bizcochuelo exquisita x 425 gr. lemonies premezcla p/bizcochuelo s/tacc exiquista x 450 gr. vainilla flan royal x 60 gr. vainilla flan exquisita x 40 gr. vainilla flan godet dulce de leche x 30 gr. flan godet vainilla x 30 gr. flan royal light vainilla x16gr. gelatina royal sin sabor x14gr gelatina sabor frutilla exquisita x 25 gr. light gelatina sabor frutilla exquisita x 40 gr. gelatina exquisita durazno x 40 gr. gelatina royal x 40 gr. cereza gelatina godet durazno x 25 gr. gelatina godet frutilla x 25 gr. gelatina mogul frutilla x 25 gr. gelatina mogul cereza x 25 gr. gelatina bc cereza x 20 gr. gelatina bc durazno x 20 gr. gelatina bc frutilla x 20 gr. gelatina royal light x 25 gr. cereza gelatina royal light x 25 gr. frutilla polvo para preparar helado exquisita x 52 gr. dulce de leche polvo para preparar helado exquisita x 52 gr. vainilla postre royal x 75 gr. dulce de leche mousse royal manjares light x 40 gr. chocolate postre godet dulce de leche x 60 gr. postre godet chocolate x 60 gr. postre godet vainilla x 60 gr. postre exquisita dulce de leche x 80 gr. postre bc limon a la crema x 50 gr. postre bc vainilla x 50 gr. postre royal light x 50 gr. chocolate polvo para preparar crema chantilly royal x 50 gr. pure de papas instantaneo nestle chef x 100 gr. pure de papas knorr x 125 gr. pure instantaneo maggi receta original x 125 gr. pure de papas maggi x 100 gr. finas hierbas pure de papas knorr x 200 gr. pure de papas maggi x 200 gr. original polvo para hornear royal x 50 gr. esencia artificial de vainilla alicante x 100 ml. esencia artificial de vainilla dos anclas x 100 ml. canela de ceylan alicante x20gr. en rama canela en polvo chango x 40 gr. bano de reposteria georgalos x 150 gr. leche bano de reposteria georgalos x 150gr. semiamargo bano de resposteria aguila chocolate blanco x 150 gr. bano de reposteria aguila semiamargo x 150 gr. bano de reposteria aguila con leche x 150 gr. bano de reposteria aguila x 150 gr. color celeste crema de mani bon o bon x 290 gr. bano de reposteria aguila 3 en 1 x 290 gr.r. chips de chocolate chocolitos aguila x 150 gr. salsa aguila charlotte x320gr. sal entrefina tresal paquete laminado x 1 kg. sal entrefina tresal estuche x 1 kg. sal celusal entrefina x500gr.paquete sal entrefina para parrilla dos anclas caja x 500 gr. sal entrefina para parrilla celusal x 1 kg. sal entrefina para parrilla dos anclas caja x 1 kg. sal entrefina dos anclas x 1kg. sal entrefina para parrilla celusal estuche x 1 kg. sal entrefina tresal salero x 750 gr. sal entrefina dos anclas salero x 500 gr. sal fina tresal paquete laminado x 500 gr. sal fina dos estrellas x 500 gr. sal dos anclas fina x 500gr. sal fina corrediza celusal x 500 gr. sal fina corrediza celusal plus adicionada c/hierro x 500g. sal fina celusal con pico vertedor x 500 gr. sal fina dos anclas estuche x 500 gr. sal fina tresal salero x 100 gr. salero celusal fina x 100gr. sal fina celusal plus estuche x 500 gr. salero celusal fina x 250gr. sal fina dos anclas salero x 250 gr. sal fina dos anclas salero x 500 gr. sal fina celusal salero x 500 gr. sal fina dos anclas x 500 gr. salero vintage sal dos anclas x 200 gr. con hierbas sal dos anclas x 200 gr. con especias sal fina dos anclas x 200 gr. con ajo sal fina dos anclas x 200 gr. con curry sal dos anclas light x 200 gr. con especias sal gruesa dos anclas caja x 500 gr. sal celusal gruesa x500gr.paquete sal gruesa tresal paquete laminado x 1 kg. sal gruesa tresal estuche x 500 gr. sal gruesa celusal estuche x 1 kg. sal gruesa dos anclas caja x 1 kg. sal gruesa celusal x 1 kg. sal gruesa dos anclas x 1kg. sal gruesa tresal salero x 500 gr. sal gruesa dos anclas salero x 500 gr. sal fina tresal light salero x 100 gr. sal fina dos anclas light salero x 100 gr. sal fina modificada 66 % menos sodio genser salero x 90 gr. sal fina light tresal salero x 250 gr. salero celusal fina light x235 sal fina modificada dos anclas light c/menos sodio x 500 gr. sal fina tresal light estuche x 500 gr. sal fina modificada 66 % menos sodio genser salero x 300 gr. sal fina modificada c/magnesio genser sport salero x 300 gr. salero celusal fina light x470 sal fina dos anclas light salero x 250 gr. sal fina light tresal salero x 500 gr. sal dos anclas light x 200 gr. con hierbas pure de tomate de la huerta x 210 gr. pure de tomate arcor x 210 gr. pure de tomates arcor x 530 gr. pure de tomate baggio de la huerta x 530 gr. pure de tomates la campagnola tetra pack x 520 gr. pure de tomates salsati x 520 gr. salsa lista cica x 340 gr. filetto salsa lista para pizza cica x 340 gr. salsa knorr pomarola x 340 gr. salsa lista knorr x 340 gr. filetto salsa lista arcor x 340 gr. tuco salsa lista arcor x 340 gr. portuguesa salsa lista arcor x 340 gr. italiana salsa lista arcor x 340 gr. pomarola salsa para pizza arcor x 340 gr. salsa lista la campagnola x 340 gr. pizza salsa lista la campagnola x 340 gr. pomarola salsa lista la campagnola x 340 gr. italiana salsa lista la campagnola x 340 gr. filetto salsa lista knorr x 340 gr. napolitana salsa vanoli x340gr. pizza salsa vanoli x340gr. pomarola salsa para pizza vanoli cormillot light x 340 gr. salsa pomarola vanoli cormillot light x 340 gr. polvo p/preparar salsa blanca alicante x 40 gr. salsa deshidratada alicante cuatro quesos x 4 sobres salsa de champignones alicante x 35 gr. tomate triturado ballesta x 950 gr. pulpa de tomates ballesta x 950 gr. tomates peritas pelados enteros arcor x 400 gr. tomate pelado cubeteado la campagnola x 400 gr. tomates pelados peritas enteros salsati x 400 gr. tomates cubeteados salsati x 400 gr. tomates peritas gentleman x 400 gr. caldo maggi verdura x 6 unid. caldo knorr gran verd balancx4 caldo de verduras knorr x 6 cubos caldo knorr gallina x 6 unid. caldo maggi x 12 unid. carne caldo sabor gallina maggi receta casera x 12 unid. caldo de verduras maggi x 12 unid. caldo knorr carne x 12 unid. caldo sabor gallina knorr x 12 cubos sopa crema knorr verduras x 60 gr. sopa de vegetales con municiones knorr x 78 gr. sopa de pollo knorr con dedalitos integrales x 80 gr. sopa crema knorr arvejas con chile chipotle x 64 gr. sopa de vegetales knorr con fideos de letras x 107 gr. sopa de pollo knorr con cabellos de angel x 105,6 sopa crema knorr cebolla con pimienta x 65 gr. sopa crema knorr zapallo con nuez moscada x 70 gr. sopa de vegetales con caracolitos tricolor knorr x 107 gr. caldo de verduras knorr balance x 12 unid. caldo sabor gallina knorr balance x 12 cubos sopa knorr quick x 63 gr. zapallo sopa knorr quick x 63 gr. vegetales sopa knorr quick light x 50 gr. zapallo sopa lista knorr quick light vegetales x 5 sobres sopa knorr quick x 63 gr. choclo y perejil te pajaro azul x 25 saquitos te clasico la virginia x 25 sobres te taragui x 25 saquitos te la morenita x 25 saquitos te verde la virginia x 20 saquitos te rojo la virginia x 20 saquitos te la virginia x 50 saquitos te taragui x 50 saquitos te la morenita x 50 saquitos te clasico virgin islands x 25 saquitos te taragui internacional x 25 saquitos te virgin islands earl grey x 25 saquitos te cachamai o`clock x 20 saq. earl grey te la morenita edicion 1890 x 100 saquitos te la virginia x 100 saquitos te virgin islands x 50 saquitos te twinings earl grey x 10 saquitos te twinings indian chai x 10 saquitos te twinings lady grey x 10 saquitos te twinings prince of wales x 10 saquitos te taragui hebras blend x 180gr. te la morenita manzanilla x 20 saquitos te cachamai sabor menta x 20 saquitos te verde cachamai x 20 saquitos te cachamai mezcla de hierbas x 20 saquitos te cachamai rosa mezcla de hierbas x 20 saquitos te cachamai sabor manzanilla x 20 saquitos te la morenita hierbas naturales x 20 saquitos te la morenita boldo x 20 saquitos te la virginia manzanilla x 20 saquitos te verde la virginia con jazmin x 20 saquitos te la virginia menta peperina x 20 saquitos te de manzanilla taragui x 25 saquitos ensobrados te la virginia verde citrus x 20 saquitos te cachamai de boldo x 20 unid. en saquitos ensobrados te taragui hierbas silvestres x 25 saq. te la virginia x 20 saquitos. manzanilla con anis te la virginia x 20 saquitos. mezcla de hierbas te la virginia sabor limon x 25 saquitos te la virginia con canela x 25 saquitos te la virginia boldo x 25 saquitos te la virginia chai x 20 saquitos te de boldo taragui silvestre x 25 saquitos ensobrados te la virginia sabor frutilla x 20 saquitos te taragui ensuenos hierbas silverstres x 25 saquitos te verde cachamai x 20 saq. sabor grosella negra te verde cachamai x 20 saq. sabor frutilla te verde cachamai x 20 saq. sabor mandarina te la virginia sabor frutas tropicales x 25 saquitos te la virginia mandarina-naranja-pomelo x 20 saq. te la virginia sabor manzana con canela x 25 saquitos te la virginia maracuya x 20 saquitos te la virginia tilo, manzanilla y cedron x 25 saquitos te la morenita tilo x 20 saquitos te cachamai de tilo x 20 unid. en saquitos ensobrados te taragui x 20 saq. manzana, canela y miel te cachamai o`clock x 20 saq. t negro, hibiscus, rosa m, can te cachamai o`clock x 20 saq. t negro, choco, vainill, nrnja te de tilo taragui x 25 saquitos ensobrados te de boldo big ben x 25 saquitos te la virginia x 20 saquitos. tilo te taragui verde x 40 saquitos te la virginia boldo x 50 saquitos te twinings limon y jengibre x 10 saquitos te twinings manzanilla x 10 saquitos te twinings menta x 10 saquitos yerba mate taragui x 250 gr. yerba mate mananita x 250 gr. yerba mate union x 250 gr. yerba mate rosamonte cierre zip x 250 gr. yerba mate chamigo naranja x 500 gr. yerba mate elaborada con palo rosamonte x 500 gr. yerba mate rosamonte suave x 250 gr. yerba mate playadito x 500 gr. suave yerba mate pajaro azul x 500 gr. yerba mate salus x 500 gr. yerba mate nobleza gaucha seleccion x 500 ml. yerba mate adelgamate x 500 gr. yerba mate mananita 4 flex x 500 gr. yerba rosamonte suave plus x 500 gr. yerba mate amanda seleccion especial x 500 gr. yerba mate amanda campo x 500 gr. yerba mate cruz de malta x 500 gr. yerba mate union liviana x 500 gr. yerba mate taragui bcp x 500 gr. yerba mate rosamonte edicion fundacion favaloro x 500 gr. yerba rosamonte especial x 500 gr. yerba mate playadito x 500 gr. despalada yerba mate taragui sin palo x 500 gr. yerba rosamonte despalada x 500 gr. yerba mate la merced barbacua x 500 gr. yerba mate la merced de monte x 500 gr. yerba mate la merced x 500 gr. de monte yerba mate la merced campo sur x 500 gr. yerba mate la merced campo x 500 gr. yerba mate cachamate hierbas serranas x 1 kg. yerba mate union 4 flex x 1 kg. yerba mate taragui 4 flex x 1 kg. yerba mate pajaro azul x 1 kg. yerba mate salus x 1 kg. yerba mate amanda campo x 1 kg. yerba mate amanda seleccion especial x 1 kg. yerba mate playadito suave x 1 kg. yerba mananita 4 flex x 1 kg. yerba mate cruz de malta tradicional x 1 kg. yerba mate rosamonte suave plus x 1 kg. yerba mate taragui bcp x 1 kg. yerba mate union liviana x 1 kg. yerba mate rosamonte fundacion favaloro x 1 kg. yerba mate rosamonte despalada x 1 kg. yerba mate rosamonte suave seleccion especial x 1kg. mate cocido union x 25 saquitos mate cocido pajaro azul x 25 saquitos mate cocido litoral x 25 saquitos mate cocido taragui x 25 saquitos mate cocido rosamonte x 25 saquitos yerba mate yer-vita x 25 saquitos sin ensobrar mate cocido cachamate x 25 saquitos mate cocido union x 50 saquitos mate cocido nobleza gaucha x 50 saquitos mate cocido taragui ni$os vainilla y miel x 20 saquitos mate cocido taragui x 50 saquitos mate cocido litoral x 50 saquitos mate cocido rosamonte x 50 saquitos yerba mate yer-vita en saquitos x 50 unid. mate cocido litoral x 50 sobres ensorbados mate cocido taragui x 40 saquitos mate cocido union x 40 saquitos ensorbados mate cocido taragui x 100 saquitos mate cocido union x 100 saquitos yerba mate cbse x 500 gr. limon yerba mate cachamate hierbas digestivas x 500 gr. yerba mate cachamate mezcla de hierbas x 500 gr. yerba mate cachamate hierbas serranas x 500 gr. yerba mate cachamate x 500 gr. hierbas cuyanas yerba cachamate siluet plus x500gr. yerba mate cachamate x 500 gr. hierbas pampeanas yerba mate cachamate suave x 500 gr. naranja yerba mate cbse x 500 gr. pomelo yerba mate cbse x 500 gr. guarana yerba mate cbse frutos del bosque x 500 gr. yerba mate cbse frutos tropicales x 500 gr. yerba mate cbse hierbas cuyanas x 500 gr. yerba mate cbse endulife con stevia x 500 gr. yerba mate cbse con miel x 500 gr. yerba mate cbse naranja x 500 gr. yerba mate cbse hierbas serranas x 500 gr. yerba cachamate seleccion x 500 gr. yerba mate playadito x 500 gr. hierbas yerba mate salus limon y menta x 500 gr. yerba mate salus hierbas serranas x 500 gr. yerba mate cbse etiqueta negra x 500 gr. hierbas serranas yerba mate cachamate mezcla de hierbas x 1 kg. yerba mate cachamate mezcla de hierbas x 1 kg. burlete con arena bombilla escudo bombilla resorte mensu repuesto termo 0,65 lt. termo campero lumilagro x 1 unid. repuesto termo 1 lt. termo lumilagro supertermica 1 lt. termo lumilagro creta termo lumilagro sigma 1 lt. termo rosario central termo newells old boys termo lumilagro tango 1 lt. cortina plastica p/bano eiplast c/protector/ganchos 1.8x1.8m porta sachet gemplast exprimidor con jarra gemplast contenedor cuadrado gemplast 3 lt. contenedor rectangular gemplast 3 lt. cuchara de madera chef espumadera san remo cucharon para sopa san remo cucharon para panqueques san remo cuchara de madera de 45 cm chef colador de alambre 10 cm chef batidor pera chef cortaquesos chef espatula de silicona abrelatas mariposa chef sacacorchos tipo mozo chef sacachorchos doble impuslo chef palo de amasar de madera asadera profunda vaso pampa fucsia vaso pampa azul vaso pampa verde vaso pampa amarillo plato para postre galaxia plato hondo transparente esmerilado galaxia rigolleau plato playo transparente esmerilado galaxia rigolleau vaso allegro alto vaso mikonos alto copa gran vino plato playo diwali turquesa plato hondo diwali turquesa plato hondo carine blanco plato playo carine blanco apositos postparto doncella x 10 u. jabon de glicerina johnson`s baby x 80 gr. jabon dove baby hidratacion enriquecida x 75 gr. jabon de glicerina veritas bebe x 120 gr. bano liquido johnson`s x 200 ml. para antes de dormir locion johnson`s antimosquito x 200 ml. jabon de glicerina neutro veritas bebe x 3 unid. 120 gr. c/u talco johnson x 200 gr. original fecula veritas bebe x 180 gr. talco johnson x 200 gr. dulces suenos crema hidratante johnson`s recien nacido x 200 ml. leche nido bebe 3 x 200 ml. leche infantil nidina de inicio x 200 ml. leche infantil nidina etapa 1 x 200 ml. leche infantil la serenisima crecer baby x 200 ml. etapa 3 leche infantil vital 2 x 200 ml. leche vital 3 x 200 ml. a partir del ano leche infantil vital 3 x 200 ml. leche la serenisima baby etapa 2 x 200 ml. leche la serenisima baby etapa 1 x 200 ml. leche infantil vital 1 x 200 ml. leche infantil vital 1 x 200 ml. leche infantil nan 3 x 190 ml. leche sancor bebe 3 x 200 ml. leche infantil nan 1 x 190 ml. leche sancor bebe 2 x 200 ml. leche infantil nutrilon etapa 3 x 200 ml. leche sancor bebe 1 x 200 ml. leche infantil nutrilon etapa 2 x 200 ml. pure para bebes gerber compota de pera x 113 gr. pure para bebes gerber x 113 gr. manzana pure para bebes gerber x 113 gr. banana leche infantil nutrilon etapa 1 x 200 ml. leche infantil sancor bebe 4 x 1 lt. cereal infantil nestum arroz x 225 gr. cereal infantil nestum multicereal x 225 gr. cereal infantil nestum trigo y miel x 225 gr. leche en polvo nido deslactosada etapa 3 x 370 gr. leche en polvo deslactosada nido x 370 gr. leche en polvo purisima kids x 800 gr. cereal infantil nestum multicereal x 500 gr. leche en polvo nido fortigrow x 800 gr. leche en polvo nido etapa 4 x 800 gr. leche en polvo nido etapa 3 x 800 gr. leche en polvo nidina 2 x 800 gr. leche en polvo nido fortigrow deslactosada x 800 gr. leche infantil nidina bebe etapa 1 x 800 gr. leche infantil sancor bebe 3 x 800 gr. leche en polvo la serenisima baby 2 x 800 gr. leche en polvo la serenisima baby 1 x 800 gr. leche infantil en polvo vital 3 x 800 gr. leche en polvo infantil vital 3 x 1 kg. leche infantil en polvo vital 2 x 800 gr. leche en polvo infantil vital 2 x 1 kg. leche infantil sancor bebe 2 x 800 gr. leche infantil sancor bebe 1 x 800 gr. leche infantil en polvo vital 1 x 800 gr. leche en polvo nutrilion 3 - 1 ano en adelante x 800 gr. leche en polvo nutrilion 2 - 6 a 12 meses x 800 gr. leche en polvo infantil vital 1 x 1 kg. leche en polvo nutrilion 1 - 0 a 6 meses x 800 gr. leche en polvo nutrilon etapa 4 x 1,2 kg. leche en polvo nutrilon etapa 2 x 1,2 kg. leche en polvo nutrilon etapa 1 x 1,2 kg. panales babysec ultrasec x 48 unid. talle m panales babysec ultrasec x 40 unid. talle g panales babysec premium x 52 unid. talle m panales babysec premium x 44 unid. talle g panales huggies classic x 22 unid. talle g panales huggies classic x 18 unid. talle xg panales huggies triple proteccion x 30 unid. recien nacido panales huggies protect plus x 30 u. talle p panales huggies flexi comfort x 34 unid. talle rn panales huggies protect plus x 50 unid. talle p panales huggies protect plus x 44 u. talle m panales huggies protect plus x 28 u. talle xg panales huggies protect plus x 36 u. talle g panales huggies protect plus x 26 u. talle xxg panales huggies flexi comfort x 44 unid. talle m panales huggies flexi comfort x 36 unid. talle g panales huggies flexi comfort x 28 unid. talle xg panales huggies flexi comfort x 26 unid. talle xxg panales huggies supreme care x 28 u. talle xg panales huggies supreme care x 36 u. talle g panales huggies supreme care x 44 u. talle m panales duffy x 30 unid. talle pequeno panales duffy cotton x 38 unid. talle g panales duffy x 30 unid. talle xxg panales duffy cotton x 32 unid. talle xg panales duffy x 44 unid. talle m panales duffy x 30 unid. talle p panales duffy x 36 unid. talle xg panales duffy x 44 unid. talle g panales duffy x 52 unid. talle m panales duffy premium cotton x 34 unid. talle xxg panales pampers supersec plus x 8 unid. talle xg panales pampers supersec plus x 10 unid. talle m panales pampers supersec plus x 9 unid. talle g panales pampers confort sec x 8 unid. talle xg panales pampers confort sec x 9 unid. talle g panales pampers confort sec x 12 unid. talle p panales pampers confort sec x 10 unid. talle m protectores mamarios doncella c/gel x 24 unid. shampoo suave kids manzanilla talentosa x 350 ml. shampoo suave ninos 2en1 x 350 ml. sandia surfer shampoo johnson`s cabello oscuro x 200 ml. shampoo johnson4s hidratacion intensa x 200 ml. shampoo johnson`s fragancia prolongada x 200 ml. shampoo johnson`s gotas de brillo x 200 ml. shampoo johnson`s rulos de ensueno x 200 ml. shampoo johnson`s baby x 200 ml. manzanilla shampoo johnson`s baby x 200 ml. original acondicionador johnson`s fragancia prolongada x 200 ml. acondicionador johnson`s baby hidratacion x 200 ml. acondicionador johnson4s baby gotas de brillo x 200 ml. bano liquido johnson`s x 200 ml. glicerina crema para peinar johnson`s hidratacion intensa x 200 ml. acondicionador johnson`s manzanilla x 200 ml. acondicionador johnson`s original x 200 ml. shampoo johnson`s fragancia prolongada x 400 ml. spray johnson x 200 ml. gotas de brillo shampoo johnson4s baby gotas de brillo x 400 ml. shampoo algabo baby x 750 ml. manzanilla shampoo algabo baby x 750 ml. normal shampoo johnson`s baby x 400 ml. manzanilla shampoo johnson`s baby x 400 ml. original acondicionador plusbelle kids fuerza y vitalidad x 750 ml. acondicionador johnson4s baby gotas de brillo x 400 ml. acondicionador johnson`s original x 400 ml. acondicionador johnson`s manzanilla x 400 ml. shampoo johnson`s baby x 750 ml. manzanilla shampoo johnson`s baby x 750 ml. original toallitas humedas ideal x 50 unid. toallitas humedas ideal x 50 unid. con aloe vera toallitas humedas q-soft antibacterial x 30 unid. toallas humedas johnsons x44unid.limpieza y suavidad toallas humedas johnsons x44unid.cabeza a pies toallitas humedas next antibacterial x 25 unid. toallitas humedas johnson x 48 unid. desde 1er dia toallitas humedas johnson`s x 48 unid. extra cuidado toallitas humedas johnson x 48 unid. hora del sueno toallitas humedas huggies 4 en 1 x 48 unid. toallitas humedas huggies triple proteccion x 96 unid. toallas humedas pampers aroma de bebe x 48 unid. toallas humedas pampers aroma de bebe x 48 unid. toallitas humedas huggies oleo calcareo x 48 unid. toallitas humedas dove baby hidratacion enriquecida 50 un. toallitas humedas huggies puro y natural x 48 unid. oleo calcareo doncella x 500 ml. toallitas humedas huggies cuidado 4 en 1 x 80 unid. toallitas humedas huggies oleo calcareo x 80 unid. toallitas humedas huggies puro y natural x 80 unid. coctel meet hs x 310 ml. mango coctel meet hs x 310 ml. pomelo coctel meet hs x 310 ml. lima dr.lemon x 473 ml. vodka aperitivo pronto bitt x 473 ml. aperitivo mingo maracuya x 355 ml. aperitivo mingo limon x 355 ml. aperitivo mingo pomelo x 355 ml. amargo terma citrus x 1,35 lt. dr. lemon x 473 ml. limon dr. lemon pomelo x 473 ml. americano marcela x 950 ml. aperitivo cinzano bianco x 450 ml. dr. lemon vodka con naranja x 1 lt. dr. lemon vodka x 1 lt. aperitivo cinzano bianco x 950 ml. vermouth martini rosso x 1 lt. aperitivo campari x 450 ml. aperitivo americano gancia x 950 cc. aperitivo cinzano rosso x 1 lt. vermouth carpano rosso x 950 ml. vermouth martini bianco x 1 lt. aperitivo pineral x 750 ml. aperitivo punt e mes x 750 ml. aperitivo cynar x 750 ml. vermouth martini extra dry x 995 ml. aperitivo cynar proof x 750 ml. aperitivo campari x 750 ml. aperitivo hesperidina x 1 lt. aperitivo aperol x 750 ml. vodka smirnoff ice red berries x 473 ml. whisky hiram walker x 750 ml. vodka bols x750ml. ginebra bols bicentenario x 1 lt. ron captain morgan x 700 ml. vodka smirnoff x700ml.red vodka skyy x750ml. vodka smirnoff x700ml.citrus vodka smirnoff watermelon x 700 ml. vodka sernova x 700 ml. vodka skyy infusions x 750 ml. passion fruit pisco mistral roble x 750 ml. gin gordons london dry x 700 ml. ron malibu x 750 ml. ron havana club anejo especial x 750 ml. bacardi carta de oro x 750ml. bacardi carta blanca x 750ml. pisco control original x 750 ml. pisco mistral nobel x 750 ml. vodka absolut x750ml.raspberri vodka absolut x750ml.apeach vodka absolut ruby red x 750 ml. vodka absolut x750ml.citron vodka absolut x 750 ml. pears vodka absolut mango x 750 ml. vodka absolut extrakt x 750 ml. dry gin tanqueray x 750 ml. dry gin beefeater x 750 ml. ron havana club 7 anos x 750 ml. gin bombay saphire x 750 ml. cerveza isenbeck x 1 lt. retornable cerveza warsteiner x 473 ml. cerveza santa fe x473ml. cerveza santa fe pilsen x 473 ml. cerveza quilmes stout x 473 ml. cerveza quilmes bock x 473 ml. cerveza quilmes red lata x 473 ml. cerveza quilmes en lata x 473 cc. cerveza schneider lata x 473 ml. cerveza roja schneider x 473 ml. cerveza quilmes doble malta x 410 ml. cerveza amstel lager x 473 ml. cerveza brahma lata x 473 ml. cerveza sol x 473 ml. cerveza budweiser x 410 ml. cerveza warsteiner x 1 lt. retornable cerveza iguana x 1 lt. retornable cerveza corona x269ml.lata cerveza imperial lager lata x473cc. cerveza imperial golden lata x 473 ml. cerveza salta cautiva rubia x 473 ml. cerveza salta cautiva blend x 473 ml. cerveza andes vendimia 2022 x 473 ml. cerveza andes roja lata x 473 ml. cerveza andes ipa roja x 473 ml. cerveza andes ipa x 473 ml. cerveza amstel premium pilsener x 473 ml. cerveza santa fe retornable x 1 lt. cerveza miller lata x 473 ml. cerveza schneider x 1 lt. retornable cerveza imperial stout lata x 473 ml. cerveza imperial ipa en lata x 473ml. cerveza imperial amber lager lata x 473 ml. cerveza imperial apa x 473 ml. cerveza quilmes cristal x 1 lt. retornable cerveza corona x 330 ml. cerveza grolsch lata x 473 ml. cerveza heineken lata x 473 cc. cerveza amstel lager x 1 lt. retornable cerveza schneider x 710 ml. cerveza stella artois x 473 ml. cerveza miller x 600 ml. cerveza brahma chopp x 1 lt. retornable cerveza quilmes stout x 1 lt. retornable cerveza patagonia 24.7 x 410 ml. cerveza patagonia bohemian pilsener x 410 ml. cerveza patagonia amber lager x 410 ml. cerveza budweiser x 1 lt. retornable cerveza imperial x 710 ml. cerveza amstel premium pilsener x 1 lt. retornable cerveza imperial lager x 1lt .retornable cerveza miller x 710 ml. cerveza salta cautiva roja x 1 lt. cerveza salta cautiva rubia x 1 lt. retornable cerveza salta cautiva blend x 1 lt. cerveza imperial amber lagerx1l. retornable cerveza heineken lata x 710 ml. cerveza miller x1lt. retornable cerveza imperial red ipa x 1 lt. retornable cerveza imperial cream stout x 1 lt. cerveza imperial apa x 1 lt. cerveza stella atrois x 975 ml. retornable cerveza grolsch x 925 ml. retornable cerveza heineken x 1 lt. retornable cerveza patagonia amber x750ml. cerveza patagonia ipa con sauco x 730 ml. cerveza patagonia weisse x 730 ml. cerveza corona x 710 ml. cerveza sol x 1 lt. retornable cerveza warsteiner pack 6 latas x 473 ml. cerveza andes vendimia 2022 - pack 4 latas x 473 ml. cerveza quilmes roja pack 6 latas x 473 ml. cerveza quilmes stout pack 6 latas x 473 ml. cerveza quilmes pack 6 latas x 473 ml. cerveza quilmes bock pack 6 latas x 473 ml. cerveza schneider 6x473ml.roja pack cerveza schneider pack 6 latas x 473 ml. cerveza quilmes doble malta pack 6 latas x 410 ml. cerveza amstel lager pack 6 latas x 473 ml. cerveza brahma pack 6 latas x 473 ml. cerveza budweiser pack 6 latas x 473 ml. cerveza imperial pack 6 latas x 473 ml. cerveza imperial golden pack 6 latas x 473 ml. cerveza andes rubia pack 6 latas x 473 ml. cerveza andes ipa pack 6 latas x 473 ml. cerveza andes ipa roka - pack 6 latas x 473 ml. cerveza amstel pack 6 latas x 473 ml. cerveza miller pack 6 latas x 473 ml. cerveza imperial apa pack 6 latas x 473 ml. cerveza imperial ipa pack 6 latas x 473 ml. cerveza imperial stout pack 6 latas x 473 ml. cerveza imperial amber lager pack 6 latas x 473 ml. cerveza grolsch pack 6 latas x 473 ml. cerveza heineken pack 6 latas x 473 ml. cerveza stella artois pack 6 latas x 473 ml. cerveza patagonia amber lager pack 6 latas x 410 ml. cerveza patagonia bohemian pilsener pack 6 latas x 410 ml. cerveza patagonia 24.7 pack 6 latas x 410 ml. cerveza corona 10x269ml.lata cognac otard dupuy x 750 ml. cognac reserva san juan extra anejo x 750 ml. vino frizze limonata x 1 lt. vino frizze pomelata x 1 lt. vino frizze blue x 1 lt. espumante chandon aperitif x 187 ml. espumante mercier extra brut x 750 ml. espumante mercier demi sec x 750 ml. espumante colon extra brut x 750 ml. espumante colon demi sec x 750 ml. espumante colon rose x 750 ml. espumante suter dulce x 750 ml. espumante suter demi sec x 750 ml. espumante suter extra brut x 750 ml. espumante canciller extra brut x 750 ml. espumante aime sweet x 750 ml. espumante chandon aperitif x 375 ml. espumante dilema blanco dulce natural x 750 ml. espumante dilema rosado dulce natural x 750 ml. espumante las perdices sweety x 750 ml. espumante dada sweet x 750 ml. espumante mumm cuvee reserve brut nature x 750 ml. espumante mumm cuvee reserve extra brut x 750 ml. espumante mumm cuvee reserve sweet x 750 ml. espumante emilia x 750 ml. extra brut espumante emilia x 750 ml. dulce espumante nieto senetiner tete de cuvee extra brut x 750 ml. espumante nieto senetiner tete de cuvee brut nature x 750ml. espumante navarro correas extra brut x 750 ml. espumante santa julia dulce x 750 ml. espumante las perdices extra brut x 750 ml. espumante navarro correas nature x 750 ml. espumante navarro correas dulcet x 750 ml. espumante salentein extra brut x 750 ml. espumante salentein brut nature x 750 ml. espumante chandon extra brut x 750 ml. espumante domaine extra brut x 750 ml. espumante domaine brut rose x 750 ml. espumante baron b extra brut x 750 ml. espumante baron b brut nature x 750 ml. fernet capri x450ml. fernet brancamenta x 450 aperitivo fernet branca x 750 ml. vino generoso saenz marsalla el abuelo x 750 ml. vino de postre moscato promesa x 700 ml. licor de crema irlandesa baileys x 750 ml. sidra 1930 demi sec x 750 ml. vino blanco estancia mendoza chenin-chardonnay x 750 ml. vino blanco santa julia viognier x 750 ml. vino blanco pequena vasija blend x 750 ml. vino blanco alma mora x 750 ml. blend vino blanco colon selecto chenin-sauvignon blanc x 750 ml. vino blanco el regreso x 750 ml. chenin-semillon vino finca la linda viognier x 750 ml. vino blanco famiglia bianchi blend x 750 ml. vino blanco la celia reserva x 750 ml. pinot grigio vino fino blanco canciller chardonnay x 750 ml. vino suter chardonay x 750 ml. vino dilema day chardonnay x 750 ml. vino elegido chardonnay x 750 ml. vino blanco estancia mendoza x 750 ml. chardonnay vino blanco benjamin nieto senetiner chardonnay x 750 ml. vino los arboles chardonnay x 750 ml. vino blanco bianchi chardonnay x 750 ml. vino finca los primos chardonnay x 750 ml. vino alma mora chardonay x 750 ml. vino bodega privada coleccion x 750 ml. chardonnay vino blanco colon selecto x 750 ml. chardonnay vino blanco aime x 750 ml. chardonnay vino blanco fuzion chardonnay x 750 ml. vino fino blanco latitud 33 chardonnay x 750 ml. vino blanco fran x 750 ml. chardonnay vino emilia nieto senetiner x 750 ml. chardonnay vino blanco estiba i chardonnay x 750 ml. vino blanco finca la linda chardonnay x 750 ml.. vino blanco santa julia chardonnay x 750 ml. vino blanco contracara x 750 ml. chardonnay vino blanco uxmal x 750 ml. chardonnay vino blanco cafayate reserva chardonnay x 750 ml. vino blanco altos del plata chardonnay x 750 ml. vino canciller reserva x 750 ml. chardonnay vino don david chardonnay x 750 ml. vino blanco cruz alta chardonnay x 750 ml. vino los haroldos chardonnay x 750 ml. vino killka x 750 ml. chardonnay vino blanco trapiche reserva x 750 ml. chardonnay vino ruca malen reserva x 750 ml. chardonnay vino graffigna pinot grigio x 750 ml. vino fino blanco famiglia bianchi chardonnay x 750 ml. vino dante robino chardonnay x 750 ml. vino blanco las perdices reserva x 750 ml. chardonnay vino fino blanco trumpeter chardonnay x 750 ml. vino blanco la celia pioneer chardonnay x 750 ml. vino blanco alamos seleccion x 750 ml. chardonnay vino fino blanco salentein chardonnay roble x 750 ml. vino blanco don nicanor x 750 ml. chardonnay vino blanco toro viejo x 1125 ml. vino blanco don valentin lacrado x 750 ml. vino fino blanco san felipe x 750 cc. vino blanco resero tetra x 1 lt. vino de mesa uvita blanco tetra x 1 lt. vino de mesa uvita blanco dulce tetra x 1 lt. vino de mesa cavic blanco tetra x 1 lt. vino de mesa talacasto blanco dulce tetra x 1 lt. vino blanco toro x 1 lt. vino nacari tetra brick blanco x 1 lt. vino vinas riojanas blanco torrontes tetra x 1 lt. vino vinas riojanas blanco dulce torrontes x 1 lt. vino de mesa cavic blanco dulce tetra x1lt. vino blanco santa julia chenin dulce natural x 355 ml. vino canciller blend dulce xv x 750 ml. vino blanco dulce natural dilema x 750 ml. vino dulce natural trapiche dulce cosecha x 750 ml. vino blanco norton cosecha tardia x 750 ml. vino blanco dulce benjamin cosecha tardia x 750 ml. vino dulce marlo x 750 ml. vino fino blanco dulce natural new age x 750 ml. vino blanco colon selecto dulce fresco x 750 ml. vino blanco simona dulce x 750 ml. vino blanco capriccio dolcezza x 750 ml. vino fino blanco santa julia chenin dulce natural x 750 ml. vino blanco trapiche sauvignon blanc x 750 ml. vino blanco finca las moras x 750 ml. sauvignon blanc vino finca el portillo blanco sauvignon blanc x 750 ml. vino frida x 750 ml. sauvignon blanc vino latitud 33 sauvignon blanc x 750 ml. vino emilia x 750 ml. sauvignon blanc vino blanco los haroldos estate sauvignon blanc x 750 ml. vino septima x 750 ml. sauvignon blanc vino fond de cave reserva x 750 ml. sauvignon blanc vino fino blanco vinas riojanas torrontes x 750 ml. vino blanco colon torrontes x 750 ml. vino don valentin lacrado torrontes x 750 ml. vino fino blanco elementos torrontes x 750 ml. vino fino blanco santa florentina torrontes x 750 ml. vino finca la linda torrontes x 750 ml. vino fino blanco don david torrontes x 750 ml. vino resero tetra rosado x 1 lt. vino de mesa rosado toro tetra x 1 lt. vino de mesa cavic rosado tetra x 1 lt. vino dilema x 750 ml. rose dulce natural vino el bautismo rosado x 750 ml. vino rosado trapiche dulce cosecha x 750 ml. vino amenni x 750 ml. rosado vino benjamin nieto senetiner x 750 ml. tardio rosado vino tardio callia x 750 ml. rosado malbec vino lola montes rose x 750 ml. vino la celia rose x 750 ml. vino tinto toro viejo bonarda syrah x 750 ml. vino tinto canciller blend iii x 750 ml. vino tinto canciller blend x 750 ml. merlot/syrah/malbec vino tinto canciller blend vii x 750 ml. vino tinto estancia mendoza cabernet-malbec x 750 ml. vino tinto estancia mendoza merlot-malbec x 750 ml. vino tinto kadabra blend x 750 ml. vino tinto el bautismo x 750 ml. blend vino fino tinto santa florentina malbec/syrah x 750 ml. vino tinto canciller blend x 1,25 ml. merlot/syrah/malbe vino fino tinto callia alta syrah-cabernet x 750 ml. vino tinto clos du moulin cabernet-pinot noir x 750 ml. vino tinto partridge blend x 750 ml. vino tinto aime red blend x 750 ml. vino tinto fran x 750 ml. blend vino tinto fran x 750 ml. cabernet sauvignon vino dada incrediblends iii x 750 ml. malbec-sangiovese vino dada incrediblends i x 750 ml. malbec-cabernet vino dada incrediblends ii x 750 ml. malbec-tempranillo vino tinto contracara x 750 ml. blend vino famiglia bianchi red blend x 750 ml. vino tinto el que rie ultimo rie mejor x 750 ml. blend vino los intocables rum barrel blend x 750 ml. vino toro viejo x 3 lt. bonarda-syrah vino tinto rutini cabernet franc-malbec x 750 ml. vino fino tinto canciller cabernet sauvignon x 750 ml. vino tinto canciller cabernet sauvignon x 750 ml. vino tinto dilema day cabernet sauvignon x 750 ml. vino tinto kadabra x 750 ml. cabernet sauvignon vino elegido x 750 ml. cabernet sauvignon vino nampe x 750 ml. cabernet sauvignon vino fino tinto colon cabernet sauvignon x 750 ml. vino estancia mendoza cabernet sauvignon x 750 ml. vino fino tinto trapiche cabernet sauvignon x 750 ml. vino omnium cabernet sauvignon x 750 ml. vino tinto finca las moras cabernet sauvignon x 750 ml. vino tinto benjamin nieto senetiner cabernet x 750 ml. vino don valentin lacrado roble cabernet sauvignon x 750 ml. vino pacheco pereda seleccion cabernet sauvignon x 750 ml. vino dada art x 750 ml. cabernet sauvignon vino tinto chacabuco cabernet sauvignon x 750 ml. vino tinto finca el portillo cabernet sauvignon x 750 ml. vino tinto bodega privada cabernet sauvignon x 750 ml. vino frida x 750 ml. cabernet sauvignon vino finca los primos x 750 ml. cabernet sauvignon vino alma mora cabernet sauvignon x 750 ml. vino tinto esperado cabernet sauvignon x 750 ml. vino tinto finca magnolia x 750 ml. cabernet sauvignon vino tinto bodega privada coleccion x 750 ml. cabernet vino tinto colon selecto x 750 ml. cabernet sauvignon vino tinto novecento cabernet sauvignon x 750 ml. vino tinto terra cabernet sauvignon roble x 750 ml. vino tinto aime cabernet sauvignon x 750 ml. vino tinto fuzion cabernet sauvignon x 750 ml. vino tinto latitud 33 cabernet sauvignon x 750 ml. vino uxmal bravio x 750 ml. cabernet sauvignon vino circus cabernet sauvignon x 750 ml. vino tinto emilia x 750 ml. cabernet sauvingnon vino tinto estiba i cabernet sauvignon x 750 ml. vino tinto eugenio bustos leyenda x 750 ml. cabernet vino tinto ruca malen cabernet sauvignon x 750 ml. vino circus roble x 750 ml. cabernet sauvignon vino tinto santa julia cabernet sauvignon x 750 ml. vino estancia mendoza roble x 750 ml. cabernet sauvignon vino tinto alma mora reserva x 750 ml. cabernet sauvignon vino tinto las perdices cabernet sauvingnon x 750 ml. vino tinto altos del plata cabernet sauvignon x 750 ml. vino canciller reserva cabernet sauvingnon x 750 ml. vino tinto esmeralda cabernet sauvignon x 750 ml. vino fino tinto don david cabernet sauvignon x 750 ml. vino fino tinto fond de cave cabernet sauvignon x 750 ml. vino navarro correas coleccion privada x 750 ml. cabernet vino tinto cruz alta cabernet sauvignon x 750 ml. vino killka x 750 ml. cabernet sauvignon vino tinto santa julia roble cabernet sauvignon x 750 ml. vino estancia mendoza reserva cabernet sauvignon x 750 ml. vino tinto ruca malen cabernet sauvignon x 750 ml. vino fino tinto nieto senetiner cabernet sauvignon x 750 ml. vino tinto septima obra cabernet sauvignon x 750 ml. vino fino tinto famiglia bianchi cabernet sauvignon x 750 ml vino fonde de cave reserva cabernet sauvignon x 750 ml. vino don david reserva cabernet sauvignon x 750 ml. vino salentein cabernet sauvignon roble x 750 ml. vino terrazas reserva cabernet sauvignon x 750 ml. vino tinto escorihuela gascon x 750 ml. cabernet sauvignon vino tinto don nicanor cabernet sauvingnon x 750 ml. vino tinto trumpeter reserva x 750 ml. cabernet sauvignon vino tinto los helechos cabernet sauvignon x 750 ml. vino fino tinto toro viejo x 700 ml. vino tinto valmont x 375 ml. vino tinto toro viejo x 1125 ml. clasico vino toro viejo x 1125 ml . bonarda/syrah vino fino tinto don valentin bianchi lacrado x 750 ml. vino fino tinto carcassonne clasico x 700 ml. vino fino tinto comte de valmont x 750 ml. vino fino tinto san felipe x 750 ml. vino tinto zumuva tetra x 1 lt. vino tinto toro x 1 lt. vino regional vinas riojanas tinto tetra brick x 1 lt. vino tinto nacari tetra brick x 1 lt. vino de mesa talacasto tinto dulce tetra x 1 lt. vino de mesa talacasto tinto tetra x 1 lt. vino de mesa cavic tinto tetra x 1 lt. vino de mesa uvita tinto dulce tetra x 1 lt. vino de mesa uvita tinto tetra x 1 lt. vino de mesa cavic tinto dulce tetra x 1 lt. vino toro centenario x 750 ml. malbec vino fino tinto canciller malbec x 750 ml. vino tinto suter malbec x 750 ml. vino tinto dilema day malbec x 750 ml. vino tinto kadabra x 750 ml. malbec vino cuesta del madero malbec x 750 ml. vino colon x 750 ml. malbec vino estancia mendoza malbec x 750 ml. vino tinto estancia mendoza malbec x 750 ml. vino tinto pacheco pereda x 750 ml. malbec vino fino tinto trapiche malbec x 750 ml. vino fino tinto finca las moras malbec x 750 ml. vino omnium malbec x 750 ml. vino cafayate malbec x 750 ml. vino callia alta malbec x 750 ml. vino tinto el bautismo x 750 ml. malbec vino los pasos x 750 ml. malbec vino fino tinto elementos malbec x 750 ml. vino los arboles seleccion x 750 ml. malbec vino fino tinto bianchi malbec doc x 750 ml. vino tinto partridge malbec x 750 ml. vino nampe x 1,125 lt. malbec vino dada art x 750 ml. white malbec vino fino tinto finca el portillo malbec x 750 ml. vino santa florentina malbec x 750 ml. vino fino tinto bodega privada malbec x 750 ml. vino frida x 750 ml. malbec vino tinto eugenio bustos x 750 ml. malbec vino alma mora malbec x 750 ml. vino tinto finca magnolia x 750 ml. malbec vino tinto bodega privada coleccion x 750 ml. malbec vino tinto colon selecto x 750 ml. malbec vino tinto novecento x 750 ml. malbec vino latitud 33 malbec x 750 ml. vino uxmal bravio x 750 ml. malbec vino tinto dolores x 750 ml. malbec vino circus malbec x 750 ml. vino tinto estiba i malbec x 750 ml. vino tinto eugenio bustos leyenda x 750 ml. malbec vino tinto contracara x 750 ml. malbec vino tinto ricordi roble x 750 ml. malbec vino tinto estancia mendoza roble x 750 ml. malbec vino tinto uxmal malbec x 750 ml. vino tinto lola montes x 750 ml. malbec vino tinto garbo reserva x 750 ml. malbec vino tinto altos del plata malbec x 750 ml. vino tinto canciller reserva malbec x 750 ml. vino fino tinto don david malbec x 750 ml. vino fond de cave x 750 ml. malbec vino los haroldos reserva malbec x 750 ml. vino killka x 750 ml. malbec vino tinto trapiche malbec x 750 ml. vino tinto la celia reserva x 750 ml. malbec vino tinto estancia mendoza reserva malbec x 750 ml. vino graffigna centenario malbec x 750 ml. vino fino tinto nieto senetiner malbec x 750 ml. vino tinto los intocables malbec x 750 ml. vino fino tinto famiglia bianchi malbec x 750 ml. vino fond de cave reserva malbec x 750 ml. vino fino tinto salentein malbec roble x 750 ml. vino fino tinto terrazas reserva malbec estuche x 750 ml. vino tinto don nicanor malbec x 750 ml. vino tinto alamos reserva malbec x 750 ml. vino tinto medalla malbec x 750 ml. vino saint felicien malbec x 750 ml. vino benjamin nieto senetiner x 750 ml. merlot vino fino tinto finca el portillo merlot x 750 ml. vino latitud 33 merlot x 750 ml. vino tinto bianchi borgona x 700 ml. vino fino tinto vinas riojanas bonarda x 750 ml. vino trapiche x 750 ml. pinot noir vino tinto sexyfish cabernet franc x 750 ml. vino fino tinto elementos tannat x 750 ml. vino tinto dada nro 8 x 750 ml. chocolate vino tinto dada nro 3 x 750 ml. especias vino tinto dada nro 2 x 750 ml. moka vino tinto dada nro 1 x 750 ml. vainilla vino tinto portillo pinot noir x 750 ml. vino tinto chac chac cabernet franc x 750 ml. vino tinto don david pinot noir x 750 ml. vino tinto septima cabernet franc x 750 ml. vino estancia mendoza reserva cabernet franc x 750 ml. vino tinto luigi bosca x 750 ml. pinot noir vino tinto la celia cabernet franc x 750 ml. vino nampe x 750 ml. syrah vino fino tinto colon syrah x 750 ml. vino tinto benjamin nieto senetiner syrah x 750 ml. vino fino tinto bodega privada syrah x 750 ml. vino alma mora syrah x 750 ml. vino latitud 33 syrah x 750 ml. vino tinto la gran nacha syrah x 750 ml. vino tinto finca la linda x 750 ml. syrah vino fino tinto nieto senetiner syrah x 750 ml. vino latitud 33 tempranillo x 750 ml. whisky blenders x 750 ml. whisky blenders honey x 750 ml. whisky blenders x 1 lt. whisky old smuggler anejo x 750 ml. whisky vat 69 x 700 ml. whisky vat 69 apple vibe x 780 ml. whisky old smuggler anejo x 1 lt. whisky white horse x750ml bot whisky j&b x 750 ml. whisky escoces ballantines finest estuche x 750 cc. whisky johnnie walker red label x 750 ml. whisky chivas regal x 750ml. whisky johnnie walker black label 12 anos x 750 ml. whisky chivas regal x 1 lt. whisky the glenlivet reserva x 750 ml. whisky johnnie walker black label x 1 lt. whisky jack daniels x 750 ml. whisky jack daniel`s honey x 750 ml. whisky chivas regal mizunara x 750 ml. whisky chivas regal 18 anos x 750 ml. agua con gas ser x 500 ml. citrus agua saborizada h20! citrus x 500 ml. agua saborizada brio x 1,5 lt. pomelo agua saborizada brio x 1,5 lt. naranja agua con gas ser x 500 ml. limon agua saborizada h2o citrus x 1,5 lt. villa del sur levite x 500 ml. naranja agua saborizada villa del sur levite x 500 ml. pomelo agua saborizada villa del sur levite x 500 ml. pera agua saborizada villa del sur levite x 500 ml. manzana aquarius cepita x 500 ml. pera aquarius cepita x 500 ml. naranja agua ser con gas x 1,5 lt. citrus agua saborizada villa del sur levite cero x 500 ml. manzana agua saborizada villa del sur levite cero x 500 ml. pomelo agua saborizada villa del sur levite cero x 500 ml. naranja agua ser con gas x 2,25 lt. citrus villa del sur levite x 1,5 lt. naranja villa del sur levite pomelo x 1.5 lt. villa del sur levite x 1,5 lt. manzana aquarius cepita x 1.5 lt. naranja villa del sur levite cero x 1,5 lt. manzana agua saborizada levite cero x 1,5 lt. pomelo aquarius cepita sabor pomelo x 1.5 lts. aquarius cepita sabor pera x 1.5 lts. agua con gas ser x 2,25 lt. limon agua saborizada villa del sur levite x 2,25 lt. manzana agua saborizada villa del sur levite x 2,25 lt. pera agua saborizada villa del sur levite x 2,25 lt. naranja agua saborizada villa del sur levite x 2,25 lt. pomelo aquarius cepita x 2.25 lt. manzana aquarius cepita x 2,25 lt. naranja aquarius cepita x 2,25 lt. pomelo aquarius cepita x 2,25 lt. pera villa del sur levite cero x 2,25 lt. pomelo villa del sur levite cero x 2,25 lt. naranja villa del sur levite cero x 2,25 lt. manzana agua saborizada h2o! limoneto x 2,25 lt. agua saborizada h2o! lima limon x 2,25 lt. soda asuncion tapa rosca x 2,25 lt. soda con gas benedictino x 2,25 lt. agua mineral villavicencio con gas x 500 ml. soda asuncion x 2 lt. sifon soda saldan x 1,5 lt. agua bonaqua x 1,5 lt. con gas soda saldan x 2 lt. sifon agua mineral con gas villavicencio x 1,5 lt. agua mineral asuncion x 1,5 lt. agua mineral villa del sur x 1,65 lt. sin gas agua mineral sin gas villa del sur x 600 ml. agua ser sin gas x 2,25 lt. agua benedictino sin gas x 2,25 lt. agua mineral sin gas villavicencio x 500 ml. agua mineral sin gas eco de los andes x 1.5 lt. agua mineral baggio fresh sin gas x 1,5 lt. agua mineral bonaqua x 500 ml. sin gas agua mineral sin gas villavicencio x 1,5 lt. agua mineral sin gas villavicencio x 2 lt. agua mineral villavicencio sport x 750 ml. sin gas agua mineral bonaqua x 1,5 ml. sin gas agua mineral glaciar sin gas x 2 lt. agua mineral sin gas villa del sur x 2,25 lt. agua mineral bonaqua sin gas x 2 lt. agua mineral asuncion x 5 lt. agua mineral villa del sur bidon x 6 lt. agua mineral pureza vital x 6,3 lt. agua mineral sin gas evian x 500 ml. amargo tres torres x 1,5 lt. serrano amargo tres torres x 1,5 lt. limon amargo tacconi serrano x 1.5 lt. amargo tacconi con limon dietetico x 1.5 lt. amargo terma x 1,35 lt. cuyano amargo terma cero x 1,35 lt. cuyano amargo terma x 1,35 lt. patagonico amargo terma x 1,35 lt. pomelo rosado amargo terma cero x 1,35 lt. manzana amargo terma cero x 1,35 lt. serrano amargo terma x 1,35 lt. serrano amargo terma cero x 1,35 lt. limon amargo terma x 1,35 lt. limon amargo terma x 1,35 lt. pomelo amargo terma patagonico sin azucares x 1,35 lt. amargo terma cero limon x 1,75 lt. amargo terma pomelo rosado x 1,75 lt. amargo terma serrano x 1,75 lt. amargo terma x 1,75 ml. citrus bebida energetica red bull x 250 ml. energizante monster valentino rossi x 473 ml. energizante monster ultra paradise x 473 ml. energizante monster x 473 ml. energizante monster x 473 ml. mango loco energizante monster x473ml.s/azucar energizante monster ultra sunrise x 473 ml. gaseosa pepsi black x 500 ml. gaseosa coca cola lata x 220 ml. gaseosa coca cola sin azucar x 220 ml. gaseosa pepsi black x 354 ml. gaseosa pepsi x 354 ml. gaseosa coca cola lata x 310 ml. gaseosa coca cola sin azucar lata x 310 ml. gaseosa cola pepsi x 500 ml. gaseosa coca cola sin azucar x 500 ml. bebida sin alcohol coca cola x 500 ml. gaseosa pepsi x 1,5 lt. no retornable gaseosa pepsi black x 1,5 lt. gaseosa doble cola x 3 lt. gaseosa coca cola sin azucar x 1.5 lts. bebida sin alcohol coca cola x 1.5 lt. bebida sin alcohol coca cola x 2 lt. envase retornable gaseosa coca cola x 2,50 lt. retornable gaseosa pepsi black x 2,25 lt. gaseosa pepsi x 2,25 lt. gaseosa coca cola x 2,50 lt. sin azucar gaseosa coca cola x 2,50 lt. no retornable gaseosa seven up x 345 ml. lata gaseosa lima limon 7 up sin azucar x 354 ml. gaseosa levite fizz x 575 ml. limon gaseosa sprite x 310 ml. gaseosa crush lima limon x 2,25 lt. gaseosa lima limon 7 up x 1,5 lt. gaseosa pritty limon 2.25 lt. gaseosa doble cola lima-limon x 3 lt. gaseosa sprite x 1.5 lt. gaseosa levite fizz x 2,25 lt. limon gaseosa pritty limon x 3 lt. gaseosa sprite x 2.25 lt. gaseosa seven up x 2,25 lt. gaseosa seven up x2.25lt. sin azucar gaseosa crush naranja x 2,25 lt. gaseosa mirinda naranja x1.5lt gaseosa naranja fanta x 500 ml. gaseosa naranja fanta zero x 1,5 lt. gaseosa doble cola naranja x 3 lt. fanta naranja x 1.5 lt. gaseosa naranja fanta x 2 lt. envase retornable fanta naranja x2.25lt. gaseosa guarana antarctica sin azucar x 1,5 lt. gaseosa guarana antarctica x 2.25 lt. gaseosa schweppes citrus x 1.5 lt. gaseosa paso de los toros pomelo x 269 ml. gaseosa levite fizz x 575 ml. pomelo gaseosa schweppes pomelo sin azucar x 310 ml. gaseosa crush pomelo x 2,25 lt. gaseosa paso de los toros pomelo light x 1,5 lt. gaseosa doble cola pomelo x 3 lt. gaseosa schweppes zero x 1.5 lt. pomelo gaseosa levite fizz x 2,25 lt. pomelo gaseosa paso de los toros pomelo x 1.5 lt. gaseosa de pomelo schweppes sin azucar x 2 lt. retornable gaseosa paso de los toros pomelo x 2,25 lt. agua tonica schweppes x 1.5 lt. agua tonica paso de los toros x 1.5 lt. jugo mi ju concentrado x500ml.naranja jugo mi ju concentrado pomelo rosado x 500 cc. jugo mocoreta naranja diet con vitamina c x 1.5 lt. jugo mocoreta pomelo rosado diet con vitamina c x 1.5 lt. jugo mocoreta pomelo rosado con vitamina c x 1.5 lt. jugo mocoreta naranja con vitamina c x 1.5 lt. gatorade x 500 ml. frutas tropicales powerade mora x 500 ml. powerade naranja x 500 ml. gatorade manzana pet x 500 ml. gatorade x 500 ml. cool blue gatorade naranja x 500 ml. powerade manzana x 995 ml. powerade frutas tropicales x 995 ml. powerade mora x 995 ml. gatorade x 1,25 ml. naranja gatorade x 1,25 ml. manzana jugo bc naranja x 200 ml. jugo cepita manzana x 200 ml. jugo cepita naranja x 200 ml. jugo bc la campagnola x 500 ml. manzana jugo bc la campagnola x 500 ml. naranja jugo bc la campagnola x 500 ml. multifruta jugo cepita manzana botella x 1 lt. jugo cepita durazno x 1 lt. jugo cepita manzana x 1 lt. jugo cepita multifruta x 1 lt. jugo cepita naranja x 1 lt. jugo bc la campagnola x 1 lt. multifruta jugo bc la campagnola x 1 lt. naranja baggio pronto x 1 lt. naranja baggio pronto x 1 lt. durazno-naranja baggio pronto x 1 lt. manzana baggio pronto x 1 lt. durazno baggio pronto x1lt. multifruta baggio pronto x 1 lt. mix frutal cepita botella x 1.5 lt. durazno cepita botella x 1.5 lt. anana cepita botella x 1.5 lt. naranja jugo puro de limon citric x 500 ml. baggio pronto x 1.5 ml. naranja baggio pronto x 1.5 ml. manzana baggio pronto x 1.5 ml. multfruta jugo citric manzana x 1 lt. jugo verao naranja-durazno x10gr. jugo verao naranja x10gr. jugo verao manzana x10gr jugo verao anana x10gr. jugo en polvo arcor narajna x 18 gr. jugo en polvo arcor frutilla x 18 gr. jugo en polvo arcor anana x 18 gr. jugo en polvo arcor limonada x 18 gr. jugo en polvo arcor naranja-durazno x 18 gr. jugo en polvo bc x 9 gr. naranja jugo en polvo bc pomelo amarillo x 7 gr. jugo en polvo bc frutilla-limon x 7 gr. jugo en polvo bc pomelo rosado x 7 gr. jugo en polvo bc naranja-durazno x 7 gr. jugo en polvo bc limonada x 7 gr. jugo en polvo bc manzana x 7 gr. jugo tang durazno x 18 gr. jugo tang anana x 18 gr. jugo tang mix naranja-lima x 18 gr. jugo en polvo tang mix x 18 gr. jugo tang uva x 18 gr. jugo tang mix naranja-lima jugo tang pera x 18 gr. jugo tang naranja durazno x 18 gr. jugo en polvo tang frutilla x 18 gr. jugo tang naranja x 18 gr. jugo tang manzana x 18 gr. jugo en polvo tang x 18 gr. naranja dulce jugo tang naranja mango x 18 gr. jugo tang limonada x 18 gr. jugo tang multifruta x 18 gr. jugo en polvo tang x 7 gr. pomelo rosado jugo tang naranja banana x 18 gr. jugo en polvo clight x 8 gr. pomelo rosado jugo en polvo clight x 7,5 gr. naranja dulce jugo en polvo clight x 8 gr. naranja jugo en polvo clight x 7 gr. manzana deliciosa jugo en polvo clight limonada rosa x 7,5 gr. jugo en polvo clight x 7 gr. anana jugo en polvo clight x 8 gr. limonada jugo en polvo clight x 7 gr. naranja-mango jugo en polvo clight x 7 gr. pera jugo en polvo clight x 8 gr. pomelo amarillo jugo clight stevia naranja jugo en polvo clight x 8 gr. mandarina jugo en polvo clight con stevia x 7,5 gr. manzana deliciosa jugo en polvo clight x 7,5 gr. manzana verde alimento de soja ades anana x 1 lt. alimento de soja ades durazno x 1 lt. alimento de soja ades manzana x 1 lt. alimento de soja ades frutas tropicales x 1 lt. alimento de soja ades vainilla x 1 lt. alimento de soja ades x 1 lt. frutilla pomada cobra x30gr.4en1 marron desodorantes para zapatos iberia pomada cobra autobrillo x60ml. cafe pomada cobra autobrillo x60ml. blanco detergente lava zapatillas iberia odor killer x 300 cc. carbon forestales pacheco x3kg. carbon vegetal de exportacion fuego x 3,5 gr. carbon vegetal de lena dura la esperanza x 3 kg. lena forestales pacheco x6kg. carbon forestales pacheco x5kg carbon vegetal de lena dura la esperanza x 5 kg. cuarto trasero de pollo x 100 gr. pollo fresco x 100 gr. filet de pechuga soychu x 100 gr. supremas de pollo x 100 gr. carre de cerdo el cheru x 100 gr. pechito de cerdo el cheru x 100 gr. costilla de cerdo paladini x100gr. solomillo de cerdo el cheru x 100 gr. churrasco de cerdo el cheru x 100 gr. matambrito de cerdo el cheru x 100 gr. churrasquito cerdo paladini x100gr. carre de cerdo deshuesado paladini x 100 gr. bondiola cerdo paladini x100gr. solomillo cerdo paladini x100gr. matambre cerdo paladini x100gr. puchero caracu ternera x 100 gr. puchero de aguja ternera x 100 gr. falda ternera x 100 gr. marucha ternera x 100 gr. puchero especial osobuco ternera x 100 gr. brazuelo c/hueso ternera x 100 gr. costeletas grandes ternera x 100 gr. palomita ternera x 100 gr. entrecot ternera x 100 gr. albondigas de ternera x 100 gr. costeletas medianas ternera x 100 gr. entrana x100gr. tapa de nalga ternera x 100 gr. tapa de asado ternera x 100 gr. matambre ternera x 100 gr. jamon cuadrado ternera x 100 gr. brazuelo s/hueso ternera x 100 gr. cabeza de lomo ternera x 100 gr. asado de costilla ternera x 100 gr. milanesas ternera x 100 gr. cuadril ternera x 100 gr. nalga ternera x 100 gr. jamon redondo ternera x 100 gr. vacio ternera x 100 gr. punta de vacio ternera x 100 gr. asado mar del plata ternera x 100 gr. lomo ternera x 100 gr. entrana fina ternera x 100 gr. morcilla espanola paladini x 100 gr. morcilla paladini parrillera x 100 gr. morcilla paladini parrillera envasada x 100 gr. morcilla dulce paladini envasada x 100 gr. chorizos especiales paladini x100gr. chorizos bombon paladini x 100 gr. salchicha parrillera paladini x 100 gr. chorizos especiales al vacio paladini x 100 gr. jugo bovino faty x 1 kg. higado x100gr. sesos x100gr. corazon x 100 gr. rabos x100gr. tripa gorda x100gr. mondongo x100gr. chinchulines x100gr. lengua x100gr. rinones s/grasa x100gr. mollejas x100gr. grasa de cerdo paladini x 500 gr. galletas de arroz grandiet multicereal x 100 gr. dulces galletas de arroz grandiet x 100gr. con sal galletas de arroz grandiet x 100gr. dulces galletas de maiz grandiet x 100 gr. vainilla galletas de arroz grandiet x 100 gr. stevia galletas de arroz ceral x 100 gr. dulces galletas de arroz ceral x 100 gr. con sal galletas de arroz ceral x 100gr. sin sal tostadas de arroz grandiet x 120 gr. fideos de arroz grandiet x 500 gr. mostacholes con morron fideos caracolitos de maiz grandiet x 500 gr. fideos mostacholes de maiz grandiet x 500 gr. medallones de pollo paladini x 2 unid. medallones de pollo paladini x 2 unid. espinaca y queso medallones de pollo con jamon y queso paladini x 2 unid. medallones de pollo swift x 320 gr. palitos de pollo swift x 260 gr. nuggets de pollo sadia crocante x 300 gr. formitas de pollo lucchetti x 350 gr. bocaditos de pollo swift x 380 gr. nuggets de pollo paladini x 380 gr. patitas de pollo granja del sol x 400 gr. patitas de jamon y queso granja del sol x 400 gr. supremas de pollo granja del sol x 400 gr. espinaca y queso medallones prefritos de pollo listtos x 360 gr. nuggets de pollo paladini x 760 gr. nuggets de pollo crocante sadia x 900 gr. bocaditos de pollo swift x 760 gr. bocaditos de pollo lucchetti x 800 gr. rebozados de pollo sadia chicken fingers x 720 gr. palitos de pollo swift x 1 kg. nuggets de pollo granja del sol x 900 gr. patitas de pollo granja del sol x 1,1 kg. medallones de carne swift doble burger x 2 unid. medallones de carne fela x 2 unid. hamburguesas paty x 2 unid. finitas hamburguesas paladini finitas x 2 unid. hamburguesas de cerdo paladini x 2 unid. original hamburguesas de cerdo paladini x 2 unid. bacon y cheddar hamburguesas de cerdo paladini x 2 unid. picante hamburguesas de cerdo paladini x 2 unid. queso azul medallones de carne swift doble burger x 4 unid. hamburguesas swift x 2 unid. medallones de carne fela max x 2 unid. hamburguesas paladini x 2 unid. clasicas medallones de carne fela x 4 unid. hamburguesas paty express x 4 unid. medallones de carne patymilanesa x 2 unid. hamburguesas paty x 2 unid. clasicas medallones de carne swift burger x 4 unid. hamburguesas paty light x 2 unid. hamburguesas paladini x 2 unid. + grandes hamburguesas paty con morron asado x 2 unid. hamburguesas paty con cebolla x 2 unid. hamburguesas paty con queso provolone x 2 unid. medallones de carne good mark classic x 4 unid. hambuerguesas paty clasico x 4 unid. bocaditos de carne swift x 380 gr. hamburguesas swift xl x 2 unid. hamburguesas swift tipo casera x 2 unid hamburguesas swift x 4 unid. hamburguesas paty x 4 unid. clasicas hamburguesas paladini x 4 unid. clasicas milanesas de carne paty x 4 unid. hamburguesas paty light x 4 unid. medallones de carne swift receta especial x 4 unid. pizza sibarita mozzarella x 470 gr. pizza sibarita mozzarella a la piedra x 680 gr. hamburguesas paty grandes x 4 unid. bocaditos de carne swift x 760 gr. hamburguesas swift clasicas x 12 unid. hamburguesas paty x 12 unid. clasicas hamburguesas paladini x 12 unid. clasicas hamburguesas swift clasicas x 20 unid. hamburguesas paty clasico x 20 unid. helado ice planet x 500 gr. americana-frutilla-chocolate helado en barra mio yobar x 4 unid. helado cumbre nevada x 1 lt. limon-vainilla-dce leche helado target x 500 gr. dce leche graniz-b. split-tramontana postre helado mixto la montevideana x 6 unid. helado la montevideana x 1 lt. limon helado la montevideana x 1 lt. chocolate-dce de leche graniz helado la montevideana x 1 lt. frutilla y granizado helado la montevideana premium x 1 lt. tramontana alfajor helado mio x 4 unid. helado mio x 500 gr. dce leche graniz-frutilla-chocolate helado mio x 500 gr. granizado-dce leche-super flan helado mio x 500 gr. limon al agua bombon suizo la montevideana x 6 unid. bombon escoces la montevideana x 6 unid. helado ice planet x 3 lts. dce leche-americana-chocolate helado ice planet x 3 lts.americana-dce leche-vainilla almendrado cumbre nevada x 8 unid. bombon suizo cumbre nevada x 8 unid. postre helado mio tricolor x 8 unid. alfajor helado com com fantoche x 6 unid. helado cumbre nevada x 3 lt. dce leche-limon-vainilla helado cumbre nevada x 3 lt. s. flan-americana-chocolate helado target x 1,5 kg. americana-vainilla-choco-dce leche helado la montevideana x 3 lt. choco-dce leche gran-amer-fru helado la montevideana x 3 lt. choc-cha c/frut-b. split-vain helado la montevideana x 3 lt. flan-dce leche-fruti-graniz helado com com x 3 lt. flan-frutilla-dce leche-granizado helado com com x 3 lt. frut-americ-choco-dce leche graniz almendrado mio x 8 unid. torta helada la montevideana x 800 gr. dulce de leche torta helada la montevideana x 800 gr. frutos del bosque bombon escoces mio x 8 unid. bombon suizo mio x 8 unid. torta helada mio x 800 gr. selva negra helado mio x 1,5 kg. ch. doble-tiram-frut crema-dce leche helado mio x 1,5 kg. dce de leche graniz.-frutilla-chocolate helado mio x 1,5 kg. granizado-dce de leche-super flan medallon green life x 2 unid. arvejas y brocoli medallon green life x 2 unid. zanahoria y semillas girasol medallones de calabaza y choclo green life x 2 unid. medallon green life x 2 unid. espinaca y pimientos milanesas de arvejas san silvestre x 320 gr. milanesas de choclo san silvestre x 4 unid. milanesas de calabaza san silvestre x 4 unid. milanesas de choclo san silvestre x 320 gr. milanesas de lentejas san silvestre x 4 unid. milanesas de tomate san silvestre x 320 gr. milanesas de remolacha san silvestre x 320 gr. milanesas de brocoli san silvestre x 320 gr. milanesas de soja granja del sol x 320 gr. con espinaca hamburguesa 100% vegetal paladini x 2 unid. milanesas mix de legumbres granja del sol x 4 unid. milanesas de arroz y vegetales granja del sol x 4 unid. hamburguesas de lentejas y arroz yam granja del sol x 420 gr hamburguesas de quinoa y espinaca granja del sol x 420 gr. hamburguesas de garbanzos y calabaza granja del sol x 420 gr hamburguesas de cebolla cam. y arroz granja del sol x 420 gr croquetas de espinaca granja del sol x 400 gr. milanesas de soja paladini x 2 unid. clasicas milanesas de soja soja latina x 4 unid. natural milanesas de soja delicias x 4 unid. oregano milanesas de soja delicias x 4 unid. espinaca milanesas de soja delicias x 4 unid. provenzal milanesas de soja delicias x 4 unid. cebolla milanesas de soja delicias x 4 unid. natural milanesas de soja paladini x 2 unid. jamon y queso milanesas de soja paladini x 2 unid. espinaca y queso milanesas de soja luchetti x 4 unid. milanesas de soja san silvestre x 320 gr. con espinaca milanesas de soja swift clasicas x 290 gr. milanesas de soja swift x 350 gr. jamon y queso milanesas de soja swift x 350 gr. espinaca y queso milanesas de soja swift x 350 gr. tomate y queso milanesas de soja granja del sol x 4 unid. con espinaca milanesas de soja granja del sol x 4 unid. con calabaza milanesas de soja lucchetti grandes x 4 unid. milanesas de soja con espinaca granja de sol x 380 gr. milanesas de soja granja del sol x 380 gr. calabaza y queso milanesas de soja granja del sol x 380 gr. napolitana milanesa de soja granja del sol x 8 unid. papas congeladas swift x 400 gr. papas mc cain tradicional x 400 gr. papas mc cain onduladas tipo crinkle x 400 gr. papas baston paladini x 700 gr. papas espanolas paladini x 700 gr. papas rusticas paladini x 700 gr. papas mc cain horneables x 600 gr. papas mc cain noisette x 500 gr. papas noisettes mc cain x 500 gr. con jamon y queso papas noisettes mc cain finas hierbas x 500 gr. papas mc cain smiles x 600 gr. papas baston mc cain x 1,5 kg. papas mc cain noisette x 1 kg. papas fritas congeladas swift x 2 kg. albondigas de pescado de rio epuyen x 500 gr. cornalitos epuyen x 500 gr. bastoncitos de merluza granja del sol x 300 gr. medallones de boga epuyen x 400 gr. tomate medallones de boga epuyen x 4 unid. sabor natural medallones de merluza granja del sol x 450 gr. medallones de merluza epuyen x 1 kg. espinaca y queso cazuela de mariscos congelados epuyen x 500 gr. bastoncitos de pasta de pescado epuyen x 300 gr. filetes de atun s/espinas epuyen x 700 gr. filet de merluza sin espinas epuyen x 1 kg. chauchas congeladas green life x 300 gr. arvejas congeladas lucchetti x 300 gr. mix primavera congelado green life x 300 gr. choclo congelado granja del sol x 300 gr. acelga congelada green life x 500 gr. choclo congelado green life x 300 gr. arvejas congeladas green life x 300 gr. brocoli congelado lucchetti x 300 gr. acelga congelada lucchetti x 400 gr. acelga congelada granja del sol x 500 gr. brocoli congelado granja del sol x 400 gr. espinaca congelada granja del sol x 500 gr. brocoli congelado green life x 400 gr. mix primavera granja del sol x 400 gr. frutillas green life x 550 gr. salchichon primavera lario x 100 gr. fiambre p/emparedados fela x 100 gr. queso de cerdo paladini x 100 gr. salchichon c/jamon paladini x100gr. mortadela lario x 100 gr. salchichon triple paladini x100gr. fiambre de cerdo lario x 100 gr. mortadela al vacio paladini x100gr. salame picado fino `66` x 100 gr. paleta clasica paladini x100gr. salame milan fela x100gr. lomo cocido paladini x100gr. jamon cocido reducido en sodio paladini x 100 gr. jamon cocido paladini clasico x100gr. panceta salada lario x 100 gr. salame de milan lario x 100 gr. panceta salada paladini x100gr. panceta ahumada lario x 100 gr. panceta ahumada paladini x100gr. salame milan paladini x100gr. mortadela con pistachos labratto fet. x 100 gr. jamon cocido labratto x 100 gr. bondiola lario x 100 gr. lomo cocido feteado paladini x 120 gr. bondiola paladini x 100 gr. mortadela paladini fetas + finas x 200 gr. jamon crudo fela x 100 gr. salame de milan feteado lario x 150 gr. lomo horneado labratto fet. x 100 gr. jamon cocido labratto fet. x 125 gr. paleta de cerdo paladini fetas + finas x 200 gr. jamon crudo lario x 100 gr. bondiola feteada lario x 120 gr. jamon cocido paladini fetas + finas x 200 gr. salame tipo milan paladini fetas + finas x 180 gr. bondiola labratto fet.x100gr. jamon crudo tipo espa%ol paladini x100gr. bondiola feteada espuna x 80 gr. bondiola paladini fetas + finas x 120 gr. jamon crudo feteado lario x 120 gr. jamon crudo paladini fetas + finas x 120 gr. jamon crudo feteado espuna x 100 gr. jamon crudo feteado espuna x 200 gr. chorizo colorado el toto x 100 gr. leberwurst paladini con finas hierbas x 200 gr. chorizo tipo oriental 101 x 100 gr. salamin tandilero lario x 100 gr. salame tipo colono el toto x 100 gr. salame de cerdo tipo colono el toto x 100 gr. salamin tipo crespon paladini x100gr. salamin picado fino paladini x 100 gr. mortadela paladini familiar x300gr. salchichon primavera lario x 320 gr. mortadela con queso paladini x300gr. mortadela lario x 320 gr. salchichon con jamon paladini fliar. x 400 gr. salchichon triple paladini x 400 gr. salame tipo fuet lario x 150 gr. mortadela paladini familiar x 500 gr. salame tipo fuet labratto x 150 gr. salchichas 66 tipo viena sin piel x 6 unid. salchichas patyviena fun x 6 unid. salchichas fela x 6 unidades salchichas swift kids x 6 unid. salchichas swift x 6 unidades salchichas paladini tipo viena sin piel pasteurizadas x 6 u. salchicha vienissima x 6 unidades salchichas patyviena x 6 unidades salchichas granja iris clasicas x 6 unid. salchichas viena fela x 12 unid. salchichas con zanahoria paladini x 6 unid salchichas con espinaca paladini x 6 unid. salchichas reducidas en sodio y grasas paladini x 6 unid. salchichas swift x 12 unidades salchichas vienissima x 12 unid. salchichas patyviena x 12 unid. salchichas patyviena tipo alemana x 4 unid. salchichas labratto wursten x 225 gr. salchichas paladini big tipo frankfurt sin piel x 12 unid. limones x 100 gr. sandia x 100 gr. mandarina murcott x 100 gr. naranja de jugo x 100 gr. pomelo sanguineo x 100 gr. hinojo x 100 gr. pomelo blanco x 100 gr. naranja de ombligo x 100 gr. manzana verde x 100 gr. pera x 100 gr. banana ecuatoriana x 100 gr. manzana roja deliciosa x 100 gr. frutillas x 100 gr. melon rocio de miel x 100 gr. mango x 100 gr. durazno amarillo x 100 gr. kiwi elegido x 100 gr. uvas blancas x 100 gr. uvas negras x 100 gr. palta hass arrugada x 100 gr. calabacita x 100 gr. cebolla de verdeo x 100 gr. apio x 100 gr. coliflor x 100 gr. cebolla x 100 gr. brocoli x 100 gr. choclo elegido x 100 gr. berenjena negra x 100 gr. camote colorado x 100 gr. acelga atado espinaca paquete ajo x 1 unidad champignones x 100 gr. ensalada italiana poquet las parchitas x 130 gr. ensalada coleslaw las parchitas x 300 gr. ensalada california las parchitas x 300 gr. ensalada caprese las parchitas x 300 gr. perejil x 100 gr. papa elegida suelta x 100 gr. papa elegida red x 100 gr. puerro x 100 gr. pepino x 100 gr. lechuga repollada x 100 gr. lechuga mantecosa x 100 gr. pimiento rojo x 100 gr. pimiento verde x 100 gr. lechuga de hoja x 100 gr. rucula x 100 gr. rabanitos x 100 gr. repollo blanco x 100 gr. repollo colorado x 100 gr. zanahoria suelta x 100 gr. zapallito largo x 100 gr. zapallito redondo x 100 gr. tomate perita x 100 gr. tomate redondo x 100 gr. pina x 100 gr. pimiento amarillo x 100 gr. zapallo brasilero x 100 gr. lima x 100 gr. radicheta paquete tomate cherry x 100 gr. remolacha x atado uvas rosadas x 100 gr. bizcochos de arroz gallo x 100 gr. tortita negra bizcochos de arroz gallo x 100 gr. dulces galletitas granovita x140gr. vainilla galletitas granovita x 140 gr. coco galletitas cereal mix avena y manzana x 180 gr. galletitas granix x 260 gr. sesamo, amaranto y girasol galletitas dulces c/avena y pasas frutigran x 250 g. galletitas frutigran x 142 gr. cacao y avellanas galletitas frutigran x 145 gr. coco y almendras galletitas organicas cachafaz x 170 gr. avena y miel galletitas frutigran c/chips chocolate x 255 gr. galletitas cereal mix avena y pasas x 207 gr. galletitas cereal mix frutilla y chia x 207 gr. galletitas cachafaz x 250 gr. avena y pasas galletitas cachafaz x 250 gr. algarroba galletitas dulces frutigran tropical c/frutas x 250 gr. galletitas dulces con salvado frutigran x 500 gr. madalenas dulce aventura x 200 gr. vainilla madalenas dulce aventura x 200 gr. c/chips de chocolate madalenas dulce aventura x 200 gr. marmoladas madalenas valente x 180 gr. chocolate madalenas valente x 180 gr. chips de chocolate madalenas valente x 200 gr. marmoladas madalenas valente x 200 gr. vainilla madalenas valente x 180 gr. dulce de leche madalenas bimbo x 180 gr. dulce de leche madalenas bimbo x 200 gr. marmoladas madalenas bimbo vainilla x 200 gr. madalenas la cumbre con chips de chocolate x 250 gr. madalenas la cumbre vainilla con dulce de leche x 250 gr. madalenas la cumbre chocolate relleno de chocolate x 250 gr. obleas opera triple x 38 gr. chocolate oblea bauducco x 140 gr. frutilla oblea bauducco x 140 gr. vainilla oblea bauducco x 140 gr. nueces oblea 9 de oro vainilla y naranja x 100 gr. obleas opera x 220 gr. oblea de arroz gallo x 6 unid. oblea gallo yogubar x 6 unid. galletitas rellenas bauducco fresa x 65 gr. galletitas bauducco rellenas de chocolate x 65 gr. galletitas formis vainilla rellenas de chocolate x 72 gr. galletitas formis x 72 gr. frutilla galletitas mini oreo x 50 gr. galletitas macucas x 110 gr. galletitas tortitas black x 125 gr. galletitas formis vainilla relleno de frutilla x 102 gr. galletitas formis x 102 gr. dulce de leche galletitas formis vainilla relleno c/chocolate x 102 gr. galletitas mana rellenas x 152 gr. limon galletitas mana rellenas x 152 gr. frutilla galletitas mana rellenas sabor chocolate x 152 gr. galletitas oreo x 118 gr. pepas de membrillo 9 de oro x 200 gr. brigitte 9 de oro x 120 gr. vainilla y limon brigitte 9 de oro x 120 gr. chocolate galletitas oreo milkshake de frutilla x 118 gr. galletitas oreo golden x 118 gr. galletitas sonrisas 3 unid. x 108 gr. galletitas merengadas pack x 3 unid. galletitas oreo x 354 gr. galletitas oreo golden x 354 gr. galletitas schar pausa ciok sin tacc x 350 gr. bizcochos azucarados recetas de la abuela x 180 gr. pepas de membrillo arcor x 183 gr. galletitas portenitas x 139 gr. galletitas dulce aventura x 200 gr. vainilla galletitas bauducco cookies x 100 gr. original galletitas bauducco cookies x 100 gr. chocolate galletitas cofler block x 124 gr. galletitas diversion vainilla x 160 gr. bizcochos 9 de oro agridulces x 170 gr. bizcochos 9 de oro azucarados x 170 gr. galletitas coquitas x 170 gr. scons terrabusi x 160 gr. galletitas dulces chocolate chocolinas bagley x 170 gr. triangulos whisper hoja x150gr palmeritas de hojaldre whisper x 250 gr. galletitas organicas cookids x 200 gr. vainilla galletitas organicas cookids x 200 gr. avena y miel galletitas organicas cachafaz x 170 gr. cacao y miel galletitas chocolinas x 250 gr. galletitas maizena sabor chocolate sin tacc x 180 gr. amaretti whisper x 150 gr. galletitas pepitos x 357 gr. palmeritas deubel manteca x 200 gr. tapitas de alfajor whisper x 500 gr. anillos surtidos terrabusi x 170 gr. galletitas granix fiesta surtidas x 350 gr. galletitas variedad dorada x 310 gr. galettitas variedad terrabusi sabor chocolate x 310 gr. galletitas surtidas diversion x 400 gr. galletitas variedad x 390 gr. galletitas surtido bagley x 390 gr. galletitas surtidas variedad x 590 gr. vainillas whisper x 200 gr. vainillas whisper x 400 gr. vainillas valente x 444 gr. vainillas bimbo x 444 gr. galletitas traviatas x 101 grs. galletitas criollitas lacteadas x 118 gr. galletitas express x 101 gr. galletitas granix sin sal x 140 gr. galletitas criollitas sin sal x169gr. galletitas crackers sandwich granix x 200 gr. galletitas crackers sin sal granix x 185 gr. galletitas media tarde x 3 unid. galletitas traviatas 3 x 101 gr. galletitas criollitas original 3 x 100 grs. galletitas arcor sandwich - pack 3 unid. x 112 gr. c/u mini crackers paseo x 300 gr. galletitas express clasicas - pack 3 unid. x 303 gr. galletitas club social jamon x 141 gr. galletitas criollitas lacteadas x 354 gr. galletitas criollitas mas grandes 3 x 169 gr. galletitas granix sin sal light x 360 gr. galletitas criollitas original pack x 5 galletitas traviata pack x 5 unid. crackers schar sin tacc x 210 gr. bizcochitos la cumbre materos clasicos x 170gr. bizcochos granix x 180 gr. tradicionales bizcochitos la cumbre x 170 gr. con semillas de chia bizcochos la cumbre semillas de sesamo x170gr. bizcochos 9 de oro clasicos x 170 gr. galletitas cereales bagley con avena x 155 gr. galletitas hogarenas sesamo x 167 gr. galletitas hogarenas 7 semillas x 189 gr. galletitas granix con semillas de trigo partido x 185 gr. galletitas lino granix x 185 gr. galletas de arroz gallo x 100 gr. crackeadas galletitas granix sesamo sin sal x 175 gr. galletitas granix salvado sin sal x 230 gr. galletitas cerealitas x 207 gr. galletas deubel semillas x 150 gr. galletitas paseo mix de cereales x 300 gr. galletitas cereales bagley con avena - 3 unid x 155 gr. galletitas hogarenas mix de cereales - 3 packs x 185 gr. galletitas hogarenas 7 semillas pack 3 unid x 189 gr. galletitas cerealitas x 621 gr. galletitas schar digestivas sin tacc x 125 gr. grisines la gallega x100gr. grissines veneziana x 180gr. grisines veneziana salvado x180gr grisines veneziana x180gr.multicereal grisines tipo italiano zigrinato x 180 gr. grisines sin sal riera x 160 gr. grisines riera x160gr.malteado grisines riera x160gr.integral grisines schar sin tacc x 150 gr. galletitas hogarenas x 200 gr. salvado galletitas cereales bagley con salvado x 169 gr. galletitas cereales bagley con salvado sin sal x 169 gr. galletitas granix x 240 gr. salvado galletitas paseo x 300 gr. salvado galletitas granix salvado sin sal light x 410 gr. galletitas bagley salvado 3 unid. x 169 gr. galletitas hogarenas salvado 3 unid. x 200 gr. galletitas granix salvado x 720 gr. galletitas granix salvado sin sal x 690 gr. tostadas bauducco x 142 gr. multigranos tostadas bauducco integral x 142 gr. tostadas mediatarde salvado x 187 gr. tostadas veneziana dulces x200gr. tostadas de arroz cerealitas x 160 gr. tostadas riera x200gr.s/sal tostadas riera x200gr.integral tostadas riera x200gr.mesa tostadas riera x200gr.dulces tostadas criollitas x 195 gr. salvado tostadas criollitas sin sal x 195 gr. tostadas dulces criollitas x 195 gr. tostadas riera x 200gr. multisemillas tostadas riera x200gr.light tostadas de arroz criollitas x 110 gr. tostadas de arroz criollitas x 110 gr. tostadas ser x 195 gr. clasicas tostadas bonafide dulces x 200 gr. tostadas bonafide clasicas x 200 gr. tostadas bonafide light x 200 gr. tostadas schar x 87 gr. alfajor terrabusi torta x 70 gr. alfajor de maizena grande la gallega x unidad. alfajor milka mousse x 55 gr. alfajor terrabusi clasico x 70 gr. alfajor milka triple dulce de leche x 70 gr. alfajor milka mousse triple x 55 gr. alfajor de maizena grande la gallega x 3 unid. alfajor sin culpa mini chocolate blanco x 6 unid. alfajor sin culpa mini chocolate x 6 unid. alfajor ser x 3 unidades alfajor tofi negro x 6 unid. alfajor terrabusi glaseado x 6 unidades alfajor sin culpa limon x 6 unid. alfajor sin culpa frutos rojos x 6 unid. alfajor terrabusi chocolate x 6 unidades alfajor milka mousse x 6 unid. chocolate alfajor santafesino deubel triple x 12 unid. alfajor cachafaz mousse de chocolate x 6 unid. alfajor cachafaz chocolate x 6 unid. alfajor cachafaz mixto x 12 unid. oblea bon o bon x 30 gr. leche oblea bon o bon x 30gr. blanco oblea cofler block xl x 45 gr. postre en barra cofler chocolinas x 40 gr. postre en barra cofler mani x 85 gr. donuts bonafide chocolate con leche x 78 gr. donuts bonafide orange bitter x 78 gr. donuts bonafide chocolate blanco x 78 gr. oblea nugaton blanco x 3 unid. oblea nugaton black x 3 unid. oblea de arroz gallo chocobar x 6 unid. bon o bon blanco x 15 gr. bombones ferrero rocher x 3 unid. bombones ferrero rocher x 50 gr. bon o bon x 105 gr. leche surtido de bombones arcor seleccion x 246 gr. bombones ferrero rocher x 8 unid. surtido de bombones garoto x 250 gr. bombones de fruta mogul x 500 gr. bombones ferrero rocher estuche corazon x 8 unid. bon o bon con chocolinas caja x 270 gr. bombones bon o bon leche x 270 gr. bombones bon o bon blanco x 270 gr. bombones bon o bon aguila x 270 gr. bombones ferrero rocher x 12 unid. bombon ferrero rocher x 300 gr. caramelos masticables arcor frutales x 120 gr. caramelos flynn paff x 128 gr. banana caramelos masticables flynn paff surtidos x 128 gr. caramelos flynn paff uva x 128 gr. caramelos flynn paff frutilla x 128 gr. caramelos mogul frutillas acidas x 150 gr. caramelos mogul moras x 150 gr. caramelos mogul dientes x 150 gr. caramelos de goma mogul ositos x 150 gr. caramelos mogul conitos x 250 gr. caramelos mogul anillos acidos x 220 gr. caramelos mogul jelly buttons x 220 gr. caramelos mogul osos extremos x 200 gr. caramelos masticables zoo salvaje x 498 gr. chupetines mister pop evolution sabor cereza x 10 unid. chupetines mister pops frutal x 625 gr. caramelos butter toffees surtido x 140 gr. caramelos butter toffees leche x 140 gr. caramelos butter tofees sabor chocolate x 140 gr. caramelos arcor menta chocolate x 140 gr. caramelos arcor rellenos frutales x 140 gr. caramelos arcor gajos frutales x 140 gr. caramelos arcor menta cristal x 140 gr. caramelos sugus surtidos x 150 gr. surtido de caramelos arcor x 242 gr. chocolate hamlet almendras y mani x 45 gr. chocolate hamlet leche y cookies x 45 gr. chocolate hamlet yoghurt frutilla x 45 gr. chocolate arcor x 25 gr. leche chocolate cofler graffiti x 45 gr. chocolate milka choco pause x 45 gr. chocolate kit kat white x 45 gr. chocolate kit kat x 45 gr. chocolate kit kat dark x 45 gr. chocolate con leche y mani arcor x 95 gr. chocolate blanco con mani arcor x 95 gr. chocolate kinder x 50 gr. chocolate milka blanco x 55 gr. chocolate vizzio mani x 85 gr. chocolate garoto amendoim x 90 gr. chocolate para taza bonafide x 100 gr. chocolate kinder bueno white x 39 gr. chocolate kinder bueno x 43 gr. chocolate milka leger x 50 gr. almendras chocolate milka leger leche x 50 gr. chocolate milka x 55 gr. con leche chocolate milka con almendras x 55 gr. chocolate milka x 55 gr. castanas con caramelo chocolate cofler x 64 gr. yogurt con frutilla chocolate cofler tres placeres x 55 gr. chocolate cofler macizo x 55 gr. con leche chocolate cofler aireado con bon o bon x 67 gr. chocolate cofler aireado tofi x 70 gr. chocolate cofler aireado con almendras x 55 gr. chocolate cofler aireado blanco x 55 gr. chocolate bonafide 60% cacao x 100 gr. chocolate para taza bonafide x 150 gr. chocolate nestle classic diplomata x 90 gr. chocolate nestle semi-amargo x 90 gr. chocolate nestle crunch x 80 gr. chocolate nestle classic con leche x 90 gr. chocolate blanco nestle classic duo x 90 gr. chocolate suflair x 80 gr. pasas de uva con chocolate la egipciana x 80 gr. chocolate cofler block x 110 gr. chocolate cadbury yoghurt frutilla x 82 gr. chocolate cadbury tres sue%os x 82 gr. chocolate kinder x 100 gr. huevo kinder sorpresa x 2 unid. nenas huevo kinder sorpresa x 2 unid. nenes chocolate cofler aireado almendras x 100 gr. chocolate cofler air con leche x 100 gr. chocolate cofler macizo x 100 gr. con almendras chocolate blanco cofler macizo x 100 gr. con chocolinas confites de chocolate rocklets x 150 gr. chocolate cofler block x 170 gr. chocolate milka x 135 gr. dce de leche chocolate aguila 70% cacao x 150 gr. chocolate milka x 150 gr. con leche chocolate milka x 155 gr. con almendras surtido de chocolates arcor el kiosco en casa x 246 gr. chocolate cofler con mani x300gr. mantecol bajo en sodio x 253 gr. turron de mani y chocolate arcor x 10 unid. turron de mani arcor x 10 u. lampara led osram classic x 40 w. luz blanca lampara led osram 60w x 1 unid. luz calida lampara osram led classic 60 w. luz blanca lampara led osram classic x 75 w. luz blanca lampara led osram 75w x 1 unid. luz calida lampara led osram 90w x 1 unid. luz calida lampara led osram classic x 90 w. luz blanca lampara led osram 100w x 1 unid. luz calida lampara led osram 75w x 2 unid. luz blanca lampara osram led star 20 w. luz blanca lampara led osram 75w x 3 unid. luz blanca lampara osram vintage edison 7,5 w. luz calida crema de leche tremblay x 200 gr. crema de leche ilolay x 200 gr. crema de leche tonadita x 200 ml. crema de leche tonadita baja en lactosa x 200 gr. crema de leche lechelita x 200 gr. crema de leche doble tonadita x 200 cc. crema de leche la paulina x 200 gr. crema de leche tregar x 200 ml. crema de leche la cremeria para cocinar x 200 ml. crema de leche milkaut doble x 205 ml. crema de leche la cremeria doble x 205 gr. crema de leche la serenisima liviana x 200 ml. crema de leche la serenisima clasica x 200 ml. crema de leche la serenisima x 200 ml. crema de leche ilolay x 350 gr. crema de leche tonadita x 350 ml. crema de leche tregar x 350 ml. crema de leche la paulina x 350 gr. crema de leche milkaut x 325 ml. crema de leche la serenisima x 330 ml. ideal para cocinar crema de leche la serenisima x 330 ml. crema de leche la serenisima p/cocinar x 520 ml. leche condensada descremada nestle x 395 gr. leche condensada nestle original x 395 gr. crema de leche la serenisima clasica x 520 ml. crema tipo chantilly en aerosol la serenisima x 250 gr. jugo bovino faty x 500 gr. leche descremada en polvo la serenisima x 200 gr. leche en polvo descremada purisima x 30 sobres 5 gr. c/u leche descremada en polvo ilolay light x 30 sobres de 5g c/u leche en polvo nido fortigrow x 400 gr. leche en polvo svelty clasica 0% grasas x 400 gr. leche en polvo svelty descremada x 370 gr. leche descremada en polvo la serenisima x 400 gr. leche descremada en polvo purisima plus x 800 gr. leche en polvo descremada ilolay x 800 gr. leche entera en polvo la serenisima x 200 gr. leche en polvo entera ilolay x 400 gr. leche entera en polvo la serenisima x 400 gr. leche en polvo la lechera x 400 gr. leche en polvo entera la paulina x 800 gr. leche en polvo purisima plus x 800 gr. leche en polvo ilolay entera x 800 gr. leche en polvo la lechera x 800 gr. leche en polvo nutrilion 3 x 1,2 kg. leche en polvo reducida en lactosa purisima x 400 gr. leche en polvo svelty a2 facil digestion x 370 gr. leche en polvo svelty 0% lactosa x 370 gr. leche en polvo nido organica x 370 gr. leche en polvo la serenisima zero lactosa x 400 gr. bebida lactea actimel multifruta x 100 gr. bebida lactea actimel frutilla x 100 gr. alimento lacteo danonino frutilla x 100 gr. alimento bebible activia x 185 gr. mango y maracuya alimento lacteo danonino frutilla x 185 gr. leche descremada lechelita x 1 lt. leche parcialmente descremada milkaut larga vida x 1 lt. leche descremada ilolay x 1 lt. leche la serenisima descremada 0% x 1 lt. leche la serenisima descremada 1 % x 1 lt. leche armonia larga vida 1% x 1 lt. leche armonia larga vida 2% x 1 lt. leche descremada 0% tenor graso tregar x 1 lt. leche la serenisima multi defensas 1% x 1 lt. leche descremada la serenisima 1% x 1 lt. leche la serenisima larga vida 1% x 1 lt. leche la serenisima larga vida 0% x 1 lt. leche descremada la serenisima protein x 1 lt. leche descremada la serenisima extra calcio x 1 lt. leche descremada la serenisima cardio x 1 lt. leche descremada con hierro la serenisima x 1 lt. leche entera tregar x 1 lt. larga vida leche entera lechelita 3% x 1 lt. leche entera milkaut larga vida x 1 lt. leche entera larga vida ilolay x 1 lt. leche la serenisima clasica mas liviana 2 % x 1 lt. leche la serenisima clasica 3 sachet x1lt. leche la serenisima multi defensas 3% x 1 lt. leche entera larga vida la serenisima 2% x 1 lt. leche la serenisima larga vida 3% x 1 lt. leche reducida en lactosa ilolay x 1 lt. leche reducida en lactosa tregar x 1 lt. leche reducida en lactosa la serenisima sachet x 1 lt. leche la serenisima 0% lactosa x 1 lt. leche chocolatada milkaut x 200cc. leche chocolatada baggio 7 dias x 200 ml. leche chocolatada tregar x200 leche chocolatada san ignacio x 200 ml. leche chocolatada baggio shake x 200 ml. leche de mani vitalite sin azucar x 1 lt. leche chocolatada nesquik x 200 ml. leche chocolatada nesquik menos azucar x 200 ml. leche chocolatada ilolay x 200 ml. leche chocolatada cindor x 200 ml. jugo de naranja a base de arroz la serenisima x 1 lt. jugo de manzana a base de arroz la serenisima x 1 lt. leche chocolatada descremada ilolay kids l.v.x1lt. leche chocolatada tregar x 1 lt. bebida lactea la serenisima 0% x 900 ml. frutilla bebida lactea serenisima sin azucar x 900 ml. frutilla bebida lactea la serenisima 0% x 900 ml. vainilla bebida lactea serenisima sin azucar x 900 ml. vainilla leche de almendras vitalite sin azucar x 1 lt. leche chocolatada baggio shake x 1 l. leche chocolatada larga vida milkaut x 1 lt. leche de almendras silk sabor chocolate x 1 lt. leche de coco silk x 1 lt. leche de almendras silk vainilla x 1 lt. leche almendras ades x1lt. leche chocolatada cindor x 1 lt. leche chocolatada cindor x 1 lt. leche chocolatada cindor sabor mocha x 1 lt. leche de almendras sin azucar la serenisima x 1 lt. leche de almendras la serenisima x 1 lt. manteca tonadita light x 100 gr. manteca tonadita x 100 gr. con vitamina e manteca ilolay x 100 gr. margarina flora danica 100% vegetal x 200 gr. margarina margadan x 200 gr. manteca la paulina x 100 gr. manteca lechelita x 100 gr. margarina danica pan + leche x 200 gr. manteca milkaut x 100 gr. margarina delicia x 200 gr. pan margarina danica dorada cremosa x 210 gr. margarina danica equilbrio x 220 gr. margarina danica soft light x 200 gr. manteca la serenisima x 100 gr. manteca ilolay x 200 gr. manteca tonadita x 200 gr. con vitamina e manteca tonadita light x 200 gr. manteca tonadita sin sal x 200 gr. manteca la paulina x 200 gr. manteca milkaut x 200 gr. margarina margadan x 500 gr. manteca con crema la serenisima x 200 gr. manteca la serenisima light x 200 gr. manteca la serenisima x 200 gr. manteca la serenisima para untar x 200 gr. manteca la paulina x 500 gr. manteca tonadita con vitamina e x 500 gr. postre ilolay kids sabor vainilla x 120 gr. flan ilolay kids vainlla, caramelo y dce de leche x 110 gr. flan ilolay kids vainilla con caramelo x 110 gr. postre ilolay dulce de leche x 130 gr. postre ilolay kids vainilla y dulce de leche x 120 gr. postre ilolay kids chocolate x 120 gr. arroz con leche tregar x 180 gr. clasico arroz con leche tregar x 180 gr. con canela arroz con leche tregar light x 180 gr. postre sublime chocolate blanco c/dulce de leche x 95 gr. postre serenito sabor vainilla x 100 gr. postre serenito sabor chocolate x 100 gr. postre serenito sabor vainilla x 100 gr. flan con caramelo ser x 95 gr. postre ser sabor vainilla con dulce de leche x 100 gr. postre danette sabor chocolate x 95 gr. postre danette sabor dulce de leche x 95 gr. postre danette sabor crema americana x 95 gr. postre shimy dulce de leche x 120 gr. postre shimy vainilla x 120 gr. postre ilolay kids x 110 gr. top crispines postre ilolay kids x 110 gr. top confites postre danette dulce de leche con crema x 100 gr. postre ser mousse de chocolate x 70 gr. postre ser mousse dulce de leche x 70 gr. flan casero sancor con dulce de leche 2 x 115 gr. flan casero sancor light c/caramelo x 2 unid. flan casero sancor c/dulce de leche x 2 unid. flan casero sancor c/caramelo x 2 unid. postre serenito con rocklets x 120 gr. crema tipo chantilly tregar x 250 ml. queso cremoso rosalat x 100 gr. queso port salut tremblay x 100 gr. queso cremoso la paulina x 100 gr. queso por salut light tremblay x 100 gr. sin sal queso cuartirolo ricrem x 100 gr. queso port salut light la paulina x 100 gr. queso por salut tregar x100gr. queso milkaut cremoso x 100 gr. queso cremoso tregar x 100 gr. queso port salut la paulina x100gr. queso cheddar tremblay x 100 gr. queso cremoso doble crema la paulina x 100 gr. queso milkaut por salut x 100 gr. queso cremoso canut x 100 gr. queso cremoso paladini x 100 gr. queso port salut paladini x 100 gr. queso magro canut sin sal x100gr. queso mozzarella ilolay x 100 gr. queso regio la paulina x 100 gr. queso por salut tremblay trozado x 100 gr. queso cremon la serenisima x 100 gr. queso azul rosalat x100gr. queso por salut la serenisima x 100 gr. queso cremon la serenisima light x 100 gr. queso azul tremblay x100gr. queso cremon la serenisima light x 100 gr. queso saint paulin la serenisima light x 100 gr. queso azul tregar x100gr. queso azul la paulina x 100 gr. queso sardo rosalat x 100 gr. queso pategras la paulina x 100 gr. queso romanito rosalat x 100 gr. queso sardo tremblay x100gr. queso sardo canut x 100 gr. queso sardo la paulina x100gr. queso reggianito canut x100gr. queso goya la paulina x100gr. queso provoleta canut parrillero x 100 gr. queso reggianito la paulina x100gr. queso romanito tremblay x 100 gr. queso sardo paladini x 100 gr. queso reggianito tremblay x 100 gr. queso reggianito paladini x 100 gr. queso fundido adler para untar sabor salame x 100 gr. queso fundido adler para untar sabor gruyere x 100 gr. queso fundido adler para untar sabor fontina x 100 gr. queso fundido adler para untar sabor jamon x 100 gr. queso gouda la paulina trozado x100gr. provoleta rosalat x kg. queso holanda tregar fraccionado x100gr. queso pategras tremblay trozado x kg. queso cheddar en fetas tonadita x 10 unid. queso adler 8 unid. x 15 gr. c/u jamon queso adler 8 porciones x 15 gr. fontina queso azul san ignacio x 140 gr. queso cheddar en fetas adler x 8 unid. queso adler x144gr. danbo queso azul bavaria x 125 gr. queso en fetas la paulina x 180 gr. tybo queso danbo en fetas la paulina x 180 gr. queso en fetas la paulina x 180 gr. mozzarella queso santa rosa azul envasado x 140 gr. queso azul trozado bavaria x 125 gr. queso cheddar en fetas milkaut x 145 gr. queso en fetas finlandia x 150 gr. danbo queso finlandia chef danbo light x 150 gr. queso provoleta la serenisima sin lactosa x 180 gr. queso rallado rosalat x 40 gr. queso rallado tremblay x40gr. queso rallado ilolay x 40 gr. queso rallado tregar x 40 gr. queso rallado la paulina x 40 gr. queso rallado milkaut x 40 gr. queso rallado la serenisima x 35 gr. queso en hebras la paulina mini x 80 gr. cuatro quesos queso rallado ilolay x 115 gr. queso rallado la serenisima x 70 gr. queso rallado la serenisima x 80 gr. reggianito light queso en hebras la paulina x 135 gr. italiano queso en hebras la paulina x 135 gr. napolitano queso en hebras la paulina x 135 gr. cuatro quesos light queso en hebras la paulina x 135 gr. mediterraneo queso rallado tregar x 120 gr. queso en hebas finlandia chef x 130 gr. cheddar queso en hebas finlandia chef x 130 gr. mozzarella y parmes. queso en hebras finlandia chef x 130 gr. 4 quesos light queso rallado milkaut x 120 gr. queso rallado la paulina x 150 gr. queso rallado la serenisima x 130 gr. queso rallado la serenisima x 175 gr. queso en hebras la paulina italiano x 400 gr. queso en hebras la paulina italiano light x 400 gr. queso rallado la paulina x 450 gr. queso barra tybo rosalat x 100 gr. queso mozzarella tremblay x 100 gr. queso danbo tremblay x 100 gr. queso danbo magro tremblay x 100 gr. queso pategras ilolay x 100 gr. queso danbo barra tregar x100gr. queso pategras sandwich la paulina x 100 gr. queso danbo p/sandwich canut x 100 gr. queso tybo ilolay x 100 gr. queso danbo la paulina x 100 gr. queso tybo descremado la paulina x 100 gr. queso mozzarella milkaut x 100 gr. queso milkaut dambo x 100 gr. queso mozzarella la paulina x 100 gr. queso fynbo tremblay x 100 gr. queso gouda tremblay x 100 gr. queso fynbo canut x100gr. queso pategras tregar x100gr. queso danbo paladini x 100 gr. queso pategras tremblay x 100 gr. queso criollo tremblay x 100 gr. queso holanda tregar x100gr. queso criollo tregar x100gr. queso gouda canut x 100 gr. queso azul bavaria x 100 gr. queso fontina la paulina x100gr. queso pategras milkaut x 100 gr. queso pategras la serenisima sin lactosa x 100 gr. queso pategras paladini x100gr. queso azul paladini x 100 gr. queso pimentino ahumado canut x 100 gr. queso untable tremblay x 190 gr. clasico queso cremoso untable ilolay crem clasico x 290 gr. queso crema la paulina tradicional x 290 gr. queso untable patagonia tonadita x 200 gr. queso untable la paulina magro x 190 gr. queso untable tregar neufchatel x200g. clasico queso crema tregar x 190 gr. queso crema doble la paulina x 250 gr. queso untable cremoso adler x 190 gr. clasico queso milkaut untable clasico x190gr. queso untable milkaut port salut x190gr. queso untable la serenisima original x 290 gr. queso tregar mascarpone x 200gr. queso blanco tregar clasico x 290 gr. queso untable milkaut crematto clasico x 285 gr. queso untable patagonia tonadita x 300 gr. queso untable finlandia balance x 180 gr. queso untable finlandia clasico x 180 gr. queso untable cremon original la serenisima x 280 gr. queso untable milkaut crematto x 450 gr. queso untable casancrem clasico x 480 gr. queso untable finlandia clasico x 290 gr. queso untable finlandia balance x 290 gr. queso cremoso untable ilolay crem light x 290 gr. queso crema la paulina light x 290 gr. queso untable patagonia tonadita x 200 gr. light queso untable neufchatel tregar x 200 gr. light queso crema tregar light x 190 gr. queso untable light la serenisima clasico x 290 gr. queso blanco untable tregar light x 290 gr. queso untable milkaut crematto light x 285 gr. queso untable tonadita light x 300 gr. queso untable finlandia light x 180 gr. queso untable la serenisma port salut light x 180 gr. queso untable milkaut crematto light x 450 gr. queso untable la serenisima cremon light x 280 gr. queso untable casancrem light x 480 gr. queso untable finlandia light x 290 gr. queso untable tremblay x 190 gr. finas hierbas queso untable la paulina cheddar x190gr. queso untable ilolay 4 quesos x190g. queso untable ilolay con jamon x190gr. queso untable ilolay con queso azul x 190gr. queso untable gruyere ilolay x 190 gr. queso untable la paulina fontina x 190 gr. queso untable la paulina azul x 190 gr. queso untable la paulina jamon x 190 gr. queso untable la paulina 4 quesos x190gr. queso untable bavaria creme de queso azul x 150 gr. queso untable tregar neufchatel x200gr. salame queso untable tregar neufchatel x200g.queso azul queso untable cremoso adler x 190 gr. queso azul queso untable cremoso adler x 190 gr. jamon queso untable adler sabor salame x 190 gr. queso untable milkaut jamon x190gr. queso milkaut unt.cheddar x190gr. queso untable milkaut salame x190gr. queso crema la paulina x250gr.ciboullette queso azul untable finlandia light x 180 gr. queso untable finlandia cheddar light x 180 gr. queso untable finlandia sweet chilli x 180 gr. queso untable finlandia light x 180 gr. jamon y parmesano queso untable finlandia light aceit ver y parmesano x 180 gr queso untable finlandia light finas hierbas x 180 gr. ricota entera el destino x 100 gr. ricota magra el destino x100gr. ricota rosalat trozada x100gr. ricota rosalat x100gr. ricotta untable entera tregar x 290 gr. ricotta garcia x 500 gr. yogur bebible sancor yogs x 185 gr. vainilla yogur bebible sancor yogs x 185 gr. frutilla yogur bebible descremado sancor yogs x 185 gr. frutilla yogur bebible gran compra x 900 gr. vainilla yogur bebible descremado milkaut x 900 gr. vainilla yogur bebible descremado milkaut x 900 gr. frutilla yogur bebible ilolay x 1 kg. durazno yogur bebible activia x 185 gr. chia y arandanos yogur bebible entero tregar x 1 kg. vainilla yogur bebible entero tregar x 1 kg. frutilla yogur bebible descremado ilolay x 1 kg. vainilla yogur bebible light tregar x 900 gr. vainilla yogur bebible tregar light x 900 gr. frutilla yogur bebible milkaut x 900 gr. frutilla yogur bebible milkaut x 900 gr. vainilla yogur bebible ser fusion frutilla y remolacha x 190 gr. yogur bebible ser fusion multifruta x 190 gr. yogur bebible la serenisima light x 900 gr. vainilla yogur bebible la serenisima x 1 kg. frutilla yogur bebible la serenisima x 1 lt. sabor vainilla yogur bebible entero sancor yogs x 1 kg. vainilla yogur bebible entero sancor yogs x 1 kg. frutilla yogur entero bebible milkaut x 1,25 lt. frutilla yogur entero bebible milkaut x 1,25 lt. vainilla yogur bebible yogurisimo x 1 kg. frutos rojos yogur bebible yogurisimo banana x 1 kg. yogur bebible yogurisimo x 1 kg. frutilla yogur bebible yogurisimo durazno x 1 kg. yogur descremado la serenisima clasico x 120 gr. frutilla yogur descremado batido ilolay x 120 gr. frutilla yogur descremado batido ilolay x 120 gr. vainilla yogur descremado tregar light x 125 gr. vainilla yogur descremado la serenisima clasico x 120 gr. vainilla yogur ilolay firme descremado frutilla x 190 gr. yogur ilolay firme descremado vainilla x 190 gr. yogur batido descremado milkaut x 190 gr. yogur descremado batido milkaut x 190 gr. frutilla yogur descremado tregar con frutas x 160 gr. frutilla yogur descremado tregar con frutas x 160 gr. durazno yogur descremado tregar con frutas x 160 gr. arandanos yogur descremado milkaut colchon de frutillas x 150 gr. yogur descremado milkaut colchon de durazno x 150 gr. yogur descremado milkaut c/semillas x 140 gr. vainilla yogur con cereales y frutas ser crunch x 158 gr. yogur descremado sancor vida x 190 gr. vainilla yogur descremado sancor vida x 190 gr. frutilla yogur descremado milkaut x 140 gr. vainilla con granola yogur batido ser calci+ sabor durazno x 120 gr. yogur batido ser calci+ x 120 gr. frutilla y arandanos yogur batido ser calci+ sabor vainilla x 120 gr. yogur ser batido sabor natural x 175 gr. yogur ser colchon manzana-durazno x 175 gr. yogur ser colchon frutos rojos x 175 gr. yogur ser con granola x 155 gr. yogur ser con cereales x 166 gr. yogur bebible descremado la serenisima frutilla x 900 gr. yogur milkaut 0% lactosa x 120 gr. vainilla yogur milkaut 0% lactosa x 120 gr. frutilla yogur sin lactosa ser colchon durazno x 140 gr. yogur batido sin lactosa ser x 300 gr. sabor natural yogur cremoso la serenisima x 120 gr. vanilla yogur entero batido ilolay x 120 gr. frutilla yogur entero batido ilolay x 120 gr. vainilla yogur entero cremoso milkaut x 120 gr. frutilla yogur entero cremoso milkaut x 120 gr. vainilla yogur cremoso gran compra x 120 gr. frutilla yogur cremoso gran compra sabor vainilla x 120 gr. yogur entero tregar x 125 gr. dulce de leche yogur entero batido tregar x 125 gr. frutilla yogur entero tregar x 125 gr. vainilla yogur cremoso la serenisima vainilla x 120 gr. yogur la serenisima firme x 120 gr. frutilla yogur entero ilolay colchon de frutillas x 150 gr. yogur ilolay entero firme dulce de leche x 190 gr. yogur ilolay entero firme vainilla x 190 gr. yogur ilolay entero firme frutilla x 190 gr. yogur entero batido milkaut x 190 gr. vainilla yogur entero batido milkaut x 190 gr. frutilla yogur entero tregar con frutas x 160 gr. frutilla yogur entero tregar con frutas x 160 gr. arandanos yogur entero tregar x 140 gr. natural yogur entero ilolay c/cereales azucarados x 165 gr. yogur entero tregar con frutas x 160 gr. anana yogur milkaut colchon de durazno x 150 gr. yogur milkaut colchon de frutillas x 150 gr. yogur la cremeria mora x 120 gr. yogur la cremeria durazno y naranja x 120 gr. yogur sancor yogs firme x 190 gr. frutilla yogur tregar entero con cereales x150gr. yogur entero ilolay kids x 160 gr. aritos de cereal yogur yogurisimo x 190 gr. natural yogur batido sabor frutilla con cereales milkaut x 140 gr. yogur firme la serenisima clasico x 190 gr. vainilla yogur firme la serenisima clasico x 190 gr. frutilla alimento lacteo danonino frutilla x 80 gr. alimento lacteo danonino vainilla x 80 gr. yogur milkaut x 140 gr. vainilla con granola yogur sancor yogs colchon de frutilla x 160 gr. yogur sancor yogs colchon de durazno x 160 gr. yogur firme yogurisimo vainilla x 120 gr. yogur yogurisimo cremix sabor frutilla x 120 gr. yogur yogurisimo cremix vainilla x 120 gr. yogur cremoso sancor yogs frutilla 2 unid. x 120 gr. yogur cremoso sancor yogs vainilla 2 unid. x 120 gr. yogur entero sancor yogs pack x 2 unid. dulce de leche yogur bebible gran compra x 900 gr. frutilla yogur bebible milkaut sabor durazno x 900 gr. yogur yogurisimo firme sabor vainilla x 190 gr. yogur yogurisimo firme sabor frutilla x 190 gr. yogur yogurisimo con cereales x 166 gr. yogur yogurisimo natural x 300 gr. yogur yogurisimo cremix frutilla x 480 gr. yogur yogurisimo cremix sabor vainilla x 480 gr. pala de mano dea cabo ac.bettan.novica verde x 1,2 mts. fuenton de plastico 11 litros dea blade de plastico 10 litros dea pala bettanin rebatible c/cabo bolsas para consorcio green plast 60 x 90 cm. x 10 unid. bolsa para residuos green plast 45 x 60 cm. x 30 unidades bolsa de residuos asurin bano 34 x 38 cm. x 30 unid. bolsa de consorcio green plast 80 x 110 cm. x 10 unidades bolsa de consorcio green plast 90x120 cm x 10 unidades bolsa para residuos asurin cierra facil 45 x 55 cm. x 20 un. bolsas para residuos asurin 45 x 60 cm. x 30 unid. bolsas de consorcio asurin 60 x 100 cm. x 10 u. bolsa de consorcio asurin 60 x 95 cm. x 10 unid. bolsa de residuos asurin mediana 50 x 65 cm. x 20 unid. bolsas de residuos asurin mediana 50 x 65 cm. x 20 unid. bolsas de consorcio asurin 60 x 95 cm. x 10 unid. bolsas para residuos asurin 50 x 70 cm. x 30 unid. bolsas de residuos asurin mediana 50 x 70 cm. x 30 unid. sopapa de goma dea calidad superior negra 4\" cepillo para unas bettanin escoba plastica sin cabo a1 cepillo bettajeans escoba plastica sin cabo yet cepillo de largo alcance bettanin cepillo sanitario c/pote sanilux escoba plastica yet con cabo escoba multiuso virulana escoba para exteriores virulana escobillon para alfombras virulana secador de goma para pisos dea negro nro.26 secador para pisos de goma negro dea nro.40 secador para pisos de goma negro dea nro.50 escobillon sin cabo yet escobillon caribe bettanin sin cabo secador de plastico yet escoba plastica a1 con cabo escobillon argentino secador de goma dea n 50 escobillon africano s/cabo escobillon bori sin cabo yet escobillon plastico yet con cabo escobillon africano con cabo yet escobillon bori con cabo escobillon americano con cabo yet escobillon virulana rincones escobillon varry bettanin sin cabo esponja de acero dea x 1 unid. estropajo de acero dea esponja de acero a1 flow x 1 unid. esponja crivea acero x1 esponja dorada dea 20x24 esponja de bronce yet x 1 unid. esponja dorada limpex esponja inoxidable dea acero x 2 unid. estropajo de acero sed metal esponja dorada sed metal esponja de acero gigante dea x 1 unid. esponja de bronce crivea x 1unidad. esponja de bronce simple virulana rejilla dorada dea doble uso esponja de acero poliester dea esponja virulana de bronce doble uso chatita esponja inoxidable dea bronce x 2 unid. esponja dea inoxidable doble bronce/poliester x 16 gr. esponja inoxidable yet esponja de acero sed metal 1 x 50 gr. esponja dorada gigante dea x 1 unid. esponjas de bronce sed metal x 2 unid. esponja dea alma de bronce x 15 gr. esponja de bronce sed metal extra grande fibra esponja lisa yet fibra verde multiuso dea esponja dea dunita superficies delicadas fibra esponja sed metal lisa fibra esponja cuadriculada yet esponja con fibra salvaunas yet esponja sed metal fibra verde fibra parrillera dea fibra multiuso verde yet x 2 esponja suave dea fibra esponja sed metal cero rayas esponja sed metal cuadraditos fosforos tres patitos x 222 unid. fosforos 3 patitos premium x 250 unidades fosforos tres patitos x 400 unid. fosforos fragata eco x 400 unid. guantes batuque afelpado mediano guantes dea de latex natural afelpado talle chico guantes dea de latex natural afelpado talle mediano guantes yet clasico chico guantes yet clasico mediano guantes yet clasico grande guantes yet premium chico guantes yet premium grande guantes yet premium mediano rejilla ranchera hogar 36x40cm. rejilla para autos ranchera 44x58 repasador blanco sed metal pano multiuso skay x 1 unidad pano sintetico multiuso a1 x 1 unidad pano antibacterial yet x 1 unidad pano ecologico yet x 1 unid. pano desengrasante yet x 1 unid. pano sed metal pisos x 1 unid. pano sintetico para pisos a1 x 1 unid. pano absorbente multiuso a1 x 3 unid. panos semi-desechables scott duramax x 7 unid. pano limpiador para pisos dea 50 x 57 cm x 1 unid. pano multiuso yet 38 cm. x 38 cm. x 3 unid. pano absorbente para pisos yet 50 cm. x 58 cm. trapo de piso frisado blanco sed metal cif ballerina limpiador pano multiuso x3 panos reutilizables scott duramax antibacterial x 48 unid. pano skay multiuso rollo ecobolsas palillero ideal x 100 unidades limpia inodoros adhesivo glade x 1 unid. lavanda glade pastilla p/inodoros pino harpic pastilla inodoro pino x 1 unid. desodorante para inodoros banoflor frutal x 1 pastilla pastilla p/inodoro glade lavanda x 25 gr. glade pastilla manana de campo glade inodoro full 3 en 1 desodorante para inodoros crivea azul repuesto floral desodorante para inodoros crivea azul repuesto pino bloque p/mochila crivea x 50 gr. canasta para inodoro vim 3 en 1 citrus bloque p/mochila de inodoro pato purific x 1 unid. desodorante para inodoros crivea azul floral con canasta discos adhesivos p/inodoros glade x 2 u. canasta liquida p/inodoros pato purific repuesto citrus limpiador p/inodoros pato purific discos activos x 12 gr. glade canasta liquida respuesto i love you glade canasta liquida repuesto brisa de las cumbres mr.musculo canasta liquida full marina pastilla para inodoro vim x 2 unid. oceano disco adhesivo p/inodoros pato purific x 1 unid. citrus disco adhesivo p/inodoros pato purific x 1 unid. tropical discos p/inodoros pato purific respuesto floral bloque para mochila crivea x 2 unid. glade canasta liquida full i love you glade canasta liquida full manana de campo limpiador cif bano x 450 ml. limpiador ayudin bano limpieza activa x 450 ml. limpiador lysoform bano x 450 ml. limpiador cif bano x 900 ml. limpiador procenex bano gold x 820 ml. limpiador cif bano x 500 ml. gatillo procenex bano x 500 ml. gatillo limpiador harpic blanco y brillante x 500 ml. limpiador harpic power plus citrus x 500 ml. limpiador harpic power plus fresh x 500 ml. limpiador harpic removedor de sarro x 500 ml. limpiador harpic power plus original x 500 ml. limpiador p/inodoros lysoform active power x 500 ml. lavanda desinfectante p/bano lysoform gatillo x 500 ml. limpiador para inodoros pato purific citrus x 500 ml. gel limpiador p/inodoros pato purific x 500 ml. tropical bolsas multiuso separata 27 x 28 cm. x 5 unid. bolsas multiuso separata 18 x 20 cm x 8 unid. bolsas multiuso separata sandwich x 12 unid. bolsas hermeticas bolzip grande 27 x 28 cm. x 5 unid. bolsas hermeticas bolzip chica 17 x 15 cm. x 10 unid. bolsas hermeticas bolzip medianas 18x20 cm. x 6 unid. bolsas para sandwich ziploc x 50 unid. lavavajilla zorro ultra x300ml.limon y te verde lavavajillas zorro ultra x 300 ml. aloe y coco lavavajillas zorro ultra x 300 ml. menta y algas lavavajillas libertador x 750 ml. lavavajilla gigante antibacterial moras del bosque x 750 ml lavavajilla gigante x 750 ml. amanecer detergente ala cristalino limon x 750 ml. lavavajillas ala cremoso x 750 ml. con glicerina lavavajillas zorro x 750 ml. pepino detergente libertador x1lt. detergente cif bioactive frutas citricas x 300 ml detergente cif bioactive limon x 300 ml. detergente ala ultra x 450 ml. limon y ecualitpo detergente cif bioactive x 450 ml. limon verde lavavajillas zorro ultra x 500 ml. limon lavavajillas zorro ultra x 500 ml. naranja y jengibre lavavajillas zorro ultra x 500 ml. aloe y coco detergente cif bio active lima x 500 ml. detergente cif bioactive limon x 500 ml. lavavajilla ala ultra glicerina x 500 ml. detergente ala ultra limon x 500 ml. detergente cif bioactive frutas citricas x 500 ml. detergente cif extra x 500 ml. antibacterial detergente libertador x2lt. detergente cif bioactive limon x 750 ml. polvo lavavajilla sun progress x 1 kg. polvo para maquina lavavajillas finish x 1 kg. abrillantador finish x 400 ml. tabletas para maquina lavavajilla sun x 20 unid. bolsas para horno separata x 10 unid. limpiador cif antigrasa x 450 ml. limpiador zorro antigrasa x 500 ml. limpiador procenex antigrasa x 900 ml. citrus limpiador procenex antigrasa lima x 900 ml. limpiador mr musculo cocina extra power x 450 ml. limpiador cif antigrasa x 900 ml. limpiador procenex antigrasa x 820 ml. limpiador cif antigrasa gatillo x 500 ml. limpiador mr musculo antigrasa x 900 ml. procenex cocina gatillo x 500 ml. limpiador zorro antigrasa gatillo x 500 ml. limpiador mr. musculo extra power cocina x 900 ml. limpiador ayudin cocina gatillo x 500 ml. palillero ideal x 50 unid. palitos p/brochette ideal x25u palillero ideal 2x50u. glade minigel x70gr. lavanda glade minigel x 70 gr. limon crivea sec repuesto x 175 g crivea sec repuesto maxi pote x350gr. desodorante antihumedad aire pur mini pino desodorante antihumedad aire pur mini limon desodorante antihumedad aire pur mini lavanda desodorante antihumedad aire pur mini cedron crivea sec pote x 175 gr. repuesto desodorante antihumedad aire pur limon sanitizante lysoform lavanda x 55 ml. desodorante de ambiente glade x 360 ml. jazmin desodorante de ambiente glade caricias de algodon x 360 ml. desodorante de ambiente glade paraiso azul x 360 ml. desodorante de ambiente glade limon x 360 ml. desodorante de ambiente glade manana de campo x 360 ml. desodorante de ambiente glade harmony x 360 ml. desodorante de ambiente glade x 360 ml. caricias de bebe desodorante de ambiente glade vainilla x 360 ml. desodorante de ambiente glade x 360 ml. i love you desodorante de ambiente poett x 360 ml. suavidad de algodon desodorante de ambiente poett x 360 ml. despertar de energia desodorante de ambiente poett x 360 ml. musica en primavera desodorante de ambiente poett x 360 ml. espiritu play sanitizante lysoform bebe x 285 ml. sanitizante lysoform original x 285 ml. desinfectante en aerosol ayudin x 332 ml. bebe sanitizante lysoform frutal x 360 ml. sanitizante lysoform lavanda x 360 ml. desodorante de ambiente lysoform bebe gel aromatizante glade auto x 70 gr. insecticida libertador x1lt.cucarachas cebo mata cucarachas raid x 6 unid. jeringa mata cucarachas en gel raid max x 3 gr. insecticida raid max mata cucarachas y aranas x 360 ml. insecticida raid mata cucarachas x 360 ml. insecticida baygon casa y jardin x 300 ml. insecticida libertador base acuosa x1lt. insecticida raid casa y jardin x 360 ml. insecticida raid x 390 ml. mata hormigas fluido desinfectante allemandi x500cc. insecticida raid mata pulgas y garrapatas x 390 ml. hormiguicida liquido allemandi x250cc. hormiguicida liquido allemandi x500cc. tabletas contra mosquitos raid x 24 unid. insecticida selton mata moscas y mosquitos x 360 ml. insecticida fuyi mata moscas y mosquitos x 360 ml. insecticida selton mata moscas y mosquitos s/olor x 360 ml. insecticida raid moscas y mosquitos x 360 ml. insecticida raid mata moscas y mosquitos x 370 ml. insecticida raid max mata moscas y mosquitos x 370 ml. repuesto de perchita antipolilla repzol perfumado x 50 gr. perchita antipolilla repzol perfumado x 50 gr. matapolillas repzol perfumado pastillas x 100 gr. matapolillas repzol perfumado pastillas x 200 gr. espirales fuyi x 4 unidades espirales raid doble accion x4 original espirales raid doble accion x 12 unid. original espirales fuyi x 12 unid. original repelente livopen proteccion completa x 165 ml. aerosol repelente off crema family x 200 gr. repelente fuyi aerosol x165ml. tabletas contra mosquitos fuyi x 24 unid. repelente livopen maxima duracion x 165 ml. aerosol repelente contra mosquitos en aerosol off x 170 ml. repelente off crema kids x90gr. repelente en aerosol off x 170 ml. extra duracion aparato para tabletas contra mosquitos fuyi aparato ahuyenta mosquitos raid + 4 tabletas liquido electrico contra mosquitos fuyi doble accion liquido electrico contra mosquitos fuyi dob. accion repuesto repelente off proteccion invisible x 98,7 ml. repelente off spray extra duracion x200ml. repelente off x 200 ml. spray repelente off suenos x 119 ml. lavandina en gel ayudin citrus x 700 ml. lavandina en gel ayudin x 700 ml. lavanda lavandina en gel ayudin x 700 ml. original lavandina en gel vim original x 700 ml. lavandina en gel libertador x 700 ml. gel con lavandina lysoform x 450 ml. toallitas desinfectantes ayudin x 24 unid. aroma limon toallas desinfectantes ayudin x 24 unid. aroma fresco toallas desinfectantes ayudin aroma fesco x 36 unid. cloro p/piletas libertador x 4 lt. toallitas desinfectantes ayudin x 65 unid. lavandina libertador x1lt.econ lavandina libertador x1lt. lavandina ayudin x 1 lt. lavandina libertador x 2 lt. lavandina libertador x 2 lt. limpiador cif bano antibacterial x 450 ml. limpiador ayudin expert multisuperficies x 450 ml. limpiador cif crema limon x 375 gr. limpiador lysoform multisuperficies x 450 ml. limpiador cif crema original x 375 gr. limpiador desinfectante lysoform lavanda x 800 ml. limpiador mr.musculo crema x450ml. floral limpiador cif crema original x 750 gr. desinfectante de superficies cif alcohol 70 x 400 ml. limpiador lysoform cremoso x 450 ml. limpiador cremoso zorro x 500 ml. limpiador cremoso zorro x 500 ml. citrico desinfectante multisuperficies lysoform gatillo x 500 ml. limpiador de vidrios cif x 450 ml. limpiador mr.musculo vidrios y multiuso dp x 450 ml. lavanda limpiador zorro vidrios y multiuso x 500 ml. limpiador procenex vidrios x 820 ml. limpiador cif vidrios gatillo x 500 ml. limpiador procenex vidrios x500ml.gatillo limpiametales brasso brillametal x 70 gr. limpiametales brasso brillametal x 504 ml. limpiametales silvo x504ml. lutramuebles ceramicol lavanda x 360 ml. lustramuebles cif ultra brillo esencias citricas x 380 ml. cif ultra brillo x380ml.dp lustramuebles cif ultra brillo esencias citricas x 400 ml. lustramuebles en aerosol ceramicol x 360 ml. lustramuebles ceramicol naranja x 360 ml. cif ultra brillo x400ml.gatill lustramuebles blem floral x 360 ml. lustramuebles polycera original x 300 gr. lustramuebles suiza x 360 ml. original lustramuebles en aerosol blem acero y metal x 360 ml. lustramuebles blem x 360 ml. lavanda lustramuebles blem original x 360 ml. lustramuebles en aerosol blem x 360 ml. restaurador de muebles iberia x 125 ml. natural cera liquida libertador x1lt. incoloro autobrillo polycera doy pack x400ml. incoloro cera liquida blem cemento x 450 ml. acondicionador de pisos echo clasico 3 en 1 x 450 ml. cera liquida blem porcelanato x 450 ml. autobrillo polycera incoloro x 750 ml. autobrillo ceramicol negro x 800 ml. acondicionador de pisos echo clasico x 800 ml. cera liquida suiza x425ml. roble oscuro cera liquida blem cemento x 800 ml. cera liquida blem porcelanato x 800 ml. autobrillo suiza rojo x 900 ml. cera liquida suiza x 850 ml. roble claro cera liquida suiza x 900 ml. superficies delicadas cera en pasta suiza x 450 ml. incoloro cera en pasta suiza x 450 gr. roble oscuro autobrillo blem x2lt. incoloro cera liquida blem ceramicos x 5 lt. incoloro limpiador liquido libertador x 900 ml. limpiador de pisos glade x 900 ml. lavanda limpiador procenex x 900 ml. aires de primavera limpiador procenex x 900 ml. jazmin limpiador procenex x 900 ml. aroma bebe limpiador procenex x 900 ml. flores del jardin limpiador procenex x 900 ml. orquideas limpiador antibacterial 3 en 1 gigante jazmines azules 900ml limpiador liquido gigante bebe x 900 ml. limpiador liquido gigante marina x 900 ml. limpiador liquido gigante limon x 900 ml. limpiador para pisos espadol dettol x 900 ml. marina desinfectante para pisos espadol dettol x 900 ml. limon desinfectante para pisos lysoform x 420 ml. citrica desinfectante para pisos lysoform x 420 ml. bebe limpiador liquido poett x 900 ml. solo para ti limpiador liquido poett x 900 ml. musica en primavera limpiador de pisos poett x 900 ml. suavidad de algodon limpiador de pisos poett x 900 ml. suavidad de bebe limpiador de pisos poett x 900 ml. despertar de energia limpiador de pisos glade x 900 ml. i love you limpiador de pisos glade x 900 ml. caricias de bebe limpiador de pisos glade x 900 ml. paraiso azul limpiador de pisos glade x 900 ml. floral limpiador de pisos suiza x 900 ml. limon limpiador desinfectante lysoform x 800 ml. floral limpiador de pisos cif antibacterial x 750 ml. limpiador de pisos poett x 1,8 lt. despertar de energia liquido para lampazos ceramicol x 1 lt. limpiador de pisos cif oxygel x 750 ml. desinfectante espadol dettol x 1,8 lt. marina procenex x1.8lt. limon procenex x1.8lt. pino limpiador procenex bebe x 1,8 lt. limpiador procenex original x 1,8 lt. limpiador de pisos blem x 800 ml. limpiador de pisos procenex flores de jardin x 5 lt. limpiador de pisos echo clasico x 2 lt. bidon limpiador de pisos procenex original x 5 lt. limpiador de pisos cif 4 en 1 x 450 ml. lilas y eucalipto limpiador espadol desinfectante doy pack x450ml. citrus limpiador espadol desinfectante doy pack x450ml. lavanda limpiador desinfectante lysofrom x420ml.dp original limpiador lysofrom x420ml.lavanda dp limpiador blem multiples pisos x 400 ml. vainilla y lavanda limpiador de pisos blem floral x 400 ml. limpiador de pisos blem x 400 ml. quitaceras suiza x 850 ml. alguicida para piletas libertador x 1 lt. cloro en polvo libertador x 1 kg. pastillas para piletas libertador x 1 kg. apresto klaro x 360 ml. apresto robin gatillo x 500 ml. barra quitamanchas vanish white x 75 gr. broches de plastico ideal x 12 unid. broches de madera ideal x 12 unid. broches de madera sed metal x 12 unid. broches de plastico sed metal x 12 unid. jabon en polvo zorro clasico matic x 400 gr. jabon en polvo zorro evolution quitamanchas matic x 360 gr. jabon en polvo drive colores radiantes matic x 400 gr. jabon en polvo ala matic x 400 gr. jabon en polvo ala manana de sol matic x 400 gr. jabon en polvo zorro lavado diario matic x 800 gr. jabon en polvo zorro matic clasico x 800 gr. jabon en polvo zorro matic evolution quitamanchas x 720 gr. jabon en polvo zorro matic clean antimanchas x 710 gr. jabon en polvo drive colores radiantes matic x 800 gr. jabon en polvo ala matic ecolavado x 800 gr. jabon en polvo ala matic x 3 kg. jabon en polvo ala matic manana de sol x 3 kg. jabon en polvo drive matic x 3 kg. colores radiantes jabon en polvo granby matic plus x 3 kg. jabon en polvo skip x 2,5 kg. jabon en polvo zorro regular x 400 gr. jabon en polvo drive regular colores radiantes x 400 gr. jabon en polvo ala clasico regular x 400 gr. jabon en polvo zorro plus regular x 800 gr. jabon en polvo ala clasico regular x 800 gr. jabon en polvo zorro clasico regular x 3 kg. jabon en polvo ala regular x 3 kg. jabon el polvo drive regular colores radiantes x 3 kg. jabon en pan zorro con suavizante x 150 gr. jabon en pan zorro x 150 gr. floral jabon en pan ala fragancia coco x 200 gr. jabon en pan ala fragancia coco - 2 unid. x 200 gr. c/u jabon liquido p/ropa libertador x 800 ml. jabon liquido drive colores radiantes x 800 ml. jabon liquido ala para diluir doy pack x 150 ml. jabon liquido granby plus matic x 800 ml. jabon liquido zorro evolution quitamanchas x 720 ml. jabon liquido zorro blue power matic x 800 ml. jabon liquido skip para diluir x 150 ml. jabon liquido zorro clasico matic x 800 ml. jabon liquido zorro evolution quitamanchas x 800 ml. jabon liquido ala matic x 800 ml. lavado perfecto jabon liquido p/ropa skip bio-enzimas x 800 ml. jabon liquido ariel clasico x 800 ml. jabon liquido zorro clasico x 1,4 lt. jabon liquido zorro blue power x 1,4 lt. jabon liquido ariel radiant x 800 ml. jabon liquido p/ropa libertador x 3,25 lt. jabon liquido p/ ropa woolite x 1 lt. todos los dias jabon liquido granby plus matic x 3 lt. jabon liquido granby plus violetas y fresias x 3 lt. jabon liquido ala para diluir x 800 ml. jabon liquido skip para diluir x 500 ml. jabon liquido ariel clasico x 1,4 lt. jabon liquido ala matic x 3 lt. jabon liquido ala matic para diluir x 500 ml. botella jabon liquido p/ropa zorro x 2,7 lt. evolution quitamanchas jabon liquido skip evolution x 3 lt. jabon liquido skip para diluir + botella x 500 ml. jabon liquido drive colores radiantes x 3 lt. jabon liquido zorro blue power x 3 lt. jabon liquido zorro clasico x 3 lt. jabon p/ropa fina ala camellito lav.mano x 450 ml. clasico jabon p/ropa fina ala camellito clasico matic x 900 ml. jabon p/ropa fina ala camellito clasico a mano x900ml. jabon liquido ariel delicates x 800 ml. jabon liquido ariel delicates x 3 lt. aromatizante de telas libertador x 250 ml. rosas y hortensia perfume p/ropa poett fraganza x 250 ml. suavidad de algodon perfume p/ropa algabo x450ml. calida primavera perfume p/ropa algabo x450ml. suave brisa perfume p/ropa poett fraganza x 250 ml. suavidad de algodon perfume p/ropa poett fraganza x250ml. suavidad de bebe aromatizante de telas libertador x 500 ml. floral aromatizante de telas aire pur x 400 ml. lavanda aromatizante de telas aire pur x 400 ml. frescura de algodon quitamanchas liquido zorro x 450 ml. barra quitamancha gigante x75g quitamanchas liquido trenet oxy prelavado repuesto x 400 ml. quitamanchas liquido trenet repuesto x 400 ml. quitamanchas zorro gatillo x 500 ml. quitamanchas liquido trenet gatillo x 500 ml. quitamanchas en polvo ayudin colores x450gr. suavizante vivere violetas y flores blancas x 900 ml. suavizante libertador x 800 ml. suavizante vivere plancha facil x 810 ml. suavizante vivere intense abrazo apretado x 450 ml. suavizante suave federal x 900 ml. aires de bambu suavizante zorro x 900 ml. flores silvestres y algodon suavizante zorro x 900 ml. rosas y flores blancas suavizante vivere clasico x 900 ml. suavizante comfort intense puro cuidado x 450 ml. suavizante comfort intense x 450 ml. suavizante libertador x 3,25 lt. suavizante vivere intense abrazo apretado x 1 lt. suavizante vivere clasico x 3 lt. suavizante vivere violetas y flores blancas x 3 lt. suavizante confort intense x 1 lt. comfort suavizante regular doypack clasico 3lt. mijo bird & food la egipciana x 400 gr. alimento para pajaros bird & food la egipciana x 400 gr. alpiste bird & food la egipciana x 400 gr. piedras sanitarias para gatos good cat x 2 kg. alimento p/gatos whiskas adultos x 85 gr. sabor pescado alimento p/gatos whiskas adultos x 85 gr. sabor salmon alimento p/gatos whiskas adultos x 85 gr. sabor pavo alimento p/gatos whiskas adultos x 85 gr. sabor sardina alimento p/gatos whiskas adultos x 85 gr. sabor pollo alimento para gatos fancy feast demi glace x 85 gr. alimento para gatos fancy feast casserole x 85 gr. alimento p/gatos fancy feast x 85 gr. goulash c/atun alimento para gatos sabrositos mix x 500 gr. alimento para gatos sabrositos sabor pescado x 500 gr. alimento para gatos cat chow gatitos x 500 gr. alimento para gatos whiskas lata atun x 340 gr. alimento para gatos whiskas gatitos x 340 gr. sabor carne alimento para gatos sabrositos mix x 1 kg. alimento para gatos sabrositos sabor pescado x 1 kg. alimento para gatos cat chow adultos x 1 kg. pescado y pollo alimento para gatos cat chow adultos x 1 kg. carne y pollo alimento para gatos cat chow esteri. x 1 kg. pescado y carne alimento para perros sabrositos mix x 1,5 kg. no va liquido x 500 ml rinde 11 l. shampoo cooker con aloe vera x 500 ml shampoo porta resaltador del color p/pelos blancos x 500 ml. pedigree dentastix razas pequenas x 1 unid. pedigree dentastix razas medianas x 1 unid. alimento para perros pedigree cachorro x85gr. carne alimento para perros dog chow adultos pollo x 100 gr. alimento para perros dog chow razas peque%as x 100gr. salmon alimento para perros dog chow cachorros x 100 gr. pollo alimento p/perros pedigree cachorro x 340 gr. carne pedigree dentastix raz.med.x7u alimento para perros sabrositos variedades adultos x 1,5 kg. alimento para perros champ adultos x 1,5 kg. mix de carnes alimento para perros sabrositos cachorros x 1,5 kg. alimento p/perros pedigree adulto x 1,5 kg. verduras y carne alimento p/perros pedigree adulto x 1,5 kg. carne y pollo alimento para perros dog chow cachorros m y g x 1,5 kg. alimento para perros dog chow cachorros minis y peq x 1,5 kg alimento para perros pedigree adulto razas pequenas x 1,5 kg alimento p/perros pedigree senior x 1,5 kg. alimento p/perros pedigree cachorro x 1,5 kg. alimento para perros sabrositos mix x 3 kg. adultos alimento para perros champ adultos x 3 kg. mix de carnes alimento para perros dog chow cachorros todos tamanos x 3 kg alimento para perros pedigree vital adultos x 3 kg. alimento para perros pedigree vital razas pequenas x 3 kg. alimento para perros pedigree vital cachorros x 3 kg. bizcochos chicharron x 100 gr. bizcochos de pan x 100 gr. bizcochos hojaldre x 100 gr. facturas x 100 gr. rosca de grasa x 100 gr. bizcochitos c/semillas x100gr. scons la gallega x100gr. budin la cumbre marmolado light x 200 gr. budin la cumbre vainilla light x 200 gr. budin la gallega con chocolate x 250gr. budin la gallega con frutas x 250gr. budin la gallega naranja x 250gr. budin la gallega sin frutas x 250gr. plum cake la cumbre x 40 gr. yogurt budin la cumbre tipo europeo x250gr. marmolado plum cake la cumbre x 50 gr. relleno dulce de leche budin la cumbre x 250 gr. chocolate y avellanas budin la cumbre tipo europeo x 250 gr. manteca budin deubel marmolado x 250 gr. budin con frutas deubel x 250 gr. budin la cumbre d`oro x 250 gr. naranja budin la cumbre d`oro x 250 gr. vainilla c/ chips chocolate budin cake d`oro marmolado x 250 gr. torta deubel x 400 gr. dulce de leche torta deubel x 400 gr. coco torta deubel x 400 gr. naranja torta deubel x 400 gr. con chips de chocolate pudding la cumbre x 300 gr. relleno dulce de leche budin cake d`oro x 250 gr. chocolate con chips budin cake d`oro x 250 gr. naranja, pasas y cerezas pudding deubel relleno dce de leche x 350 gr. pan dulce matero la gallega pudding deubel chocolate con chips x 320 gr. pan dulce la gallega con frutas x 500 gr. pan dulce la gallega especial x500gr. levadura fresca levex x 50 gr. levadura fresca calsa x50gr. levadura seca mi pan x 10 gr. levadura en polvo levex sobre 2 sobres x 10 gr. c/u tortillas integrales practiricas veneziana x 165 gr. pan veneziana lacteado x 400 gr. pan integral con salvado veneziana x 360 gr. pan blanco lactal x 335 gr. pan de campo tipo casero veneziana x 400 gr. pan lacteado familiar veneziana x 560 gr. pan de salvado lactal x 350 gr. pan veneziana multicereal x 410 gr. tortillas rapiditas bimbo clasicas 10 unid. x 275gr. pan fargo lacteado receta original x 400 gr. pan fargo salvado doble x 350 gr. tortillas tipo mexicanas tia rosa x 10 unid. pan blanco lactal rodajas finas x 500 gr. pan bimbo liviano con leche x 400 gr. pan fargo lacteado receta original x 550 gr. pan fargo lacteado rodajas finas x 400 gr. pan veneziana integral x 630 gr. pan blanco schar sin tacc x 200 gr. pan de salvado lactal x 600 gr. pan fargo cereales y semillas x 400 gr. pan fargo integral x 400 gr. pan rustico schar sin tacc x 200 gr. pan blanco bimbo x 550 gr. pan bimbo artesano x 500 gr. pan fargo salvado plus x 630 gr. pan bimbo oreweat cereales x 600gr. pan bimbo oroweat x 600gr. pan para hamburguesas la gallega x 4 unid. pan para hamburguesas veneziana 4 u x 210 gr. pan para hamburguesas lactal x 210 gr. pan de hamburguesa bimbo c/semillas sesamo x 4 unid. pan de hamburguesa bimbo artesano x240gr. pan de hamburguesas bimbo tipo artesano x 240 gr. pan comun x100gr. baghette comun x100gr. baghette x100gr.espiga pan sin sal x100gr. pan artesanal x100gr. pan negro espiga x100gr. pan negro x100gr. pan flor x100gr. pan casero de salvado x100gr. pan casero de campo x100gr. pan casero la gallega x 100 gr. galletas criollas x100gr. torpedos x100gr. pan semillas andino x100gr. pan semillas centeno x100gr. pan semillas spekkel x100gr. bollitos saborizados la gallega x100gr. cebolla bollitos saborizados la gallega x100gr. oregano bollitos saborizados la gallega x100gr. roquefort bollitos saborizados la gallega x100gr. salame bollitos saborizados x100gr.pizza pan de naranja x100gr. pan principe la gallega x 100 gr.. pan de viena para panchos la gallega x 6 unid. pan para panchos veneziana x 6 unid. pan para panchos lactal x 210 gr. pan bimbo para panchos x 6 unid. pan para panchos bimbo artesano x 240 gr. pan rallado la gallega x100gr. pan rallado preferido x 500 gr. pan rallado mama cocina x 500 gr. rebozador maggi x350 gr. mix de cereales y semillas pionono la gallega x unidad baybiscuits x100gr. pastafrola grande membrillo x100gr. bizcochuelo de vainilla la gallega x 100 gr. arrollado con crema x100gr. arrollado dulce de leche x100gr. masas secas la gallega x100gr. palmeritas x 100 gr. panqueques comunes la gallega x12 unid. torta veneziana x400gr.limon torta veneziana x450gr. dce de leche torta veneziana x400gr. chips chocolate pizza a la plancha la gallega tomate x 100gr. pizza a la plancha la gallega cebolla x 100gr. pizzetas la gallega x 120 gr. c/u pizzeta de cebolla la gallega pizza a la piedra la gallega x 1 unidad pizza redonda la gallega x 350 gr. pizza la gallega redonda de cebolla x 350 gr. papel aluminio el cacique x 5 mts. film adherente 30 cm x 15 mts. rollo de aluminio separata 28 cm x 5 mt. rollo de bolsas para freezer bouquet 30x40 cm. x 20 unid. rollo de papel manteca bouquet x 5 mts. rollo de aluminio bouquet x 5 mts. rollo autoadherente bouquet x 10 mts. papel manteca separata 5 mts. x 28 cm. papel manteca el cacique x 5 mts. rollo de papel aluminio bouquet x 25 mts. papel higienico cautiva 4 rollos x 30 mts. papel higienico campanita soft 4 rollos x 30 mts. papel higienico elegante 1 unid. x 120 mts. papel higienico sanidad texturado 4 x 30 mts. papel higienico elegante simple hoja 4 x 30 mts. papel higienico cautiva 6 rollos x 30 mts. papel higienico sanidad blanco clasico 4 x 30mts. papel higienico elegante doble hoja 4 x 20 mts. papel higienico elegante hoja simple - 6 rollos x 30 mts. papel higienico sanidad texturado 6 x 30mts. papel higienico campanita doble hoja ultra 4 x 30 mt. papel higienico elegante simple hoja 6 x 30 mts. aloe vera papel higienico elegante doble hoja x 4 rollos papel higienico sanidad blanco clasico 6 x 30 mts. papel higienico elegante rinde mas doble hoja x 4 rollos papel higienico campanita soft xl- 4 rollos x 80 mts. papel higienico higienol max panal hs - 4 rollos x 80 mts. papel higienico elegante simple hoja 4 x 80 mts. aloe vera papel higienico campanita soft plus xl 4 rollos x 80 mts. papel higienico elegante triple hoja 4 rollos x 30 metros papel higienico higienol max hs - 4 rollos x 100 mts. papel higienico elegante hoja simple x 12 rollos rollo de cocina sol mayor 3 x 40 panos rollo de cocina cautiva 3 rollos x 40 panos rollo de cocina sussex 3 unid. x 50 panos rollo de cocina campanita classic 3 unid. x 50 panos rollo de cocina elegante 3 rollos x 50 panos rollo de cocina vual 3 rollos x 40 panos rollo de cocina roli sec x 3 unid. rollo de cocina elegante premium 3 x 60 panos rollo de cocina campanita mega 2 rollos x 100 panos rollo de cocina campanita practirollo x 200 panos rollo de cocina elegante doble hoja x 200 panos rollo de cocina elegante gigante doble hoja x 200 panos panos reutilizables scott x 58 unid. rollo de cocina elite doble hoja 2 x 120 panos rollo de cocina elegante premium 3 rolos x 100 panos c/u rollo de cocina elegante premium 3 x 120 panos servilletas de papel elegante x 80 unidades sevilletas de papel bouquet fantasia 33 x 33 x 25 unid. servilletas bouquet linea eco 33 x 33 m x 40 unid. sevilletas de papel bouquet color 33 x 33 x 25 unid. servilletas elegante soft x 150 unid. fideos la gallega cinta ancha x100gr. fideos la gallega cintita x100gr. noquis de espinaca la gallega x100gr. noquis de semola la gallega x100gr. noquis la saltena x 300 gr. fideos tallarines la morocha x 500 gr. noquis de papa paladini x 500 gr. raviolitos la saltena x 300 gr. cuatro quesos raviolitos la saltena x300gr. espinaca y queso ravioles la morocha x 500 gr. ricota y espinaca ravioles la morocha de pollo con espinaca x 500 gr. ravioles la morocha de carne y verdura x 500 gr. ravioles la morocha de ricotta y queso x 500 gr. ravioles la morocha x 500 gr. 4 quesos ravioles rina matarazzo x 300 gr. carne y finas hierbas ravioles rina matarazzo x 300 gr. blend de quesos ravioles la saltena x 450 gr. jamon y queso ravioles la saltena x 450 gr. pollo y verdura ravioles la saltena x 450 gr. espinaca y queso ravioles la saltena x 450 gr. ricotta sorrentinos la saltena x 300 gr. jamon y muzzarella ravioles paladini x 500 gr. pollo y espinaca ravioles paladini x 500 gr. carne y verdura ravioles paladini x 500 gr. jamon y mozarella noquis la saltena x 900 gr. fideos dedalitos knorr x 500 gr. fideos lucchetti x 500 gr. spaghetti fideos lucchetti x 500 gr. codito fideos lucchetti x 500 gr. dedalitos fideos fetuccini knorr x 500 gr. fideos matarazzo x 500 gr. codito fideos dedalitos arcor x 500 gr. fideos coditos arcor x 500 gr. fideos cabello de angel arcor x 500 gr. fideos rina matarazzo x 500 gr. spaghetti fideos coditos la campagnola x 500 gr. fideos la nova pasta x 400 gr. fideos con salsa de queso lucchetti x 350 gr. fideos con salsa filetto lucchetti x 350 gr. fideos lucchetti x 500 gr. cabello de angel fideos don vicente casereccia x 500 gr. capelettini giacomo x 250 gr. queso y jamon fideos integrales ceral con espinaca x 300 gr. fideos integrales ceral con morron x 300 gr. lasagna matarazzo x 400 gr. capelettini giacomo x 500 gr. verdura capelettini giacomo queso y jamon x 500 gr. capelettini giacomo x 500 gr. carne capelletini lucchettinis x 500 gr. carne capelettini lucchettinis x 500 gr. multicolor capelettini lucchettinis x 500 gr. espinaca y queso capelettini lucchettinis x 500 gr. jamon y queso pastas knorr x 500 gr. rigatti mostacholes knorr x 500 gr. fideos matarazzo x 500 gr. penne rigate fideos matarazzo x 500 gr. tallarin fideos matarazzo x 500 gr. spaghetti fideos matarazzo x 500 gr. mostachol fideos lucchetti x 500 gr. mostachol fideos lucchetti x 500 gr. tirabuzon fideos lucchetti x 500 gr. tallarin mostachol mix de sabores knorr x 500 gr. tirabuzones integrales knorr x 500 gr. pasta integral knorr x 500 gr. spaghetti fideos tirabuzon arcor x 500 gr. spaghetti con espinaca rina matarazzo x 500 gr. spaghetti con morron rina matarazzo x 500 gr. fideos la campagnola x 500 gr. tallarin fideos la campagnola x 500 gr. penne rigate fideos lucchetti x 500 gr. nido fettuccine fideos don vicente tallarin x 500 gr. fideos matarazzo x 500 gr. fettuccine fideos matarazzo x 500 gr. monos tapas para empanadas la gallega horno x 12 unid. tapa para empanadas la gallega p/freir x 12 unid. tapas empanadas la morocha p/freir x 12 unid. tapas para empanadas mil hojas p/horno x 12 unid. tapas p/empanadas mil hojas horno x 12 unid. doble hojaldre tapas para empanadas paladini x 12 unid. hojaldre tapas para empanadas paladini x 12 unid. para feir tapas de empanadas tipo criolla paladini x 12 unid. tapas para empanadas la saltena x 15 unid. p/horno tortillas practiricas veneziana x165gr. masa para pastelitos mil hojas x 24 unid. masa p/copetin mil hojas x 24 unid. para horno masa p/copetin mil hojas x 24 unid. para freir masa p/strudel mil hojas x 430 gr. panqueques la gallega x12u rapiditas integrales bimbo x 10 unid. rapiditas light bimbo x 10 unid. pascualina la gallega sin hojaldre tapa p/ pascualina favorita criolla x 400 gr. tapas para pascualina mil hojas con hojaldre x 380 gr. pascualina mil hojas doble hojaldre x 390 gr. tapa p/ pascualina la saltena x 400 gr. light tapa p/pascualina la saltena x 400 gr. hojaldradas tapa p/pascualina la saltena x 400 gr. criollas tapa p/ pascualina la saltena x 400 gr. mix de semillas pascualina paladini x 400 gr. tipo criolla pascualina paladini x 400 gr. hojaldre tapas p/pascualina la saltena sin gluten x 380 gr. espuma de afeitar gillette sensitive x 56 gr. afeitadora bic sensitive x 7 unid. espuma de afeitar algabo x 200 ml. espuma de afeitar nivea sensitive x 200 ml. espuma de afeitar nivea hidratante x 200 ml. espuma de afeitar gillette sensitive x 150 gr. espuma de afeitar gillette foamy x 175 gr. mentol espuma de afeitar gillette foamy piel sensible x 175 gr. espuma de afeitar algabo men x 415 ml. afeitadora bic soleil naturals x 2 unid. gel p/afeitar gillette mach 3 sensitive x 198 gr. afeitadora bic comfort twin x 5 unid. espuma de afeitar veritas hidratante x 211 gr. espuma de afeitar veritas x 211 ml. piel sensible gel p/afeitar gillette mach 3 suave x 198 gr. espuma de afeitar gillette foamy sensitive x 312 gr. afeitadora big flex2 x 5 unid. afeitadora bic soleil color collection x 4 unid. maquina de afeitar gillette mach 3 turbo x 1 unid. maquina de afeitar gillette mach 3 turbo x 1 unid. maquina de afeitar gillette mach 3 x 1 unid. maquina de afeitar gillette fusion 5 x 1 unid. hisopos q-soft x 75 unidades hisopos de algodon q-soft x 100 unid. hisopos dermogreen x 100 unidades hisopos de colores doncella x 100 unid. hisopos q-soft x 150 unidades discos desmaquilladores doncella x 80 unid. algodon doncella x500gr. colonia algabo x500ml.lavanda colonia inglesa algabo x 500 ml. colonia algabo x500ml.ambre crema hinds rosa inspiracion x250ml. crema hinds x125ml.rosa vitamina a crema hinds avena x 250 ml. crema hinds hidratacion extrema x250ml. almendras crema hinds hidratacion esencial x 250 ml. crema hinds perfection 3.0 x 250 ml. crema hinds intrahidratante x 350 ml. crema hinds reafirmante x250ml. crema corporal goicoechea anti-celulitis x 400 ml. crema corporal goicoechea reafirmante x 200 ml. crema hinds x 350 ml. perfection 3.0 dove crema humectante nutricion esencial x 400 ml. crema hinds x250ml.rosa vitamina a crema corporal hinds x 350 ml. hidratacion esencial crema hinds anti-age plus x250ml. crema corporal st. ives piel renovada x 532 gr. locion nivea shower x 250 ml. nutritiva crema hinds rosa x350ml. crema corporal goicoechea ultra nutritiva x 400 ml. crema corporal goicoechea reafirmante x 400 ml. crema corporal goicoechea anti-celulitis x 400 ml. crema nivea body milk piel extra seca x400ml. crema corporal cicatricure firmeza x 400 ml. crema corporal cicatricure anti-estres x 400 ml. cera depilatoria con aloe vera dermogreen x 150 gr. cera depilatoria con miel dermogreen x 150 gr. cera depilatoria dermogreen c/aloe vera x 200 gr. cera depilatoria dermogreen c/miel x 200 gr. bandas depilatorias veet para axilas y bikini x16unid. bandas depilatorias veet cera fria piel normal x12u. crema depilatoria veet naturals piel normal x100ml. bandas depilatorias veet cera fria piel sensible x12unid. crema depilatoria veet silk & fresh piel normal x100ml. crema depiladora veet x100ml. piel sensible crema para manos hinds x 90 ml. rosa crema hinds antiage manos x90ml. crema nivea cuidado rostro x 100 ml. crema facial cicatricure anti-arrugas x 50 gr. crema facial cicatricure aclarante x 50 gr. crema facial cicatricure reafirmante x 50 gr. crema facial cicatricure antiarrugas x 50 gr. toallitas quitaesmalte q-soft x 8 unid. toallas humedas q-soft hidratante x25unid. toallas humedas q-soft exfoliante x 25 unid. toallas desmaquillantes cicatricure x 25 unid. toallas desmaquillantes neutrogena night calming x25unid. agua micelar cicatricure x 200 ml. demaquillante loreal hidratotal 5 x 125 ml. tonico loreal hidro-total5 x200ml. hidratante acondicionador dove reconstruccion completa x 400 ml. acondicionador dove oleo nutricion x 400 ml. acondicionador dove cuidado delicado x 400 ml. acondicionador dove largo, fuerte y flexible x 400 ml. acondicionador dove ritual de crecimiento x 400 ml. super acondicionador dove nutricion 60 x 170 ml. super acondicionador dove nutricion 80 x 170 ml. acondicionador dove oleo nutricion x 750 ml. acondicionador dove regeneracion extrema x 750 ml. acondicionador elvive hidra hialuronico x 200 ml. acondicionador elvive dream long lizz x 200 ml. acondicionador elvive x 200 ml. kera-liso proteccion acondicionador elvive dream long desenredante x 200 ml. acondicionador elvive reparacion total extreme x 200 ml. acondicionador elvive oleo extraordinario x 200 ml. acondicionador elvive arcilla purificante x 200 ml. acondicionador elvive oleo x 200 ml. nutricion universal acondicionador elvive x 200 ml. kera-liso brillo acondicionador elvive reparacion total 5 x 200 ml. acondicionador elvive x 200 ml. color vive acondicionador elvive x 400 ml. fibralogy acondicionador elvive oleo nutricion x 400 ml. acondicionador elvive x400ml. caida resist acondicionador elvive hidra hialuronico x 400 ml. acondicionador elvive dream long x 400 ml. acondicionador elvive oleo coco x 400 ml. acondicionador elvive x 400 ml. super liss acondicionador elvive reparacion total extreme x 400 ml. acondicionador elvive color vive x 400 ml. acondicionador elvive reparacion total 5 x 400 ml. acondicionador pantene 3 min. miracle x 90 ml. fuerza acondicionador head & shoulders humectacion x 150 ml. acondicionador head & shoulders suave y manejable x 150 ml. acondicionador head & shoulders manzana fresh x 150 ml. acondicionador pantene pro-v bambu x 200 ml. acondicionador pantene 3 min. x 170 ml. rizos definidos acondicionador alfaparf x 300 ml. argan therapy acondicionador alfaparf x 300 ml. alfakeratin acondicionador alfaparf x300ml. bb cream acondicionador tio nacho herbolaria milenaria x 400 ml. acondicionador tio nacho aloe vera x 400 ml. acondicionador plusbelle esencia x 1 lt. control frizz acondicionador plusbelle fuerza reparadora x 970 ml. acondicionador plusbelle esencial x 1 lt. largo saludable acondicionador sedal x 340 ml. liso perfecto acondicionador sedal x 340 ml. crema balance acondicionador sedal carbon activado + peonias x 340 ml. acondicionador sedal x 340 ml. ceramidas acondicionador sedal jengibre y ricino x 340 ml. acondicionador sedal x 190 ml. liso perfecto acondicionador sedal x 190 ml. restauracion instantanea acondicionador sedal carbon activado + peonias x 190 ml. acondicionador sedal x 190 ml. bomba argan acondicionador sedal x 190 ml. pure detox acondicionador sedal x 190 ml. ceramidas acondicionador sedal bomba de nutricion x 340 ml. acondicionador pantene 3 minute x170ml. liso extremo acondicionador sedal carbon activado + peonias x 650 ml. acondicionador sedal x 650 ml. ceramidas acondicionador sedal bomba coco x 650 ml. acondicionador sedal x 650 ml. crema balance acondicionador suave kids x 350 ml. frutilla glamorosa acondicionador suave x 930 ml. manzana verde acondicionador suave x 930 ml. manzanilla acondicionador suave lacio antifrizz x 930 ml. acondicionador suave manzanilla x 930 ml. acondicionador suave crema nutricion x 930 ml. acondicionador suave aloe detox x 930 ml. acondicionador suave suavidad cuidado x 930 ml. acondicionador suave brillo ceramidas x 930 ml. acondicionador tresemme x400ml.hidratacion profunda acondicionador tresemme x400ml.liso keratina acondicionador tresemme x 400 ml. tresplex acondicionador tresemme x 400 ml. detox capilar acondicionador tresemme x 750 ml. hidratacion profunda kit alta moda castano medio nro 4 kit alta moda rubio oscuro nro 6 kit altamoda e rubio medio 7 kit altamoda e rubio claro 8 kit alta moda rubio oscuro ceniza nro 6.1 kit alta moda rubio medio ceniza nro 7.1 kit alta moda rubio claro ceniza nro 8.1 kit issue 3d gloss n`9 coloracion issue color pack castano claro 5 coloracion issue color pack rubio oscuro 6 coloracion issue color pack rubio 7 coloracion issue color pack aclarante 10 tintura p/cabello loreal excellence cream t01 tintura p/cabello loreal excellence cream t5 tintura p/cabello loreal excellence cream t6 tintura p/cabello loreal excellence cream t8 tintura p/cabello loreal excellence cream t9 tintura p/cabello loreal excellence cream t9.3 tintura p/cabello loreal excellence cream t3 tintura p/cabello nutrisse cafe amaretto 53 tintura p/cabello nutrisse centeno 61 tintura p/cabello nutrisse ebano 10 tintura p/cabello nutrisse nectar 80 tintura p/cabello nutrisse miel 73 tintura p/cabello nutrisse caramelo 63 tintura p/cabello nutrisse capuccino 60 tintura p/cabello nutrisse casta%o 50 tintura p/cabello nutrisse chocolate moka 44 tintura p/cabello nutrisse cafe 40 tintura p/cabello nutrisse margarita 93 tintura revlon colorsilk 3d nro.5 rubio ultra claro gel capilar algabo x150ml. fijacion extra fuerte gel capilar algabo x150ml. efecto humedo lord cheseline fijador pote classic 150gr. gel vo5 fijacion flexible x 200 gr. gel vo5 efecto extra x 200 gr. gel vo5 fijacion fuerte x 200 gr. lord cheseline fijador pote classic 280gr. gel capilar algabo x475ml. efecto humedo fijador vo5 flexible x 412 ml. fijador vo5 fuerte x 392 ml. tratamiento capilar pantene booster x 160 ml. crema de tratamiento pantene restautacion x 300 ml. crema de tratamiento alfaparf x 300 gr. hydra nutri crema de tratamiento alfaparf x300gr. bb cream capilar crema de tratamiento elvive hidra hialuronico x 300 ml. crema de tratam. elvive reparac. total 5 extreme x 300 ml crema para peinar elvive hidra hialuronico x 250 ml. crema de tratamiento elvive reparacion total 5 x 300 ml. crema para peinar elvive reparacion total 5 x 300 ml. shampoo clear caida control x 200 ml. shampoo clear caida control x 400 ml. shampoo dove cuida y protege x 400 ml. shampoo dove ritual de fortalecimiento x 400 ml. shampoo dove ritual de reparacion x 400 ml. shampoo dove reconstruccion completa x 400 ml. shampoo dove largos, fuertes y flexibles x 400 ml. shampoo dove cuidado delicado x 400 ml. shampoo dove oleo nutricion x 400 ml. shampoo dove regeneracion extrema x 400 ml. shampoo dove hidratacion intensa x 400 ml. shampoo dove reconstruccion completa x 750 ml. shampoo elvive rizos definidos x 200 ml. shampoo elvive dream long lizz x 200 ml. shampoo elvive dream long x 200 ml. shampoo elvive oleo de coco x 200 ml. shampoo elvive oleo extraordinario x 200 ml. shampoo elvive arcilla purificante x 200 ml. shampoo elvive reparacion extrema x 200 ml. shampoo elvive reparacion total 5 x 200 ml. shampoo elvive oleo extraordinario x 400 ml. shampoo elvive hidra hialuronico x 400 ml. shampoo elvive x 400 ml. oleo extraordinario shampoo elvive reparacion total 5 x 400 ml. shampoo pantene cuidado clasico x 200 ml. acondicionador vo5 suave humectacion x 444 ml. shampoo vo5 nutricion intensa x 444 ml. shampoo head & shoulders purificacion x 180 ml. shampoo head & shoulders humectacion x 180 ml. shampoo head & shoulders proteccion caida x 180 ml. shampoo pantene hidratacion x 200 ml. shampoo pantene hidratacion extrema x 200 ml. shampoo pantene pro-v liso extremo x 200 ml. shampoo pantene min. miracle x 270 ml. hidratacion extrema shampoo alfaparf x 300 ml. alisado reconstruido shampoo alfaparf x300ml. hydra nutri shampoo alfaparf x 300 ml. bb cream shampoo tio nacho purificacion c/celulas madre x 200 ml. shampoo tio nacho reparacion profunda x 200 ml. shampoo tio nacho aclarado natural x 200 ml. shampoo tio nacho engrosador x 400 ml. shampoo tio nacho aclarado natural x 400 ml. shampoo head & shoulders proteccion caida x 375 ml. shampoo head & shoulders suave y manejable x 375 ml. shampoo triatop clinical x 165 ml. shampoo pantene pro-v liso extremo x 750 ml. shampoo plusbelle frescura x 1 lt. shampoo plusbelle docilidad x 1 lt. shampoo plusbelle esencial x 1 lt. control frizz shampoo plusbelle esencial x 1 lt. restauracion shampoo plusbelle esencial x 1 lt. largo saludable shampoo sedal x 340 ml. rizos definidos shampoo sedal carbon activado + peonias x 340 ml. shampoo sedal x 340 ml. restauracion instantanea shampoo sedal x 340 ml. liso perfecto shampoo sedal x 340 ml. crema balance shampoo sedal colageno + vitamina c x 190 ml. shampoo sedal acido hialuronico x 190 ml. shampoo sedal bomba de nutricion x 190 ml. shampoo sedal x 190 ml. rizos definidos shampoo sedal bomba argan x 190 ml. shampoo sedal x 190 ml. ceramidas shampoo sedal x 190 ml. crema balance shampoo sedal jengibre y ricino x 190 ml. shampoo sedal bomba coco x 340 ml. shampoo sedal bomba argan x 340 ml. shampoo sedal bomba de nutricion x 340 ml. shampoo sedal x650ml. restauracion instantanea shampoo suave antifrizz x 930 ml. shampoo suave fuerza nutritiva x 930 ml. shampoo tresemme x400ml.liso keratina shampoo tresemme x 400ml. blindaje platinum shampoo tresemme x 400ml. detox capilar desodorante impulse x96gr.very pink deo nivea roll-on dry impact x 50 ml. deo antitranspirante axe apollo x 88 gr. deo bodyspray axe marine x 97 gr. bodyspray axe musk x 150 ml. deo bodyspray axe apollo x 97 gr. deo bodyspray axe gold x 97 gr. deo antitranspirante axe epic fresh x 152 ml. deo bodyspray axe collision x 97 gr. desodorante antitransp. dove extra fresh x 89 gr. desodorante antitranspirante rexona xtracool x 150 ml. desodorante antitranspirante rexona invisible x 150 ml. desodorante antitranspirante rexona invisible men x 150 ml. desodorante antitranspirante rexona obsesion x 150 ml. desodorante rexona cotton dry x 89 gr. desodorante antitranspirante rexona nutritive x 150 ml. desodorante antitranspirante rexona bamboo y aloe x 150 ml. deo antitranspirante rexona v8 x 150 ml. deo antitranspirante rexona sensitive x 150 ml. desodorante antitranspirante rexona active emotion x 150 ml. desodorante dove original x 87 gr. desodoroante antitransp. dove coco y jazmin x 150 ml. desodorante antitranspirante dove granada x 150 ml. desodorante patrichs aviator x 150 ml. desodorante aerosol patrichs x97gr.black l deo antitranspirante axe dark temptation x 88 gr. desodorante axe freestyle x 88 gr. bodyspray axe gold x 150 ml. deo antitranspirante nivea black and white fresh x 150 ml. deo antitranspirante nivea black pearl x 150 ml. desodorante antitranspirante rexona active emotion x 148 ml. deo antitranspirante nivea men black and white x 150 ml. desodorante antitranspirante rexona sensitive x 150 ml. desodorante antitranspirante rexona antibacterial x 150 ml. desodorante antitranspirante rexona v8 x 148 gr. deo antitranspirante rexona v8 x 250 ml. deo antitranspirante rexona men clinical x 67 gr. antitranspirante en aerosol rexona clinical classic x 67 gr. desodorante antitranspirante dove original x 150 ml. desodorante veritas original x 210 gr. desodorante veritas proteccion energizante x 210 gr. desodorante antitranspirante dove clinical x 110 ml. desodorante odorono glic.x60gr.pote desodorante antitransp. hinds x 60 gr. rosa inspiracion desodorante antitransp. etiquet x 60 gr. blue ice desodorante roll on hinds x 60 gr. perfection desodorante roll on hinds x 60 gr. delicious desodorante antitransp. etiquet x 60 gr. original desodorante antitransp. hinds x 60 gr. flowers desodorante antitransp. etiquet x 60 gr. sport desodorante antitransp. hinds x 60 gr. intra hidratante soft desodorante roll-on etiquet x 60 gr. floral roll-on nivea pearl & beauty x 50 gr. roll-on dove aceite de granada x 50 ml. roll-on dove invisible dry x 50 ml. deo nivea roll-on invisible x 50 ml. desodorante roll-on rexona nutritive x 50 ml. desodorante rexona roll on invisible x 53 gr. desodorante rexona roll on v8 x 53 gr. roll-on rexona cotton x 50 ml. antitranspirante roll on rexona sensitive x 50 ml. roll-on rexona active emotion x 50 ml. roll-on antitranspirante dove original x 50 ml. desodorante roll-on plusbelle fresh x 50 ml. desodorante roll-on veritas original x 60 gr. desodorante roll-on veritas proteccion x 60 ml. desodorante roll-on veritas original x 60 ml. desodorante roll-on veritas cuidado esencial x 60 gr. desodorante roll-on veritas suavidad delicada x 60 gr. desodorante roll-on veritas men active x 60 gr. crema antitranspirante veritas x 60 gr. clasico barra antitransp. rexona sport x 50 gr. desodorante rexona men antibacterial x 87 gr. desodorante dove stick clean comfort x 50 gr. desodorante dove clinical cuidado total x 110 ml. esponja para bano dea anatomica x 1 u. esponja para bano masaje dea alcohol en gel algabo x 150 ml. alcohol etilico bialcohol porta x 250 ml. sanitizante en espuma algabo x 250 ml. alcohol etilico bialcohol al 70 % x 500 ml. alochol etilico al 96% bialcohol x 500 ml. sanitizante algabo x 300 ml. coco y vainilla alcohol en aerosol bialcohol al 70% x 250 ml. alcohol en gel con glicerina bialcohol x 500 ml. alcohol desnaturalizado etilico porta x 920 cc. alcohol etilico bialcohol x 1 lt. spray antibacterial protex x 300 ml. sin alcohol crema dental colgate max white x 180 gr. sanitizante alagabo x750ml.c/valvula alcohol etilico bialcohol extra neutro x 1 lt. apositos protectores band aid transparentes x 10 unid. apositos band-aid transparentes x 40 unid. aposito para incontinencia leve nonisec x 10unid. panales para adultos nonisec con gel x10 unid. grande panal p/adultos cotidian clasico m x8unid. panal p/adultos cotidian clasico g x8unid. panales p/adultos nonisec c/gel xg x10unid. pants tena clasico medium x8unid. cepillo dental oral-b pro salud 2 a 4 anos extra suave cepillo dental pro deluxe anticaries pack x 2 unid. cepillo dental oral-b pro plus x 2 unid. mediano cepillo dental oral-b indicator x 2 unid. extra soft cepillo dental oral-b stages de 4 a 24 meses x 1 unid. cepillo dental oral-b clean x 3 unid. medio cepillo dental oral-b expert x 1 unid. suave ultrafino cepillo dental oral-b indicator x 2 unid. suave cepillo dental colgate 360 x 2 unid. cepillo dental sensodyne multi protection suave cepillo dental sensodyne multi protection medio cepillo dental sensodyne rapido alivio x 1 unid. suave cepillo dental sensodyne complete protection suave cepillo dental sensodyne complete protection medio cepillo dental parodontax x 1 unid. suave cepillo dental sensodyne sensivity cepillo dental colgate 360 x 2 unid. suave cepillo dental colgate 360 x 2 unid. suave cepillo dental oral-b pro salud ultra fino x 2 unid. cepillo dental sensodyne repara y protege x 2 unid. suave cepillo dental sensodyne multi protection x 3 unid. medio enjuague bucal listerine cool mint x 250 ml. enjuague bucal colgate plax fresh mint x 250 ml. enjuague bucal colgate plax clasico x 250 ml. enjuague bucal colgate plax kids x 250 ml. enjuague bucal listerine x 180 ml. cool mint enjuague bucal colgate encias reforzadas x 250 ml. enjuague bucal colgate total 12 x 250 ml. anti sarro enjuague bucal listerine x 250 ml. freshburst enjuague bucal listerine cool mint x 250 ml. enjuague bucal colgate plax ice infinity x 250 ml. enjuague bucal colgate plax clasico x 500 ml. spray bucal colgate antibacteriano x 60 ml. enjuague bucal listerine pro-encias x 250 ml. enjuague bucal listerine anti-sarro x 250 ml. enjuague bucal listerine cuidado total x 250 ml. enjuague bucal listerine control sarro x 250 ml. enjuague bucal listerine anticaries x 250 ml. enjuague bucal colgate total 12 x 500 ml. clean mint enjuague bucal colgate total 12 anti sarro x 500 ml. enjuague bucal listerine whitening extreme x 236 ml. enjuague bucal listerine x 500 ml. freshburst enjuague bucal listerine cool mint x 500 ml. enjuague bucal listerine pro-encias x 500 ml. enjuague bucal listerine anticaries x 500 ml. enjuague bucal listerine control sarro x 500 ml. enjuague bucal listerine cuidado total x 500 ml. enjuague bucal listerine anti-sarro x 500 ml. enjuague bucal listerine whitening extreme x 473 ml. hilo dental colgate total con fluor y menta x 25 mts. crema dental odol dientes blancos x 90 gr. crema dental kolynos x 90 gr. crema dental odol doble accion x 180 gr. crema dental colgate anticaries c/calcio x 90 gr crema dental colgate herbal blanqueadora x 90 gr. cema dental crema dental colgate tr.acc.xtra.white 70 gr. crema dental oral-b extra blancura con bicarbonato x 70 gr. crema dental noc 10 original x 70 gr. crema dental colgate herbal blanqueadora x 140 gr. crema dental colgate lum.whit.char.x90g crema dental kolynos super blanco x 180 gr. crema dental colgate antisarro x90 gr. crema dental colgate salud visible x90 gr. crema dental colgate natural extracts x 90 gr. curcuma pasta dental colgate pro-alivio inmediato x 90 gr. crema dental colgate anticaries c/calcio x 180 gr crema dental close up x 180 gr. menthol paradise crema dental colgate triple accion x 140 gr. crema dental sensodyne x 90gr. original crema dental colgate lum.whit.bril.x90g crema dental colgate zero x 90 gr. crema dental sensodyne limpieza profunda x 90 gr. crema dental colgate t12 encias x90 gr. crema dental colgate tot12 blanquead x90 gr. crema dental colgate tot12 limp.comp x90 gr. crema dental colgate t12 limp.prof. x70 gr. crema dental sensodyne ninos protecc. del esmalte x 100 gr. crema dental sensodyne blanqueador extra fresh x 90gr. pasta dental colgate triple accion xtra blancura x 140 gr. crema dental colgate triple accion x 180 gr. crema dental colgate sensitive pro-alivio x110gr crema adhesiva para protesis corega sin sabor x 40 gr. pasta dental corega ultra sin sabor x 40 gr. crema dental sensodyne pro esmalte x90gr. crema dental sensodyne rapido alivio x 100 gr. crema dental colgate salud visible x100 gr. crema dental colgate antisarro x140 gr. crema dental oral-b encias detox deep clean x 102 gr. crema dental sensodyne proteccion del esmalte x 113 gr. crema dental colgate whitening x 140 gr. crema dental colgate tot12 limp.comp x140 gr. crema dental colgate t12 encias 140 gr. crema dental colgate tot12 blanquead x140 gr. crema dental parodontax blanqueador x116gr. pasta dental parodontax proteccion completa x 75 gr. pasta dental sensodyne sensibilidad y encias x 100 gr. crema dental sensodyne repara y protege x100gr. gel dental sensodyne limpieza profunda 2 unid. x 90 gr. crema dental sensodyne alivio rapido x 100 gr. crema dental sensodyne repara y protege x100gr. blanqueador pasta dental corega ultra sabor menta x 70 gr. crema adhesiva para protesis corega sin sabor x 70 gr. crema dental colgate professional whitening x 140 gr crema dental colgate t12 limp.prof.x140 gr. crema adhesiva para protesis corega maximo sellado x 70 gr. crema dental oral-b extra blanco con bicarbonato x 70 gr. jabon de tocador suave verde frescura x 90 fr. jabon suave x90gr.lirio jabon antibacterial next cremoso x 90 gr. jabon antibacterial next fresh x 90 gr. jabon rexona active men x 125 gr. jabon rexona orchid fresh x 1 unid. jabon rexona cotton fresh x 1 unid. jabon rexona x125gr. bamboo fresh jabon lux flor de vainilla x 125 gr. jabon dove original x 90 gr. jabon dove karite x 1 unid. jabon dove leche de coco x 1 unid. jabon dove micelar x 1 unid. jabon de tocador suave verde frescura 3 x 90 gr. jabon suave blanco y cremoso 3 unid. x 90 gr. jabon limol multivarierdades 3 x 90 gr. jabon de tocador rexona antibacterial aloe 3 unid. x 90 gr. jabon antibacterial next cremoso 3 unid. x 90 gr. jabon antibacterial next 3 unid. x 90 gr. jabon de tocador lux jazmin 3 x 125 gr. jabon lux rosas francesas - 3 unid. x 125 gr. jabon lux orquidea negra x 3 unid. jabon asepxia exfoliante x 100 gr. jabon de tocador rexona bamboo 3 x 125 gr. jabon rexona cotton fresh 3 unid. x 125 gr. jabon rexona orchid fresh 3 x 125 gr. jabon lux flor de vainilla - 3 unid. x 125 gr jabon asepxia con bicarbonato de sodio x 100 gr. jabon exfoliante asepxia efecto purificante x 100 gr. jabon de tocador dove karite y vainilla 3 x 90 gr. jabon de glicerina jaboglyn x 130 gr. jabon de glicerina rexona citrus x 90 gr. jabon de glicerina veritas x 120 gr. menta y eucalipto jabon de glicerina veritas x 120 gr. naranja y limon jabon de glicerina veritas x 120 gr. nectar de frutas jabon de glicerina jaboglyn x 130 gr. jabon de glicerina veritas x 120 gr. antibacterial jabon de glicerina jaboglyn 2 unid x 130 gr. jabon de glicerina rexona citrus 3 x 90 gr. jabon de glicerina veritas x 3 unid. aceites esenciales jabon de glicerina veritas x 3 unid. naranja y limon jabon liquido algabo x 220 ml. karite y aguacate jabon liquido algabo floral rain dp x 300 ml. jabon liquido algabo flower mix doy pack x 300 ml. jabon liquido algabo doy pack x 300 ml. green tea jabon liquido algabo x 300 ml. frutos del bosque jabon liquido algabo citrus splash doy pack x 300 ml. jabon liquido algabo x 300 ml. coco y vainilla jabon liquido algabo x 300 ml. cream jabon liquido lux x 220 ml. orquidea negra jabon liquido antibacterial algabo doy pack x 300 ml. jabon liquido algabo x 300 ml. cream jabon liquido plusbelle reconexion x 250 ml. jabon liquido protex doy pack x 250 ml. balance jabon liquido lux rosas francesas x 250 ml. jabon liquido lux orquidea negra x 250 ml. jabon en espuma plusbelle x 250 ml. cacao y cerezo jabon liquido plusbelle balance x 250 ml. jabon liquido dove x 250 ml. nutricion profunda jabon liq. palmolive luminous oils x 250 ml. higo y orquidea jabon liq. palmolive luminous oils x 250 ml. aguacate jabon liquido antibacterial next x 250 ml. jabon liquido antibacterial next cremoso x 250 gr. jabon liquido antibacterial next fresh x 250 gr. jabon liquido dove x 250 ml. nutricion inteligente jabon antibacterial rexona x 90 gr. fresh jabon en barra dove antibacterial x 90 gr. jabon antibacterial rexona original 3 unid x 90 gr. jabon liquido dove antibacterial x 250 ml. protectores diarios calipso normal x 20 unid. protectores diarios doncella duo forma x 20 u. s/perfume protectores diarios nosotras respirable x 15 unid. protectores diarios nosotras largos x 15 unid. protectores diarios always con perfume x 15 unid. protectores diarios kotex classic x 20 unid. protectores diarios kotex antibacterial x 20 unid. protectores diarios ladysoft clasicos x 20 u. protectores diarios kotex cuidado diario s/perfume x20u. protectores diarios kotex 2 en 1 x 20 unid. protectores diarios nosotras normal x 20 unid. protectores diarios carefree compact x 20 unid. protectores diarios carefree compact s/perfume x 20 u. protectores diarios calipso normal x 50 unid. protectores diarios nosotras multiestilo x 20 unid. protectores diarios nosotras multiestilo x 20 unid. protectores diarios carefree tanga x 20 unid. protectores diarios doncella clasicos x 40 unid. s/perfume protectores diarios carefree todos los dias x 20 unid. protectores diarios carefree x 20 unid. protectores diarios calipso multiestilo x 50 unid. protectores diarios calipso normal x 80 unid. protectores diarios carefree largos x 20 unid. protectores diarios doncella clasicos x 60 unid. protectores diarios nosotras organico x 40 unid. protectores diarios always sin perfume x 40 unid. protectores diarios always seca x 16 unid. protectores diarios carefree compact x 80 unid. protectores diarios ladysoft clasicos x 56 unid. protectores diarios kotex esencial x 60 unid. protectores diarios kotex antibacterial x 60 unid. protectores diarios nosotras normal x 60 unid. protectores diarios kotex largos x 60 unid. protectores diarios carefree x 60 unid. protectores diarios carefree proteccion s/perfume x 60 u. protectores diarios carefree tanga x 60 unid. protectores diarios nosotras multiestilo x 60 unid. protectores diarios nosotras multiestilo x 60 unid. protectores diarios nosotras normal x 100 unid. protectores diarios carefree todos los dias x 100 unid. protectores diarios carefree todos los dias x 60 unid. protectores diarios kotex antibacterial x 100 unid. protectores diarios carefree proteccion s/perfume x 60 u. tampones o.b original x 8 unid. medio tampones nosotras regular x 8 unid. tampones nosotras mini x 8 unid. tampones nosotras super x 8 unid. tampones kotex digitales x 20 unid. medio tampones o.b original x 16 unid. medio tampones o.b super x 8 unid. toallas femeninas lina nocturna con alas x 8 unid. toallas femeninas always maxi proteccion suave x 8 unid. toallas femeninas ladysoft normal nocturna con alas x 8 u. toallas femeninas nosotras dia y noche x 8 unid. toallas femeninas kotex nocturna x 8 unid. toallas femeninas nosotras nocturna suave x 8 unid. toallas femeninas siempre libre ad. plus noche seca x 8 unid toallas femeninas siempre libre noche y dia x 8 unid. toallas femeninas always noches tranquilas x 8 unid. toallas femeninas siempre libre noche y dia seca x 16 unid. toallas femeninas siempre libre ad. plus noche suave x 16 u toallas femeninas kotex nocturna x 16 unid. toallas femeninas nosotras organico buenas noches x 10 unid. toallas femeninas always noches tranquilas x 16 unid. toallas femeninas calipso normal c/gel x 8 unid. toallas femeninas lina normal c/alas x 8 unid. toallas femeninas doncella normal c/perfume x8u. toallas femeninas kotex normal con alas x 8 unid. toallas femeninas ladysoft normal con alas y aloe x 8 u. toallas femeninas kotex esencial con alas x 8 unid. toallas femeninas lina normal con alas x 16 unid. toallas femeninas calipso normal c/gel x 16 unid. toallas femeninas always ajuste perfecto x 8 unid. toallas femeninas always proteccion dual x 8 unid. toallas femeninas siempre libre tanga suave x 8 unid. toallas femeninas normal c/alas kotex 2 en 1 x 8 unid. toallas femeninas siempre libre especial adapt seca x 8 unid toallas femeninas siempre libre especial adapt c/alas x 8 u. toallas femeninas siempre libre normal con alas x 8 u. toallas femeninas nosotras normal c/aloe vera x 8 unid. toallas femeninas kotex esencial normal c/alas x 16 unid. toallas femeninas siempre libre ad. plus ultra suave x 8 un. toallas femeninas ladysoft normal con alas x 16 unid. toallas femeninas nosotras clasica suave x 16 unid. toallas femeninas siempre libre adapt plus sin alas x 8 u. toallas femeninas nosotras extra proteccion x 8 unid. toallas femeninas kotex normal extra suave x 16 unid. toallas femeninas always proteccion dual suave x 16 unid. toallas femeninas siempre libre especial adapt suave x 16 u. toallas femeninas siempre libre especial adapt seca x 16 un. toallas femeninas nosotras normal c/aloe vera x 16 unid. toallas femeninas always triple proteccion suave x 16 unid. toallas femeninas siempre libre normal con alas x 16 u. toallas femeninas siempre libre adapt plus sin alas x 16 u. toallas femeninas kotex normal extra suave x 32 unid. toallas femeninas nosotras x 10 unid. maternidad toallas femeninas siempre libre ad. plus ultra suave x 32 u. toallas femeninas doncella delgadas c/alas x 8 u. con gel toallas femeninas ladysoft ultradelgada x 8 unid. toallas femeninas calipso ultradelgada x 16 unid. toallas femeninas calipso super anatomica x 16 unid. toallas femeninas lina ultrafina con alas x 10 unid. toallas femeninas siempre libre esp. ultrafina suave x 8 u. toallas femeninas kotex ultrafina antibacterial x 10 unid. toallas femeninas nosotras invisible x 8 unid. toallas femeninas ultrafina c/alas x 16 unid. toallas femeninas siempre libre ultrafina c/alas x 8 unid. toallas femeninas siempre libre ultrafina x 8 unid. toallas femeninas ladysoft ultradelgada c/alas x 16 u. toallas femeninas ladysoft ultradelgada c/alas x 16 u. toallas femeninas nosotras invisible suave x 16 unid. toallas femeninas kotex ultrafina x 16 unid. toallas femeninas siempre libre ultrafina suave x 16 unid. toallas femeninas nosotras invisible x 30 unid. toallas femeninas siempre libre ultrafina x 32 unid. protector solar nivea factor 15 x 200 ml. bronceador nivea factor 6 x 200 ml. talco algabo floral x 200 gr. desodorante para pies algabo x 153 ml. talco en aerosol veritas x 152 ml. talco pedico algabo x100gr. talco para pies rexona efficient fresh x 100 gr. talco para pies rexona efficient original x 100 gr. talco algabo suave x 120 gr. talco algabo clasico x 120 gr. talco algabo x400gr.floral talco pedico algabo x 200 gr. talco algabo natural x 250 gr. talco en polvo veritas suavidad delicada x 120 gr. talco veritas original x 120 gr. talco veritas hombre x 120 gr. polvo pedico veritas x 120 gr. talco en polvo algabo natural x 250 gr. talco veritas fresco x 180 gr. talco veritas hombre original x 180 gr. talco veritas clasico x 180 gr. talco veritas suavidad delicada x 180 gr. talco para pies rexona efficient fresh x 200 gr. talco para pies rexona efficient original x 200 gr. polvo pedico veritas x 180 gr. toallitas antibacteriales bialcohol x 15 unid. pilas rayovac alcalina c x 2 unid. pilas duracell c x 2 unid'"
            ],
            "application/vnd.google.colaboratory.intrinsic+json": {
              "type": "string"
            }
          },
          "metadata": {},
          "execution_count": 32
        }
      ],
      "source": [
        "# Concatenamos todos los rows en un solo valor\n",
        "corpus = dfProductos.apply(lambda row: ' '.join(row.values.astype(str)), axis=0)[0]\n",
        "corpus"
      ]
    },
    {
      "cell_type": "code",
      "execution_count": null,
      "metadata": {
        "id": "_KlsYd7_uOez",
        "outputId": "bb8756f6-241a-40c1-8992-ad2d20c67c22",
        "colab": {
          "base_uri": "https://localhost:8080/"
        }
      },
      "outputs": [
        {
          "output_type": "execute_result",
          "data": {
            "text/plain": [
              "['rocio',\n",
              " 'vegetal',\n",
              " 'mazola',\n",
              " 'x',\n",
              " '120',\n",
              " 'ml',\n",
              " 'manteca',\n",
              " 'rocio',\n",
              " 'vegetal',\n",
              " 'natura',\n",
              " 'x',\n",
              " '120',\n",
              " 'ml',\n",
              " 'rocio',\n",
              " 'vegetal',\n",
              " 'mazola',\n",
              " 'x',\n",
              " '120',\n",
              " 'ml',\n",
              " 'original']"
            ]
          },
          "metadata": {},
          "execution_count": 33
        }
      ],
      "source": [
        "# Transformar el corpus a tokens\n",
        "tokens=text_to_word_sequence(corpus)\n",
        "# Vistazo general de los primeros tokens\n",
        "tokens[:20]"
      ]
    },
    {
      "cell_type": "code",
      "execution_count": null,
      "metadata": {
        "id": "GlqpZSJOJ1xQ",
        "outputId": "9b3cba12-a587-42e5-fc92-5efc329aa568",
        "colab": {
          "base_uri": "https://localhost:8080/"
        }
      },
      "outputs": [
        {
          "output_type": "stream",
          "name": "stdout",
          "text": [
            "Cantidad de tokens en el corpus: 37288\n"
          ]
        }
      ],
      "source": [
        "print(\"Cantidad de tokens en el corpus:\", len(tokens))"
      ]
    },
    {
      "cell_type": "code",
      "execution_count": null,
      "metadata": {
        "id": "RhQevOynuYk2"
      },
      "outputs": [],
      "source": [
        "# Código para hacer el desfasaje de las palabras\n",
        "# según el train_len\n",
        "text_sequences = []\n",
        "for i in range(train_len, len(tokens)):\n",
        "  seq = tokens[i-train_len:i]\n",
        "  text_sequences.append(seq)"
      ]
    },
    {
      "cell_type": "code",
      "execution_count": null,
      "metadata": {
        "id": "FU3FuqHSuhzq",
        "outputId": "c123b65e-da49-47bd-e020-5287903ce582",
        "colab": {
          "base_uri": "https://localhost:8080/"
        }
      },
      "outputs": [
        {
          "output_type": "execute_result",
          "data": {
            "text/plain": [
              "[['rocio', 'vegetal', 'mazola', 'x'],\n",
              " ['vegetal', 'mazola', 'x', '120'],\n",
              " ['mazola', 'x', '120', 'ml'],\n",
              " ['x', '120', 'ml', 'manteca'],\n",
              " ['120', 'ml', 'manteca', 'rocio'],\n",
              " ['ml', 'manteca', 'rocio', 'vegetal'],\n",
              " ['manteca', 'rocio', 'vegetal', 'natura'],\n",
              " ['rocio', 'vegetal', 'natura', 'x'],\n",
              " ['vegetal', 'natura', 'x', '120'],\n",
              " ['natura', 'x', '120', 'ml'],\n",
              " ['x', '120', 'ml', 'rocio'],\n",
              " ['120', 'ml', 'rocio', 'vegetal'],\n",
              " ['ml', 'rocio', 'vegetal', 'mazola'],\n",
              " ['rocio', 'vegetal', 'mazola', 'x'],\n",
              " ['vegetal', 'mazola', 'x', '120'],\n",
              " ['mazola', 'x', '120', 'ml'],\n",
              " ['x', '120', 'ml', 'original'],\n",
              " ['120', 'ml', 'original', 'rocio'],\n",
              " ['ml', 'original', 'rocio', 'vegetal'],\n",
              " ['original', 'rocio', 'vegetal', 'de']]"
            ]
          },
          "metadata": {},
          "execution_count": 36
        }
      ],
      "source": [
        "# Demos un vistazo a nuestros vectores para entrenar el modelo\n",
        "text_sequences[:20]"
      ]
    },
    {
      "cell_type": "code",
      "execution_count": null,
      "metadata": {
        "id": "064N2jtLvHRg",
        "outputId": "a09dd280-5b4f-4e3b-bd39-c5a16517f9ba",
        "colab": {
          "base_uri": "https://localhost:8080/"
        }
      },
      "outputs": [
        {
          "output_type": "execute_result",
          "data": {
            "text/plain": [
              "[[733, 500, 1658, 1],\n",
              " [500, 1658, 1, 65],\n",
              " [1658, 1, 65, 3],\n",
              " [1, 65, 3, 196],\n",
              " [65, 3, 196, 733],\n",
              " [3, 196, 733, 500],\n",
              " [196, 733, 500, 429],\n",
              " [733, 500, 429, 1],\n",
              " [500, 429, 1, 65],\n",
              " [429, 1, 65, 3],\n",
              " [1, 65, 3, 733],\n",
              " [65, 3, 733, 500],\n",
              " [3, 733, 500, 1658],\n",
              " [733, 500, 1658, 1],\n",
              " [500, 1658, 1, 65],\n",
              " [1658, 1, 65, 3],\n",
              " [1, 65, 3, 91],\n",
              " [65, 3, 91, 733],\n",
              " [3, 91, 733, 500],\n",
              " [91, 733, 500, 4]]"
            ]
          },
          "metadata": {},
          "execution_count": 37
        }
      ],
      "source": [
        "# Proceso de tokenización\n",
        "tok = Tokenizer()\n",
        "tok.fit_on_texts(text_sequences)\n",
        "\n",
        "# Convertimos las palabras a números\n",
        "# entran palabras -> salen números\n",
        "sequences = tok.texts_to_sequences(text_sequences)\n",
        "\n",
        "# Damos un vistazo\n",
        "sequences[:20]"
      ]
    },
    {
      "cell_type": "code",
      "execution_count": null,
      "metadata": {
        "id": "vwsvmvDKKXSP",
        "outputId": "05da2f64-e495-482b-ee1c-3e3c2bab0d71",
        "colab": {
          "base_uri": "https://localhost:8080/"
        }
      },
      "outputs": [
        {
          "output_type": "stream",
          "name": "stdout",
          "text": [
            "Cantidad de rows del dataset: 37284\n"
          ]
        }
      ],
      "source": [
        "print(\"Cantidad de rows del dataset:\", len(sequences))"
      ]
    },
    {
      "cell_type": "markdown",
      "metadata": {
        "id": "QMVP4bj0vL2e"
      },
      "source": [
        "### 3 - Input y target"
      ]
    },
    {
      "cell_type": "code",
      "execution_count": null,
      "metadata": {
        "id": "e1vJTG65v4Qn",
        "colab": {
          "base_uri": "https://localhost:8080/"
        },
        "outputId": "a75f085b-222e-4ae1-d511-c62b4a9d5393"
      },
      "outputs": [
        {
          "output_type": "stream",
          "name": "stdout",
          "text": [
            "(37284, 3)\n",
            "(37284,)\n"
          ]
        }
      ],
      "source": [
        "arr_sequences = np.array(sequences)\n",
        "x_data = arr_sequences[:,:-1]\n",
        "y_data_int = arr_sequences[:,-1] # aún falta el oneHotEncoder\n",
        "\n",
        "print(x_data.shape)\n",
        "print(y_data_int.shape)"
      ]
    },
    {
      "cell_type": "code",
      "execution_count": null,
      "metadata": {
        "id": "ln6kVWVlwBBs",
        "colab": {
          "base_uri": "https://localhost:8080/"
        },
        "outputId": "01aaebcc-3da7-4a97-d057-40317849629f"
      },
      "outputs": [
        {
          "output_type": "execute_result",
          "data": {
            "text/plain": [
              "{1: 'x',\n",
              " 2: 'gr',\n",
              " 3: 'ml',\n",
              " 4: 'de',\n",
              " 5: 'unid',\n",
              " 6: '1',\n",
              " 7: 'la',\n",
              " 8: '750',\n",
              " 9: '500',\n",
              " 10: '100',\n",
              " 11: 'vino',\n",
              " 12: 'lt',\n",
              " 13: 'en',\n",
              " 14: 'leche',\n",
              " 15: 'queso',\n",
              " 16: 'con',\n",
              " 17: '200',\n",
              " 18: 'y',\n",
              " 19: '400',\n",
              " 20: 'para',\n",
              " 21: 'crema',\n",
              " 22: 'polvo',\n",
              " 23: '2',\n",
              " 24: '250',\n",
              " 25: 'tinto',\n",
              " 26: 'jabon',\n",
              " 27: '3',\n",
              " 28: 'chocolate',\n",
              " 29: 'kg',\n",
              " 30: '300',\n",
              " 31: 'dulce',\n",
              " 32: 'light',\n",
              " 33: 'p',\n",
              " 34: 'yogur',\n",
              " 35: 'sin',\n",
              " 36: '5',\n",
              " 37: 'blanco',\n",
              " 38: '25',\n",
              " 39: 'galletitas',\n",
              " 40: 'cerveza',\n",
              " 41: 'vainilla',\n",
              " 42: '50',\n",
              " 43: 'shampoo',\n",
              " 44: '6',\n",
              " 45: 'cafe',\n",
              " 46: 'x100gr',\n",
              " 47: 'acondicionador',\n",
              " 48: '4',\n",
              " 49: 'paladini',\n",
              " 50: 'limpiador',\n",
              " 51: 'mate',\n",
              " 52: 'frutilla',\n",
              " 53: '150',\n",
              " 54: 'serenisima',\n",
              " 55: 'sabor',\n",
              " 56: 'jugo',\n",
              " 57: 'liquido',\n",
              " 58: 'saquitos',\n",
              " 59: 'dental',\n",
              " 60: 'toallas',\n",
              " 61: 'naranja',\n",
              " 62: 'malbec',\n",
              " 63: 'cabernet',\n",
              " 64: 'sal',\n",
              " 65: '120',\n",
              " 66: 'yerba',\n",
              " 67: 'del',\n",
              " 68: '180',\n",
              " 69: 'desodorante',\n",
              " 70: 'clasico',\n",
              " 71: 'c',\n",
              " 72: 'suave',\n",
              " 73: 'te',\n",
              " 74: '8',\n",
              " 75: 'sauvignon',\n",
              " 76: '20',\n",
              " 77: 'pan',\n",
              " 78: 'femeninas',\n",
              " 79: '350',\n",
              " 80: 'limon',\n",
              " 81: 'aceite',\n",
              " 82: '473',\n",
              " 83: '190',\n",
              " 84: '900',\n",
              " 85: 'arcor',\n",
              " 86: 'pack',\n",
              " 87: '800',\n",
              " 88: 'untable',\n",
              " 89: 'u',\n",
              " 90: 's',\n",
              " 91: 'original',\n",
              " 92: 'fino',\n",
              " 93: 'salsa',\n",
              " 94: 'arroz',\n",
              " 95: 'egipciana',\n",
              " 96: '12',\n",
              " 97: 'milkaut',\n",
              " 98: 'extra',\n",
              " 99: 'aceitunas',\n",
              " 100: 'agua',\n",
              " 101: 'gaseosa',\n",
              " 102: 'alimento',\n",
              " 103: '360',\n",
              " 104: '10',\n",
              " 105: 'marvavic',\n",
              " 106: 'ilolay',\n",
              " 107: 'paulina',\n",
              " 108: 'mermelada',\n",
              " 109: 'dos',\n",
              " 110: 'anclas',\n",
              " 111: 'tregar',\n",
              " 112: '60',\n",
              " 113: 'protectores',\n",
              " 114: 'knorr',\n",
              " 115: 'manzana',\n",
              " 116: 'campagnola',\n",
              " 117: 'virginia',\n",
              " 118: '90',\n",
              " 119: 'colgate',\n",
              " 120: 'diarios',\n",
              " 121: 'cereal',\n",
              " 122: 'jamon',\n",
              " 123: 'dove',\n",
              " 124: 'rexona',\n",
              " 125: 'oliva',\n",
              " 126: 'soja',\n",
              " 127: 'doble',\n",
              " 128: 'cremoso',\n",
              " 129: '450',\n",
              " 130: 'panales',\n",
              " 131: 'don',\n",
              " 132: 'alicante',\n",
              " 133: 'papas',\n",
              " 134: 'fideos',\n",
              " 135: 'talle',\n",
              " 136: 'gallega',\n",
              " 137: '340',\n",
              " 138: 'pomelo',\n",
              " 139: 'chardonnay',\n",
              " 140: 'elvive',\n",
              " 141: 'swift',\n",
              " 142: 'mani',\n",
              " 143: '125',\n",
              " 144: '170',\n",
              " 145: 'mix',\n",
              " 146: 'pollo',\n",
              " 147: 'durazno',\n",
              " 148: 'zorro',\n",
              " 149: 'tipo',\n",
              " 150: '16',\n",
              " 151: 'milanesas',\n",
              " 152: 'espumante',\n",
              " 153: 'hamburguesas',\n",
              " 154: 'postre',\n",
              " 155: 'plus',\n",
              " 156: 'algabo',\n",
              " 157: '80',\n",
              " 158: 'natural',\n",
              " 159: 'fina',\n",
              " 160: 'pisos',\n",
              " 161: 'sedal',\n",
              " 162: '140',\n",
              " 163: 'sobres',\n",
              " 164: 'entero',\n",
              " 165: 'bebible',\n",
              " 166: 'maiz',\n",
              " 167: 'lata',\n",
              " 168: 'vinagre',\n",
              " 169: '40',\n",
              " 170: '7',\n",
              " 171: 'sol',\n",
              " 172: 'esponja',\n",
              " 173: 'capsulas',\n",
              " 174: 'hierbas',\n",
              " 175: '30',\n",
              " 176: 'helado',\n",
              " 177: 'cm',\n",
              " 178: 'veritas',\n",
              " 179: 'antibacterial',\n",
              " 180: 'papel',\n",
              " 181: 'verdes',\n",
              " 182: 'el',\n",
              " 183: '70',\n",
              " 184: 'johnson',\n",
              " 185: 'cif',\n",
              " 186: 'nucete',\n",
              " 187: 'porotos',\n",
              " 188: 'mayonesa',\n",
              " 189: 'azucar',\n",
              " 190: 'choclo',\n",
              " 191: 'carne',\n",
              " 192: 'latas',\n",
              " 193: 'dea',\n",
              " 194: 'antitranspirante',\n",
              " 195: 'bucal',\n",
              " 196: 'manteca',\n",
              " 197: 'espinaca',\n",
              " 198: 'azul',\n",
              " 199: 'infantil',\n",
              " 200: 'normal',\n",
              " 201: 'ternera',\n",
              " 202: 'granja',\n",
              " 203: 'glade',\n",
              " 204: 'enjuague',\n",
              " 205: '390',\n",
              " 206: 'ser',\n",
              " 207: 'gel',\n",
              " 208: 'retornable',\n",
              " 209: 'pasta',\n",
              " 210: 'edulcorante',\n",
              " 211: 'nescafe',\n",
              " 212: '18',\n",
              " 213: 'instantaneo',\n",
              " 214: 'molido',\n",
              " 215: 'granix',\n",
              " 216: 'frutas',\n",
              " 217: 'bebe',\n",
              " 218: 'reserva',\n",
              " 219: 'gas',\n",
              " 220: 'mts',\n",
              " 221: 'cepillo',\n",
              " 222: 'yet',\n",
              " 223: 'alcohol',\n",
              " 224: 'bc',\n",
              " 225: 'a',\n",
              " 226: 'elio',\n",
              " 227: 'alfajor',\n",
              " 228: 'ultra',\n",
              " 229: 'cocido',\n",
              " 230: 'sancor',\n",
              " 231: 'huggies',\n",
              " 232: 'descremado',\n",
              " 233: 'nosotras',\n",
              " 234: 'almendras',\n",
              " 235: 'sur',\n",
              " 236: 'levite',\n",
              " 237: 'caramelos',\n",
              " 238: 'ala',\n",
              " 239: 'matic',\n",
              " 240: 'blend',\n",
              " 241: 'verde',\n",
              " 242: 'bano',\n",
              " 243: 'talco',\n",
              " 244: 'villa',\n",
              " 245: 'tostadas',\n",
              " 246: 'rollo',\n",
              " 247: 'libertador',\n",
              " 248: 'perros',\n",
              " 249: 'higienico',\n",
              " 250: 'roll',\n",
              " 251: 'on',\n",
              " 252: 'pizza',\n",
              " 253: 'amarillo',\n",
              " 254: 'cabrales',\n",
              " 255: 'semillas',\n",
              " 256: '700',\n",
              " 257: 'tremblay',\n",
              " 258: 'salero',\n",
              " 259: 'tetra',\n",
              " 260: 'taragui',\n",
              " 261: 'citrus',\n",
              " 262: 'cabello',\n",
              " 263: 'humedas',\n",
              " 264: 'amargo',\n",
              " 265: 'whisky',\n",
              " 266: 'los',\n",
              " 267: 'cumbre',\n",
              " 268: 'salvado',\n",
              " 269: 'alas',\n",
              " 270: 'aceto',\n",
              " 271: 'lucchetti',\n",
              " 272: 'miel',\n",
              " 273: 'cereales',\n",
              " 274: '85',\n",
              " 275: 'cofler',\n",
              " 276: 'medallones',\n",
              " 277: 'bizcochuelo',\n",
              " 278: 'bon',\n",
              " 279: 'baby',\n",
              " 280: 'mineral',\n",
              " 281: 'fresh',\n",
              " 282: 'cerdo',\n",
              " 283: 'dce',\n",
              " 284: 'descremada',\n",
              " 285: 'cocina',\n",
              " 286: 'hinds',\n",
              " 287: 'sensodyne',\n",
              " 288: 'siempre',\n",
              " 289: 'libre',\n",
              " 290: 'premium',\n",
              " 291: 'morenita',\n",
              " 292: 'unidades',\n",
              " 293: 'vida',\n",
              " 294: '380',\n",
              " 295: 'toallitas',\n",
              " 296: 'b',\n",
              " 297: 'cepita',\n",
              " 298: 'rallado',\n",
              " 299: 'procenex',\n",
              " 300: 'gatos',\n",
              " 301: 'tintura',\n",
              " 302: 'kotex',\n",
              " 303: 'casalta',\n",
              " 304: 'balsamico',\n",
              " 305: 'vanoli',\n",
              " 306: 'avena',\n",
              " 307: 'coco',\n",
              " 308: 'clasicas',\n",
              " 309: 'harina',\n",
              " 310: 'glicerina',\n",
              " 311: 'proteccion',\n",
              " 312: 'vodka',\n",
              " 313: 'imperial',\n",
              " 314: 'brut',\n",
              " 315: 'salchichas',\n",
              " 316: 'lavanda',\n",
              " 317: 'elegante',\n",
              " 318: 'listerine',\n",
              " 319: 'doy',\n",
              " 320: '160',\n",
              " 321: '220',\n",
              " 322: 'gallo',\n",
              " 323: 'las',\n",
              " 324: 'cacao',\n",
              " 325: 'total',\n",
              " 326: 'finas',\n",
              " 327: 'pedrin',\n",
              " 328: 'fritas',\n",
              " 329: 'tonadita',\n",
              " 330: 'patagonia',\n",
              " 331: '290',\n",
              " 332: 'flan',\n",
              " 333: 'o',\n",
              " 334: 'san',\n",
              " 335: 'aperitivo',\n",
              " 336: 'rosado',\n",
              " 337: 'saborizada',\n",
              " 338: 'cola',\n",
              " 339: 'tang',\n",
              " 340: 'bimbo',\n",
              " 341: 'veneziana',\n",
              " 342: 'finlandia',\n",
              " 343: 'panos',\n",
              " 344: 'lysoform',\n",
              " 345: 'cera',\n",
              " 346: 'suavizante',\n",
              " 347: 'adultos',\n",
              " 348: 'afeitar',\n",
              " 349: 'virgen',\n",
              " 350: 'negras',\n",
              " 351: 'mesa',\n",
              " 352: '35',\n",
              " 353: 'tomate',\n",
              " 354: 'inalpa',\n",
              " 355: '454',\n",
              " 356: 'pure',\n",
              " 357: 'manzanilla',\n",
              " 358: 'kids',\n",
              " 359: 'terma',\n",
              " 360: 'syrah',\n",
              " 361: 'green',\n",
              " 362: 'chocolatada',\n",
              " 363: 'bolsas',\n",
              " 364: 'budin',\n",
              " 365: 'rollos',\n",
              " 366: 'deo',\n",
              " 367: 'rellenas',\n",
              " 368: 'g',\n",
              " 369: 'cebolla',\n",
              " 370: '110',\n",
              " 371: 'chips',\n",
              " 372: 'piel',\n",
              " 373: 'tacc',\n",
              " 374: 'celusal',\n",
              " 375: 'sopa',\n",
              " 376: 'vital',\n",
              " 377: 'classic',\n",
              " 378: 'aloe',\n",
              " 379: 'finca',\n",
              " 380: 'lario',\n",
              " 381: 'salame',\n",
              " 382: 'hoja',\n",
              " 383: 'batido',\n",
              " 384: 'cabo',\n",
              " 385: 'metal',\n",
              " 386: 'inodoros',\n",
              " 387: 'liquida',\n",
              " 388: 'blem',\n",
              " 389: 'saltena',\n",
              " 390: 'nutricion',\n",
              " 391: '410',\n",
              " 392: '320',\n",
              " 393: 'largo',\n",
              " 394: 'oro',\n",
              " 395: 'arvejas',\n",
              " 396: 'seleccion',\n",
              " 397: 'espuma',\n",
              " 398: 'blanca',\n",
              " 399: '45',\n",
              " 400: 'zyma',\n",
              " 401: 'exquisita',\n",
              " 402: 'gelatina',\n",
              " 403: 'baggio',\n",
              " 404: '0',\n",
              " 405: 'hidratacion',\n",
              " 406: 'etapa',\n",
              " 407: 'soft',\n",
              " 408: 'oleo',\n",
              " 409: 'roble',\n",
              " 410: 'santa',\n",
              " 411: 'cero',\n",
              " 412: 'clight',\n",
              " 413: 'detergente',\n",
              " 414: 'paty',\n",
              " 415: 'madalenas',\n",
              " 416: 'milka',\n",
              " 417: 'lactosa',\n",
              " 418: 'aerosol',\n",
              " 419: 'yogurisimo',\n",
              " 420: 'multiuso',\n",
              " 421: 'sed',\n",
              " 422: 'floral',\n",
              " 423: 'desinfectante',\n",
              " 424: 'ambiente',\n",
              " 425: 'insecticida',\n",
              " 426: 'raid',\n",
              " 427: 'perfume',\n",
              " 428: 'ravioles',\n",
              " 429: 'natura',\n",
              " 430: 'tradicional',\n",
              " 431: 'stevia',\n",
              " 432: '15',\n",
              " 433: 'premezcla',\n",
              " 434: 'torta',\n",
              " 435: 'chef',\n",
              " 436: 'lista',\n",
              " 437: 'cachamai',\n",
              " 438: 'm',\n",
              " 439: 'rosamonte',\n",
              " 440: 'repuesto',\n",
              " 441: 'dulces',\n",
              " 442: 'triple',\n",
              " 443: 'plusbelle',\n",
              " 444: 'cuidado',\n",
              " 445: 'cream',\n",
              " 446: 'canciller',\n",
              " 447: '33',\n",
              " 448: 'nro',\n",
              " 449: 'mio',\n",
              " 450: 'fetas',\n",
              " 451: 'pano',\n",
              " 452: 'ayudin',\n",
              " 453: 'gatillo',\n",
              " 454: 'poett',\n",
              " 455: 'mosquitos',\n",
              " 456: 'ropa',\n",
              " 457: 'pedigree',\n",
              " 458: 'matarazzo',\n",
              " 459: 'nivea',\n",
              " 460: 'carefree',\n",
              " 461: 'medio',\n",
              " 462: '330',\n",
              " 463: 'tuy',\n",
              " 464: 'malta',\n",
              " 465: 'frutos',\n",
              " 466: 'barra',\n",
              " 467: 'maizena',\n",
              " 468: 'horno',\n",
              " 469: 'al',\n",
              " 470: 'atun',\n",
              " 471: 'queth',\n",
              " 472: 'bizcochos',\n",
              " 473: 'aguila',\n",
              " 474: 'color',\n",
              " 475: 'royal',\n",
              " 476: 'tresal',\n",
              " 477: 'especial',\n",
              " 478: 'cachamate',\n",
              " 479: 'sec',\n",
              " 480: 'quilmes',\n",
              " 481: 'x1lt',\n",
              " 482: 'colon',\n",
              " 483: 'estancia',\n",
              " 484: 'mendoza',\n",
              " 485: 'black',\n",
              " 486: 'coca',\n",
              " 487: 'montevideana',\n",
              " 488: 'oblea',\n",
              " 489: '55',\n",
              " 490: 'lampara',\n",
              " 491: 'osram',\n",
              " 492: 'luz',\n",
              " 493: 'entera',\n",
              " 494: 'adler',\n",
              " 495: 'firme',\n",
              " 496: 'escobillon',\n",
              " 497: 'quitamanchas',\n",
              " 498: 'pantene',\n",
              " 499: 'pro',\n",
              " 500: 'vegetal',\n",
              " 501: 'morixe',\n",
              " 502: '420',\n",
              " 503: '310',\n",
              " 504: 'danica',\n",
              " 505: 'hellmann',\n",
              " 506: 'cappuccino',\n",
              " 507: 'dolca',\n",
              " 508: 'super',\n",
              " 509: '130',\n",
              " 510: 'pasas',\n",
              " 511: 'condimento',\n",
              " 512: 'preparar',\n",
              " 513: 'bolsa',\n",
              " 514: '75',\n",
              " 515: 'saborizador',\n",
              " 516: 'gentleman',\n",
              " 517: 'estuche',\n",
              " 518: 'batata',\n",
              " 519: 'membrillo',\n",
              " 520: 'dulcor',\n",
              " 521: 'cormillot',\n",
              " 522: 'tapas',\n",
              " 523: 'mogul',\n",
              " 524: 'caldo',\n",
              " 525: 'rosa',\n",
              " 526: 'cbse',\n",
              " 527: 'doncella',\n",
              " 528: '9',\n",
              " 529: '24',\n",
              " 530: 'brillo',\n",
              " 531: 'suavidad',\n",
              " 532: 'lima',\n",
              " 533: 'nieto',\n",
              " 534: 'senetiner',\n",
              " 535: 'galletas',\n",
              " 536: 'life',\n",
              " 537: 'deubel',\n",
              " 538: 'criollitas',\n",
              " 539: 'bombones',\n",
              " 540: 'kit',\n",
              " 541: 'led',\n",
              " 542: 'larga',\n",
              " 543: 'salut',\n",
              " 544: 'yogs',\n",
              " 545: 'mata',\n",
              " 546: 'repelente',\n",
              " 547: 'lavandina',\n",
              " 548: 'lustramuebles',\n",
              " 549: 'pascualina',\n",
              " 550: 'gillette',\n",
              " 551: 'esencial',\n",
              " 552: 'reparacion',\n",
              " 553: 'nutrisse',\n",
              " 554: 'oral',\n",
              " 555: 'cc',\n",
              " 556: 'ajo',\n",
              " 557: 'carozo',\n",
              " 558: 'salmuera',\n",
              " 559: 'morron',\n",
              " 560: 'integral',\n",
              " 561: 'starbucks',\n",
              " 562: 'nestle',\n",
              " 563: 'alta',\n",
              " 564: '210',\n",
              " 565: 'fibra',\n",
              " 566: '175',\n",
              " 567: 'quesos',\n",
              " 568: '820',\n",
              " 569: 'godet',\n",
              " 570: 'entrefina',\n",
              " 571: 'gruesa',\n",
              " 572: 'balance',\n",
              " 573: 'menta',\n",
              " 574: 'silvestre',\n",
              " 575: 'pera',\n",
              " 576: 'nido',\n",
              " 577: '48',\n",
              " 578: 'comfort',\n",
              " 579: 'duffy',\n",
              " 580: 'pronto',\n",
              " 581: 'red',\n",
              " 582: 'dada',\n",
              " 583: 'blanc',\n",
              " 584: 'toro',\n",
              " 585: 'bebida',\n",
              " 586: 'vitamina',\n",
              " 587: 'mini',\n",
              " 588: '185',\n",
              " 589: 'danbo',\n",
              " 590: 'colchon',\n",
              " 591: 'asurin',\n",
              " 592: 'acero',\n",
              " 593: 'crivea',\n",
              " 594: 'gigante',\n",
              " 595: 'regular',\n",
              " 596: 'chow',\n",
              " 597: 'sensitive',\n",
              " 598: 'liso',\n",
              " 599: '930',\n",
              " 600: 'axe',\n",
              " 601: 'always',\n",
              " 602: 'girasol',\n",
              " 603: 'intenso',\n",
              " 604: 'favinco',\n",
              " 605: 'rodajas',\n",
              " 606: '370',\n",
              " 607: 'd',\n",
              " 608: 'primavera',\n",
              " 609: 'lentejas',\n",
              " 610: 'sweet',\n",
              " 611: 'nesquik',\n",
              " 612: 'gusto',\n",
              " 613: 'bocaditos',\n",
              " 614: 'sodio',\n",
              " 615: 'noel',\n",
              " 616: 'jardinera',\n",
              " 617: 'caracas',\n",
              " 618: 'pate',\n",
              " 619: 'puglisi',\n",
              " 620: 'casero',\n",
              " 621: 'noquis',\n",
              " 622: 'huevos',\n",
              " 623: 'saq',\n",
              " 624: 'hebras',\n",
              " 625: 'negra',\n",
              " 626: 'negro',\n",
              " 627: 'campo',\n",
              " 628: 'termo',\n",
              " 629: 'xg',\n",
              " 630: 'pampers',\n",
              " 631: 'ideal',\n",
              " 632: 'vera',\n",
              " 633: 'lager',\n",
              " 634: 'andes',\n",
              " 635: 'mora',\n",
              " 636: 'bianchi',\n",
              " 637: 'torrontes',\n",
              " 638: 'white',\n",
              " 639: 'aquarius',\n",
              " 640: 'tapa',\n",
              " 641: 'carbon',\n",
              " 642: 'grandiet',\n",
              " 643: 'cheddar',\n",
              " 644: 'mc',\n",
              " 645: 'cain',\n",
              " 646: 'epuyen',\n",
              " 647: 'bauducco',\n",
              " 648: 'riera',\n",
              " 649: 'bonafide',\n",
              " 650: '95',\n",
              " 651: 'rosalat',\n",
              " 652: 'canut',\n",
              " 653: 'pategras',\n",
              " 654: 'bronce',\n",
              " 655: 'guantes',\n",
              " 656: 'power',\n",
              " 657: 'lavavajillas',\n",
              " 658: 'antigrasa',\n",
              " 659: 'algodon',\n",
              " 660: 'invisible',\n",
              " 661: 'suiza',\n",
              " 662: 'colores',\n",
              " 663: 'empanadas',\n",
              " 664: 'corporal',\n",
              " 665: 'anti',\n",
              " 666: 'loreal',\n",
              " 667: 'rubio',\n",
              " 668: 'antitransp',\n",
              " 669: 'ultrafina',\n",
              " 670: 'descarozadas',\n",
              " 671: 'pickles',\n",
              " 672: 'receta',\n",
              " 673: '950',\n",
              " 674: 'barbacoa',\n",
              " 675: 'tio',\n",
              " 676: 'trigo',\n",
              " 677: 'espresso',\n",
              " 678: 'dolce',\n",
              " 679: 'mousse',\n",
              " 680: 'instantanea',\n",
              " 681: 'mezcla',\n",
              " 682: 'provenzal',\n",
              " 683: 'pimienta',\n",
              " 684: 'anana',\n",
              " 685: 'palitos',\n",
              " 686: 'caroyense',\n",
              " 687: 'caja',\n",
              " 688: 'repostero',\n",
              " 689: 'morocha',\n",
              " 690: 'clasica',\n",
              " 691: 'maggi',\n",
              " 692: 'tomates',\n",
              " 693: 'gran',\n",
              " 694: '65',\n",
              " 695: 'union',\n",
              " 696: 'next',\n",
              " 697: 'x750ml',\n",
              " 698: 'cautiva',\n",
              " 699: 'ipa',\n",
              " 700: 'i',\n",
              " 701: 'trapiche',\n",
              " 702: 'pepsi',\n",
              " 703: 'fela',\n",
              " 704: 'mozzarella',\n",
              " 705: 'mortadela',\n",
              " 706: 'hojaldre',\n",
              " 707: 'grisines',\n",
              " 708: 'grande',\n",
              " 709: 'margarina',\n",
              " 710: 'x190gr',\n",
              " 711: 'residuos',\n",
              " 712: 'canasta',\n",
              " 713: 'pato',\n",
              " 714: 'purific',\n",
              " 715: 'sanitizante',\n",
              " 716: 'fuyi',\n",
              " 717: 'accion',\n",
              " 718: 'off',\n",
              " 719: 'sabrositos',\n",
              " 720: 'bouquet',\n",
              " 721: 'mil',\n",
              " 722: 'hojas',\n",
              " 723: 'cicatricure',\n",
              " 724: 'head',\n",
              " 725: 'shoulders',\n",
              " 726: 'alfaparf',\n",
              " 727: 'bomba',\n",
              " 728: 'tresemme',\n",
              " 729: 'bialcohol',\n",
              " 730: 'lux',\n",
              " 731: 'calipso',\n",
              " 732: 'ladysoft',\n",
              " 733: 'rocio',\n",
              " 734: 'variedad',\n",
              " 735: 'ahumado',\n",
              " 736: 'blancas',\n",
              " 737: 'aleluya',\n",
              " 738: 'mostaza',\n",
              " 739: '240',\n",
              " 740: 'pelado',\n",
              " 741: 'garbanzos',\n",
              " 742: 'endulzante',\n",
              " 743: 'colombia',\n",
              " 744: 'italiano',\n",
              " 745: 'aroma',\n",
              " 746: 'planta',\n",
              " 747: '155',\n",
              " 748: 'georgalos',\n",
              " 749: 'frutillas',\n",
              " 750: 'choco',\n",
              " 751: '270',\n",
              " 752: 'verdura',\n",
              " 753: 'secos',\n",
              " 754: 'enteros',\n",
              " 755: 'cascara',\n",
              " 756: 'serrano',\n",
              " 757: 'surtido',\n",
              " 758: 'arandanos',\n",
              " 759: 'relleno',\n",
              " 760: 'uva',\n",
              " 761: 'x500gr',\n",
              " 762: 'blancos',\n",
              " 763: '480',\n",
              " 764: 'paquete',\n",
              " 765: '100gr',\n",
              " 766: 'twinings',\n",
              " 767: 'profunda',\n",
              " 768: 'plato',\n",
              " 769: '44',\n",
              " 770: '28',\n",
              " 771: 'cotton',\n",
              " 772: 'q',\n",
              " 773: 'mango',\n",
              " 774: 'dry',\n",
              " 775: 'control',\n",
              " 776: 'absolut',\n",
              " 777: 'roja',\n",
              " 778: 'dilema',\n",
              " 779: 'julia',\n",
              " 780: 'alma',\n",
              " 781: 'pinot',\n",
              " 782: 'privada',\n",
              " 783: 'latitud',\n",
              " 784: 'energizante',\n",
              " 785: 'multifruta',\n",
              " 786: 'ades',\n",
              " 787: 'autobrillo',\n",
              " 788: 'bondiola',\n",
              " 789: 'bombon',\n",
              " 790: 'max',\n",
              " 791: 'pescado',\n",
              " 792: 'labratto',\n",
              " 793: 'crudo',\n",
              " 794: 'unidad',\n",
              " 795: 'cachafaz',\n",
              " 796: 'schar',\n",
              " 797: 'terrabusi',\n",
              " 798: 'bagley',\n",
              " 799: 'dorada',\n",
              " 800: 'x200gr',\n",
              " 801: 'evolution',\n",
              " 802: 'caramelo',\n",
              " 803: 'sarro',\n",
              " 804: 'active',\n",
              " 805: 'aire',\n",
              " 806: 'pur',\n",
              " 807: 'x400ml',\n",
              " 808: 'drive',\n",
              " 809: 'radiantes',\n",
              " 810: 'vivere',\n",
              " 811: 'whiskas',\n",
              " 812: 'seca',\n",
              " 813: 'fargo',\n",
              " 814: 'campanita',\n",
              " 815: 'capelettini',\n",
              " 816: 'men',\n",
              " 817: 'nacho',\n",
              " 818: 'capilar',\n",
              " 819: 'excellence',\n",
              " 820: 'vo5',\n",
              " 821: 'encias',\n",
              " 822: 'tampones',\n",
              " 823: 'cocinero',\n",
              " 824: 'puro',\n",
              " 825: 'toscana',\n",
              " 826: 'lts',\n",
              " 827: 'sachet',\n",
              " 828: 'pallares',\n",
              " 829: 'chimichurri',\n",
              " 830: 'dia',\n",
              " 831: 'alubia',\n",
              " 832: 'chango',\n",
              " 833: 'equalsweet',\n",
              " 834: '36',\n",
              " 835: 'flow',\n",
              " 836: 'bosque',\n",
              " 837: '165',\n",
              " 838: 'oregano',\n",
              " 839: 'alco',\n",
              " 840: 'merluza',\n",
              " 841: 'ensalada',\n",
              " 842: 'king',\n",
              " 843: 'lays',\n",
              " 844: 'lechelita',\n",
              " 845: 'ciruela',\n",
              " 846: 'grandes',\n",
              " 847: 'tropicales',\n",
              " 848: '600',\n",
              " 849: 'avicola',\n",
              " 850: 'canela',\n",
              " 851: 'reposteria',\n",
              " 852: 'vegetales',\n",
              " 853: 'integrales',\n",
              " 854: 'boldo',\n",
              " 855: 'vaso',\n",
              " 856: 'hidratante',\n",
              " 857: 'nutrilon',\n",
              " 858: 'protect',\n",
              " 859: 'oscuro',\n",
              " 860: 'pies',\n",
              " 861: 'e',\n",
              " 862: 'ice',\n",
              " 863: 'stout',\n",
              " 864: 'schneider',\n",
              " 865: 'amstel',\n",
              " 866: 'amber',\n",
              " 867: '710',\n",
              " 868: 'blue',\n",
              " 869: '375',\n",
              " 870: 'x450ml',\n",
              " 871: 'benjamin',\n",
              " 872: 'bodega',\n",
              " 873: 'david',\n",
              " 874: 'viejo',\n",
              " 875: 'merlot',\n",
              " 876: 'franc',\n",
              " 877: 'villavicencio',\n",
              " 878: 'tres',\n",
              " 879: 'monster',\n",
              " 880: '354',\n",
              " 881: 'up',\n",
              " 882: 'gatorade',\n",
              " 883: 'botella',\n",
              " 884: 'americana',\n",
              " 885: 'graniz',\n",
              " 886: 'com',\n",
              " 887: 'brocoli',\n",
              " 888: 'congelado',\n",
              " 889: 'salchichon',\n",
              " 890: 'frutigran',\n",
              " 891: 'valente',\n",
              " 892: 'oreo',\n",
              " 893: 'whisper',\n",
              " 894: 'sandwich',\n",
              " 895: 'clasicos',\n",
              " 896: 'hogarenas',\n",
              " 897: 'ferrero',\n",
              " 898: 'rocher',\n",
              " 899: 'goma',\n",
              " 900: 'kinder',\n",
              " 901: 'w',\n",
              " 902: 'calida',\n",
              " 903: 'lactea',\n",
              " 904: 'port',\n",
              " 905: 'plastico',\n",
              " 906: 'consorcio',\n",
              " 907: 'escoba',\n",
              " 908: 'a1',\n",
              " 909: 'pote',\n",
              " 910: 'virulana',\n",
              " 911: 'simple',\n",
              " 912: 'pastilla',\n",
              " 913: 'harpic',\n",
              " 914: 'inodoro',\n",
              " 915: 'mr',\n",
              " 916: 'musculo',\n",
              " 917: 'separata',\n",
              " 918: 'lavavajilla',\n",
              " 919: 'bioactive',\n",
              " 920: 'maquina',\n",
              " 921: 'contra',\n",
              " 922: 'moscas',\n",
              " 923: 'vidrios',\n",
              " 924: 'incoloro',\n",
              " 925: 'flores',\n",
              " 926: 'skip',\n",
              " 927: 'diluir',\n",
              " 928: 'x250ml',\n",
              " 929: 'dog',\n",
              " 930: 'cachorros',\n",
              " 931: 'lactal',\n",
              " 932: 'spaghetti',\n",
              " 933: 'extrema',\n",
              " 934: 'depilatoria',\n",
              " 935: 'veet',\n",
              " 936: 'hialuronico',\n",
              " 937: 'tratamiento',\n",
              " 938: 'bodyspray',\n",
              " 939: 'etilico',\n",
              " 940: 'mint',\n",
              " 941: 'tocador',\n",
              " 942: 'adapt',\n",
              " 943: 'lira',\n",
              " 944: 'x1',\n",
              " 945: 'reduccion',\n",
              " 946: 'aderezo',\n",
              " 947: 'tau',\n",
              " 948: '285',\n",
              " 949: '205',\n",
              " 950: 'casera',\n",
              " 951: 'fuerte',\n",
              " 952: 'maximo',\n",
              " 953: 'carolina',\n",
              " 954: 'pisingallo',\n",
              " 955: 'negros',\n",
              " 956: 'lentejon',\n",
              " 957: 'genser',\n",
              " 958: 'menos',\n",
              " 959: 'capuccino',\n",
              " 960: 'avellanas',\n",
              " 961: '225',\n",
              " 962: 'gold',\n",
              " 963: 'pocillo',\n",
              " 964: 'day',\n",
              " 965: 'tostado',\n",
              " 966: 'frutales',\n",
              " 967: 'granola',\n",
              " 968: 'frutal',\n",
              " 969: 'especias',\n",
              " 970: 'zanahoria',\n",
              " 971: 'coctel',\n",
              " 972: 'remolacha',\n",
              " 973: 'cubos',\n",
              " 974: 'palmitos',\n",
              " 975: 'foie',\n",
              " 976: 'caballa',\n",
              " 977: 'manies',\n",
              " 978: 'salado',\n",
              " 979: 'snacks',\n",
              " 980: 'cremeria',\n",
              " 981: '1kg',\n",
              " 982: 'damasco',\n",
              " 983: 'block',\n",
              " 984: 'nueces',\n",
              " 985: 'nueva',\n",
              " 986: 'estrella',\n",
              " 987: 'medianas',\n",
              " 988: 'tropical',\n",
              " 989: 'pronta',\n",
              " 990: 'panceta',\n",
              " 991: 'blancaflor',\n",
              " 992: 'papa',\n",
              " 993: '0000',\n",
              " 994: 'cookies',\n",
              " 995: 'marmolado',\n",
              " 996: 'cereza',\n",
              " 997: '250gr',\n",
              " 998: 'pomarola',\n",
              " 999: 'verduras',\n",
              " 1000: 'quick',\n",
              " ...}"
            ]
          },
          "metadata": {},
          "execution_count": 41
        }
      ],
      "source": [
        "# Palabras del vocabulario\n",
        "tok.index_word"
      ]
    },
    {
      "cell_type": "code",
      "execution_count": null,
      "metadata": {
        "id": "gJgVhq1zwEpf",
        "colab": {
          "base_uri": "https://localhost:8080/"
        },
        "outputId": "8689f579-c803-411b-a0a5-f0d7ea51c39f"
      },
      "outputs": [
        {
          "output_type": "execute_result",
          "data": {
            "text/plain": [
              "3367"
            ]
          },
          "metadata": {},
          "execution_count": 42
        }
      ],
      "source": [
        "# Cantidad de palabras en el vocabulario\n",
        "vocab_size = len(tok.word_counts)\n",
        "vocab_size"
      ]
    },
    {
      "cell_type": "code",
      "execution_count": null,
      "metadata": {
        "id": "gIg2e2WCwXbG",
        "colab": {
          "base_uri": "https://localhost:8080/"
        },
        "outputId": "d694de9a-8267-4243-8e16-4ff0b2cb052f"
      },
      "outputs": [
        {
          "output_type": "execute_result",
          "data": {
            "text/plain": [
              "(37284, 3367)"
            ]
          },
          "metadata": {},
          "execution_count": 45
        }
      ],
      "source": [
        "y_data_int_offset = y_data_int - 1\n",
        "y_data = to_categorical(y_data_int_offset, num_classes=vocab_size)\n",
        "y_data.shape"
      ]
    },
    {
      "cell_type": "markdown",
      "metadata": {
        "id": "GmJWNyxQwfCE"
      },
      "source": [
        "### 4 - Entrenar el modelo"
      ]
    },
    {
      "cell_type": "code",
      "execution_count": null,
      "metadata": {
        "id": "0cOmNZT_weK2",
        "colab": {
          "base_uri": "https://localhost:8080/"
        },
        "outputId": "51ef34ad-c415-4f14-f47e-37e1a6af0e39"
      },
      "outputs": [
        {
          "output_type": "execute_result",
          "data": {
            "text/plain": [
              "3"
            ]
          },
          "metadata": {},
          "execution_count": 46
        }
      ],
      "source": [
        "# largo de la secuencia de entrada\n",
        "input_seq_len = x_data.shape[1]\n",
        "input_seq_len"
      ]
    },
    {
      "cell_type": "code",
      "execution_count": null,
      "metadata": {
        "id": "qtwITjgnwlgp",
        "colab": {
          "base_uri": "https://localhost:8080/"
        },
        "outputId": "9d6728f1-005f-42c3-8eb0-3a461c41c094"
      },
      "outputs": [
        {
          "output_type": "execute_result",
          "data": {
            "text/plain": [
              "3367"
            ]
          },
          "metadata": {},
          "execution_count": 47
        }
      ],
      "source": [
        "# Largo del vector de salida --> vocab_size\n",
        "output_size = vocab_size\n",
        "output_size"
      ]
    },
    {
      "cell_type": "markdown",
      "source": [
        "# Modelo 1 output dim"
      ],
      "metadata": {
        "id": "xIbgIKBO3S89"
      }
    },
    {
      "cell_type": "code",
      "execution_count": null,
      "metadata": {
        "id": "jzTZRXrrwrvi",
        "colab": {
          "base_uri": "https://localhost:8080/"
        },
        "outputId": "d7ed62a7-2663-4774-fbc9-7110858936a9"
      },
      "outputs": [
        {
          "output_type": "stream",
          "name": "stdout",
          "text": [
            "Model: \"sequential_2\"\n",
            "_________________________________________________________________\n",
            " Layer (type)                Output Shape              Param #   \n",
            "=================================================================\n",
            " embedding_2 (Embedding)     (None, 3, 8)              26944     \n",
            "                                                                 \n",
            " lstm_4 (LSTM)               (None, 3, 64)             18688     \n",
            "                                                                 \n",
            " dropout_2 (Dropout)         (None, 3, 64)             0         \n",
            "                                                                 \n",
            " lstm_5 (LSTM)               (None, 64)                33024     \n",
            "                                                                 \n",
            " dense_4 (Dense)             (None, 32)                2080      \n",
            "                                                                 \n",
            " dense_5 (Dense)             (None, 3367)              111111    \n",
            "                                                                 \n",
            "=================================================================\n",
            "Total params: 191847 (749.40 KB)\n",
            "Trainable params: 191847 (749.40 KB)\n",
            "Non-trainable params: 0 (0.00 Byte)\n",
            "_________________________________________________________________\n"
          ]
        }
      ],
      "source": [
        "model = Sequential()\n",
        "\n",
        "# Embedding:\n",
        "# input_seq_len = 3 --> ingreso 3 palabras\n",
        "# input_dim = vocab_size --> 1628 palabras distintas\n",
        "# output_dim = 5 --> crear embeddings de tamaño 3 (tamaño variable y ajustable)\n",
        "model.add(Embedding(input_dim=vocab_size+1, output_dim=8, input_length=input_seq_len))\n",
        "\n",
        "model.add(LSTM(64, return_sequences=True))\n",
        "model.add(Dropout(0.2))\n",
        "model.add(LSTM(64)) # La última capa LSTM no lleva return_sequences\n",
        "model.add(Dense(32, activation='relu'))\n",
        "\n",
        "# Predicción de clasificación con softmax\n",
        "# La salida vuelve al espacio de 1628 palabras posibles\n",
        "model.add(Dense(vocab_size, activation='softmax'))\n",
        "\n",
        "# Clasificación multiple categórica --> loss = categorical_crossentropy\n",
        "model.compile(loss='categorical_crossentropy', optimizer='adam', metrics=['accuracy'])\n",
        "\n",
        "model.summary()"
      ]
    },
    {
      "cell_type": "code",
      "execution_count": null,
      "metadata": {
        "id": "oQq1PHDkxDvN",
        "colab": {
          "base_uri": "https://localhost:8080/"
        },
        "outputId": "05199831-9908-4921-b743-ad7d118561c3"
      },
      "outputs": [
        {
          "output_type": "stream",
          "name": "stdout",
          "text": [
            "Epoch 1/50\n",
            "933/933 [==============================] - 8s 9ms/step - loss: 1.9076 - accuracy: 0.5256 - val_loss: 25.3719 - val_accuracy: 0.1312\n",
            "Epoch 2/50\n",
            "933/933 [==============================] - 8s 9ms/step - loss: 1.8904 - accuracy: 0.5229 - val_loss: 25.4345 - val_accuracy: 0.1320\n",
            "Epoch 3/50\n",
            "933/933 [==============================] - 8s 9ms/step - loss: 1.8831 - accuracy: 0.5293 - val_loss: 25.9521 - val_accuracy: 0.1345\n",
            "Epoch 4/50\n",
            "933/933 [==============================] - 8s 8ms/step - loss: 1.8657 - accuracy: 0.5319 - val_loss: 25.8974 - val_accuracy: 0.1326\n",
            "Epoch 5/50\n",
            "933/933 [==============================] - 8s 9ms/step - loss: 1.8553 - accuracy: 0.5324 - val_loss: 26.1405 - val_accuracy: 0.1312\n",
            "Epoch 6/50\n",
            "933/933 [==============================] - 9s 9ms/step - loss: 1.8430 - accuracy: 0.5353 - val_loss: 26.2253 - val_accuracy: 0.1336\n",
            "Epoch 7/50\n",
            "933/933 [==============================] - 10s 10ms/step - loss: 1.8302 - accuracy: 0.5361 - val_loss: 26.2034 - val_accuracy: 0.1309\n",
            "Epoch 8/50\n",
            "933/933 [==============================] - 8s 8ms/step - loss: 1.8219 - accuracy: 0.5387 - val_loss: 26.2292 - val_accuracy: 0.1356\n",
            "Epoch 9/50\n",
            "933/933 [==============================] - 11s 12ms/step - loss: 1.8124 - accuracy: 0.5412 - val_loss: 26.4134 - val_accuracy: 0.1329\n",
            "Epoch 10/50\n",
            "933/933 [==============================] - 8s 9ms/step - loss: 1.8004 - accuracy: 0.5394 - val_loss: 26.2093 - val_accuracy: 0.1381\n",
            "Epoch 11/50\n",
            "933/933 [==============================] - 8s 9ms/step - loss: 1.7996 - accuracy: 0.5428 - val_loss: 25.8367 - val_accuracy: 0.1281\n",
            "Epoch 12/50\n",
            "933/933 [==============================] - 8s 9ms/step - loss: 1.7828 - accuracy: 0.5467 - val_loss: 26.0583 - val_accuracy: 0.1312\n",
            "Epoch 13/50\n",
            "933/933 [==============================] - 10s 11ms/step - loss: 1.7775 - accuracy: 0.5451 - val_loss: 25.9659 - val_accuracy: 0.1310\n",
            "Epoch 14/50\n",
            "933/933 [==============================] - 9s 9ms/step - loss: 1.7613 - accuracy: 0.5480 - val_loss: 26.5202 - val_accuracy: 0.1289\n",
            "Epoch 15/50\n",
            "933/933 [==============================] - 9s 10ms/step - loss: 1.7574 - accuracy: 0.5513 - val_loss: 26.3712 - val_accuracy: 0.1310\n",
            "Epoch 16/50\n",
            "933/933 [==============================] - 8s 9ms/step - loss: 1.7373 - accuracy: 0.5538 - val_loss: 26.4045 - val_accuracy: 0.1274\n",
            "Epoch 17/50\n",
            "933/933 [==============================] - 8s 8ms/step - loss: 1.7329 - accuracy: 0.5533 - val_loss: 26.6336 - val_accuracy: 0.1329\n",
            "Epoch 18/50\n",
            "933/933 [==============================] - 9s 10ms/step - loss: 1.7315 - accuracy: 0.5544 - val_loss: 26.9091 - val_accuracy: 0.1258\n",
            "Epoch 19/50\n",
            "933/933 [==============================] - 10s 11ms/step - loss: 1.7164 - accuracy: 0.5595 - val_loss: 26.4748 - val_accuracy: 0.1297\n",
            "Epoch 20/50\n",
            "933/933 [==============================] - 8s 8ms/step - loss: 1.7127 - accuracy: 0.5596 - val_loss: 26.6906 - val_accuracy: 0.1293\n",
            "Epoch 21/50\n",
            "933/933 [==============================] - 8s 9ms/step - loss: 1.6966 - accuracy: 0.5605 - val_loss: 26.6807 - val_accuracy: 0.1228\n",
            "Epoch 22/50\n",
            "933/933 [==============================] - 9s 9ms/step - loss: 1.6993 - accuracy: 0.5605 - val_loss: 26.2651 - val_accuracy: 0.1275\n",
            "Epoch 23/50\n",
            "933/933 [==============================] - 7s 8ms/step - loss: 1.6866 - accuracy: 0.5589 - val_loss: 26.6828 - val_accuracy: 0.1262\n",
            "Epoch 24/50\n",
            "933/933 [==============================] - 9s 9ms/step - loss: 1.6818 - accuracy: 0.5653 - val_loss: 26.7088 - val_accuracy: 0.1329\n",
            "Epoch 25/50\n",
            "933/933 [==============================] - 8s 8ms/step - loss: 1.6691 - accuracy: 0.5670 - val_loss: 26.8339 - val_accuracy: 0.1364\n",
            "Epoch 26/50\n",
            "933/933 [==============================] - 8s 8ms/step - loss: 1.6665 - accuracy: 0.5643 - val_loss: 26.8578 - val_accuracy: 0.1281\n",
            "Epoch 27/50\n",
            "933/933 [==============================] - 8s 9ms/step - loss: 1.6520 - accuracy: 0.5705 - val_loss: 26.9458 - val_accuracy: 0.1293\n",
            "Epoch 28/50\n",
            "933/933 [==============================] - 12s 13ms/step - loss: 1.6523 - accuracy: 0.5703 - val_loss: 26.9799 - val_accuracy: 0.1285\n",
            "Epoch 29/50\n",
            "933/933 [==============================] - 7s 8ms/step - loss: 1.6453 - accuracy: 0.5703 - val_loss: 27.4594 - val_accuracy: 0.1303\n",
            "Epoch 30/50\n",
            "933/933 [==============================] - 8s 9ms/step - loss: 1.6351 - accuracy: 0.5726 - val_loss: 26.8306 - val_accuracy: 0.1263\n",
            "Epoch 31/50\n",
            "933/933 [==============================] - 8s 8ms/step - loss: 1.6298 - accuracy: 0.5724 - val_loss: 27.0325 - val_accuracy: 0.1267\n",
            "Epoch 32/50\n",
            "933/933 [==============================] - 8s 8ms/step - loss: 1.6325 - accuracy: 0.5692 - val_loss: 26.9539 - val_accuracy: 0.1285\n",
            "Epoch 33/50\n",
            "933/933 [==============================] - 9s 9ms/step - loss: 1.6098 - accuracy: 0.5761 - val_loss: 27.0838 - val_accuracy: 0.1294\n",
            "Epoch 34/50\n",
            "933/933 [==============================] - 7s 8ms/step - loss: 1.6104 - accuracy: 0.5744 - val_loss: 27.2042 - val_accuracy: 0.1295\n",
            "Epoch 35/50\n",
            "933/933 [==============================] - 10s 11ms/step - loss: 1.6051 - accuracy: 0.5778 - val_loss: 27.2765 - val_accuracy: 0.1332\n",
            "Epoch 36/50\n",
            "933/933 [==============================] - 9s 9ms/step - loss: 1.5943 - accuracy: 0.5800 - val_loss: 27.3799 - val_accuracy: 0.1247\n",
            "Epoch 37/50\n",
            "933/933 [==============================] - 8s 9ms/step - loss: 1.5998 - accuracy: 0.5779 - val_loss: 27.3352 - val_accuracy: 0.1281\n",
            "Epoch 38/50\n",
            "933/933 [==============================] - 9s 9ms/step - loss: 1.5886 - accuracy: 0.5794 - val_loss: 27.5616 - val_accuracy: 0.1295\n",
            "Epoch 39/50\n",
            "933/933 [==============================] - 8s 9ms/step - loss: 1.5830 - accuracy: 0.5812 - val_loss: 27.2798 - val_accuracy: 0.1243\n",
            "Epoch 40/50\n",
            "933/933 [==============================] - 8s 9ms/step - loss: 1.5936 - accuracy: 0.5780 - val_loss: 27.2898 - val_accuracy: 0.1278\n",
            "Epoch 41/50\n",
            "933/933 [==============================] - 9s 9ms/step - loss: 1.5726 - accuracy: 0.5837 - val_loss: 27.1968 - val_accuracy: 0.1236\n",
            "Epoch 42/50\n",
            "933/933 [==============================] - 8s 9ms/step - loss: 1.5634 - accuracy: 0.5858 - val_loss: 27.2846 - val_accuracy: 0.1242\n",
            "Epoch 43/50\n",
            "933/933 [==============================] - 7s 8ms/step - loss: 1.5649 - accuracy: 0.5828 - val_loss: 26.9407 - val_accuracy: 0.1187\n",
            "Epoch 44/50\n",
            "933/933 [==============================] - 8s 9ms/step - loss: 1.5547 - accuracy: 0.5851 - val_loss: 27.4550 - val_accuracy: 0.1317\n",
            "Epoch 45/50\n",
            "933/933 [==============================] - 7s 8ms/step - loss: 1.5558 - accuracy: 0.5852 - val_loss: 27.3931 - val_accuracy: 0.1278\n",
            "Epoch 46/50\n",
            "933/933 [==============================] - 8s 8ms/step - loss: 1.5445 - accuracy: 0.5892 - val_loss: 27.8119 - val_accuracy: 0.1281\n",
            "Epoch 47/50\n",
            "933/933 [==============================] - 8s 9ms/step - loss: 1.5439 - accuracy: 0.5868 - val_loss: 27.8267 - val_accuracy: 0.1259\n",
            "Epoch 48/50\n",
            "933/933 [==============================] - 7s 8ms/step - loss: 1.5331 - accuracy: 0.5907 - val_loss: 27.6907 - val_accuracy: 0.1278\n",
            "Epoch 49/50\n",
            "933/933 [==============================] - 8s 9ms/step - loss: 1.5323 - accuracy: 0.5874 - val_loss: 27.8044 - val_accuracy: 0.1266\n",
            "Epoch 50/50\n",
            "933/933 [==============================] - 8s 8ms/step - loss: 1.5260 - accuracy: 0.5913 - val_loss: 27.6599 - val_accuracy: 0.1364\n"
          ]
        }
      ],
      "source": [
        "hist = model.fit(x_data, y_data, epochs=50, validation_split=0.2)"
      ]
    },
    {
      "cell_type": "code",
      "execution_count": null,
      "metadata": {
        "id": "q_orBXOrCsNn",
        "colab": {
          "base_uri": "https://localhost:8080/",
          "height": 430
        },
        "outputId": "f937c932-82d5-4486-cf84-3e27f65ec7b8"
      },
      "outputs": [
        {
          "output_type": "display_data",
          "data": {
            "text/plain": [
              "<Figure size 640x480 with 1 Axes>"
            ],
            "image/png": "[encoded data removed]"
          },
          "metadata": {}
        }
      ],
      "source": [
        "import matplotlib.pyplot as plt\n",
        "import seaborn as sns\n",
        "\n",
        "# Entrenamiento\n",
        "epoch_count = range(1, len(hist.history['accuracy']) + 1)\n",
        "sns.lineplot(x=epoch_count,  y=hist.history['accuracy'], label='train')\n",
        "sns.lineplot(x=epoch_count,  y=hist.history['val_accuracy'], label='valid')\n",
        "plt.show()"
      ]
    },
    {
      "cell_type": "markdown",
      "source": [
        "# Modelo 2 output dim 4"
      ],
      "metadata": {
        "id": "xcOKozKN3bCn"
      }
    },
    {
      "cell_type": "code",
      "execution_count": null,
      "metadata": {
        "colab": {
          "base_uri": "https://localhost:8080/"
        },
        "outputId": "c81c9cc9-b2f8-4652-95e4-38ae37745449",
        "id": "gZzvEwZZ3bCs"
      },
      "outputs": [
        {
          "output_type": "stream",
          "name": "stdout",
          "text": [
            "Model: \"sequential_3\"\n",
            "_________________________________________________________________\n",
            " Layer (type)                Output Shape              Param #   \n",
            "=================================================================\n",
            " embedding_3 (Embedding)     (None, 3, 4)              13472     \n",
            "                                                                 \n",
            " lstm_6 (LSTM)               (None, 3, 64)             17664     \n",
            "                                                                 \n",
            " dropout_3 (Dropout)         (None, 3, 64)             0         \n",
            "                                                                 \n",
            " lstm_7 (LSTM)               (None, 64)                33024     \n",
            "                                                                 \n",
            " dense_6 (Dense)             (None, 32)                2080      \n",
            "                                                                 \n",
            " dense_7 (Dense)             (None, 3367)              111111    \n",
            "                                                                 \n",
            "=================================================================\n",
            "Total params: 177351 (692.78 KB)\n",
            "Trainable params: 177351 (692.78 KB)\n",
            "Non-trainable params: 0 (0.00 Byte)\n",
            "_________________________________________________________________\n"
          ]
        }
      ],
      "source": [
        "model = Sequential()\n",
        "\n",
        "# Embedding:\n",
        "# input_seq_len = 3 --> ingreso 3 palabras\n",
        "# input_dim = vocab_size --> 1628 palabras distintas\n",
        "# output_dim = 5 --> crear embeddings de tamaño 3 (tamaño variable y ajustable)\n",
        "model.add(Embedding(input_dim=vocab_size+1, output_dim=4, input_length=input_seq_len))\n",
        "\n",
        "model.add(LSTM(64, return_sequences=True))\n",
        "model.add(Dropout(0.2))\n",
        "model.add(LSTM(64)) # La última capa LSTM no lleva return_sequences\n",
        "model.add(Dense(32, activation='relu'))\n",
        "\n",
        "# Predicción de clasificación con softmax\n",
        "# La salida vuelve al espacio de 1628 palabras posibles\n",
        "model.add(Dense(vocab_size, activation='softmax'))\n",
        "\n",
        "# Clasificación multiple categórica --> loss = categorical_crossentropy\n",
        "model.compile(loss='categorical_crossentropy', optimizer='adam', metrics=['accuracy'])\n",
        "\n",
        "model.summary()"
      ]
    },
    {
      "cell_type": "code",
      "execution_count": null,
      "metadata": {
        "colab": {
          "base_uri": "https://localhost:8080/"
        },
        "outputId": "9d03d72b-6d03-4af6-cfd3-89778be9d55a",
        "id": "zXyOP64J3bCt"
      },
      "outputs": [
        {
          "output_type": "stream",
          "name": "stdout",
          "text": [
            "Epoch 1/50\n",
            "933/933 [==============================] - 17s 15ms/step - loss: 6.2003 - accuracy: 0.1230 - val_loss: 7.6901 - val_accuracy: 0.1110\n",
            "Epoch 2/50\n",
            "933/933 [==============================] - 10s 11ms/step - loss: 5.7731 - accuracy: 0.1337 - val_loss: 7.7797 - val_accuracy: 0.1318\n",
            "Epoch 3/50\n",
            "933/933 [==============================] - 8s 9ms/step - loss: 5.1463 - accuracy: 0.2061 - val_loss: 8.0352 - val_accuracy: 0.1525\n",
            "Epoch 4/50\n",
            "933/933 [==============================] - 7s 8ms/step - loss: 4.7571 - accuracy: 0.2434 - val_loss: 8.3721 - val_accuracy: 0.1558\n",
            "Epoch 5/50\n",
            "933/933 [==============================] - 8s 9ms/step - loss: 4.5161 - accuracy: 0.2627 - val_loss: 9.2644 - val_accuracy: 0.1573\n",
            "Epoch 6/50\n",
            "933/933 [==============================] - 9s 10ms/step - loss: 4.3113 - accuracy: 0.2801 - val_loss: 9.7738 - val_accuracy: 0.1637\n",
            "Epoch 7/50\n",
            "933/933 [==============================] - 8s 8ms/step - loss: 4.1240 - accuracy: 0.2899 - val_loss: 10.5362 - val_accuracy: 0.1592\n",
            "Epoch 8/50\n",
            "933/933 [==============================] - 8s 9ms/step - loss: 3.9626 - accuracy: 0.3005 - val_loss: 11.3340 - val_accuracy: 0.1589\n",
            "Epoch 9/50\n",
            "933/933 [==============================] - 8s 8ms/step - loss: 3.8214 - accuracy: 0.3137 - val_loss: 12.0582 - val_accuracy: 0.1527\n",
            "Epoch 10/50\n",
            "933/933 [==============================] - 8s 8ms/step - loss: 3.6892 - accuracy: 0.3208 - val_loss: 12.6772 - val_accuracy: 0.1565\n",
            "Epoch 11/50\n",
            "933/933 [==============================] - 8s 9ms/step - loss: 3.5566 - accuracy: 0.3326 - val_loss: 12.9989 - val_accuracy: 0.1511\n",
            "Epoch 12/50\n",
            "933/933 [==============================] - 8s 8ms/step - loss: 3.4321 - accuracy: 0.3425 - val_loss: 13.8101 - val_accuracy: 0.1529\n",
            "Epoch 13/50\n",
            "933/933 [==============================] - 8s 9ms/step - loss: 3.3223 - accuracy: 0.3510 - val_loss: 14.3848 - val_accuracy: 0.1535\n",
            "Epoch 14/50\n",
            "933/933 [==============================] - 9s 10ms/step - loss: 3.2158 - accuracy: 0.3595 - val_loss: 15.1751 - val_accuracy: 0.1541\n",
            "Epoch 15/50\n",
            "933/933 [==============================] - 7s 8ms/step - loss: 3.1273 - accuracy: 0.3684 - val_loss: 15.4199 - val_accuracy: 0.1537\n",
            "Epoch 16/50\n",
            "933/933 [==============================] - 9s 9ms/step - loss: 3.0407 - accuracy: 0.3758 - val_loss: 15.8372 - val_accuracy: 0.1493\n",
            "Epoch 17/50\n",
            "933/933 [==============================] - 8s 8ms/step - loss: 2.9631 - accuracy: 0.3810 - val_loss: 16.8300 - val_accuracy: 0.1474\n",
            "Epoch 18/50\n",
            "933/933 [==============================] - 8s 8ms/step - loss: 2.8926 - accuracy: 0.3891 - val_loss: 17.4501 - val_accuracy: 0.1474\n",
            "Epoch 19/50\n",
            "933/933 [==============================] - 8s 9ms/step - loss: 2.8286 - accuracy: 0.3934 - val_loss: 17.8127 - val_accuracy: 0.1448\n",
            "Epoch 20/50\n",
            "933/933 [==============================] - 7s 8ms/step - loss: 2.7763 - accuracy: 0.4022 - val_loss: 18.2014 - val_accuracy: 0.1405\n",
            "Epoch 21/50\n",
            "933/933 [==============================] - 8s 9ms/step - loss: 2.7183 - accuracy: 0.4063 - val_loss: 18.4141 - val_accuracy: 0.1426\n",
            "Epoch 22/50\n",
            "933/933 [==============================] - 8s 9ms/step - loss: 2.6744 - accuracy: 0.4116 - val_loss: 19.2066 - val_accuracy: 0.1399\n",
            "Epoch 23/50\n",
            "933/933 [==============================] - 8s 8ms/step - loss: 2.6252 - accuracy: 0.4167 - val_loss: 19.2957 - val_accuracy: 0.1368\n",
            "Epoch 24/50\n",
            "933/933 [==============================] - 9s 9ms/step - loss: 2.5837 - accuracy: 0.4232 - val_loss: 19.6249 - val_accuracy: 0.1392\n",
            "Epoch 25/50\n",
            "933/933 [==============================] - 8s 8ms/step - loss: 2.5448 - accuracy: 0.4279 - val_loss: 19.9824 - val_accuracy: 0.1336\n",
            "Epoch 26/50\n",
            "933/933 [==============================] - 8s 9ms/step - loss: 2.5073 - accuracy: 0.4307 - val_loss: 20.3034 - val_accuracy: 0.1333\n",
            "Epoch 27/50\n",
            "933/933 [==============================] - 8s 9ms/step - loss: 2.4748 - accuracy: 0.4375 - val_loss: 20.4150 - val_accuracy: 0.1379\n",
            "Epoch 28/50\n",
            "933/933 [==============================] - 7s 8ms/step - loss: 2.4433 - accuracy: 0.4421 - val_loss: 20.6120 - val_accuracy: 0.1368\n",
            "Epoch 29/50\n",
            "933/933 [==============================] - 8s 9ms/step - loss: 2.4166 - accuracy: 0.4462 - val_loss: 20.8609 - val_accuracy: 0.1332\n",
            "Epoch 30/50\n",
            "933/933 [==============================] - 8s 9ms/step - loss: 2.3901 - accuracy: 0.4505 - val_loss: 20.8997 - val_accuracy: 0.1330\n",
            "Epoch 31/50\n",
            "933/933 [==============================] - 8s 8ms/step - loss: 2.3617 - accuracy: 0.4521 - val_loss: 21.4086 - val_accuracy: 0.1403\n",
            "Epoch 32/50\n",
            "933/933 [==============================] - 8s 9ms/step - loss: 2.3361 - accuracy: 0.4541 - val_loss: 21.8289 - val_accuracy: 0.1303\n",
            "Epoch 33/50\n",
            "933/933 [==============================] - 8s 9ms/step - loss: 2.3139 - accuracy: 0.4613 - val_loss: 21.5551 - val_accuracy: 0.1341\n",
            "Epoch 34/50\n",
            "933/933 [==============================] - 8s 8ms/step - loss: 2.2894 - accuracy: 0.4616 - val_loss: 21.8479 - val_accuracy: 0.1361\n",
            "Epoch 35/50\n",
            "933/933 [==============================] - 8s 9ms/step - loss: 2.2673 - accuracy: 0.4671 - val_loss: 22.2465 - val_accuracy: 0.1358\n",
            "Epoch 36/50\n",
            "933/933 [==============================] - 7s 8ms/step - loss: 2.2420 - accuracy: 0.4686 - val_loss: 21.7277 - val_accuracy: 0.1302\n",
            "Epoch 37/50\n",
            "933/933 [==============================] - 8s 9ms/step - loss: 2.2258 - accuracy: 0.4725 - val_loss: 22.1135 - val_accuracy: 0.1361\n",
            "Epoch 38/50\n",
            "933/933 [==============================] - 8s 9ms/step - loss: 2.2086 - accuracy: 0.4751 - val_loss: 22.0736 - val_accuracy: 0.1302\n",
            "Epoch 39/50\n",
            "933/933 [==============================] - 7s 8ms/step - loss: 2.1903 - accuracy: 0.4753 - val_loss: 22.5493 - val_accuracy: 0.1345\n",
            "Epoch 40/50\n",
            "933/933 [==============================] - 9s 9ms/step - loss: 2.1645 - accuracy: 0.4796 - val_loss: 22.6604 - val_accuracy: 0.1278\n",
            "Epoch 41/50\n",
            "933/933 [==============================] - 8s 8ms/step - loss: 2.1590 - accuracy: 0.4848 - val_loss: 22.4768 - val_accuracy: 0.1185\n",
            "Epoch 42/50\n",
            "933/933 [==============================] - 8s 9ms/step - loss: 2.1375 - accuracy: 0.4857 - val_loss: 22.6201 - val_accuracy: 0.1248\n",
            "Epoch 43/50\n",
            "933/933 [==============================] - 8s 9ms/step - loss: 2.1215 - accuracy: 0.4879 - val_loss: 22.4311 - val_accuracy: 0.1140\n",
            "Epoch 44/50\n",
            "933/933 [==============================] - 8s 8ms/step - loss: 2.1052 - accuracy: 0.4880 - val_loss: 22.5130 - val_accuracy: 0.1265\n",
            "Epoch 45/50\n",
            "933/933 [==============================] - 8s 9ms/step - loss: 2.0912 - accuracy: 0.4935 - val_loss: 22.7819 - val_accuracy: 0.1302\n",
            "Epoch 46/50\n",
            "933/933 [==============================] - 8s 9ms/step - loss: 2.0761 - accuracy: 0.4956 - val_loss: 23.1074 - val_accuracy: 0.1263\n",
            "Epoch 47/50\n",
            "933/933 [==============================] - 7s 8ms/step - loss: 2.0634 - accuracy: 0.4973 - val_loss: 23.1290 - val_accuracy: 0.1313\n",
            "Epoch 48/50\n",
            "933/933 [==============================] - 8s 9ms/step - loss: 2.0453 - accuracy: 0.4990 - val_loss: 23.2441 - val_accuracy: 0.1282\n",
            "Epoch 49/50\n",
            "933/933 [==============================] - 7s 8ms/step - loss: 2.0367 - accuracy: 0.5015 - val_loss: 23.3378 - val_accuracy: 0.1307\n",
            "Epoch 50/50\n",
            "933/933 [==============================] - 8s 9ms/step - loss: 2.0229 - accuracy: 0.5030 - val_loss: 23.3465 - val_accuracy: 0.1223\n"
          ]
        }
      ],
      "source": [
        "hist = model.fit(x_data, y_data, epochs=50, validation_split=0.2)"
      ]
    },
    {
      "cell_type": "code",
      "execution_count": null,
      "metadata": {
        "colab": {
          "base_uri": "https://localhost:8080/",
          "height": 430
        },
        "outputId": "95892791-a8e3-4bd2-a244-e239ad7965fc",
        "id": "6DF_jj4_3bCt"
      },
      "outputs": [
        {
          "output_type": "display_data",
          "data": {
            "text/plain": [
              "<Figure size 640x480 with 1 Axes>"
            ],
            "image/png": "[encoded data removed]"
          },
          "metadata": {}
        }
      ],
      "source": [
        "import matplotlib.pyplot as plt\n",
        "import seaborn as sns\n",
        "\n",
        "# Entrenamiento\n",
        "epoch_count = range(1, len(hist.history['accuracy']) + 1)\n",
        "sns.lineplot(x=epoch_count,  y=hist.history['accuracy'], label='train')\n",
        "sns.lineplot(x=epoch_count,  y=hist.history['val_accuracy'], label='valid')\n",
        "plt.show()"
      ]
    },
    {
      "cell_type": "markdown",
      "metadata": {
        "id": "KN6Fg_BsxJe6"
      },
      "source": [
        "### 5 - Predicción de próxima palabra"
      ]
    },
    {
      "cell_type": "code",
      "execution_count": null,
      "metadata": {
        "id": "iy_AXWQWzeeE"
      },
      "outputs": [],
      "source": [
        "# Keras pad_sequences\n",
        "# https://www.tensorflow.org/api_docs/python/tf/keras/preprocessing/sequence/pad_sequences\n",
        "# Si la secuencia de entrada supera al input_seq_len (3) se trunca\n",
        "# Si la secuencia es más corta se agregna ceros al comienzo"
      ]
    },
    {
      "cell_type": "code",
      "execution_count": null,
      "metadata": {
        "id": "HNyBykvhzs7-"
      },
      "outputs": [],
      "source": [
        "def model_response(human_text):\n",
        "\n",
        "    # Encodeamos\n",
        "    encoded = tok.texts_to_sequences([human_text])[0]\n",
        "    # Si tienen distinto largo\n",
        "    encoded = pad_sequences([encoded], maxlen=3, padding='pre')\n",
        "\n",
        "    # Predicción softmax\n",
        "    y_hat = model.predict(encoded).argmax(axis=-1)\n",
        "\n",
        "    # Debemos buscar en el vocabulario la palabra\n",
        "    # que corresopnde al indice (y_hat) predicho por le modelo\n",
        "    out_word = ''\n",
        "    for word, index in tok.word_index.items():\n",
        "        if index == y_hat:\n",
        "            out_word = word\n",
        "            break\n",
        "\n",
        "    # Agrego la palabra a la frase predicha\n",
        "    return human_text + ' ' + out_word\n",
        "\n",
        "# iface = gr.Interface(\n",
        "#     fn=model_response,\n",
        "#     inputs=[\"textbox\"],\n",
        "#     outputs=\"text\",\n",
        "#     layout=\"vertical\")\n",
        "\n",
        "# iface.launch(debug=True)"
      ]
    },
    {
      "cell_type": "code",
      "source": [
        "model_response('crema de')"
      ],
      "metadata": {
        "colab": {
          "base_uri": "https://localhost:8080/",
          "height": 53
        },
        "id": "HFFZ_ISuNf6T",
        "outputId": "dd40f1d6-8980-48f4-b8a7-94c601822496"
      },
      "execution_count": null,
      "outputs": [
        {
          "output_type": "stream",
          "name": "stdout",
          "text": [
            "1/1 [==============================] - 0s 20ms/step\n"
          ]
        },
        {
          "output_type": "execute_result",
          "data": {
            "text/plain": [
              "'crema de prolongada'"
            ],
            "application/vnd.google.colaboratory.intrinsic+json": {
              "type": "string"
            }
          },
          "metadata": {},
          "execution_count": 79
        }
      ]
    },
    {
      "cell_type": "code",
      "source": [
        "model_response('shamnpoo')"
      ],
      "metadata": {
        "colab": {
          "base_uri": "https://localhost:8080/",
          "height": 53
        },
        "id": "BwpEfi9wNyC9",
        "outputId": "0ec485fa-ac36-49c2-d811-4cabc3951cd3"
      },
      "execution_count": null,
      "outputs": [
        {
          "output_type": "stream",
          "name": "stdout",
          "text": [
            "1/1 [==============================] - 0s 18ms/step\n"
          ]
        },
        {
          "output_type": "execute_result",
          "data": {
            "text/plain": [
              "'shamnpoo '"
            ],
            "application/vnd.google.colaboratory.intrinsic+json": {
              "type": "string"
            }
          },
          "metadata": {},
          "execution_count": 80
        }
      ]
    },
    {
      "cell_type": "code",
      "source": [
        "model_response('salsa de')"
      ],
      "metadata": {
        "colab": {
          "base_uri": "https://localhost:8080/",
          "height": 53
        },
        "id": "vM8Po9ln5euX",
        "outputId": "4f61085f-3f63-4127-8ba4-5d2272c4f678"
      },
      "execution_count": null,
      "outputs": [
        {
          "output_type": "stream",
          "name": "stdout",
          "text": [
            "1/1 [==============================] - 0s 28ms/step\n"
          ]
        },
        {
          "output_type": "execute_result",
          "data": {
            "text/plain": [
              "'salsa de comunes'"
            ],
            "application/vnd.google.colaboratory.intrinsic+json": {
              "type": "string"
            }
          },
          "metadata": {},
          "execution_count": 82
        }
      ]
    },
    {
      "cell_type": "code",
      "source": [
        "model_response('gaseosa de')"
      ],
      "metadata": {
        "colab": {
          "base_uri": "https://localhost:8080/",
          "height": 53
        },
        "id": "e8wcCMCq5kKN",
        "outputId": "d1345ee0-b7c8-4312-9abb-d924afbd2b72"
      },
      "execution_count": null,
      "outputs": [
        {
          "output_type": "stream",
          "name": "stdout",
          "text": [
            "1/1 [==============================] - 0s 44ms/step\n"
          ]
        },
        {
          "output_type": "execute_result",
          "data": {
            "text/plain": [
              "'gaseosa de manana'"
            ],
            "application/vnd.google.colaboratory.intrinsic+json": {
              "type": "string"
            }
          },
          "metadata": {},
          "execution_count": 88
        }
      ]
    },
    {
      "cell_type": "markdown",
      "metadata": {
        "id": "mCeMWWupxN1-"
      },
      "source": [
        "### 6 - Generación de secuencias nuevas"
      ]
    },
    {
      "cell_type": "code",
      "execution_count": null,
      "metadata": {
        "id": "bwbS_pfhxvB3"
      },
      "outputs": [],
      "source": [
        "def generate_seq(model, tokenizer, seed_text, max_length, n_words):\n",
        "    \"\"\"\n",
        "        Exec model sequence prediction\n",
        "\n",
        "        Args:\n",
        "            model (keras): modelo entrenado\n",
        "            tokenizer (keras tokenizer): tonenizer utilizado en el preprocesamiento\n",
        "            seed_text (string): texto de entrada (input_seq)\n",
        "            max_length (int): máxima longitud de la sequencia de entrada\n",
        "            n_words (int): números de palabras a agregar a la sequencia de entrada\n",
        "        returns:\n",
        "            output_text (string): sentencia con las \"n_words\" agregadas\n",
        "    \"\"\"\n",
        "    output_text = seed_text\n",
        "\t# generate a fixed number of words\n",
        "    for _ in range(n_words):\n",
        "\t\t# Encodeamos\n",
        "        encoded = tokenizer.texts_to_sequences([output_text])[0]\n",
        "\t\t# Si tienen distinto largo\n",
        "        encoded = pad_sequences([encoded], maxlen=max_length, padding='pre')\n",
        "\n",
        "\t\t# Predicción softmax\n",
        "        y_hat = model.predict(encoded).argmax(axis=-1)\n",
        "\t\t# Vamos concatenando las predicciones\n",
        "        out_word = ''\n",
        "\n",
        "        # Debemos buscar en el vocabulario la palabra\n",
        "        # que corresopnde al indice (y_hat) predicho por le modelo\n",
        "        for word, index in tokenizer.word_index.items():\n",
        "            if index == y_hat:\n",
        "                out_word = word\n",
        "                break\n",
        "\n",
        "\t\t# Agrego las palabras a la frase predicha\n",
        "        output_text += ' ' + out_word\n",
        "    return output_text"
      ]
    },
    {
      "cell_type": "code",
      "execution_count": null,
      "metadata": {
        "id": "JoFqRC5pxzqS",
        "colab": {
          "base_uri": "https://localhost:8080/",
          "height": 71
        },
        "outputId": "de597b7a-8103-4893-88d2-9b233dbb2f80"
      },
      "outputs": [
        {
          "output_type": "stream",
          "name": "stdout",
          "text": [
            "1/1 [==============================] - 0s 18ms/step\n",
            "1/1 [==============================] - 0s 16ms/step\n"
          ]
        },
        {
          "output_type": "execute_result",
          "data": {
            "text/plain": [
              "'leche entera 1 virgin'"
            ],
            "application/vnd.google.colaboratory.intrinsic+json": {
              "type": "string"
            }
          },
          "metadata": {},
          "execution_count": 90
        }
      ],
      "source": [
        "input_text='leche entera'\n",
        "\n",
        "generate_seq(model, tok, input_text, max_length=3, n_words=2)"
      ]
    },
    {
      "cell_type": "code",
      "source": [
        "input_text='harina con'\n",
        "\n",
        "generate_seq(model, tok, input_text, max_length=3, n_words=2)"
      ],
      "metadata": {
        "colab": {
          "base_uri": "https://localhost:8080/",
          "height": 71
        },
        "id": "KohIpvDMOTEC",
        "outputId": "8e99223b-bc41-4946-a772-a10f80ebfe72"
      },
      "execution_count": null,
      "outputs": [
        {
          "output_type": "stream",
          "name": "stdout",
          "text": [
            "1/1 [==============================] - 0s 18ms/step\n",
            "1/1 [==============================] - 0s 16ms/step\n"
          ]
        },
        {
          "output_type": "execute_result",
          "data": {
            "text/plain": [
              "'harina con granby pizzas'"
            ],
            "application/vnd.google.colaboratory.intrinsic+json": {
              "type": "string"
            }
          },
          "metadata": {},
          "execution_count": 91
        }
      ]
    },
    {
      "cell_type": "code",
      "source": [
        "input_text='gaseosa de'\n",
        "\n",
        "generate_seq(model, tok, input_text, max_length=3, n_words=2)"
      ],
      "metadata": {
        "colab": {
          "base_uri": "https://localhost:8080/",
          "height": 71
        },
        "id": "x9QbX9AI5wFC",
        "outputId": "d11fec89-e036-4685-8c23-4581665dc40b"
      },
      "execution_count": null,
      "outputs": [
        {
          "output_type": "stream",
          "name": "stdout",
          "text": [
            "1/1 [==============================] - 0s 31ms/step\n",
            "1/1 [==============================] - 0s 36ms/step\n"
          ]
        },
        {
          "output_type": "execute_result",
          "data": {
            "text/plain": [
              "'gaseosa de manana ml'"
            ],
            "application/vnd.google.colaboratory.intrinsic+json": {
              "type": "string"
            }
          },
          "metadata": {},
          "execution_count": 95
        }
      ]
    },
    {
      "cell_type": "markdown",
      "metadata": {
        "id": "UoQJEihGaNAk"
      },
      "source": [
        "### 7 - Beam search y muestreo aleatorio"
      ]
    },
    {
      "cell_type": "code",
      "execution_count": null,
      "metadata": {
        "id": "IjHbJy-WaNAk"
      },
      "outputs": [],
      "source": [
        "# funcionalidades para hacer encoding y decoding\n",
        "\n",
        "def encode(text,max_length=3):\n",
        "\n",
        "    encoded = tok.texts_to_sequences([text])[0]\n",
        "    encoded = pad_sequences([encoded], maxlen=max_length, padding='pre')\n",
        "\n",
        "    return encoded\n",
        "\n",
        "def decode(seq):\n",
        "    return tok.sequences_to_texts([seq])"
      ]
    },
    {
      "cell_type": "code",
      "execution_count": null,
      "metadata": {
        "id": "TqXLlgmOaNAk"
      },
      "outputs": [],
      "source": [
        "from scipy.special import softmax\n",
        "\n",
        "# función que selecciona candidatos para el beam search\n",
        "def select_candidates(pred,num_beams,vocab_size,history_probs,history_tokens,temp=1):\n",
        "\n",
        "  # colectar todas las probabilidades para la siguiente búsqueda\n",
        "  pred_large = []\n",
        "\n",
        "  for idx,pp in enumerate(pred):\n",
        "    pred_large.extend(np.log(pp+1E-10)+history_probs[idx])\n",
        "\n",
        "  pred_large = np.array(pred_large)\n",
        "\n",
        "  # criterio de selección\n",
        "  idx_select = np.argsort(pred_large)[::-1][:num_beams] # beam search determinista\n",
        "  # idx_select = np.random.choice(np.arange(pred_large.shape[0]), num_beams, p=softmax(pred_large/temp)) # beam search con muestreo\n",
        "\n",
        "  # traducir a índices de token en el vocabulario\n",
        "  new_history_tokens = np.concatenate((np.array(history_tokens)[idx_select//vocab_size],\n",
        "                        np.array([idx_select%vocab_size]).T),\n",
        "                      axis=1)\n",
        "\n",
        "  # devolver el producto de las probabilidades (log) y la secuencia de tokens seleccionados\n",
        "  return pred_large[idx_select.astype(int)], new_history_tokens.astype(int)\n",
        "\n",
        "\n",
        "def beam_search(model,num_beams,num_words,input):\n",
        "\n",
        "    # first iteration\n",
        "\n",
        "    # encode\n",
        "    encoded = encode(input)\n",
        "\n",
        "    # first prediction\n",
        "    y_hat = np.squeeze(model.predict(encoded))\n",
        "\n",
        "    # get vocabulary size\n",
        "    vocab_size = y_hat.shape[0]\n",
        "\n",
        "    # initialize history\n",
        "    history_probs = [0]*num_beams\n",
        "    history_tokens = [encoded[0]]*num_beams\n",
        "\n",
        "    # select num_beams candidates\n",
        "    history_probs, history_tokens = select_candidates([y_hat],\n",
        "                                        num_beams,\n",
        "                                        vocab_size,\n",
        "                                        history_probs,\n",
        "                                        history_tokens)\n",
        "\n",
        "    # beam search loop\n",
        "    for i in range(num_words-1):\n",
        "\n",
        "      preds = []\n",
        "\n",
        "      for hist in history_tokens:\n",
        "\n",
        "        # actualizar secuencia de tokens\n",
        "        input_update = np.array([hist[i+1:]]).copy()\n",
        "\n",
        "        # predicción\n",
        "        y_hat = np.squeeze(model.predict(input_update))\n",
        "\n",
        "        preds.append(y_hat)\n",
        "\n",
        "      history_probs, history_tokens = select_candidates(preds,\n",
        "                                                        num_beams,\n",
        "                                                        vocab_size,\n",
        "                                                        history_probs,\n",
        "                                                        history_tokens)\n",
        "\n",
        "    return history_tokens"
      ]
    },
    {
      "cell_type": "code",
      "execution_count": null,
      "metadata": {
        "id": "DZITxsMyaNAk",
        "colab": {
          "base_uri": "https://localhost:8080/"
        },
        "outputId": "2f003e43-31b3-4638-ac00-a6be314222f5"
      },
      "outputs": [
        {
          "output_type": "stream",
          "name": "stdout",
          "text": [
            "1/1 [==============================] - 0s 20ms/step\n",
            "1/1 [==============================] - 61s 61s/step\n",
            "1/1 [==============================] - 0s 26ms/step\n",
            "1/1 [==============================] - 0s 25ms/step\n",
            "1/1 [==============================] - 0s 29ms/step\n",
            "1/1 [==============================] - 0s 26ms/step\n",
            "1/1 [==============================] - 0s 25ms/step\n",
            "1/1 [==============================] - 0s 29ms/step\n",
            "1/1 [==============================] - 0s 28ms/step\n",
            "1/1 [==============================] - 0s 174ms/step\n",
            "1/1 [==============================] - 0s 89ms/step\n",
            "1/1 [==============================] - 0s 28ms/step\n",
            "1/1 [==============================] - 0s 31ms/step\n",
            "1/1 [==============================] - 0s 26ms/step\n",
            "1/1 [==============================] - 0s 30ms/step\n",
            "1/1 [==============================] - 0s 82ms/step\n",
            "1/1 [==============================] - 0s 109ms/step\n",
            "1/1 [==============================] - 0s 64ms/step\n",
            "1/1 [==============================] - 0s 18ms/step\n",
            "1/1 [==============================] - 0s 18ms/step\n",
            "1/1 [==============================] - 0s 17ms/step\n",
            "1/1 [==============================] - 0s 17ms/step\n",
            "1/1 [==============================] - 0s 18ms/step\n",
            "1/1 [==============================] - 0s 18ms/step\n",
            "1/1 [==============================] - 0s 18ms/step\n",
            "1/1 [==============================] - 0s 18ms/step\n",
            "1/1 [==============================] - 0s 85ms/step\n",
            "1/1 [==============================] - 0s 92ms/step\n",
            "1/1 [==============================] - 0s 18ms/step\n",
            "1/1 [==============================] - 0s 18ms/step\n",
            "1/1 [==============================] - 0s 18ms/step\n",
            "1/1 [==============================] - 0s 18ms/step\n",
            "1/1 [==============================] - 0s 17ms/step\n",
            "1/1 [==============================] - 0s 22ms/step\n",
            "1/1 [==============================] - 0s 18ms/step\n",
            "1/1 [==============================] - 0s 17ms/step\n",
            "1/1 [==============================] - 0s 17ms/step\n",
            "1/1 [==============================] - 0s 17ms/step\n",
            "1/1 [==============================] - 0s 22ms/step\n",
            "1/1 [==============================] - 0s 17ms/step\n",
            "1/1 [==============================] - 0s 18ms/step\n",
            "1/1 [==============================] - 0s 20ms/step\n",
            "1/1 [==============================] - 0s 19ms/step\n",
            "1/1 [==============================] - 0s 20ms/step\n",
            "1/1 [==============================] - 0s 18ms/step\n",
            "1/1 [==============================] - 0s 18ms/step\n",
            "1/1 [==============================] - 0s 18ms/step\n",
            "1/1 [==============================] - 0s 20ms/step\n",
            "1/1 [==============================] - 0s 19ms/step\n",
            "1/1 [==============================] - 0s 18ms/step\n",
            "1/1 [==============================] - 0s 19ms/step\n"
          ]
        }
      ],
      "source": [
        "# predicción con beam search\n",
        "salidas = beam_search(model,num_beams=10,num_words=6,input=\"alfajor triple\")"
      ]
    },
    {
      "cell_type": "code",
      "execution_count": null,
      "metadata": {
        "id": "tRZcFBiUaNAk",
        "colab": {
          "base_uri": "https://localhost:8080/"
        },
        "outputId": "f9247f87-7b0c-4eac-ec00-2a25ce676ee0"
      },
      "outputs": [
        {
          "output_type": "execute_result",
          "data": {
            "text/plain": [
              "['alfajor triple 1 virgin suflair margarina']"
            ]
          },
          "metadata": {},
          "execution_count": 99
        }
      ],
      "source": [
        "# veamos las salidas\n",
        "decode(salidas[0])"
      ]
    },
    {
      "cell_type": "code",
      "execution_count": null,
      "metadata": {
        "colab": {
          "base_uri": "https://localhost:8080/"
        },
        "outputId": "ff3e9fc9-37ef-4bf7-b4f4-0b1a606980fb",
        "id": "20dKKgjV6TY2"
      },
      "outputs": [
        {
          "output_type": "stream",
          "name": "stdout",
          "text": [
            "1/1 [==============================] - 0s 75ms/step\n",
            "1/1 [==============================] - 0s 50ms/step\n",
            "1/1 [==============================] - 0s 73ms/step\n",
            "1/1 [==============================] - 0s 63ms/step\n",
            "1/1 [==============================] - 0s 35ms/step\n",
            "1/1 [==============================] - 0s 31ms/step\n",
            "1/1 [==============================] - 0s 25ms/step\n",
            "1/1 [==============================] - 0s 24ms/step\n",
            "1/1 [==============================] - 0s 27ms/step\n",
            "1/1 [==============================] - 0s 24ms/step\n",
            "1/1 [==============================] - 0s 24ms/step\n",
            "1/1 [==============================] - 0s 25ms/step\n",
            "1/1 [==============================] - 0s 26ms/step\n",
            "1/1 [==============================] - 0s 26ms/step\n",
            "1/1 [==============================] - 0s 28ms/step\n",
            "1/1 [==============================] - 0s 24ms/step\n",
            "1/1 [==============================] - 0s 24ms/step\n",
            "1/1 [==============================] - 0s 32ms/step\n",
            "1/1 [==============================] - 0s 26ms/step\n",
            "1/1 [==============================] - 0s 24ms/step\n",
            "1/1 [==============================] - 0s 29ms/step\n",
            "1/1 [==============================] - 0s 26ms/step\n",
            "1/1 [==============================] - 0s 28ms/step\n",
            "1/1 [==============================] - 0s 28ms/step\n",
            "1/1 [==============================] - 0s 25ms/step\n",
            "1/1 [==============================] - 0s 28ms/step\n",
            "1/1 [==============================] - 0s 27ms/step\n",
            "1/1 [==============================] - 0s 25ms/step\n",
            "1/1 [==============================] - 0s 27ms/step\n",
            "1/1 [==============================] - 0s 25ms/step\n",
            "1/1 [==============================] - 0s 29ms/step\n",
            "1/1 [==============================] - 0s 19ms/step\n",
            "1/1 [==============================] - 0s 18ms/step\n",
            "1/1 [==============================] - 0s 18ms/step\n",
            "1/1 [==============================] - 0s 17ms/step\n",
            "1/1 [==============================] - 0s 20ms/step\n",
            "1/1 [==============================] - 0s 17ms/step\n",
            "1/1 [==============================] - 0s 18ms/step\n",
            "1/1 [==============================] - 0s 18ms/step\n",
            "1/1 [==============================] - 0s 19ms/step\n",
            "1/1 [==============================] - 0s 18ms/step\n",
            "1/1 [==============================] - 0s 22ms/step\n",
            "1/1 [==============================] - 0s 19ms/step\n",
            "1/1 [==============================] - 0s 17ms/step\n",
            "1/1 [==============================] - 0s 18ms/step\n",
            "1/1 [==============================] - 0s 19ms/step\n",
            "1/1 [==============================] - 0s 18ms/step\n",
            "1/1 [==============================] - 0s 18ms/step\n",
            "1/1 [==============================] - 0s 18ms/step\n",
            "1/1 [==============================] - 0s 18ms/step\n",
            "1/1 [==============================] - 0s 20ms/step\n"
          ]
        }
      ],
      "source": [
        "# predicción con beam search\n",
        "salidas = beam_search(model,num_beams=10,num_words=6,input=\"salsa de\")"
      ]
    },
    {
      "cell_type": "code",
      "execution_count": null,
      "metadata": {
        "colab": {
          "base_uri": "https://localhost:8080/"
        },
        "outputId": "cb36543d-1850-4ef1-d678-453fcce28414",
        "id": "dJgyYR0s6TY2"
      },
      "outputs": [
        {
          "output_type": "execute_result",
          "data": {
            "text/plain": [
              "['salsa de comunes balsamico fuyi life']"
            ]
          },
          "metadata": {},
          "execution_count": 101
        }
      ],
      "source": [
        "# veamos las salidas\n",
        "decode(salidas[0])"
      ]
    },
    {
      "cell_type": "code",
      "execution_count": null,
      "metadata": {
        "colab": {
          "base_uri": "https://localhost:8080/"
        },
        "outputId": "e3881f6d-c7fe-41e5-d274-bbbc32fdd1c8",
        "id": "Bb5dHYUg6b_Z"
      },
      "outputs": [
        {
          "output_type": "stream",
          "name": "stdout",
          "text": [
            "1/1 [==============================] - 0s 31ms/step\n",
            "1/1 [==============================] - 0s 29ms/step\n",
            "1/1 [==============================] - 0s 35ms/step\n",
            "1/1 [==============================] - 0s 32ms/step\n",
            "1/1 [==============================] - 0s 52ms/step\n",
            "1/1 [==============================] - 0s 35ms/step\n",
            "1/1 [==============================] - 0s 54ms/step\n",
            "1/1 [==============================] - 0s 26ms/step\n",
            "1/1 [==============================] - 0s 35ms/step\n",
            "1/1 [==============================] - 0s 27ms/step\n",
            "1/1 [==============================] - 0s 38ms/step\n",
            "1/1 [==============================] - 0s 17ms/step\n",
            "1/1 [==============================] - 0s 17ms/step\n",
            "1/1 [==============================] - 0s 18ms/step\n",
            "1/1 [==============================] - 0s 22ms/step\n",
            "1/1 [==============================] - 0s 18ms/step\n",
            "1/1 [==============================] - 0s 17ms/step\n",
            "1/1 [==============================] - 0s 17ms/step\n",
            "1/1 [==============================] - 0s 17ms/step\n",
            "1/1 [==============================] - 0s 18ms/step\n",
            "1/1 [==============================] - 0s 18ms/step\n",
            "1/1 [==============================] - 0s 18ms/step\n",
            "1/1 [==============================] - 0s 19ms/step\n",
            "1/1 [==============================] - 0s 18ms/step\n",
            "1/1 [==============================] - 0s 18ms/step\n",
            "1/1 [==============================] - 0s 19ms/step\n",
            "1/1 [==============================] - 0s 19ms/step\n",
            "1/1 [==============================] - 0s 18ms/step\n",
            "1/1 [==============================] - 0s 17ms/step\n",
            "1/1 [==============================] - 0s 18ms/step\n",
            "1/1 [==============================] - 0s 17ms/step\n",
            "1/1 [==============================] - 0s 18ms/step\n",
            "1/1 [==============================] - 0s 18ms/step\n",
            "1/1 [==============================] - 0s 17ms/step\n",
            "1/1 [==============================] - 0s 18ms/step\n",
            "1/1 [==============================] - 0s 18ms/step\n",
            "1/1 [==============================] - 0s 18ms/step\n",
            "1/1 [==============================] - 0s 19ms/step\n",
            "1/1 [==============================] - 0s 17ms/step\n",
            "1/1 [==============================] - 0s 18ms/step\n",
            "1/1 [==============================] - 0s 17ms/step\n",
            "1/1 [==============================] - 0s 17ms/step\n",
            "1/1 [==============================] - 0s 18ms/step\n",
            "1/1 [==============================] - 0s 18ms/step\n",
            "1/1 [==============================] - 0s 19ms/step\n",
            "1/1 [==============================] - 0s 19ms/step\n",
            "1/1 [==============================] - 0s 19ms/step\n",
            "1/1 [==============================] - 0s 17ms/step\n",
            "1/1 [==============================] - 0s 16ms/step\n",
            "1/1 [==============================] - 0s 17ms/step\n",
            "1/1 [==============================] - 0s 17ms/step\n"
          ]
        }
      ],
      "source": [
        "# predicción con beam search\n",
        "salidas = beam_search(model,num_beams=10,num_words=6,input=\"cafe en\")"
      ]
    },
    {
      "cell_type": "code",
      "execution_count": null,
      "metadata": {
        "colab": {
          "base_uri": "https://localhost:8080/"
        },
        "outputId": "7e9b81e5-983f-47f8-8d86-4a7f3832ad49",
        "id": "xvDi8yAt6b_f"
      },
      "outputs": [
        {
          "output_type": "execute_result",
          "data": {
            "text/plain": [
              "['cafe en esponja desodorante dos dos dos dos']"
            ]
          },
          "metadata": {},
          "execution_count": 103
        }
      ],
      "source": [
        "# veamos las salidas\n",
        "decode(salidas[0])"
      ]
    },
    {
      "cell_type": "code",
      "execution_count": null,
      "metadata": {
        "colab": {
          "base_uri": "https://localhost:8080/"
        },
        "outputId": "df0286b7-5f0b-4a13-e450-de6ee4e4d82c",
        "id": "G4jEPmOM6jc1"
      },
      "outputs": [
        {
          "output_type": "stream",
          "name": "stdout",
          "text": [
            "1/1 [==============================] - 0s 27ms/step\n",
            "1/1 [==============================] - 0s 39ms/step\n",
            "1/1 [==============================] - 0s 29ms/step\n",
            "1/1 [==============================] - 0s 30ms/step\n",
            "1/1 [==============================] - 0s 36ms/step\n",
            "1/1 [==============================] - 0s 33ms/step\n",
            "1/1 [==============================] - 0s 17ms/step\n",
            "1/1 [==============================] - 0s 18ms/step\n",
            "1/1 [==============================] - 0s 18ms/step\n",
            "1/1 [==============================] - 0s 20ms/step\n",
            "1/1 [==============================] - 0s 17ms/step\n",
            "1/1 [==============================] - 0s 18ms/step\n",
            "1/1 [==============================] - 0s 17ms/step\n",
            "1/1 [==============================] - 0s 27ms/step\n",
            "1/1 [==============================] - 0s 17ms/step\n",
            "1/1 [==============================] - 0s 17ms/step\n",
            "1/1 [==============================] - 0s 18ms/step\n",
            "1/1 [==============================] - 0s 19ms/step\n",
            "1/1 [==============================] - 0s 17ms/step\n",
            "1/1 [==============================] - 0s 17ms/step\n",
            "1/1 [==============================] - 0s 17ms/step\n",
            "1/1 [==============================] - 0s 17ms/step\n",
            "1/1 [==============================] - 0s 16ms/step\n",
            "1/1 [==============================] - 0s 16ms/step\n",
            "1/1 [==============================] - 0s 18ms/step\n",
            "1/1 [==============================] - 0s 17ms/step\n",
            "1/1 [==============================] - 0s 19ms/step\n",
            "1/1 [==============================] - 0s 19ms/step\n",
            "1/1 [==============================] - 0s 18ms/step\n",
            "1/1 [==============================] - 0s 17ms/step\n",
            "1/1 [==============================] - 0s 18ms/step\n",
            "1/1 [==============================] - 0s 18ms/step\n",
            "1/1 [==============================] - 0s 17ms/step\n",
            "1/1 [==============================] - 0s 18ms/step\n",
            "1/1 [==============================] - 0s 17ms/step\n",
            "1/1 [==============================] - 0s 17ms/step\n",
            "1/1 [==============================] - 0s 17ms/step\n",
            "1/1 [==============================] - 0s 18ms/step\n",
            "1/1 [==============================] - 0s 18ms/step\n",
            "1/1 [==============================] - 0s 20ms/step\n",
            "1/1 [==============================] - 0s 25ms/step\n",
            "1/1 [==============================] - 0s 19ms/step\n",
            "1/1 [==============================] - 0s 20ms/step\n",
            "1/1 [==============================] - 0s 20ms/step\n",
            "1/1 [==============================] - 0s 18ms/step\n",
            "1/1 [==============================] - 0s 18ms/step\n",
            "1/1 [==============================] - 0s 18ms/step\n",
            "1/1 [==============================] - 0s 20ms/step\n",
            "1/1 [==============================] - 0s 17ms/step\n",
            "1/1 [==============================] - 0s 23ms/step\n",
            "1/1 [==============================] - 0s 17ms/step\n"
          ]
        }
      ],
      "source": [
        "# predicción con beam search\n",
        "salidas = beam_search(model,num_beams=10,num_words=6,input=\"dulce de\")"
      ]
    },
    {
      "cell_type": "code",
      "execution_count": null,
      "metadata": {
        "colab": {
          "base_uri": "https://localhost:8080/"
        },
        "outputId": "f43df790-42e5-4ae0-fe71-b9f1617f70fe",
        "id": "tt_4TtSb6jc7"
      },
      "outputs": [
        {
          "output_type": "execute_result",
          "data": {
            "text/plain": [
              "['dulce de en 1 menta changlot']"
            ]
          },
          "metadata": {},
          "execution_count": 105
        }
      ],
      "source": [
        "# veamos las salidas\n",
        "decode(salidas[0])"
      ]
    },
    {
      "cell_type": "markdown",
      "metadata": {
        "id": "T2SHmXbgxQH9"
      },
      "source": [
        "### 8 - Conclusiones\n",
        "Se ha probado dos modelos con diferentes `outputdim` del embedding igual a 4 e igual a 8 como la raiz cuarta del vocabulario.\n",
        "El modelo entrenado tuvo un mal desempeño en el entrenamiento. No obstante empezo a entrenar bien, pero luego diverge con dim 4.\n",
        " Cuestiones que podrían mejorarse:\n",
        "- Mejorar el corpus\n",
        "- Filtrar numeros y sibolos de unidades\n",
        "- Probar otros modelos\n",
        "\n",
        "Considerando que el dataset son descripciones de productos de supermercado, se trato de buscar la predicción de la palabra siguiente en base a dichos productos. Como la mayoria son productos especificos tal vez tenga una mayor importancia la calidad del dato y no el modelo en si."
      ]
    }
  ],
  "metadata": {
    "accelerator": "GPU",
    "colab": {
      "provenance": []
    },
    "kernelspec": {
      "display_name": "Python 3",
      "name": "python3"
    },
    "language_info": {
      "codemirror_mode": {
        "name": "ipython",
        "version": 3
      },
      "file_extension": ".py",
      "mimetype": "text/x-python",
      "name": "python",
      "nbconvert_exporter": "python",
      "pygments_lexer": "ipython3",
      "version": "3.10.12"
    }
  },
  "nbformat": 4,
  "nbformat_minor": 0
}
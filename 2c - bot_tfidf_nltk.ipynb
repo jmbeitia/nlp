{
 "cells": [
  {
   "cell_type": "markdown",
   "metadata": {
    "id": "Ue5hxxkdAQJg"
   },
   "source": [
    "<img src=\"https://github.com/hernancontigiani/ceia_memorias_especializacion/raw/master/Figures/logoFIUBA.jpg\" width=\"500\" align=\"center\">\n",
    "\n",
    "\n",
    "# Procesamiento de lenguaje natural\n",
    "## Sistema de obtención de información con NLTK utilizando un corpus del supermercado La Gallega\n"
   ]
  },
  {
   "cell_type": "code",
   "execution_count": 113,
   "metadata": {
    "id": "kCED1hh-Ioyf"
   },
   "outputs": [
    {
     "name": "stderr",
     "output_type": "stream",
     "text": [
      "[nltk_data] Downloading package punkt to /Users/jmbeitia/nltk_data...\n",
      "[nltk_data]   Package punkt is already up-to-date!\n",
      "[nltk_data] Downloading package wordnet to\n",
      "[nltk_data]     /Users/jmbeitia/nltk_data...\n",
      "[nltk_data]   Package wordnet is already up-to-date!\n",
      "[nltk_data] Downloading package omw-1.4 to\n",
      "[nltk_data]     /Users/jmbeitia/nltk_data...\n",
      "[nltk_data]   Package omw-1.4 is already up-to-date!\n"
     ]
    }
   ],
   "source": [
    "import json\n",
    "import string\n",
    "import random\n",
    "import re # Regular Expressions (regex)\n",
    "import urllib.request\n",
    "\n",
    "import numpy as np\n",
    "import pandas as pd\n",
    "\n",
    "import nltk\n",
    "# Descargar el diccionario\n",
    "nltk.download(\"punkt\")\n",
    "nltk.download(\"wordnet\")\n",
    "nltk.download('omw-1.4')\n",
    "\n",
    "import warnings\n",
    "warnings.filterwarnings(\"ignore\")\n",
    "from IPython.display import Image, display"
   ]
  },
  {
   "cell_type": "markdown",
   "metadata": {
    "id": "DMOa4JPSCJ29"
   },
   "source": [
    "### Datos\n",
    "Se consumirán los datos de todos los productos del supermercado La Gallega."
   ]
  },
  {
   "cell_type": "code",
   "execution_count": 114,
   "metadata": {},
   "outputs": [
    {
     "data": {
      "text/html": [
       "<div>\n",
       "<style scoped>\n",
       "    .dataframe tbody tr th:only-of-type {\n",
       "        vertical-align: middle;\n",
       "    }\n",
       "\n",
       "    .dataframe tbody tr th {\n",
       "        vertical-align: top;\n",
       "    }\n",
       "\n",
       "    .dataframe thead th {\n",
       "        text-align: right;\n",
       "    }\n",
       "</style>\n",
       "<table border=\"1\" class=\"dataframe\">\n",
       "  <thead>\n",
       "    <tr style=\"text-align: right;\">\n",
       "      <th></th>\n",
       "      <th>descripcion</th>\n",
       "      <th>precio</th>\n",
       "      <th>linkFoto</th>\n",
       "    </tr>\n",
       "  </thead>\n",
       "  <tbody>\n",
       "    <tr>\n",
       "      <th>0</th>\n",
       "      <td>rocio vegetal mazola x 120 ml. manteca</td>\n",
       "      <td>363.35</td>\n",
       "      <td>https://www.lagallega.com.ar/Archivos/Articulo...</td>\n",
       "    </tr>\n",
       "    <tr>\n",
       "      <th>1</th>\n",
       "      <td>rocio vegetal natura x 120 ml.</td>\n",
       "      <td>363.64</td>\n",
       "      <td>https://www.lagallega.com.ar/Archivos/Articulo...</td>\n",
       "    </tr>\n",
       "    <tr>\n",
       "      <th>2</th>\n",
       "      <td>rocio vegetal mazola x 120 ml. original</td>\n",
       "      <td>376.65</td>\n",
       "      <td>https://www.lagallega.com.ar/Archivos/Articulo...</td>\n",
       "    </tr>\n",
       "    <tr>\n",
       "      <th>3</th>\n",
       "      <td>rocio vegetal de girasol lira x 120 gr.</td>\n",
       "      <td>382.70</td>\n",
       "      <td>https://www.lagallega.com.ar/Archivos/Articulo...</td>\n",
       "    </tr>\n",
       "    <tr>\n",
       "      <th>4</th>\n",
       "      <td>rocio vegetal fritolim x 120 ml. clasico</td>\n",
       "      <td>394.34</td>\n",
       "      <td>https://www.lagallega.com.ar/Archivos/Articulo...</td>\n",
       "    </tr>\n",
       "    <tr>\n",
       "      <th>...</th>\n",
       "      <td>...</td>\n",
       "      <td>...</td>\n",
       "      <td>...</td>\n",
       "    </tr>\n",
       "    <tr>\n",
       "      <th>4978</th>\n",
       "      <td>talco para pies rexona efficient original x 20...</td>\n",
       "      <td>472.35</td>\n",
       "      <td>https://www.lagallega.com.ar/Archivos/Articulo...</td>\n",
       "    </tr>\n",
       "    <tr>\n",
       "      <th>4979</th>\n",
       "      <td>polvo pedico veritas x 180 gr.</td>\n",
       "      <td>496.62</td>\n",
       "      <td>https://www.lagallega.com.ar/Archivos/Articulo...</td>\n",
       "    </tr>\n",
       "    <tr>\n",
       "      <th>4980</th>\n",
       "      <td>toallitas antibacteriales bialcohol x 15 unid.</td>\n",
       "      <td>212.78</td>\n",
       "      <td>https://www.lagallega.com.ar/Archivos/Articulo...</td>\n",
       "    </tr>\n",
       "    <tr>\n",
       "      <th>4981</th>\n",
       "      <td>pilas rayovac alcalina c x 2 unid.</td>\n",
       "      <td>138.89</td>\n",
       "      <td>https://www.lagallega.com.ar/Archivos/Articulo...</td>\n",
       "    </tr>\n",
       "    <tr>\n",
       "      <th>4982</th>\n",
       "      <td>pilas duracell c x 2 unid</td>\n",
       "      <td>885.35</td>\n",
       "      <td>https://www.lagallega.com.ar/Archivos/Articulo...</td>\n",
       "    </tr>\n",
       "  </tbody>\n",
       "</table>\n",
       "<p>4983 rows × 3 columns</p>\n",
       "</div>"
      ],
      "text/plain": [
       "                                            descripcion  precio  \\\n",
       "0                rocio vegetal mazola x 120 ml. manteca  363.35   \n",
       "1                        rocio vegetal natura x 120 ml.  363.64   \n",
       "2               rocio vegetal mazola x 120 ml. original  376.65   \n",
       "3               rocio vegetal de girasol lira x 120 gr.  382.70   \n",
       "4              rocio vegetal fritolim x 120 ml. clasico  394.34   \n",
       "...                                                 ...     ...   \n",
       "4978  talco para pies rexona efficient original x 20...  472.35   \n",
       "4979                     polvo pedico veritas x 180 gr.  496.62   \n",
       "4980     toallitas antibacteriales bialcohol x 15 unid.  212.78   \n",
       "4981                 pilas rayovac alcalina c x 2 unid.  138.89   \n",
       "4982                          pilas duracell c x 2 unid  885.35   \n",
       "\n",
       "                                               linkFoto  \n",
       "0     https://www.lagallega.com.ar/Archivos/Articulo...  \n",
       "1     https://www.lagallega.com.ar/Archivos/Articulo...  \n",
       "2     https://www.lagallega.com.ar/Archivos/Articulo...  \n",
       "3     https://www.lagallega.com.ar/Archivos/Articulo...  \n",
       "4     https://www.lagallega.com.ar/Archivos/Articulo...  \n",
       "...                                                 ...  \n",
       "4978  https://www.lagallega.com.ar/Archivos/Articulo...  \n",
       "4979  https://www.lagallega.com.ar/Archivos/Articulo...  \n",
       "4980  https://www.lagallega.com.ar/Archivos/Articulo...  \n",
       "4981  https://www.lagallega.com.ar/Archivos/Articulo...  \n",
       "4982  https://www.lagallega.com.ar/Archivos/Articulo...  \n",
       "\n",
       "[4983 rows x 3 columns]"
      ]
     },
     "execution_count": 114,
     "metadata": {},
     "output_type": "execute_result"
    }
   ],
   "source": [
    "dfProductos = pd.read_json('datosLaGallega.json', orient='records')\n",
    "dfProductos"
   ]
  },
  {
   "cell_type": "markdown",
   "metadata": {
    "id": "DKNcDGcisajf"
   },
   "source": [
    "### 2 - Dividir el texto en sentencias y en palabras"
   ]
  },
  {
   "cell_type": "code",
   "execution_count": 115,
   "metadata": {
    "id": "reXBOFQ7sdlB"
   },
   "outputs": [],
   "source": [
    "corpus = [descripcion for descripcion in dfProductos['descripcion']]\n",
    "# words = [nltk.word_tokenize(descripcion) for descripcion in corpus]\n",
    "words = nltk.word_tokenize(' '.join(corpus))"
   ]
  },
  {
   "cell_type": "code",
   "execution_count": 116,
   "metadata": {},
   "outputs": [
    {
     "data": {
      "text/plain": [
       "4983"
      ]
     },
     "execution_count": 116,
     "metadata": {},
     "output_type": "execute_result"
    }
   ],
   "source": [
    "len(corpus)"
   ]
  },
  {
   "cell_type": "code",
   "execution_count": 117,
   "metadata": {
    "id": "J5GloV9fsi6o"
   },
   "outputs": [
    {
     "data": {
      "text/plain": [
       "['rocio vegetal mazola x 120 ml. manteca',\n",
       " 'rocio vegetal natura x 120 ml.',\n",
       " 'rocio vegetal mazola x 120 ml. original',\n",
       " 'rocio vegetal de girasol lira x 120 gr.',\n",
       " 'rocio vegetal fritolim x 120 ml. clasico',\n",
       " 'rocio vegetal natura x 120 ml. oliva',\n",
       " 'aceite de soja sojola x 900 ml.',\n",
       " 'aceite de soja sojola x1.5lt.',\n",
       " 'aceite de girasol legitimo x 1,5 lt.',\n",
       " 'aceite de girasol lira x 900 ml.']"
      ]
     },
     "execution_count": 117,
     "metadata": {},
     "output_type": "execute_result"
    }
   ],
   "source": [
    "# Demos un vistazo\n",
    "corpus[:10]"
   ]
  },
  {
   "cell_type": "code",
   "execution_count": 118,
   "metadata": {
    "id": "hmQ7nkvvsi0i"
   },
   "outputs": [
    {
     "data": {
      "text/plain": [
       "['rocio',\n",
       " 'vegetal',\n",
       " 'mazola',\n",
       " 'x',\n",
       " '120',\n",
       " 'ml',\n",
       " '.',\n",
       " 'manteca',\n",
       " 'rocio',\n",
       " 'vegetal',\n",
       " 'natura',\n",
       " 'x',\n",
       " '120',\n",
       " 'ml',\n",
       " '.',\n",
       " 'rocio',\n",
       " 'vegetal',\n",
       " 'mazola',\n",
       " 'x',\n",
       " '120']"
      ]
     },
     "execution_count": 118,
     "metadata": {},
     "output_type": "execute_result"
    }
   ],
   "source": [
    "# Demos un vistazo\n",
    "words[:20]"
   ]
  },
  {
   "cell_type": "code",
   "execution_count": 119,
   "metadata": {
    "id": "YXPWNkKfEvDZ"
   },
   "outputs": [
    {
     "name": "stdout",
     "output_type": "stream",
     "text": [
      "Términos: 41128\n"
     ]
    }
   ],
   "source": [
    "print(\"Términos:\", len(words))"
   ]
  },
  {
   "cell_type": "markdown",
   "metadata": {
    "id": "NlYKyb3OtDse"
   },
   "source": [
    "### 4 - Funciones de ayuda para limpiar y procesar el input del usuario\n",
    "- Lematizar los tokens de la oración\n",
    "- Quitar símbolos de puntuación"
   ]
  },
  {
   "cell_type": "code",
   "execution_count": 120,
   "metadata": {
    "id": "afPok8pstPOx"
   },
   "outputs": [],
   "source": [
    "from nltk.stem import WordNetLemmatizer\n",
    "lemmatizer = WordNetLemmatizer()\n",
    "\n",
    "def perform_lemmatization(tokens):\n",
    "    return [lemmatizer.lemmatize(token) for token in tokens]\n",
    "\n",
    "# ord() nos da el código Unicode para un caracter dado\n",
    "punctuation_removal = dict((ord(punctuation), None) for punctuation in string.punctuation)\n",
    "\n",
    "def get_processed_text(document):\n",
    "    # 1 - reduce el texto a mínuscula (string.lower())\n",
    "    # 2 - quitar los simbolos de puntuacion (string.translate())\n",
    "    # 3 - realiza la tokenización (nltk.word_tokenize)\n",
    "    # 4 - realiza la lematización (nuestra función perform_lemmatization)\n",
    "    return perform_lemmatization(nltk.word_tokenize(document.lower().translate(punctuation_removal)))"
   ]
  },
  {
   "cell_type": "markdown",
   "metadata": {
    "id": "Jl8r6d9ZuyR9"
   },
   "source": [
    "### 5 - Utilizar vectores TF-IDF y la similitud coseno construido con el corpus del artículo de wikipedia"
   ]
  },
  {
   "cell_type": "code",
   "execution_count": 121,
   "metadata": {
    "id": "IRYFHcBfk2Gt"
   },
   "outputs": [],
   "source": [
    "from sklearn.feature_extraction.text import TfidfVectorizer\n",
    "from sklearn.metrics.pairwise import cosine_similarity\n",
    "\n",
    "def generate_response(user_input, corpus):\n",
    "    response = ''\n",
    "    # Sumar al corpus la pregunta del usuario para calcular\n",
    "    # su cercania con otros documentos/sentencias\n",
    "    # la entrada del usuario se usa para tokenizar y vectorizar\n",
    "    corpus.append(user_input)\n",
    "\n",
    "    # Crear un vectorizar TFIDF que quite las \"stop words\" del ingles y utilice\n",
    "    # nuestra funcion para obtener los tokens lematizados \"get_processed_text\"\n",
    "    # word_vectorizer = TfidfVectorizer(tokenizer=get_processed_text, stop_words='spanish')\n",
    "    word_vectorizer = TfidfVectorizer(tokenizer=get_processed_text)\n",
    "\n",
    "    # Crear los vectores a partir del corpus\n",
    "    all_word_vectors = word_vectorizer.fit_transform(corpus)\n",
    "\n",
    "    # Calcular la similitud coseno entre todas los documentos excepto el agregado (el útlimo \"-1\")\n",
    "    # NOTA: con los word embedings veremos más en detalle esta matriz de similitud\n",
    "    similar_vector_values = cosine_similarity(all_word_vectors[-1], all_word_vectors)\n",
    "\n",
    "    # Obtener el índice del vector más cercano a nuestra oración\n",
    "    # --> descartando la similitud contra nuestor vector propio\n",
    "    similar_sentence_number = similar_vector_values.argsort()[0][-2]\n",
    "    matched_vector = similar_vector_values.flatten()\n",
    "    matched_vector.sort()\n",
    "    vector_matched = matched_vector[-2]\n",
    "\n",
    "    if vector_matched == 0: # si la similaridad coseno fue nula (ningún término en común)\n",
    "        response, idx = \"Lo siento, no puedo encontrar el producto buscado\", None\n",
    "    else:\n",
    "        response, idx = corpus[similar_sentence_number], similar_sentence_number # obtener el documento del corpus más similar\n",
    "    \n",
    "    # corpus.remove(user_input)\n",
    "    return response, idx"
   ]
  },
  {
   "cell_type": "markdown",
   "metadata": {
    "id": "OK-BuXPBybSp"
   },
   "source": [
    "### 6 - Ensayar el sistema\n",
    "El sistema intentará encontrar la parte del artículo que más se relaciona con nuestro texto de entrada. Sugerencias a ensayar:\n",
    "- Grand slam\n",
    "- tournaments\n",
    "- nadal\n",
    "- artificial intelligence"
   ]
  },
  {
   "cell_type": "code",
   "execution_count": 122,
   "metadata": {
    "id": "SZv5MiVzynG1"
   },
   "outputs": [],
   "source": [
    "def bot_response(human_text):\n",
    "    print(\"Busqueda:\", human_text)\n",
    "    resp, index_label = generate_response(human_text.lower(), list(dfProductos['descripcion']))\n",
    "    if index_label:\n",
    "        print(\"-\"*10, \"Resultado encontrado\", \"-\"*50)\n",
    "        print(\"Descripción:\", resp.capitalize())\n",
    "        print(\"Precio:\", dfProductos.at[index_label, 'precio'])\n",
    "        display(Image(url=dfProductos.at[index_label, 'linkFoto']))\n",
    "    else:\n",
    "        print(\"A:\", resp)"
   ]
  },
  {
   "cell_type": "code",
   "execution_count": 123,
   "metadata": {},
   "outputs": [
    {
     "name": "stdout",
     "output_type": "stream",
     "text": [
      "Busqueda: pepe larralde\n",
      "A: Lo siento, no puedo encontrar el producto buscado\n"
     ]
    }
   ],
   "source": [
    "bot_response('pepe larralde')"
   ]
  },
  {
   "cell_type": "code",
   "execution_count": 124,
   "metadata": {},
   "outputs": [
    {
     "name": "stdout",
     "output_type": "stream",
     "text": [
      "Busqueda: manteca\n",
      "---------- Resultado encontrado --------------------------------------------------\n",
      "Descripción: Manteca milkaut x 100 gr.\n",
      "Precio: 223.01\n"
     ]
    },
    {
     "data": {
      "text/html": [
       "<img src=\"https://www.lagallega.com.ar/Archivos/Articulos/779482000059.jpg\"/>"
      ],
      "text/plain": [
       "<IPython.core.display.Image object>"
      ]
     },
     "metadata": {},
     "output_type": "display_data"
    }
   ],
   "source": [
    "bot_response('manteca')"
   ]
  },
  {
   "cell_type": "code",
   "execution_count": 125,
   "metadata": {},
   "outputs": [
    {
     "name": "stdout",
     "output_type": "stream",
     "text": [
      "Busqueda: serenisima manteca 200\n",
      "---------- Resultado encontrado --------------------------------------------------\n",
      "Descripción: Manteca la serenisima x 200 gr.\n",
      "Precio: 496.78\n"
     ]
    },
    {
     "data": {
      "text/html": [
       "<img src=\"https://www.lagallega.com.ar/Archivos/Articulos/779074234580.jpg\"/>"
      ],
      "text/plain": [
       "<IPython.core.display.Image object>"
      ]
     },
     "metadata": {},
     "output_type": "display_data"
    }
   ],
   "source": [
    "bot_response('serenisima manteca 200')"
   ]
  },
  {
   "cell_type": "code",
   "execution_count": 126,
   "metadata": {},
   "outputs": [
    {
     "name": "stdout",
     "output_type": "stream",
     "text": [
      "Busqueda: fernet 750\n",
      "---------- Resultado encontrado --------------------------------------------------\n",
      "Descripción: Aperitivo fernet branca x 750 ml.\n",
      "Precio: 1700.0\n"
     ]
    },
    {
     "data": {
      "text/html": [
       "<img src=\"https://www.lagallega.com.ar/Archivos/Articulos/779029000119.jpg\"/>"
      ],
      "text/plain": [
       "<IPython.core.display.Image object>"
      ]
     },
     "metadata": {},
     "output_type": "display_data"
    }
   ],
   "source": [
    "bot_response('fernet 750')"
   ]
  },
  {
   "cell_type": "code",
   "execution_count": 127,
   "metadata": {},
   "outputs": [
    {
     "name": "stdout",
     "output_type": "stream",
     "text": [
      "Busqueda: coca cola 1.5\n",
      "---------- Resultado encontrado --------------------------------------------------\n",
      "Descripción: Bebida sin alcohol coca cola x 1.5 lt.\n",
      "Precio: 276.0\n"
     ]
    },
    {
     "data": {
      "text/html": [
       "<img src=\"https://www.lagallega.com.ar/Archivos/Articulos/779089500043.jpg\"/>"
      ],
      "text/plain": [
       "<IPython.core.display.Image object>"
      ]
     },
     "metadata": {},
     "output_type": "display_data"
    }
   ],
   "source": [
    "bot_response('coca cola 1.5')"
   ]
  },
  {
   "cell_type": "code",
   "execution_count": 128,
   "metadata": {},
   "outputs": [
    {
     "name": "stdout",
     "output_type": "stream",
     "text": [
      "Busqueda: azucar chango\n",
      "---------- Resultado encontrado --------------------------------------------------\n",
      "Descripción: Azucar chango en sobres x 100 unid.\n",
      "Precio: 491.8\n"
     ]
    },
    {
     "data": {
      "text/html": [
       "<img src=\"https://www.lagallega.com.ar/Archivos/Articulos/779110000005.jpg\"/>"
      ],
      "text/plain": [
       "<IPython.core.display.Image object>"
      ]
     },
     "metadata": {},
     "output_type": "display_data"
    }
   ],
   "source": [
    "bot_response('azucar chango')"
   ]
  },
  {
   "cell_type": "code",
   "execution_count": 129,
   "metadata": {},
   "outputs": [
    {
     "name": "stdout",
     "output_type": "stream",
     "text": [
      "Busqueda: oreo mini\n",
      "---------- Resultado encontrado --------------------------------------------------\n",
      "Descripción: Galletitas mini oreo x 50 gr.\n",
      "Precio: 101.74\n"
     ]
    },
    {
     "data": {
      "text/html": [
       "<img src=\"https://www.lagallega.com.ar/Archivos/Articulos/762230084146.jpg\"/>"
      ],
      "text/plain": [
       "<IPython.core.display.Image object>"
      ]
     },
     "metadata": {},
     "output_type": "display_data"
    }
   ],
   "source": [
    "bot_response('oreo mini')"
   ]
  },
  {
   "cell_type": "code",
   "execution_count": 130,
   "metadata": {},
   "outputs": [
    {
     "name": "stdout",
     "output_type": "stream",
     "text": [
      "Busqueda: yogur bebible\n",
      "---------- Resultado encontrado --------------------------------------------------\n",
      "Descripción: Yogur bebible milkaut x 900 gr. vainilla\n",
      "Precio: 265.48\n"
     ]
    },
    {
     "data": {
      "text/html": [
       "<img src=\"https://www.lagallega.com.ar/Archivos/Articulos/779482090225.jpg\"/>"
      ],
      "text/plain": [
       "<IPython.core.display.Image object>"
      ]
     },
     "metadata": {},
     "output_type": "display_data"
    }
   ],
   "source": [
    "bot_response('yogur bebible')"
   ]
  }
 ],
 "metadata": {
  "colab": {
   "collapsed_sections": [],
   "name": "2c - bot_tfidf_nltk.ipynb",
   "provenance": []
  },
  "kernelspec": {
   "display_name": "Python 3 (ipykernel)",
   "language": "python",
   "name": "python3"
  },
  "language_info": {
   "codemirror_mode": {
    "name": "ipython",
    "version": 3
   },
   "file_extension": ".py",
   "mimetype": "text/x-python",
   "name": "python",
   "nbconvert_exporter": "python",
   "pygments_lexer": "ipython3",
   "version": "3.10.12"
  }
 },
 "nbformat": 4,
 "nbformat_minor": 4
}
